{
 "cells": [
  {
   "cell_type": "code",
   "metadata": {
    "ExecuteTime": {
     "end_time": "2024-12-02T17:31:23.287199Z",
     "start_time": "2024-12-02T17:31:22.632911Z"
    }
   },
   "source": [
    "import xarray as xr\n",
    "import rioxarray as xrio\n",
    "import earthaccess\n",
    "import boto3\n",
    "import cartopy.crs as ccrs\n",
    "import cartopy.feature as cfeature\n",
    "import matplotlib.pyplot as plt\n",
    "import warnings\n",
    "from IPython.display import display, Markdown\n",
    "import numpy as np\n",
    "from pathlib import Path\n",
    "Path.cwd()\n",
    "\n",
    "warnings.filterwarnings('ignore')\n",
    "%matplotlib inline"
   ],
   "outputs": [],
   "execution_count": 1
  },
  {
   "cell_type": "code",
   "metadata": {
    "ExecuteTime": {
     "end_time": "2024-12-02T17:31:23.864338Z",
     "start_time": "2024-12-02T17:31:23.859301Z"
    }
   },
   "source": [
    "import netCDF4"
   ],
   "outputs": [],
   "execution_count": 2
  },
  {
   "cell_type": "code",
   "metadata": {
    "ExecuteTime": {
     "end_time": "2024-12-02T17:31:28.568420Z",
     "start_time": "2024-12-02T17:31:28.242732Z"
    }
   },
   "source": [
    "import boto3\n",
    "s3_client = boto3.client('s3')\n",
    "response = s3_client.list_buckets()\n",
    "for bucket in response['Buckets']:\n",
    "    print(bucket['Name'])"
   ],
   "outputs": [],
   "execution_count": 3
  },
  {
   "cell_type": "code",
   "metadata": {
    "ExecuteTime": {
     "end_time": "2024-12-02T17:31:28.909586Z",
     "start_time": "2024-12-02T17:31:28.905082Z"
    }
   },
   "source": [
    "if (boto3.client('s3').meta.region_name == 'us-west-2'):\n",
    "    display(Markdown('### us-west-2 Region Check: &#x2705;'))\n",
    "else:\n",
    "    display(Markdown('### us-west-2 Region Check: &#10060;'))\n",
    "    raise ValueError('Your notebook is not running inside the AWS us-west-2 region, and will not be able to directly access NASA Earthdata S')"
   ],
   "outputs": [
    {
     "data": {
      "text/plain": [
       "<IPython.core.display.Markdown object>"
      ],
      "text/markdown": "### us-west-2 Region Check: &#x2705;"
     },
     "metadata": {},
     "output_type": "display_data"
    }
   ],
   "execution_count": 4
  },
  {
   "cell_type": "code",
   "metadata": {
    "ExecuteTime": {
     "end_time": "2024-12-02T17:31:32.697269Z",
     "start_time": "2024-12-02T17:31:29.836385Z"
    }
   },
   "source": [
    "# Authenticate using Earthdata Login prerequisite files\n",
    "auth = earthaccess.login()"
   ],
   "outputs": [],
   "execution_count": 5
  },
  {
   "cell_type": "markdown",
   "metadata": {},
   "source": [
    "From GES-DISC web search (https://disc.gsfc.nasa.gov):\n",
    "\n",
    "All data available from 1980 to Present\n",
    "\n",
    "Need to Calculate PM2.5 from a formula\n",
    "\n",
    "PM2.5 Hourly: C1276812830-GES_DISC, s3://gesdisc-cumulus-prod-protected/MERRA2/M2T1NXAER.5.12.4/\n",
    "\n",
    "    - https://disc.gsfc.nasa.gov/datasets/M2T1NXAER_5.12.4/summary\n",
    "\n",
    "PM2.5 Monthly : C1276812866-GES_DISC, s3://gesdisc-cumulus-prod-protected/MERRA2_MONTHLY/M2TMNXAER.5.12.4/\n",
    "\n",
    "    - https://disc.gsfc.nasa.gov/datasets/M2TMNXAER_5.12.4/summary\n",
    "\n",
    "PM2.5 Monthly (Hourly Average): C1276812869-GES_DISC, s3://gesdisc-cumulus-prod-protected/MERRA2_DIURNAL/M2TUNXAER.5.12.4/\n",
    "\n",
    "    - https://disc.gsfc.nasa.gov/datasets/M2TUNXAER_5.12.4/summary\n",
    "\n",
    "MERRA2_CNN_HAQAST bias corrected global hourly surface total PM2.5 mass concentration, V1 (MERRA2_CNN_HAQAST_PM25): C3094710982-GES_DISC, s3://gesdisc-cumulus-prod-protected/HAQAST/MERRA2_CNN_HAQAST_PM25.1/\n",
    "\n",
    "    - https://disc.gsfc.nasa.gov/datasets/MERRA2_CNN_HAQAST_PM25_1/summary\n",
    "    - 2000-01-01 to  2024-06-01"
   ]
  },
  {
   "cell_type": "code",
   "metadata": {
    "ExecuteTime": {
     "end_time": "2024-12-02T17:31:32.719698Z",
     "start_time": "2024-12-02T17:31:32.717197Z"
    }
   },
   "source": [
    "from datetime import datetime, timedelta\n",
    "\n",
    "def get_sundays(start_date, end_date):\n",
    "    \"\"\"\n",
    "    Return a list of Sundays within the given date interval.\n",
    "    \n",
    "    Parameters:\n",
    "        start_date (str): The start date in \"YYYY-MM-DD\" format.\n",
    "        end_date (str): The end date in \"YYYY-MM-DD\" format.\n",
    "    \n",
    "    Returns:\n",
    "        list of str: List of Sundays in \"YYYY-MM-DD\" format.\n",
    "    \"\"\"\n",
    "    # Convert start and end dates to datetime objects\n",
    "    start = datetime.strptime(start_date, \"%Y-%m-%d\")\n",
    "    end = datetime.strptime(end_date, \"%Y-%m-%d\")\n",
    "    \n",
    "    # Find the first Sunday on or after the start date\n",
    "    current = start + timedelta(days=(6 - start.weekday()) % 7)\n",
    "    \n",
    "    # Generate all Sundays within the interval\n",
    "    sundays = []\n",
    "    while current <= end:\n",
    "        sundays.append(current.strftime(\"%Y-%m-%d\"))\n",
    "        current += timedelta(days=7)  # Move to the next Sunday\n",
    "    \n",
    "    return sundays\n",
    "\n",
    "# Example usage\n",
    "start_date = \"2022-05-01\"\n",
    "end_date = \"2022-10-30\"\n",
    "sundays = get_sundays(start_date, end_date)\n",
    "print(sundays)"
   ],
   "outputs": [
    {
     "name": "stdout",
     "output_type": "stream",
     "text": [
      "['2022-05-01', '2022-05-08', '2022-05-15', '2022-05-22', '2022-05-29', '2022-06-05', '2022-06-12', '2022-06-19', '2022-06-26', '2022-07-03', '2022-07-10', '2022-07-17', '2022-07-24', '2022-07-31', '2022-08-07', '2022-08-14', '2022-08-21', '2022-08-28', '2022-09-04', '2022-09-11', '2022-09-18', '2022-09-25', '2022-10-02', '2022-10-09', '2022-10-16', '2022-10-23', '2022-10-30']\n"
     ]
    }
   ],
   "execution_count": 6
  },
  {
   "cell_type": "code",
   "metadata": {
    "ExecuteTime": {
     "end_time": "2024-12-02T17:31:35.666691Z",
     "start_time": "2024-12-02T17:31:35.664733Z"
    }
   },
   "source": [
    "Path.cwd() /'merra_data'"
   ],
   "outputs": [
    {
     "data": {
      "text/plain": [
       "PosixPath('/var/home/rupertwilliams/Homes/gis/PyCharmProjects/GIS/Assignment 4/merra2_linReg/merra_data')"
      ]
     },
     "execution_count": 7,
     "metadata": {},
     "output_type": "execute_result"
    }
   ],
   "execution_count": 7
  },
  {
   "cell_type": "code",
   "metadata": {
    "ExecuteTime": {
     "end_time": "2024-12-02T17:31:57.405397Z",
     "start_time": "2024-12-02T17:31:40.345669Z"
    }
   },
   "source": [
    "# option 1: download files to disk\n",
    "for sunday in sundays:\n",
    "    # Search for the granule by DOI\n",
    "    results = earthaccess.search_data(\n",
    "    concept_id=\"C3094710982-GES_DISC\", temporal=(sunday,sunday))\n",
    "    files = earthaccess.download(results, Path.cwd() /'merra_data')"
   ],
   "outputs": [
    {
     "data": {
      "text/plain": [
       "QUEUEING TASKS | :   0%|          | 0/1 [00:00<?, ?it/s]"
      ],
      "application/vnd.jupyter.widget-view+json": {
       "version_major": 2,
       "version_minor": 0,
       "model_id": "9d023c899da5484a9750ee62adedbc6c"
      }
     },
     "metadata": {},
     "output_type": "display_data"
    },
    {
     "data": {
      "text/plain": [
       "PROCESSING TASKS | :   0%|          | 0/1 [00:00<?, ?it/s]"
      ],
      "application/vnd.jupyter.widget-view+json": {
       "version_major": 2,
       "version_minor": 0,
       "model_id": "215b614b5df74d5e8f33aa212fbd4559"
      }
     },
     "metadata": {},
     "output_type": "display_data"
    },
    {
     "data": {
      "text/plain": [
       "COLLECTING RESULTS | :   0%|          | 0/1 [00:00<?, ?it/s]"
      ],
      "application/vnd.jupyter.widget-view+json": {
       "version_major": 2,
       "version_minor": 0,
       "model_id": "fe9f6291d7f34db59aafbf599e0e7133"
      }
     },
     "metadata": {},
     "output_type": "display_data"
    },
    {
     "data": {
      "text/plain": [
       "QUEUEING TASKS | :   0%|          | 0/1 [00:00<?, ?it/s]"
      ],
      "application/vnd.jupyter.widget-view+json": {
       "version_major": 2,
       "version_minor": 0,
       "model_id": "15517b8d530040b18462f3dfbd36ebd4"
      }
     },
     "metadata": {},
     "output_type": "display_data"
    },
    {
     "data": {
      "text/plain": [
       "PROCESSING TASKS | :   0%|          | 0/1 [00:00<?, ?it/s]"
      ],
      "application/vnd.jupyter.widget-view+json": {
       "version_major": 2,
       "version_minor": 0,
       "model_id": "92d71dbf6d5d4cefa64b23b39951bef2"
      }
     },
     "metadata": {},
     "output_type": "display_data"
    },
    {
     "data": {
      "text/plain": [
       "COLLECTING RESULTS | :   0%|          | 0/1 [00:00<?, ?it/s]"
      ],
      "application/vnd.jupyter.widget-view+json": {
       "version_major": 2,
       "version_minor": 0,
       "model_id": "256972b5ae1c465fbe39aab48711b3b0"
      }
     },
     "metadata": {},
     "output_type": "display_data"
    },
    {
     "data": {
      "text/plain": [
       "QUEUEING TASKS | :   0%|          | 0/1 [00:00<?, ?it/s]"
      ],
      "application/vnd.jupyter.widget-view+json": {
       "version_major": 2,
       "version_minor": 0,
       "model_id": "827672d540224a1a9dc5d5108d1da19b"
      }
     },
     "metadata": {},
     "output_type": "display_data"
    },
    {
     "data": {
      "text/plain": [
       "PROCESSING TASKS | :   0%|          | 0/1 [00:00<?, ?it/s]"
      ],
      "application/vnd.jupyter.widget-view+json": {
       "version_major": 2,
       "version_minor": 0,
       "model_id": "5a54484dcad2464388f8b109c7b43e3e"
      }
     },
     "metadata": {},
     "output_type": "display_data"
    },
    {
     "data": {
      "text/plain": [
       "COLLECTING RESULTS | :   0%|          | 0/1 [00:00<?, ?it/s]"
      ],
      "application/vnd.jupyter.widget-view+json": {
       "version_major": 2,
       "version_minor": 0,
       "model_id": "34739f10ac0342de9d6c4ee4bf031868"
      }
     },
     "metadata": {},
     "output_type": "display_data"
    },
    {
     "data": {
      "text/plain": [
       "QUEUEING TASKS | :   0%|          | 0/1 [00:00<?, ?it/s]"
      ],
      "application/vnd.jupyter.widget-view+json": {
       "version_major": 2,
       "version_minor": 0,
       "model_id": "a3ad2b703ab54e79904e68bb3ebd0466"
      }
     },
     "metadata": {},
     "output_type": "display_data"
    },
    {
     "data": {
      "text/plain": [
       "PROCESSING TASKS | :   0%|          | 0/1 [00:00<?, ?it/s]"
      ],
      "application/vnd.jupyter.widget-view+json": {
       "version_major": 2,
       "version_minor": 0,
       "model_id": "ec7dbe53462a48ed8b63759c1b350499"
      }
     },
     "metadata": {},
     "output_type": "display_data"
    },
    {
     "data": {
      "text/plain": [
       "COLLECTING RESULTS | :   0%|          | 0/1 [00:00<?, ?it/s]"
      ],
      "application/vnd.jupyter.widget-view+json": {
       "version_major": 2,
       "version_minor": 0,
       "model_id": "03ed14f620f84752b9c60c91423130ee"
      }
     },
     "metadata": {},
     "output_type": "display_data"
    },
    {
     "data": {
      "text/plain": [
       "QUEUEING TASKS | :   0%|          | 0/1 [00:00<?, ?it/s]"
      ],
      "application/vnd.jupyter.widget-view+json": {
       "version_major": 2,
       "version_minor": 0,
       "model_id": "8727c66a0df5472ebe4c90559ab9a24a"
      }
     },
     "metadata": {},
     "output_type": "display_data"
    },
    {
     "data": {
      "text/plain": [
       "PROCESSING TASKS | :   0%|          | 0/1 [00:00<?, ?it/s]"
      ],
      "application/vnd.jupyter.widget-view+json": {
       "version_major": 2,
       "version_minor": 0,
       "model_id": "f8e3a11cf67a4fac91dd911b15aa9725"
      }
     },
     "metadata": {},
     "output_type": "display_data"
    },
    {
     "data": {
      "text/plain": [
       "COLLECTING RESULTS | :   0%|          | 0/1 [00:00<?, ?it/s]"
      ],
      "application/vnd.jupyter.widget-view+json": {
       "version_major": 2,
       "version_minor": 0,
       "model_id": "b434b1612db943d49e3c81eee22942df"
      }
     },
     "metadata": {},
     "output_type": "display_data"
    },
    {
     "data": {
      "text/plain": [
       "QUEUEING TASKS | :   0%|          | 0/1 [00:00<?, ?it/s]"
      ],
      "application/vnd.jupyter.widget-view+json": {
       "version_major": 2,
       "version_minor": 0,
       "model_id": "5e46efcf7a394d1eb48177a1ed78c6af"
      }
     },
     "metadata": {},
     "output_type": "display_data"
    },
    {
     "data": {
      "text/plain": [
       "PROCESSING TASKS | :   0%|          | 0/1 [00:00<?, ?it/s]"
      ],
      "application/vnd.jupyter.widget-view+json": {
       "version_major": 2,
       "version_minor": 0,
       "model_id": "48f4d63494b541ba8958d0f5482229f9"
      }
     },
     "metadata": {},
     "output_type": "display_data"
    },
    {
     "data": {
      "text/plain": [
       "COLLECTING RESULTS | :   0%|          | 0/1 [00:00<?, ?it/s]"
      ],
      "application/vnd.jupyter.widget-view+json": {
       "version_major": 2,
       "version_minor": 0,
       "model_id": "6bf68480b87b46429c3231309949ec7b"
      }
     },
     "metadata": {},
     "output_type": "display_data"
    },
    {
     "data": {
      "text/plain": [
       "QUEUEING TASKS | :   0%|          | 0/1 [00:00<?, ?it/s]"
      ],
      "application/vnd.jupyter.widget-view+json": {
       "version_major": 2,
       "version_minor": 0,
       "model_id": "ea3c3d3c3bef45e2ab8583e446820923"
      }
     },
     "metadata": {},
     "output_type": "display_data"
    },
    {
     "data": {
      "text/plain": [
       "PROCESSING TASKS | :   0%|          | 0/1 [00:00<?, ?it/s]"
      ],
      "application/vnd.jupyter.widget-view+json": {
       "version_major": 2,
       "version_minor": 0,
       "model_id": "e4107d8d2ac9434a93286c3953640bfa"
      }
     },
     "metadata": {},
     "output_type": "display_data"
    },
    {
     "data": {
      "text/plain": [
       "COLLECTING RESULTS | :   0%|          | 0/1 [00:00<?, ?it/s]"
      ],
      "application/vnd.jupyter.widget-view+json": {
       "version_major": 2,
       "version_minor": 0,
       "model_id": "5979c331e2344ec497e86efecf681c42"
      }
     },
     "metadata": {},
     "output_type": "display_data"
    },
    {
     "data": {
      "text/plain": [
       "QUEUEING TASKS | :   0%|          | 0/1 [00:00<?, ?it/s]"
      ],
      "application/vnd.jupyter.widget-view+json": {
       "version_major": 2,
       "version_minor": 0,
       "model_id": "c6bcd51f01154eef9a8ea8064dfa7522"
      }
     },
     "metadata": {},
     "output_type": "display_data"
    },
    {
     "data": {
      "text/plain": [
       "PROCESSING TASKS | :   0%|          | 0/1 [00:00<?, ?it/s]"
      ],
      "application/vnd.jupyter.widget-view+json": {
       "version_major": 2,
       "version_minor": 0,
       "model_id": "540a0439779c43dbafb7b7a979d9e930"
      }
     },
     "metadata": {},
     "output_type": "display_data"
    },
    {
     "data": {
      "text/plain": [
       "COLLECTING RESULTS | :   0%|          | 0/1 [00:00<?, ?it/s]"
      ],
      "application/vnd.jupyter.widget-view+json": {
       "version_major": 2,
       "version_minor": 0,
       "model_id": "0b02b53c06624590825abda7da56ed58"
      }
     },
     "metadata": {},
     "output_type": "display_data"
    },
    {
     "data": {
      "text/plain": [
       "QUEUEING TASKS | :   0%|          | 0/1 [00:00<?, ?it/s]"
      ],
      "application/vnd.jupyter.widget-view+json": {
       "version_major": 2,
       "version_minor": 0,
       "model_id": "659cf595d4bb41099ae5e2a3424b3757"
      }
     },
     "metadata": {},
     "output_type": "display_data"
    },
    {
     "data": {
      "text/plain": [
       "PROCESSING TASKS | :   0%|          | 0/1 [00:00<?, ?it/s]"
      ],
      "application/vnd.jupyter.widget-view+json": {
       "version_major": 2,
       "version_minor": 0,
       "model_id": "689d3b45f3cf424897abc4294b047230"
      }
     },
     "metadata": {},
     "output_type": "display_data"
    },
    {
     "data": {
      "text/plain": [
       "COLLECTING RESULTS | :   0%|          | 0/1 [00:00<?, ?it/s]"
      ],
      "application/vnd.jupyter.widget-view+json": {
       "version_major": 2,
       "version_minor": 0,
       "model_id": "7d8b9da5ea0c4bebb780a2d735f8aa89"
      }
     },
     "metadata": {},
     "output_type": "display_data"
    },
    {
     "data": {
      "text/plain": [
       "QUEUEING TASKS | :   0%|          | 0/1 [00:00<?, ?it/s]"
      ],
      "application/vnd.jupyter.widget-view+json": {
       "version_major": 2,
       "version_minor": 0,
       "model_id": "3f163fb9dd8849e1a2c79be411e250a7"
      }
     },
     "metadata": {},
     "output_type": "display_data"
    },
    {
     "data": {
      "text/plain": [
       "PROCESSING TASKS | :   0%|          | 0/1 [00:00<?, ?it/s]"
      ],
      "application/vnd.jupyter.widget-view+json": {
       "version_major": 2,
       "version_minor": 0,
       "model_id": "58121526143a4383986a31e33c51f8c8"
      }
     },
     "metadata": {},
     "output_type": "display_data"
    },
    {
     "data": {
      "text/plain": [
       "COLLECTING RESULTS | :   0%|          | 0/1 [00:00<?, ?it/s]"
      ],
      "application/vnd.jupyter.widget-view+json": {
       "version_major": 2,
       "version_minor": 0,
       "model_id": "e370e902e5fa4fdf82bb2811e8b92cd4"
      }
     },
     "metadata": {},
     "output_type": "display_data"
    },
    {
     "data": {
      "text/plain": [
       "QUEUEING TASKS | :   0%|          | 0/1 [00:00<?, ?it/s]"
      ],
      "application/vnd.jupyter.widget-view+json": {
       "version_major": 2,
       "version_minor": 0,
       "model_id": "4bbaa7aa4d114da2bab2bc803b323477"
      }
     },
     "metadata": {},
     "output_type": "display_data"
    },
    {
     "data": {
      "text/plain": [
       "PROCESSING TASKS | :   0%|          | 0/1 [00:00<?, ?it/s]"
      ],
      "application/vnd.jupyter.widget-view+json": {
       "version_major": 2,
       "version_minor": 0,
       "model_id": "2a02880d27e84bc7a152cd71adfa73c2"
      }
     },
     "metadata": {},
     "output_type": "display_data"
    },
    {
     "data": {
      "text/plain": [
       "COLLECTING RESULTS | :   0%|          | 0/1 [00:00<?, ?it/s]"
      ],
      "application/vnd.jupyter.widget-view+json": {
       "version_major": 2,
       "version_minor": 0,
       "model_id": "531e3932664347959161d9e36b59f4ea"
      }
     },
     "metadata": {},
     "output_type": "display_data"
    },
    {
     "data": {
      "text/plain": [
       "QUEUEING TASKS | :   0%|          | 0/1 [00:00<?, ?it/s]"
      ],
      "application/vnd.jupyter.widget-view+json": {
       "version_major": 2,
       "version_minor": 0,
       "model_id": "145413566a0541d39cdd7e9cb15a3fb7"
      }
     },
     "metadata": {},
     "output_type": "display_data"
    },
    {
     "data": {
      "text/plain": [
       "PROCESSING TASKS | :   0%|          | 0/1 [00:00<?, ?it/s]"
      ],
      "application/vnd.jupyter.widget-view+json": {
       "version_major": 2,
       "version_minor": 0,
       "model_id": "941f576f95cf4a06a99a25b32b4066bc"
      }
     },
     "metadata": {},
     "output_type": "display_data"
    },
    {
     "data": {
      "text/plain": [
       "COLLECTING RESULTS | :   0%|          | 0/1 [00:00<?, ?it/s]"
      ],
      "application/vnd.jupyter.widget-view+json": {
       "version_major": 2,
       "version_minor": 0,
       "model_id": "18fa30da32af40bd9a11c6cd0e91f0a9"
      }
     },
     "metadata": {},
     "output_type": "display_data"
    },
    {
     "data": {
      "text/plain": [
       "QUEUEING TASKS | :   0%|          | 0/1 [00:00<?, ?it/s]"
      ],
      "application/vnd.jupyter.widget-view+json": {
       "version_major": 2,
       "version_minor": 0,
       "model_id": "853195ddefa844f783d8d465df578603"
      }
     },
     "metadata": {},
     "output_type": "display_data"
    },
    {
     "data": {
      "text/plain": [
       "PROCESSING TASKS | :   0%|          | 0/1 [00:00<?, ?it/s]"
      ],
      "application/vnd.jupyter.widget-view+json": {
       "version_major": 2,
       "version_minor": 0,
       "model_id": "01111cc4d2a34a92b59678173d07cf3b"
      }
     },
     "metadata": {},
     "output_type": "display_data"
    },
    {
     "data": {
      "text/plain": [
       "COLLECTING RESULTS | :   0%|          | 0/1 [00:00<?, ?it/s]"
      ],
      "application/vnd.jupyter.widget-view+json": {
       "version_major": 2,
       "version_minor": 0,
       "model_id": "e91bd07e2e7f4e63a450bc95089192b9"
      }
     },
     "metadata": {},
     "output_type": "display_data"
    },
    {
     "data": {
      "text/plain": [
       "QUEUEING TASKS | :   0%|          | 0/1 [00:00<?, ?it/s]"
      ],
      "application/vnd.jupyter.widget-view+json": {
       "version_major": 2,
       "version_minor": 0,
       "model_id": "a4d606de29d54ace8058f5d859b250dd"
      }
     },
     "metadata": {},
     "output_type": "display_data"
    },
    {
     "data": {
      "text/plain": [
       "PROCESSING TASKS | :   0%|          | 0/1 [00:00<?, ?it/s]"
      ],
      "application/vnd.jupyter.widget-view+json": {
       "version_major": 2,
       "version_minor": 0,
       "model_id": "f4554c855eef4daf8d8aa90ef5d9678e"
      }
     },
     "metadata": {},
     "output_type": "display_data"
    },
    {
     "data": {
      "text/plain": [
       "COLLECTING RESULTS | :   0%|          | 0/1 [00:00<?, ?it/s]"
      ],
      "application/vnd.jupyter.widget-view+json": {
       "version_major": 2,
       "version_minor": 0,
       "model_id": "2c73ebe64b1c4afca22b838b33fb82d7"
      }
     },
     "metadata": {},
     "output_type": "display_data"
    },
    {
     "data": {
      "text/plain": [
       "QUEUEING TASKS | :   0%|          | 0/1 [00:00<?, ?it/s]"
      ],
      "application/vnd.jupyter.widget-view+json": {
       "version_major": 2,
       "version_minor": 0,
       "model_id": "6904b83ecd30492d8e22eb9b78305cc2"
      }
     },
     "metadata": {},
     "output_type": "display_data"
    },
    {
     "data": {
      "text/plain": [
       "PROCESSING TASKS | :   0%|          | 0/1 [00:00<?, ?it/s]"
      ],
      "application/vnd.jupyter.widget-view+json": {
       "version_major": 2,
       "version_minor": 0,
       "model_id": "66489c2acbb24c4b9808d6188f88c100"
      }
     },
     "metadata": {},
     "output_type": "display_data"
    },
    {
     "data": {
      "text/plain": [
       "COLLECTING RESULTS | :   0%|          | 0/1 [00:00<?, ?it/s]"
      ],
      "application/vnd.jupyter.widget-view+json": {
       "version_major": 2,
       "version_minor": 0,
       "model_id": "6c3e600357a4448f88e220eb61887aa7"
      }
     },
     "metadata": {},
     "output_type": "display_data"
    },
    {
     "data": {
      "text/plain": [
       "QUEUEING TASKS | :   0%|          | 0/1 [00:00<?, ?it/s]"
      ],
      "application/vnd.jupyter.widget-view+json": {
       "version_major": 2,
       "version_minor": 0,
       "model_id": "5678144ec6104b7c94b1512bed59dd5b"
      }
     },
     "metadata": {},
     "output_type": "display_data"
    },
    {
     "data": {
      "text/plain": [
       "PROCESSING TASKS | :   0%|          | 0/1 [00:00<?, ?it/s]"
      ],
      "application/vnd.jupyter.widget-view+json": {
       "version_major": 2,
       "version_minor": 0,
       "model_id": "4e75b789d4904cc5b11f8eb9ccda51b7"
      }
     },
     "metadata": {},
     "output_type": "display_data"
    },
    {
     "data": {
      "text/plain": [
       "COLLECTING RESULTS | :   0%|          | 0/1 [00:00<?, ?it/s]"
      ],
      "application/vnd.jupyter.widget-view+json": {
       "version_major": 2,
       "version_minor": 0,
       "model_id": "d07faea24d5b4a85ac7d1178bea49223"
      }
     },
     "metadata": {},
     "output_type": "display_data"
    },
    {
     "data": {
      "text/plain": [
       "QUEUEING TASKS | :   0%|          | 0/1 [00:00<?, ?it/s]"
      ],
      "application/vnd.jupyter.widget-view+json": {
       "version_major": 2,
       "version_minor": 0,
       "model_id": "82160b544c9444ec990f825898ddd63d"
      }
     },
     "metadata": {},
     "output_type": "display_data"
    },
    {
     "data": {
      "text/plain": [
       "PROCESSING TASKS | :   0%|          | 0/1 [00:00<?, ?it/s]"
      ],
      "application/vnd.jupyter.widget-view+json": {
       "version_major": 2,
       "version_minor": 0,
       "model_id": "daff1c0e18f844c2948f4d8c56bf2d96"
      }
     },
     "metadata": {},
     "output_type": "display_data"
    },
    {
     "data": {
      "text/plain": [
       "COLLECTING RESULTS | :   0%|          | 0/1 [00:00<?, ?it/s]"
      ],
      "application/vnd.jupyter.widget-view+json": {
       "version_major": 2,
       "version_minor": 0,
       "model_id": "2b32c02ba2c7425ca7276ec86353de2a"
      }
     },
     "metadata": {},
     "output_type": "display_data"
    },
    {
     "data": {
      "text/plain": [
       "QUEUEING TASKS | :   0%|          | 0/1 [00:00<?, ?it/s]"
      ],
      "application/vnd.jupyter.widget-view+json": {
       "version_major": 2,
       "version_minor": 0,
       "model_id": "5a1a1b530636480b8469b71c39c4b178"
      }
     },
     "metadata": {},
     "output_type": "display_data"
    },
    {
     "data": {
      "text/plain": [
       "PROCESSING TASKS | :   0%|          | 0/1 [00:00<?, ?it/s]"
      ],
      "application/vnd.jupyter.widget-view+json": {
       "version_major": 2,
       "version_minor": 0,
       "model_id": "69d0f9e63dec40bc872fb3be42048547"
      }
     },
     "metadata": {},
     "output_type": "display_data"
    },
    {
     "data": {
      "text/plain": [
       "COLLECTING RESULTS | :   0%|          | 0/1 [00:00<?, ?it/s]"
      ],
      "application/vnd.jupyter.widget-view+json": {
       "version_major": 2,
       "version_minor": 0,
       "model_id": "a6d351e849d2446081bc200665f01f68"
      }
     },
     "metadata": {},
     "output_type": "display_data"
    },
    {
     "data": {
      "text/plain": [
       "QUEUEING TASKS | :   0%|          | 0/1 [00:00<?, ?it/s]"
      ],
      "application/vnd.jupyter.widget-view+json": {
       "version_major": 2,
       "version_minor": 0,
       "model_id": "1f3ac6b3a6bc4c0782fff4c60894aa17"
      }
     },
     "metadata": {},
     "output_type": "display_data"
    },
    {
     "data": {
      "text/plain": [
       "PROCESSING TASKS | :   0%|          | 0/1 [00:00<?, ?it/s]"
      ],
      "application/vnd.jupyter.widget-view+json": {
       "version_major": 2,
       "version_minor": 0,
       "model_id": "091367bf227145a0a0dfa081fa1844da"
      }
     },
     "metadata": {},
     "output_type": "display_data"
    },
    {
     "data": {
      "text/plain": [
       "COLLECTING RESULTS | :   0%|          | 0/1 [00:00<?, ?it/s]"
      ],
      "application/vnd.jupyter.widget-view+json": {
       "version_major": 2,
       "version_minor": 0,
       "model_id": "6606b3294ca041329e7168c281894282"
      }
     },
     "metadata": {},
     "output_type": "display_data"
    },
    {
     "data": {
      "text/plain": [
       "QUEUEING TASKS | :   0%|          | 0/1 [00:00<?, ?it/s]"
      ],
      "application/vnd.jupyter.widget-view+json": {
       "version_major": 2,
       "version_minor": 0,
       "model_id": "91bde11a1f09414fa32c561b8c6e46ad"
      }
     },
     "metadata": {},
     "output_type": "display_data"
    },
    {
     "data": {
      "text/plain": [
       "PROCESSING TASKS | :   0%|          | 0/1 [00:00<?, ?it/s]"
      ],
      "application/vnd.jupyter.widget-view+json": {
       "version_major": 2,
       "version_minor": 0,
       "model_id": "3fbba581796a420fa49fa0e53d17eb79"
      }
     },
     "metadata": {},
     "output_type": "display_data"
    },
    {
     "data": {
      "text/plain": [
       "COLLECTING RESULTS | :   0%|          | 0/1 [00:00<?, ?it/s]"
      ],
      "application/vnd.jupyter.widget-view+json": {
       "version_major": 2,
       "version_minor": 0,
       "model_id": "ebb388d75f9d408b8b834694666bf376"
      }
     },
     "metadata": {},
     "output_type": "display_data"
    },
    {
     "data": {
      "text/plain": [
       "QUEUEING TASKS | :   0%|          | 0/1 [00:00<?, ?it/s]"
      ],
      "application/vnd.jupyter.widget-view+json": {
       "version_major": 2,
       "version_minor": 0,
       "model_id": "09ef7d3bd6aa438b9b9f5d1ea71d590b"
      }
     },
     "metadata": {},
     "output_type": "display_data"
    },
    {
     "data": {
      "text/plain": [
       "PROCESSING TASKS | :   0%|          | 0/1 [00:00<?, ?it/s]"
      ],
      "application/vnd.jupyter.widget-view+json": {
       "version_major": 2,
       "version_minor": 0,
       "model_id": "92c92b6cf9984966a8f9978d86c829fd"
      }
     },
     "metadata": {},
     "output_type": "display_data"
    },
    {
     "data": {
      "text/plain": [
       "COLLECTING RESULTS | :   0%|          | 0/1 [00:00<?, ?it/s]"
      ],
      "application/vnd.jupyter.widget-view+json": {
       "version_major": 2,
       "version_minor": 0,
       "model_id": "03aa4d0c253f4832a2cb8b0e2d2be545"
      }
     },
     "metadata": {},
     "output_type": "display_data"
    },
    {
     "data": {
      "text/plain": [
       "QUEUEING TASKS | :   0%|          | 0/1 [00:00<?, ?it/s]"
      ],
      "application/vnd.jupyter.widget-view+json": {
       "version_major": 2,
       "version_minor": 0,
       "model_id": "1a1f9666a1414b39b224eabb924290b3"
      }
     },
     "metadata": {},
     "output_type": "display_data"
    },
    {
     "data": {
      "text/plain": [
       "PROCESSING TASKS | :   0%|          | 0/1 [00:00<?, ?it/s]"
      ],
      "application/vnd.jupyter.widget-view+json": {
       "version_major": 2,
       "version_minor": 0,
       "model_id": "b0de0d3967324236b5cabdec7e034b75"
      }
     },
     "metadata": {},
     "output_type": "display_data"
    },
    {
     "data": {
      "text/plain": [
       "COLLECTING RESULTS | :   0%|          | 0/1 [00:00<?, ?it/s]"
      ],
      "application/vnd.jupyter.widget-view+json": {
       "version_major": 2,
       "version_minor": 0,
       "model_id": "88ec0408b4b244a991a8860ad38e7df5"
      }
     },
     "metadata": {},
     "output_type": "display_data"
    },
    {
     "data": {
      "text/plain": [
       "QUEUEING TASKS | :   0%|          | 0/1 [00:00<?, ?it/s]"
      ],
      "application/vnd.jupyter.widget-view+json": {
       "version_major": 2,
       "version_minor": 0,
       "model_id": "375dcf0ca7014fcda6f77d1c1c74335f"
      }
     },
     "metadata": {},
     "output_type": "display_data"
    },
    {
     "data": {
      "text/plain": [
       "PROCESSING TASKS | :   0%|          | 0/1 [00:00<?, ?it/s]"
      ],
      "application/vnd.jupyter.widget-view+json": {
       "version_major": 2,
       "version_minor": 0,
       "model_id": "3369a5d20e324dea8e8a7a2450163cab"
      }
     },
     "metadata": {},
     "output_type": "display_data"
    },
    {
     "data": {
      "text/plain": [
       "COLLECTING RESULTS | :   0%|          | 0/1 [00:00<?, ?it/s]"
      ],
      "application/vnd.jupyter.widget-view+json": {
       "version_major": 2,
       "version_minor": 0,
       "model_id": "0ae88e01b35e4d59a23c4424353d7fe0"
      }
     },
     "metadata": {},
     "output_type": "display_data"
    },
    {
     "data": {
      "text/plain": [
       "QUEUEING TASKS | :   0%|          | 0/1 [00:00<?, ?it/s]"
      ],
      "application/vnd.jupyter.widget-view+json": {
       "version_major": 2,
       "version_minor": 0,
       "model_id": "a911e5912306405fb58eb2ed3b08f584"
      }
     },
     "metadata": {},
     "output_type": "display_data"
    },
    {
     "data": {
      "text/plain": [
       "PROCESSING TASKS | :   0%|          | 0/1 [00:00<?, ?it/s]"
      ],
      "application/vnd.jupyter.widget-view+json": {
       "version_major": 2,
       "version_minor": 0,
       "model_id": "7fa128500883472ca1f26f743442e85b"
      }
     },
     "metadata": {},
     "output_type": "display_data"
    },
    {
     "data": {
      "text/plain": [
       "COLLECTING RESULTS | :   0%|          | 0/1 [00:00<?, ?it/s]"
      ],
      "application/vnd.jupyter.widget-view+json": {
       "version_major": 2,
       "version_minor": 0,
       "model_id": "3ce171c87fc94bee81d11c22acaea8e3"
      }
     },
     "metadata": {},
     "output_type": "display_data"
    },
    {
     "data": {
      "text/plain": [
       "QUEUEING TASKS | :   0%|          | 0/1 [00:00<?, ?it/s]"
      ],
      "application/vnd.jupyter.widget-view+json": {
       "version_major": 2,
       "version_minor": 0,
       "model_id": "83e5561bc4af42478902f917ed51d003"
      }
     },
     "metadata": {},
     "output_type": "display_data"
    },
    {
     "data": {
      "text/plain": [
       "PROCESSING TASKS | :   0%|          | 0/1 [00:00<?, ?it/s]"
      ],
      "application/vnd.jupyter.widget-view+json": {
       "version_major": 2,
       "version_minor": 0,
       "model_id": "31acc12d8309439a807374ea5a64679c"
      }
     },
     "metadata": {},
     "output_type": "display_data"
    },
    {
     "data": {
      "text/plain": [
       "COLLECTING RESULTS | :   0%|          | 0/1 [00:00<?, ?it/s]"
      ],
      "application/vnd.jupyter.widget-view+json": {
       "version_major": 2,
       "version_minor": 0,
       "model_id": "ca927a1e8e6f4e2dac2c330c0f43a776"
      }
     },
     "metadata": {},
     "output_type": "display_data"
    },
    {
     "data": {
      "text/plain": [
       "QUEUEING TASKS | :   0%|          | 0/1 [00:00<?, ?it/s]"
      ],
      "application/vnd.jupyter.widget-view+json": {
       "version_major": 2,
       "version_minor": 0,
       "model_id": "a26848d6225c4ddeae9b2346ff18f7d3"
      }
     },
     "metadata": {},
     "output_type": "display_data"
    },
    {
     "data": {
      "text/plain": [
       "PROCESSING TASKS | :   0%|          | 0/1 [00:00<?, ?it/s]"
      ],
      "application/vnd.jupyter.widget-view+json": {
       "version_major": 2,
       "version_minor": 0,
       "model_id": "34f0e95f6d204ece96fd9b5fa17ae8f7"
      }
     },
     "metadata": {},
     "output_type": "display_data"
    },
    {
     "data": {
      "text/plain": [
       "COLLECTING RESULTS | :   0%|          | 0/1 [00:00<?, ?it/s]"
      ],
      "application/vnd.jupyter.widget-view+json": {
       "version_major": 2,
       "version_minor": 0,
       "model_id": "cde272ec42484c81b08a9199c5b1146a"
      }
     },
     "metadata": {},
     "output_type": "display_data"
    },
    {
     "data": {
      "text/plain": [
       "QUEUEING TASKS | :   0%|          | 0/1 [00:00<?, ?it/s]"
      ],
      "application/vnd.jupyter.widget-view+json": {
       "version_major": 2,
       "version_minor": 0,
       "model_id": "d35fb7bfc88d4afb8292035c9028c162"
      }
     },
     "metadata": {},
     "output_type": "display_data"
    },
    {
     "data": {
      "text/plain": [
       "PROCESSING TASKS | :   0%|          | 0/1 [00:00<?, ?it/s]"
      ],
      "application/vnd.jupyter.widget-view+json": {
       "version_major": 2,
       "version_minor": 0,
       "model_id": "827faf7f5450416c852a4113e71523fa"
      }
     },
     "metadata": {},
     "output_type": "display_data"
    },
    {
     "data": {
      "text/plain": [
       "COLLECTING RESULTS | :   0%|          | 0/1 [00:00<?, ?it/s]"
      ],
      "application/vnd.jupyter.widget-view+json": {
       "version_major": 2,
       "version_minor": 0,
       "model_id": "13629f8ae4f24c7997594c61ae0ba229"
      }
     },
     "metadata": {},
     "output_type": "display_data"
    }
   ],
   "execution_count": 8
  },
  {
   "cell_type": "code",
   "metadata": {
    "ExecuteTime": {
     "end_time": "2024-12-02T17:31:57.441350Z",
     "start_time": "2024-12-02T17:31:57.439222Z"
    }
   },
   "source": [
    "import os\n",
    "\n",
    "# filter out unneeded files\n",
    "\n",
    "def get_matching_files(folder_path, sundays):\n",
    "    \"\"\"\n",
    "    Return a list of files in the folder that match the given list of Sunday dates.\n",
    "    \n",
    "    Parameters:\n",
    "        folder_path (str): Path to the folder containing the files.\n",
    "        sundays (list of str): List of Sundays in \"YYYYMMDD\" format to match.\n",
    "        \n",
    "    Returns:\n",
    "        list of str: List of file paths matching the dates.\n",
    "    \"\"\"\n",
    "    # Format Sundays in the \"YYYYMMDD\" format for matching\n",
    "    sunday_strings = [date.replace(\"-\", \"\") for date in sundays]\n",
    "    \n",
    "    # Get all files in the folder\n",
    "    files = os.listdir(folder_path)\n",
    "    \n",
    "    # Filter files that contain a matching date\n",
    "    matching_files = [\n",
    "        os.path.join(folder_path, f)\n",
    "        for f in files\n",
    "        if any(date in f for date in sunday_strings)\n",
    "    ]\n",
    "    \n",
    "    return matching_files\n",
    "\n",
    "files = get_matching_files(Path.cwd() /'merra_data', sundays)\n",
    "print(files)"
   ],
   "outputs": [
    {
     "name": "stdout",
     "output_type": "stream",
     "text": [
      "['/var/home/rupertwilliams/Homes/gis/PyCharmProjects/GIS/Assignment 4/merra2_linReg/merra_data/MERRA2_HAQAST_CNN_L4_V1.20220522.nc4', '/var/home/rupertwilliams/Homes/gis/PyCharmProjects/GIS/Assignment 4/merra2_linReg/merra_data/MERRA2_HAQAST_CNN_L4_V1.20220508.nc4', '/var/home/rupertwilliams/Homes/gis/PyCharmProjects/GIS/Assignment 4/merra2_linReg/merra_data/MERRA2_HAQAST_CNN_L4_V1.20220501.nc4', '/var/home/rupertwilliams/Homes/gis/PyCharmProjects/GIS/Assignment 4/merra2_linReg/merra_data/MERRA2_HAQAST_CNN_L4_V1.20220515.nc4', '/var/home/rupertwilliams/Homes/gis/PyCharmProjects/GIS/Assignment 4/merra2_linReg/merra_data/MERRA2_HAQAST_CNN_L4_V1.20220529.nc4', '/var/home/rupertwilliams/Homes/gis/PyCharmProjects/GIS/Assignment 4/merra2_linReg/merra_data/MERRA2_HAQAST_CNN_L4_V1.20220605.nc4', '/var/home/rupertwilliams/Homes/gis/PyCharmProjects/GIS/Assignment 4/merra2_linReg/merra_data/MERRA2_HAQAST_CNN_L4_V1.20220612.nc4', '/var/home/rupertwilliams/Homes/gis/PyCharmProjects/GIS/Assignment 4/merra2_linReg/merra_data/MERRA2_HAQAST_CNN_L4_V1.20220619.nc4', '/var/home/rupertwilliams/Homes/gis/PyCharmProjects/GIS/Assignment 4/merra2_linReg/merra_data/MERRA2_HAQAST_CNN_L4_V1.20220626.nc4', '/var/home/rupertwilliams/Homes/gis/PyCharmProjects/GIS/Assignment 4/merra2_linReg/merra_data/MERRA2_HAQAST_CNN_L4_V1.20220703.nc4', '/var/home/rupertwilliams/Homes/gis/PyCharmProjects/GIS/Assignment 4/merra2_linReg/merra_data/MERRA2_HAQAST_CNN_L4_V1.20220710.nc4', '/var/home/rupertwilliams/Homes/gis/PyCharmProjects/GIS/Assignment 4/merra2_linReg/merra_data/MERRA2_HAQAST_CNN_L4_V1.20220717.nc4', '/var/home/rupertwilliams/Homes/gis/PyCharmProjects/GIS/Assignment 4/merra2_linReg/merra_data/MERRA2_HAQAST_CNN_L4_V1.20220724.nc4', '/var/home/rupertwilliams/Homes/gis/PyCharmProjects/GIS/Assignment 4/merra2_linReg/merra_data/MERRA2_HAQAST_CNN_L4_V1.20220731.nc4', '/var/home/rupertwilliams/Homes/gis/PyCharmProjects/GIS/Assignment 4/merra2_linReg/merra_data/MERRA2_HAQAST_CNN_L4_V1.20220807.nc4', '/var/home/rupertwilliams/Homes/gis/PyCharmProjects/GIS/Assignment 4/merra2_linReg/merra_data/MERRA2_HAQAST_CNN_L4_V1.20220814.nc4', '/var/home/rupertwilliams/Homes/gis/PyCharmProjects/GIS/Assignment 4/merra2_linReg/merra_data/MERRA2_HAQAST_CNN_L4_V1.20220821.nc4', '/var/home/rupertwilliams/Homes/gis/PyCharmProjects/GIS/Assignment 4/merra2_linReg/merra_data/MERRA2_HAQAST_CNN_L4_V1.20220828.nc4', '/var/home/rupertwilliams/Homes/gis/PyCharmProjects/GIS/Assignment 4/merra2_linReg/merra_data/MERRA2_HAQAST_CNN_L4_V1.20220904.nc4', '/var/home/rupertwilliams/Homes/gis/PyCharmProjects/GIS/Assignment 4/merra2_linReg/merra_data/MERRA2_HAQAST_CNN_L4_V1.20220911.nc4', '/var/home/rupertwilliams/Homes/gis/PyCharmProjects/GIS/Assignment 4/merra2_linReg/merra_data/MERRA2_HAQAST_CNN_L4_V1.20220918.nc4', '/var/home/rupertwilliams/Homes/gis/PyCharmProjects/GIS/Assignment 4/merra2_linReg/merra_data/MERRA2_HAQAST_CNN_L4_V1.20220925.nc4', '/var/home/rupertwilliams/Homes/gis/PyCharmProjects/GIS/Assignment 4/merra2_linReg/merra_data/MERRA2_HAQAST_CNN_L4_V1.20221002.nc4', '/var/home/rupertwilliams/Homes/gis/PyCharmProjects/GIS/Assignment 4/merra2_linReg/merra_data/MERRA2_HAQAST_CNN_L4_V1.20221009.nc4', '/var/home/rupertwilliams/Homes/gis/PyCharmProjects/GIS/Assignment 4/merra2_linReg/merra_data/MERRA2_HAQAST_CNN_L4_V1.20221016.nc4', '/var/home/rupertwilliams/Homes/gis/PyCharmProjects/GIS/Assignment 4/merra2_linReg/merra_data/MERRA2_HAQAST_CNN_L4_V1.20221023.nc4', '/var/home/rupertwilliams/Homes/gis/PyCharmProjects/GIS/Assignment 4/merra2_linReg/merra_data/MERRA2_HAQAST_CNN_L4_V1.20221030.nc4']\n"
     ]
    }
   ],
   "execution_count": 9
  },
  {
   "cell_type": "code",
   "metadata": {
    "ExecuteTime": {
     "end_time": "2024-12-02T17:31:57.486654Z",
     "start_time": "2024-12-02T17:31:57.485016Z"
    }
   },
   "source": [
    "lon_min, lon_max = -140, -90\n",
    "lat_min, lat_max = 35, 55\n",
    "\n",
    "# a simple Albers Equal Area projection \n",
    "crs_proj4 = \"+proj=aea +lat_1=42 +lat_2=48 +lat_0=45 +lon_0=-115 +datum=WGS84 +units=m +no_defs\"\n",
    "\n",
    "x_min, x_max = -1500000, 1500000\n",
    "y_min, y_max = -750000, 1000000\n",
    "resolution = 5000 # meters\n",
    "\n",
    "# Ensure bounds are divisible by the resolution\n",
    "x_range = x_max - x_min\n",
    "y_range = y_max - y_min\n",
    "\n",
    "x_steps = x_range // resolution\n",
    "y_steps = y_range // resolution\n",
    "\n",
    "# Corrected bounds\n",
    "x_max = x_min + (x_steps * resolution)\n",
    "y_max = y_min + (y_steps * resolution)\n",
    "\n",
    "dst_bounds = (x_min, x_max, y_min, y_max)"
   ],
   "outputs": [],
   "execution_count": 10
  },
  {
   "cell_type": "code",
   "metadata": {
    "ExecuteTime": {
     "end_time": "2024-12-02T17:31:57.534928Z",
     "start_time": "2024-12-02T17:31:57.532915Z"
    }
   },
   "source": [
    "from rasterio.enums import Resampling\n",
    "\n",
    "def process_dataset(file):\n",
    "    ds = xr.open_mfdataset(file, combine='by_coords', engine='netcdf4', decode_coords='all')\n",
    "    ds = ds.rio.write_crs(\"EPSG:4326\", inplace=True)\n",
    "    \n",
    "    ds = ds.rio.set_spatial_dims(x_dim=\"lon\", y_dim=\"lat\", inplace=True)\n",
    "    ds_time_filtered = ds.sel(time=ds.time.dt.strftime('%H:%M:%S') == '12:30:00')\n",
    "\n",
    "    # Filter spatial bounds\n",
    "    ds_filtered = ds_time_filtered.sel(lon=slice(lon_min, lon_max), lat=slice(lat_min, lat_max))\n",
    "    ds_filtered = ds_filtered.rio.set_spatial_dims(x_dim=\"lon\", y_dim=\"lat\", inplace=True)\n",
    "    \n",
    "    ds_reprojected = ds_filtered.rio.reproject(\n",
    "        crs_proj4,\n",
    "        dst_bounds=dst_bounds,\n",
    "        resolution=(resolution, resolution),\n",
    "        resampling=Resampling.bilinear\n",
    "    )       \n",
    "    \n",
    "    ds_reprojected = ds_reprojected.sel(x=slice(x_min, x_max), y=slice(y_max, y_min))\n",
    "    ds_reprojected = ds_reprojected.rio.write_crs(crs_proj4, inplace=True)\n",
    "    \n",
    "    return ds_reprojected"
   ],
   "outputs": [],
   "execution_count": 11
  },
  {
   "cell_type": "code",
   "metadata": {
    "ExecuteTime": {
     "end_time": "2024-12-02T17:31:59.828477Z",
     "start_time": "2024-12-02T17:31:57.607807Z"
    }
   },
   "source": [
    "datasets = [process_dataset(file) for file in files]\n",
    "\n",
    "combined_ds = xr.concat(datasets, dim='time')"
   ],
   "outputs": [],
   "execution_count": 12
  },
  {
   "cell_type": "code",
   "metadata": {
    "ExecuteTime": {
     "end_time": "2024-12-02T17:31:59.871160Z",
     "start_time": "2024-12-02T17:31:59.863530Z"
    }
   },
   "source": [
    "combined_ds\n"
   ],
   "outputs": [
    {
     "data": {
      "text/plain": [
       "<xarray.Dataset> Size: 68MB\n",
       "Dimensions:                  (time: 27, y: 350, x: 600)\n",
       "Coordinates:\n",
       "  * x                        (x) float64 5kB -1.497e+06 -1.492e+06 ... 1.498e+06\n",
       "  * y                        (y) float64 3kB 9.959e+05 9.909e+05 ... -7.491e+05\n",
       "  * time                     (time) datetime64[ns] 216B 2022-05-22T12:30:00 ....\n",
       "    spatial_ref              int64 8B 0\n",
       "Data variables:\n",
       "    MERRA2_CNN_Surface_PM25  (time, y, x) float32 23MB 2.803 2.917 ... 10.38\n",
       "    QFLAG                    (time, y, x) float64 45MB 2.0 2.0 2.0 ... 4.0 4.0\n",
       "Attributes: (12/33)\n",
       "    Comment:                           filename: MERRA2_HAQAST_CNN_L4_V1_2022...\n",
       "    Filename:                          MERRA2_HAQAST_CNN_L4_V1_20220522.nc4\n",
       "    Conventions:                       CF-1\n",
       "    Institution:                       NASA Goddard Space Flight Center\n",
       "    References:                        http://gmao.gsfc.nasa.gov ; https://do...\n",
       "    Format:                            NetCDF-4/HDF-5\n",
       "    ...                                ...\n",
       "    RangeEndingDate:                   2022-05-22\n",
       "    RangeEndingTime:                   23:59:59.000000\n",
       "    DODS_EXTRA.Unlimited_Dimension:    time\n",
       "    history:                           2023-04-21 04:24:38 GMT Hyrax-1.16.3 h...\n",
       "    ProcessingLevel:                   4\n",
       "    MapProjection:                     Geographic lat/lon. Datum: WGS-84"
      ],
      "text/html": [
       "<div><svg style=\"position: absolute; width: 0; height: 0; overflow: hidden\">\n",
       "<defs>\n",
       "<symbol id=\"icon-database\" viewBox=\"0 0 32 32\">\n",
       "<path d=\"M16 0c-8.837 0-16 2.239-16 5v4c0 2.761 7.163 5 16 5s16-2.239 16-5v-4c0-2.761-7.163-5-16-5z\"></path>\n",
       "<path d=\"M16 17c-8.837 0-16-2.239-16-5v6c0 2.761 7.163 5 16 5s16-2.239 16-5v-6c0 2.761-7.163 5-16 5z\"></path>\n",
       "<path d=\"M16 26c-8.837 0-16-2.239-16-5v6c0 2.761 7.163 5 16 5s16-2.239 16-5v-6c0 2.761-7.163 5-16 5z\"></path>\n",
       "</symbol>\n",
       "<symbol id=\"icon-file-text2\" viewBox=\"0 0 32 32\">\n",
       "<path d=\"M28.681 7.159c-0.694-0.947-1.662-2.053-2.724-3.116s-2.169-2.030-3.116-2.724c-1.612-1.182-2.393-1.319-2.841-1.319h-15.5c-1.378 0-2.5 1.121-2.5 2.5v27c0 1.378 1.122 2.5 2.5 2.5h23c1.378 0 2.5-1.122 2.5-2.5v-19.5c0-0.448-0.137-1.23-1.319-2.841zM24.543 5.457c0.959 0.959 1.712 1.825 2.268 2.543h-4.811v-4.811c0.718 0.556 1.584 1.309 2.543 2.268zM28 29.5c0 0.271-0.229 0.5-0.5 0.5h-23c-0.271 0-0.5-0.229-0.5-0.5v-27c0-0.271 0.229-0.5 0.5-0.5 0 0 15.499-0 15.5 0v7c0 0.552 0.448 1 1 1h7v19.5z\"></path>\n",
       "<path d=\"M23 26h-14c-0.552 0-1-0.448-1-1s0.448-1 1-1h14c0.552 0 1 0.448 1 1s-0.448 1-1 1z\"></path>\n",
       "<path d=\"M23 22h-14c-0.552 0-1-0.448-1-1s0.448-1 1-1h14c0.552 0 1 0.448 1 1s-0.448 1-1 1z\"></path>\n",
       "<path d=\"M23 18h-14c-0.552 0-1-0.448-1-1s0.448-1 1-1h14c0.552 0 1 0.448 1 1s-0.448 1-1 1z\"></path>\n",
       "</symbol>\n",
       "</defs>\n",
       "</svg>\n",
       "<style>/* CSS stylesheet for displaying xarray objects in jupyterlab.\n",
       " *\n",
       " */\n",
       "\n",
       ":root {\n",
       "  --xr-font-color0: var(--jp-content-font-color0, rgba(0, 0, 0, 1));\n",
       "  --xr-font-color2: var(--jp-content-font-color2, rgba(0, 0, 0, 0.54));\n",
       "  --xr-font-color3: var(--jp-content-font-color3, rgba(0, 0, 0, 0.38));\n",
       "  --xr-border-color: var(--jp-border-color2, #e0e0e0);\n",
       "  --xr-disabled-color: var(--jp-layout-color3, #bdbdbd);\n",
       "  --xr-background-color: var(--jp-layout-color0, white);\n",
       "  --xr-background-color-row-even: var(--jp-layout-color1, white);\n",
       "  --xr-background-color-row-odd: var(--jp-layout-color2, #eeeeee);\n",
       "}\n",
       "\n",
       "html[theme=dark],\n",
       "html[data-theme=dark],\n",
       "body[data-theme=dark],\n",
       "body.vscode-dark {\n",
       "  --xr-font-color0: rgba(255, 255, 255, 1);\n",
       "  --xr-font-color2: rgba(255, 255, 255, 0.54);\n",
       "  --xr-font-color3: rgba(255, 255, 255, 0.38);\n",
       "  --xr-border-color: #1F1F1F;\n",
       "  --xr-disabled-color: #515151;\n",
       "  --xr-background-color: #111111;\n",
       "  --xr-background-color-row-even: #111111;\n",
       "  --xr-background-color-row-odd: #313131;\n",
       "}\n",
       "\n",
       ".xr-wrap {\n",
       "  display: block !important;\n",
       "  min-width: 300px;\n",
       "  max-width: 700px;\n",
       "}\n",
       "\n",
       ".xr-text-repr-fallback {\n",
       "  /* fallback to plain text repr when CSS is not injected (untrusted notebook) */\n",
       "  display: none;\n",
       "}\n",
       "\n",
       ".xr-header {\n",
       "  padding-top: 6px;\n",
       "  padding-bottom: 6px;\n",
       "  margin-bottom: 4px;\n",
       "  border-bottom: solid 1px var(--xr-border-color);\n",
       "}\n",
       "\n",
       ".xr-header > div,\n",
       ".xr-header > ul {\n",
       "  display: inline;\n",
       "  margin-top: 0;\n",
       "  margin-bottom: 0;\n",
       "}\n",
       "\n",
       ".xr-obj-type,\n",
       ".xr-array-name {\n",
       "  margin-left: 2px;\n",
       "  margin-right: 10px;\n",
       "}\n",
       "\n",
       ".xr-obj-type {\n",
       "  color: var(--xr-font-color2);\n",
       "}\n",
       "\n",
       ".xr-sections {\n",
       "  padding-left: 0 !important;\n",
       "  display: grid;\n",
       "  grid-template-columns: 150px auto auto 1fr 0 20px 0 20px;\n",
       "}\n",
       "\n",
       ".xr-section-item {\n",
       "  display: contents;\n",
       "}\n",
       "\n",
       ".xr-section-item input {\n",
       "  display: inline-block;\n",
       "  opacity: 0;\n",
       "}\n",
       "\n",
       ".xr-section-item input + label {\n",
       "  color: var(--xr-disabled-color);\n",
       "}\n",
       "\n",
       ".xr-section-item input:enabled + label {\n",
       "  cursor: pointer;\n",
       "  color: var(--xr-font-color2);\n",
       "}\n",
       "\n",
       ".xr-section-item input:focus + label {\n",
       "  border: 2px solid var(--xr-font-color0);\n",
       "}\n",
       "\n",
       ".xr-section-item input:enabled + label:hover {\n",
       "  color: var(--xr-font-color0);\n",
       "}\n",
       "\n",
       ".xr-section-summary {\n",
       "  grid-column: 1;\n",
       "  color: var(--xr-font-color2);\n",
       "  font-weight: 500;\n",
       "}\n",
       "\n",
       ".xr-section-summary > span {\n",
       "  display: inline-block;\n",
       "  padding-left: 0.5em;\n",
       "}\n",
       "\n",
       ".xr-section-summary-in:disabled + label {\n",
       "  color: var(--xr-font-color2);\n",
       "}\n",
       "\n",
       ".xr-section-summary-in + label:before {\n",
       "  display: inline-block;\n",
       "  content: '►';\n",
       "  font-size: 11px;\n",
       "  width: 15px;\n",
       "  text-align: center;\n",
       "}\n",
       "\n",
       ".xr-section-summary-in:disabled + label:before {\n",
       "  color: var(--xr-disabled-color);\n",
       "}\n",
       "\n",
       ".xr-section-summary-in:checked + label:before {\n",
       "  content: '▼';\n",
       "}\n",
       "\n",
       ".xr-section-summary-in:checked + label > span {\n",
       "  display: none;\n",
       "}\n",
       "\n",
       ".xr-section-summary,\n",
       ".xr-section-inline-details {\n",
       "  padding-top: 4px;\n",
       "  padding-bottom: 4px;\n",
       "}\n",
       "\n",
       ".xr-section-inline-details {\n",
       "  grid-column: 2 / -1;\n",
       "}\n",
       "\n",
       ".xr-section-details {\n",
       "  display: none;\n",
       "  grid-column: 1 / -1;\n",
       "  margin-bottom: 5px;\n",
       "}\n",
       "\n",
       ".xr-section-summary-in:checked ~ .xr-section-details {\n",
       "  display: contents;\n",
       "}\n",
       "\n",
       ".xr-array-wrap {\n",
       "  grid-column: 1 / -1;\n",
       "  display: grid;\n",
       "  grid-template-columns: 20px auto;\n",
       "}\n",
       "\n",
       ".xr-array-wrap > label {\n",
       "  grid-column: 1;\n",
       "  vertical-align: top;\n",
       "}\n",
       "\n",
       ".xr-preview {\n",
       "  color: var(--xr-font-color3);\n",
       "}\n",
       "\n",
       ".xr-array-preview,\n",
       ".xr-array-data {\n",
       "  padding: 0 5px !important;\n",
       "  grid-column: 2;\n",
       "}\n",
       "\n",
       ".xr-array-data,\n",
       ".xr-array-in:checked ~ .xr-array-preview {\n",
       "  display: none;\n",
       "}\n",
       "\n",
       ".xr-array-in:checked ~ .xr-array-data,\n",
       ".xr-array-preview {\n",
       "  display: inline-block;\n",
       "}\n",
       "\n",
       ".xr-dim-list {\n",
       "  display: inline-block !important;\n",
       "  list-style: none;\n",
       "  padding: 0 !important;\n",
       "  margin: 0;\n",
       "}\n",
       "\n",
       ".xr-dim-list li {\n",
       "  display: inline-block;\n",
       "  padding: 0;\n",
       "  margin: 0;\n",
       "}\n",
       "\n",
       ".xr-dim-list:before {\n",
       "  content: '(';\n",
       "}\n",
       "\n",
       ".xr-dim-list:after {\n",
       "  content: ')';\n",
       "}\n",
       "\n",
       ".xr-dim-list li:not(:last-child):after {\n",
       "  content: ',';\n",
       "  padding-right: 5px;\n",
       "}\n",
       "\n",
       ".xr-has-index {\n",
       "  font-weight: bold;\n",
       "}\n",
       "\n",
       ".xr-var-list,\n",
       ".xr-var-item {\n",
       "  display: contents;\n",
       "}\n",
       "\n",
       ".xr-var-item > div,\n",
       ".xr-var-item label,\n",
       ".xr-var-item > .xr-var-name span {\n",
       "  background-color: var(--xr-background-color-row-even);\n",
       "  margin-bottom: 0;\n",
       "}\n",
       "\n",
       ".xr-var-item > .xr-var-name:hover span {\n",
       "  padding-right: 5px;\n",
       "}\n",
       "\n",
       ".xr-var-list > li:nth-child(odd) > div,\n",
       ".xr-var-list > li:nth-child(odd) > label,\n",
       ".xr-var-list > li:nth-child(odd) > .xr-var-name span {\n",
       "  background-color: var(--xr-background-color-row-odd);\n",
       "}\n",
       "\n",
       ".xr-var-name {\n",
       "  grid-column: 1;\n",
       "}\n",
       "\n",
       ".xr-var-dims {\n",
       "  grid-column: 2;\n",
       "}\n",
       "\n",
       ".xr-var-dtype {\n",
       "  grid-column: 3;\n",
       "  text-align: right;\n",
       "  color: var(--xr-font-color2);\n",
       "}\n",
       "\n",
       ".xr-var-preview {\n",
       "  grid-column: 4;\n",
       "}\n",
       "\n",
       ".xr-index-preview {\n",
       "  grid-column: 2 / 5;\n",
       "  color: var(--xr-font-color2);\n",
       "}\n",
       "\n",
       ".xr-var-name,\n",
       ".xr-var-dims,\n",
       ".xr-var-dtype,\n",
       ".xr-preview,\n",
       ".xr-attrs dt {\n",
       "  white-space: nowrap;\n",
       "  overflow: hidden;\n",
       "  text-overflow: ellipsis;\n",
       "  padding-right: 10px;\n",
       "}\n",
       "\n",
       ".xr-var-name:hover,\n",
       ".xr-var-dims:hover,\n",
       ".xr-var-dtype:hover,\n",
       ".xr-attrs dt:hover {\n",
       "  overflow: visible;\n",
       "  width: auto;\n",
       "  z-index: 1;\n",
       "}\n",
       "\n",
       ".xr-var-attrs,\n",
       ".xr-var-data,\n",
       ".xr-index-data {\n",
       "  display: none;\n",
       "  background-color: var(--xr-background-color) !important;\n",
       "  padding-bottom: 5px !important;\n",
       "}\n",
       "\n",
       ".xr-var-attrs-in:checked ~ .xr-var-attrs,\n",
       ".xr-var-data-in:checked ~ .xr-var-data,\n",
       ".xr-index-data-in:checked ~ .xr-index-data {\n",
       "  display: block;\n",
       "}\n",
       "\n",
       ".xr-var-data > table {\n",
       "  float: right;\n",
       "}\n",
       "\n",
       ".xr-var-name span,\n",
       ".xr-var-data,\n",
       ".xr-index-name div,\n",
       ".xr-index-data,\n",
       ".xr-attrs {\n",
       "  padding-left: 25px !important;\n",
       "}\n",
       "\n",
       ".xr-attrs,\n",
       ".xr-var-attrs,\n",
       ".xr-var-data,\n",
       ".xr-index-data {\n",
       "  grid-column: 1 / -1;\n",
       "}\n",
       "\n",
       "dl.xr-attrs {\n",
       "  padding: 0;\n",
       "  margin: 0;\n",
       "  display: grid;\n",
       "  grid-template-columns: 125px auto;\n",
       "}\n",
       "\n",
       ".xr-attrs dt,\n",
       ".xr-attrs dd {\n",
       "  padding: 0;\n",
       "  margin: 0;\n",
       "  float: left;\n",
       "  padding-right: 10px;\n",
       "  width: auto;\n",
       "}\n",
       "\n",
       ".xr-attrs dt {\n",
       "  font-weight: normal;\n",
       "  grid-column: 1;\n",
       "}\n",
       "\n",
       ".xr-attrs dt:hover span {\n",
       "  display: inline-block;\n",
       "  background: var(--xr-background-color);\n",
       "  padding-right: 10px;\n",
       "}\n",
       "\n",
       ".xr-attrs dd {\n",
       "  grid-column: 2;\n",
       "  white-space: pre-wrap;\n",
       "  word-break: break-all;\n",
       "}\n",
       "\n",
       ".xr-icon-database,\n",
       ".xr-icon-file-text2,\n",
       ".xr-no-icon {\n",
       "  display: inline-block;\n",
       "  vertical-align: middle;\n",
       "  width: 1em;\n",
       "  height: 1.5em !important;\n",
       "  stroke-width: 0;\n",
       "  stroke: currentColor;\n",
       "  fill: currentColor;\n",
       "}\n",
       "</style><pre class='xr-text-repr-fallback'>&lt;xarray.Dataset&gt; Size: 68MB\n",
       "Dimensions:                  (time: 27, y: 350, x: 600)\n",
       "Coordinates:\n",
       "  * x                        (x) float64 5kB -1.497e+06 -1.492e+06 ... 1.498e+06\n",
       "  * y                        (y) float64 3kB 9.959e+05 9.909e+05 ... -7.491e+05\n",
       "  * time                     (time) datetime64[ns] 216B 2022-05-22T12:30:00 ....\n",
       "    spatial_ref              int64 8B 0\n",
       "Data variables:\n",
       "    MERRA2_CNN_Surface_PM25  (time, y, x) float32 23MB 2.803 2.917 ... 10.38\n",
       "    QFLAG                    (time, y, x) float64 45MB 2.0 2.0 2.0 ... 4.0 4.0\n",
       "Attributes: (12/33)\n",
       "    Comment:                           filename: MERRA2_HAQAST_CNN_L4_V1_2022...\n",
       "    Filename:                          MERRA2_HAQAST_CNN_L4_V1_20220522.nc4\n",
       "    Conventions:                       CF-1\n",
       "    Institution:                       NASA Goddard Space Flight Center\n",
       "    References:                        http://gmao.gsfc.nasa.gov ; https://do...\n",
       "    Format:                            NetCDF-4/HDF-5\n",
       "    ...                                ...\n",
       "    RangeEndingDate:                   2022-05-22\n",
       "    RangeEndingTime:                   23:59:59.000000\n",
       "    DODS_EXTRA.Unlimited_Dimension:    time\n",
       "    history:                           2023-04-21 04:24:38 GMT Hyrax-1.16.3 h...\n",
       "    ProcessingLevel:                   4\n",
       "    MapProjection:                     Geographic lat/lon. Datum: WGS-84</pre><div class='xr-wrap' style='display:none'><div class='xr-header'><div class='xr-obj-type'>xarray.Dataset</div></div><ul class='xr-sections'><li class='xr-section-item'><input id='section-5c714272-8047-40b9-a049-69b03af10a9e' class='xr-section-summary-in' type='checkbox' disabled ><label for='section-5c714272-8047-40b9-a049-69b03af10a9e' class='xr-section-summary'  title='Expand/collapse section'>Dimensions:</label><div class='xr-section-inline-details'><ul class='xr-dim-list'><li><span class='xr-has-index'>time</span>: 27</li><li><span class='xr-has-index'>y</span>: 350</li><li><span class='xr-has-index'>x</span>: 600</li></ul></div><div class='xr-section-details'></div></li><li class='xr-section-item'><input id='section-6f0d2b5f-e287-4434-9b03-4a9d4156ff80' class='xr-section-summary-in' type='checkbox'  checked><label for='section-6f0d2b5f-e287-4434-9b03-4a9d4156ff80' class='xr-section-summary' >Coordinates: <span>(4)</span></label><div class='xr-section-inline-details'></div><div class='xr-section-details'><ul class='xr-var-list'><li class='xr-var-item'><div class='xr-var-name'><span class='xr-has-index'>x</span></div><div class='xr-var-dims'>(x)</div><div class='xr-var-dtype'>float64</div><div class='xr-var-preview xr-preview'>-1.497e+06 -1.492e+06 ... 1.498e+06</div><input id='attrs-5fc75faf-c52c-43ff-a308-ab115fd1d412' class='xr-var-attrs-in' type='checkbox' ><label for='attrs-5fc75faf-c52c-43ff-a308-ab115fd1d412' title='Show/Hide attributes'><svg class='icon xr-icon-file-text2'><use xlink:href='#icon-file-text2'></use></svg></label><input id='data-69d8b685-0f5e-4861-8ec3-b0747c5696c2' class='xr-var-data-in' type='checkbox'><label for='data-69d8b685-0f5e-4861-8ec3-b0747c5696c2' title='Show/Hide data repr'><svg class='icon xr-icon-database'><use xlink:href='#icon-database'></use></svg></label><div class='xr-var-attrs'><dl class='xr-attrs'><dt><span>axis :</span></dt><dd>X</dd><dt><span>long_name :</span></dt><dd>x coordinate of projection</dd><dt><span>standard_name :</span></dt><dd>projection_x_coordinate</dd><dt><span>units :</span></dt><dd>metre</dd></dl></div><div class='xr-var-data'><pre>array([-1496524.326433, -1491524.326433, -1486524.326433, ...,  1488475.673567,\n",
       "        1493475.673567,  1498475.673567])</pre></div></li><li class='xr-var-item'><div class='xr-var-name'><span class='xr-has-index'>y</span></div><div class='xr-var-dims'>(y)</div><div class='xr-var-dtype'>float64</div><div class='xr-var-preview xr-preview'>9.959e+05 9.909e+05 ... -7.491e+05</div><input id='attrs-2e00f3c9-3c93-4195-a8ca-51ef43817b10' class='xr-var-attrs-in' type='checkbox' ><label for='attrs-2e00f3c9-3c93-4195-a8ca-51ef43817b10' title='Show/Hide attributes'><svg class='icon xr-icon-file-text2'><use xlink:href='#icon-file-text2'></use></svg></label><input id='data-94b69b56-ea1d-4d93-aab8-e87d0ae0bdb9' class='xr-var-data-in' type='checkbox'><label for='data-94b69b56-ea1d-4d93-aab8-e87d0ae0bdb9' title='Show/Hide data repr'><svg class='icon xr-icon-database'><use xlink:href='#icon-database'></use></svg></label><div class='xr-var-attrs'><dl class='xr-attrs'><dt><span>axis :</span></dt><dd>Y</dd><dt><span>long_name :</span></dt><dd>y coordinate of projection</dd><dt><span>standard_name :</span></dt><dd>projection_y_coordinate</dd><dt><span>units :</span></dt><dd>metre</dd></dl></div><div class='xr-var-data'><pre>array([ 995893.546327,  990893.546327,  985893.546327, ..., -739106.453673,\n",
       "       -744106.453673, -749106.453673])</pre></div></li><li class='xr-var-item'><div class='xr-var-name'><span class='xr-has-index'>time</span></div><div class='xr-var-dims'>(time)</div><div class='xr-var-dtype'>datetime64[ns]</div><div class='xr-var-preview xr-preview'>2022-05-22T12:30:00 ... 2022-10-...</div><input id='attrs-b4208880-b027-4598-9d46-57c4eabb3a63' class='xr-var-attrs-in' type='checkbox' ><label for='attrs-b4208880-b027-4598-9d46-57c4eabb3a63' title='Show/Hide attributes'><svg class='icon xr-icon-file-text2'><use xlink:href='#icon-file-text2'></use></svg></label><input id='data-72e63a09-1076-44f2-bea6-6fd698c4c94a' class='xr-var-data-in' type='checkbox'><label for='data-72e63a09-1076-44f2-bea6-6fd698c4c94a' title='Show/Hide data repr'><svg class='icon xr-icon-database'><use xlink:href='#icon-database'></use></svg></label><div class='xr-var-attrs'><dl class='xr-attrs'><dt><span>long_name :</span></dt><dd>time</dd></dl></div><div class='xr-var-data'><pre>array([&#x27;2022-05-22T12:30:00.000000000&#x27;, &#x27;2022-05-08T12:30:00.000000000&#x27;,\n",
       "       &#x27;2022-05-01T12:30:00.000000000&#x27;, &#x27;2022-05-15T12:30:00.000000000&#x27;,\n",
       "       &#x27;2022-05-29T12:30:00.000000000&#x27;, &#x27;2022-06-05T12:30:00.000000000&#x27;,\n",
       "       &#x27;2022-06-12T12:30:00.000000000&#x27;, &#x27;2022-06-19T12:30:00.000000000&#x27;,\n",
       "       &#x27;2022-06-26T12:30:00.000000000&#x27;, &#x27;2022-07-03T12:30:00.000000000&#x27;,\n",
       "       &#x27;2022-07-10T12:30:00.000000000&#x27;, &#x27;2022-07-17T12:30:00.000000000&#x27;,\n",
       "       &#x27;2022-07-24T12:30:00.000000000&#x27;, &#x27;2022-07-31T12:30:00.000000000&#x27;,\n",
       "       &#x27;2022-08-07T12:30:00.000000000&#x27;, &#x27;2022-08-14T12:30:00.000000000&#x27;,\n",
       "       &#x27;2022-08-21T12:30:00.000000000&#x27;, &#x27;2022-08-28T12:30:00.000000000&#x27;,\n",
       "       &#x27;2022-09-04T12:30:00.000000000&#x27;, &#x27;2022-09-11T12:30:00.000000000&#x27;,\n",
       "       &#x27;2022-09-18T12:30:00.000000000&#x27;, &#x27;2022-09-25T12:30:00.000000000&#x27;,\n",
       "       &#x27;2022-10-02T12:30:00.000000000&#x27;, &#x27;2022-10-09T12:30:00.000000000&#x27;,\n",
       "       &#x27;2022-10-16T12:30:00.000000000&#x27;, &#x27;2022-10-23T12:30:00.000000000&#x27;,\n",
       "       &#x27;2022-10-30T12:30:00.000000000&#x27;], dtype=&#x27;datetime64[ns]&#x27;)</pre></div></li><li class='xr-var-item'><div class='xr-var-name'><span>spatial_ref</span></div><div class='xr-var-dims'>()</div><div class='xr-var-dtype'>int64</div><div class='xr-var-preview xr-preview'>0</div><input id='attrs-8316aeeb-330e-4d24-a3a3-2816bffcda73' class='xr-var-attrs-in' type='checkbox' ><label for='attrs-8316aeeb-330e-4d24-a3a3-2816bffcda73' title='Show/Hide attributes'><svg class='icon xr-icon-file-text2'><use xlink:href='#icon-file-text2'></use></svg></label><input id='data-be47b912-124c-48e4-a8d5-9f2a84b10a6f' class='xr-var-data-in' type='checkbox'><label for='data-be47b912-124c-48e4-a8d5-9f2a84b10a6f' title='Show/Hide data repr'><svg class='icon xr-icon-database'><use xlink:href='#icon-database'></use></svg></label><div class='xr-var-attrs'><dl class='xr-attrs'><dt><span>crs_wkt :</span></dt><dd>PROJCS[&quot;unknown&quot;,GEOGCS[&quot;unknown&quot;,DATUM[&quot;WGS_1984&quot;,SPHEROID[&quot;WGS 84&quot;,6378137,298.257223563,AUTHORITY[&quot;EPSG&quot;,&quot;7030&quot;]],AUTHORITY[&quot;EPSG&quot;,&quot;6326&quot;]],PRIMEM[&quot;Greenwich&quot;,0,AUTHORITY[&quot;EPSG&quot;,&quot;8901&quot;]],UNIT[&quot;degree&quot;,0.0174532925199433,AUTHORITY[&quot;EPSG&quot;,&quot;9122&quot;]]],PROJECTION[&quot;Albers_Conic_Equal_Area&quot;],PARAMETER[&quot;latitude_of_center&quot;,45],PARAMETER[&quot;longitude_of_center&quot;,-115],PARAMETER[&quot;standard_parallel_1&quot;,42],PARAMETER[&quot;standard_parallel_2&quot;,48],PARAMETER[&quot;false_easting&quot;,0],PARAMETER[&quot;false_northing&quot;,0],UNIT[&quot;metre&quot;,1,AUTHORITY[&quot;EPSG&quot;,&quot;9001&quot;]],AXIS[&quot;Easting&quot;,EAST],AXIS[&quot;Northing&quot;,NORTH]]</dd><dt><span>semi_major_axis :</span></dt><dd>6378137.0</dd><dt><span>semi_minor_axis :</span></dt><dd>6356752.314245179</dd><dt><span>inverse_flattening :</span></dt><dd>298.257223563</dd><dt><span>reference_ellipsoid_name :</span></dt><dd>WGS 84</dd><dt><span>longitude_of_prime_meridian :</span></dt><dd>0.0</dd><dt><span>prime_meridian_name :</span></dt><dd>Greenwich</dd><dt><span>geographic_crs_name :</span></dt><dd>unknown</dd><dt><span>horizontal_datum_name :</span></dt><dd>World Geodetic System 1984</dd><dt><span>projected_crs_name :</span></dt><dd>unknown</dd><dt><span>grid_mapping_name :</span></dt><dd>albers_conical_equal_area</dd><dt><span>standard_parallel :</span></dt><dd>(42.0, 48.0)</dd><dt><span>latitude_of_projection_origin :</span></dt><dd>45.0</dd><dt><span>longitude_of_central_meridian :</span></dt><dd>-115.0</dd><dt><span>false_easting :</span></dt><dd>0.0</dd><dt><span>false_northing :</span></dt><dd>0.0</dd><dt><span>spatial_ref :</span></dt><dd>PROJCS[&quot;unknown&quot;,GEOGCS[&quot;unknown&quot;,DATUM[&quot;WGS_1984&quot;,SPHEROID[&quot;WGS 84&quot;,6378137,298.257223563,AUTHORITY[&quot;EPSG&quot;,&quot;7030&quot;]],AUTHORITY[&quot;EPSG&quot;,&quot;6326&quot;]],PRIMEM[&quot;Greenwich&quot;,0,AUTHORITY[&quot;EPSG&quot;,&quot;8901&quot;]],UNIT[&quot;degree&quot;,0.0174532925199433,AUTHORITY[&quot;EPSG&quot;,&quot;9122&quot;]]],PROJECTION[&quot;Albers_Conic_Equal_Area&quot;],PARAMETER[&quot;latitude_of_center&quot;,45],PARAMETER[&quot;longitude_of_center&quot;,-115],PARAMETER[&quot;standard_parallel_1&quot;,42],PARAMETER[&quot;standard_parallel_2&quot;,48],PARAMETER[&quot;false_easting&quot;,0],PARAMETER[&quot;false_northing&quot;,0],UNIT[&quot;metre&quot;,1,AUTHORITY[&quot;EPSG&quot;,&quot;9001&quot;]],AXIS[&quot;Easting&quot;,EAST],AXIS[&quot;Northing&quot;,NORTH]]</dd><dt><span>GeoTransform :</span></dt><dd>-2309024.326432758 5000.0 0.0 1388393.546326695 0.0 -5000.0</dd></dl></div><div class='xr-var-data'><pre>array(0)</pre></div></li></ul></div></li><li class='xr-section-item'><input id='section-e2d4509f-09fe-43dc-92ef-469d9a264855' class='xr-section-summary-in' type='checkbox'  checked><label for='section-e2d4509f-09fe-43dc-92ef-469d9a264855' class='xr-section-summary' >Data variables: <span>(2)</span></label><div class='xr-section-inline-details'></div><div class='xr-section-details'><ul class='xr-var-list'><li class='xr-var-item'><div class='xr-var-name'><span>MERRA2_CNN_Surface_PM25</span></div><div class='xr-var-dims'>(time, y, x)</div><div class='xr-var-dtype'>float32</div><div class='xr-var-preview xr-preview'>2.803 2.917 2.855 ... 10.31 10.38</div><input id='attrs-fbaef61f-12ea-4c9d-8544-d8144eeab6b7' class='xr-var-attrs-in' type='checkbox' ><label for='attrs-fbaef61f-12ea-4c9d-8544-d8144eeab6b7' title='Show/Hide attributes'><svg class='icon xr-icon-file-text2'><use xlink:href='#icon-file-text2'></use></svg></label><input id='data-7b114a01-9268-452c-9808-3fa127601f65' class='xr-var-data-in' type='checkbox'><label for='data-7b114a01-9268-452c-9808-3fa127601f65' title='Show/Hide data repr'><svg class='icon xr-icon-database'><use xlink:href='#icon-database'></use></svg></label><div class='xr-var-attrs'><dl class='xr-attrs'><dt><span>units :</span></dt><dd>ug m-3</dd><dt><span>long_name :</span></dt><dd>Bias corrected surface total PM2.5 mass concentration</dd></dl></div><div class='xr-var-data'><pre>array([[[2.80319929e+00, 2.91730952e+00, 2.85547781e+00, ...,\n",
       "         1.24593735e-05, 9.45536813e-05, 2.72322621e-04],\n",
       "        [2.87739038e+00, 2.98492169e+00, 2.88842416e+00, ...,\n",
       "         1.42758108e-05, 5.31091937e-05, 2.49106961e-04],\n",
       "        [2.96227264e+00, 3.01779151e+00, 2.92145991e+00, ...,\n",
       "         1.13591559e-05, 5.70225609e-07, 2.14771106e-04],\n",
       "        ...,\n",
       "        [8.20281133e-02, 1.00274779e-01, 1.19042166e-01, ...,\n",
       "         1.13938737e+00, 1.02916467e+00, 9.23335314e-01],\n",
       "        [1.06056236e-01, 1.23177528e-01, 1.40818924e-01, ...,\n",
       "         1.15250039e+00, 1.05170274e+00, 9.55293298e-01],\n",
       "        [1.29588157e-01, 1.45585299e-01, 1.62101895e-01, ...,\n",
       "         1.16146147e+00, 1.07007885e+00, 9.83079076e-01]],\n",
       "\n",
       "       [[1.88523643e-02, 1.76367667e-02, 1.69822145e-02, ...,\n",
       "         1.05465078e+00, 1.03993058e+00, 1.06375015e+00],\n",
       "        [1.87412091e-02, 1.76020432e-02, 1.70893967e-02, ...,\n",
       "         1.07569540e+00, 1.03132951e+00, 1.05612016e+00],\n",
       "        [1.86296050e-02, 1.76992510e-02, 1.72118116e-02, ...,\n",
       "         1.10119867e+00, 1.02213800e+00, 1.04789841e+00],\n",
       "...\n",
       "        [3.79566103e-01, 3.65422308e-01, 3.50830168e-01, ...,\n",
       "         5.56936026e+00, 5.67352676e+00, 5.77631760e+00],\n",
       "        [3.71755898e-01, 3.58579844e-01, 3.44955981e-01, ...,\n",
       "         5.51105738e+00, 5.61222744e+00, 5.71202326e+00],\n",
       "        [3.64373237e-01, 3.52163911e-01, 3.39507282e-01, ...,\n",
       "         5.45407152e+00, 5.55224848e+00, 5.64905310e+00]],\n",
       "\n",
       "       [[7.90751982e+00, 7.91771650e+00, 7.92481327e+00, ...,\n",
       "         8.53381634e-01, 8.68257940e-01, 8.91305208e-01],\n",
       "        [7.87675524e+00, 7.88557339e+00, 7.89231062e+00, ...,\n",
       "         8.62468064e-01, 8.74697447e-01, 9.00063932e-01],\n",
       "        [7.84532595e+00, 7.85294247e+00, 7.86002302e+00, ...,\n",
       "         8.70708168e-01, 8.79723012e-01, 9.07405496e-01],\n",
       "        ...,\n",
       "        [3.86608690e-01, 3.52564454e-01, 3.20915490e-01, ...,\n",
       "         1.04376144e+01, 1.05251646e+01, 1.06089659e+01],\n",
       "        [4.20164615e-01, 3.81019294e-01, 3.44266385e-01, ...,\n",
       "         1.03375454e+01, 1.04170561e+01, 1.04928226e+01],\n",
       "        [4.51468110e-01, 4.07227188e-01, 3.65375817e-01, ...,\n",
       "         1.02410116e+01, 1.03124924e+01, 1.03802328e+01]]], dtype=float32)</pre></div></li><li class='xr-var-item'><div class='xr-var-name'><span>QFLAG</span></div><div class='xr-var-dims'>(time, y, x)</div><div class='xr-var-dtype'>float64</div><div class='xr-var-preview xr-preview'>2.0 2.0 2.0 2.0 ... 4.0 4.0 4.0 4.0</div><input id='attrs-c669ea5a-035e-47ab-95d5-fe2ac70c3eee' class='xr-var-attrs-in' type='checkbox' ><label for='attrs-c669ea5a-035e-47ab-95d5-fe2ac70c3eee' title='Show/Hide attributes'><svg class='icon xr-icon-file-text2'><use xlink:href='#icon-file-text2'></use></svg></label><input id='data-54528e5e-74b5-4233-93ba-35f9547f08df' class='xr-var-data-in' type='checkbox'><label for='data-54528e5e-74b5-4233-93ba-35f9547f08df' title='Show/Hide data repr'><svg class='icon xr-icon-database'><use xlink:href='#icon-database'></use></svg></label><div class='xr-var-attrs'><dl class='xr-attrs'><dt><span>FLAG 1 :</span></dt><dd>Low quality</dd><dt><span>FLAG 2 :</span></dt><dd>Medium quality over ocean</dd><dt><span>FLAG 3 :</span></dt><dd>High quality</dd><dt><span>FLAG 4 :</span></dt><dd>Highest quality</dd><dt><span>Recommendation :</span></dt><dd>qflag recommnendation -3 &amp; 4 for quantitative analysis</dd><dt><span>long_name :</span></dt><dd>Quality Flag for data quality at grid</dd><dt><span>units :</span></dt><dd>unitless</dd></dl></div><div class='xr-var-data'><pre>array([[[2., 2., 2., ..., 3., 3., 3.],\n",
       "        [2., 2., 2., ..., 3., 3., 3.],\n",
       "        [2., 2., 2., ..., 3., 3., 3.],\n",
       "        ...,\n",
       "        [2., 2., 2., ..., 4., 4., 4.],\n",
       "        [2., 2., 2., ..., 4., 4., 4.],\n",
       "        [2., 2., 2., ..., 4., 4., 4.]],\n",
       "\n",
       "       [[2., 2., 2., ..., 3., 3., 3.],\n",
       "        [2., 2., 2., ..., 3., 3., 3.],\n",
       "        [2., 2., 2., ..., 3., 3., 3.],\n",
       "        ...,\n",
       "        [2., 2., 2., ..., 4., 4., 4.],\n",
       "        [2., 2., 2., ..., 4., 4., 4.],\n",
       "        [2., 2., 2., ..., 4., 4., 4.]],\n",
       "\n",
       "       [[2., 2., 2., ..., 3., 3., 3.],\n",
       "        [2., 2., 2., ..., 3., 3., 3.],\n",
       "        [2., 2., 2., ..., 3., 3., 3.],\n",
       "        ...,\n",
       "...\n",
       "        ...,\n",
       "        [2., 2., 2., ..., 4., 4., 4.],\n",
       "        [2., 2., 2., ..., 4., 4., 4.],\n",
       "        [2., 2., 2., ..., 4., 4., 4.]],\n",
       "\n",
       "       [[2., 2., 2., ..., 3., 3., 3.],\n",
       "        [2., 2., 2., ..., 3., 3., 3.],\n",
       "        [2., 2., 2., ..., 3., 3., 3.],\n",
       "        ...,\n",
       "        [2., 2., 2., ..., 4., 4., 4.],\n",
       "        [2., 2., 2., ..., 4., 4., 4.],\n",
       "        [2., 2., 2., ..., 4., 4., 4.]],\n",
       "\n",
       "       [[2., 2., 2., ..., 3., 3., 3.],\n",
       "        [2., 2., 2., ..., 3., 3., 3.],\n",
       "        [2., 2., 2., ..., 3., 3., 3.],\n",
       "        ...,\n",
       "        [2., 2., 2., ..., 4., 4., 4.],\n",
       "        [2., 2., 2., ..., 4., 4., 4.],\n",
       "        [2., 2., 2., ..., 4., 4., 4.]]])</pre></div></li></ul></div></li><li class='xr-section-item'><input id='section-88ded65c-574c-4dde-9eb7-d669b1c6d0a5' class='xr-section-summary-in' type='checkbox'  ><label for='section-88ded65c-574c-4dde-9eb7-d669b1c6d0a5' class='xr-section-summary' >Indexes: <span>(3)</span></label><div class='xr-section-inline-details'></div><div class='xr-section-details'><ul class='xr-var-list'><li class='xr-var-item'><div class='xr-index-name'><div>x</div></div><div class='xr-index-preview'>PandasIndex</div><div></div><input id='index-100b04cf-059a-4b0b-8953-bbe10daeee76' class='xr-index-data-in' type='checkbox'/><label for='index-100b04cf-059a-4b0b-8953-bbe10daeee76' title='Show/Hide index repr'><svg class='icon xr-icon-database'><use xlink:href='#icon-database'></use></svg></label><div class='xr-index-data'><pre>PandasIndex(Index([-1496524.326432758, -1491524.326432758, -1486524.326432758,\n",
       "       -1481524.326432758, -1476524.326432758, -1471524.326432758,\n",
       "       -1466524.326432758, -1461524.326432758, -1456524.326432758,\n",
       "       -1451524.326432758,\n",
       "       ...\n",
       "        1453475.673567242,  1458475.673567242,  1463475.673567242,\n",
       "        1468475.673567242,  1473475.673567242,  1478475.673567242,\n",
       "        1483475.673567242,  1488475.673567242,  1493475.673567242,\n",
       "        1498475.673567242],\n",
       "      dtype=&#x27;float64&#x27;, name=&#x27;x&#x27;, length=600))</pre></div></li><li class='xr-var-item'><div class='xr-index-name'><div>y</div></div><div class='xr-index-preview'>PandasIndex</div><div></div><input id='index-4350005c-89ca-434a-b83e-ec164f0504a7' class='xr-index-data-in' type='checkbox'/><label for='index-4350005c-89ca-434a-b83e-ec164f0504a7' title='Show/Hide index repr'><svg class='icon xr-icon-database'><use xlink:href='#icon-database'></use></svg></label><div class='xr-index-data'><pre>PandasIndex(Index([ 995893.546326695,  990893.546326695,  985893.546326695,\n",
       "        980893.546326695,  975893.546326695,  970893.546326695,\n",
       "        965893.546326695,  960893.546326695,  955893.546326695,\n",
       "        950893.546326695,\n",
       "       ...\n",
       "       -704106.453673305, -709106.453673305, -714106.453673305,\n",
       "       -719106.453673305, -724106.453673305, -729106.453673305,\n",
       "       -734106.453673305, -739106.453673305, -744106.453673305,\n",
       "       -749106.453673305],\n",
       "      dtype=&#x27;float64&#x27;, name=&#x27;y&#x27;, length=350))</pre></div></li><li class='xr-var-item'><div class='xr-index-name'><div>time</div></div><div class='xr-index-preview'>PandasIndex</div><div></div><input id='index-b9581067-e6a9-4765-bb0e-1a82fa652030' class='xr-index-data-in' type='checkbox'/><label for='index-b9581067-e6a9-4765-bb0e-1a82fa652030' title='Show/Hide index repr'><svg class='icon xr-icon-database'><use xlink:href='#icon-database'></use></svg></label><div class='xr-index-data'><pre>PandasIndex(DatetimeIndex([&#x27;2022-05-22 12:30:00&#x27;, &#x27;2022-05-08 12:30:00&#x27;,\n",
       "               &#x27;2022-05-01 12:30:00&#x27;, &#x27;2022-05-15 12:30:00&#x27;,\n",
       "               &#x27;2022-05-29 12:30:00&#x27;, &#x27;2022-06-05 12:30:00&#x27;,\n",
       "               &#x27;2022-06-12 12:30:00&#x27;, &#x27;2022-06-19 12:30:00&#x27;,\n",
       "               &#x27;2022-06-26 12:30:00&#x27;, &#x27;2022-07-03 12:30:00&#x27;,\n",
       "               &#x27;2022-07-10 12:30:00&#x27;, &#x27;2022-07-17 12:30:00&#x27;,\n",
       "               &#x27;2022-07-24 12:30:00&#x27;, &#x27;2022-07-31 12:30:00&#x27;,\n",
       "               &#x27;2022-08-07 12:30:00&#x27;, &#x27;2022-08-14 12:30:00&#x27;,\n",
       "               &#x27;2022-08-21 12:30:00&#x27;, &#x27;2022-08-28 12:30:00&#x27;,\n",
       "               &#x27;2022-09-04 12:30:00&#x27;, &#x27;2022-09-11 12:30:00&#x27;,\n",
       "               &#x27;2022-09-18 12:30:00&#x27;, &#x27;2022-09-25 12:30:00&#x27;,\n",
       "               &#x27;2022-10-02 12:30:00&#x27;, &#x27;2022-10-09 12:30:00&#x27;,\n",
       "               &#x27;2022-10-16 12:30:00&#x27;, &#x27;2022-10-23 12:30:00&#x27;,\n",
       "               &#x27;2022-10-30 12:30:00&#x27;],\n",
       "              dtype=&#x27;datetime64[ns]&#x27;, name=&#x27;time&#x27;, freq=None))</pre></div></li></ul></div></li><li class='xr-section-item'><input id='section-3db1e95e-0c2f-4f3e-beed-81dd4b217442' class='xr-section-summary-in' type='checkbox'  ><label for='section-3db1e95e-0c2f-4f3e-beed-81dd4b217442' class='xr-section-summary' >Attributes: <span>(33)</span></label><div class='xr-section-inline-details'></div><div class='xr-section-details'><dl class='xr-attrs'><dt><span>Comment :</span></dt><dd>filename: MERRA2_HAQAST_CNN_L4_V1_20220522.nc4</dd><dt><span>Filename :</span></dt><dd>MERRA2_HAQAST_CNN_L4_V1_20220522.nc4</dd><dt><span>Conventions :</span></dt><dd>CF-1</dd><dt><span>Institution :</span></dt><dd>NASA Goddard Space Flight Center</dd><dt><span>References :</span></dt><dd>http://gmao.gsfc.nasa.gov ; https://doi.org/10.4209/aaqr.210105 ; https://doi.org/10.1029/2022EA002375</dd><dt><span>Format :</span></dt><dd>NetCDF-4/HDF-5</dd><dt><span>SpatialCoverage :</span></dt><dd>global</dd><dt><span>VersionID :</span></dt><dd>V1</dd><dt><span>TemporalRange :</span></dt><dd>2000-01-01 -&gt; 2024-12-31</dd><dt><span>identifier_product_doi_authority :</span></dt><dd>http://dx.doi.org/</dd><dt><span>ShortName :</span></dt><dd>MERRA2_CNN_HAQAST_PM25</dd><dt><span>GranuleID :</span></dt><dd>MERRA2_HAQAST_CNN_L4_V1_20220522.nc4</dd><dt><span>ProductionDateTime :</span></dt><dd>2024-06-18T06:44:33.646033Z</dd><dt><span>LongName :</span></dt><dd>MERRA2_CNN_HAQAST bias corrected global hourly surface total PM2.5 mass concentration V1.0</dd><dt><span>title :</span></dt><dd>MERRA2_CNN_HAQAST bias corrected global hourly surface total PM2.5 mass concentration V1.0</dd><dt><span>SouthernmostLatitude :</span></dt><dd>-90.0</dd><dt><span>NorthernmostLatitude :</span></dt><dd>90.0</dd><dt><span>WesternmostLongitude :</span></dt><dd>-180.0</dd><dt><span>EasternmostLongitude :</span></dt><dd>179.375</dd><dt><span>LatitudeResolution :</span></dt><dd>0.5</dd><dt><span>LongitudeResolution :</span></dt><dd>0.625</dd><dt><span>DataResolution :</span></dt><dd>0.5 x 0.625</dd><dt><span>Source :</span></dt><dd>M2T1NXAER_5.12.4: BCSMASS,DUSMASS25,OCSMASS,SO2SMASS,SO4SMASS,SSSMASS25,TOTEXTTAU</dd><dt><span>Contact :</span></dt><dd>Pawan Gupta (pawan.gupta@nasa.gov), and Alqamah Sayeed (alqamah.sayeed@nasa.gov)</dd><dt><span>identifier_product_doi :</span></dt><dd>10.5067/OCKK5HCFW5N3</dd><dt><span>RangeBeginningDate :</span></dt><dd>2022-05-22</dd><dt><span>RangeBeginningTime :</span></dt><dd>00:00:00.000000</dd><dt><span>RangeEndingDate :</span></dt><dd>2022-05-22</dd><dt><span>RangeEndingTime :</span></dt><dd>23:59:59.000000</dd><dt><span>DODS_EXTRA.Unlimited_Dimension :</span></dt><dd>time</dd><dt><span>history :</span></dt><dd>2023-04-21 04:24:38 GMT Hyrax-1.16.3 https://goldsmr4.gesdisc.eosdis.nasa.gov/opendap/MERRA2/M2T1NXAER.5.12.4/2022/12/MERRA2_400.tavg1_2d_aer_Nx.20221231.nc4.nc4?BCSMASS,DUSMASS25,OCSMASS,SO2SMASS,SO4SMASS,SSSMASS25,TOTEXTTAU</dd><dt><span>ProcessingLevel :</span></dt><dd>4</dd><dt><span>MapProjection :</span></dt><dd>Geographic lat/lon. Datum: WGS-84</dd></dl></div></li></ul></div></div>"
      ]
     },
     "execution_count": 13,
     "metadata": {},
     "output_type": "execute_result"
    }
   ],
   "execution_count": 13
  },
  {
   "cell_type": "code",
   "metadata": {
    "ExecuteTime": {
     "end_time": "2024-12-02T17:31:59.947465Z",
     "start_time": "2024-12-02T17:31:59.942608Z"
    }
   },
   "source": [
    "combined_ds.MERRA2_CNN_Surface_PM25[0]"
   ],
   "outputs": [
    {
     "data": {
      "text/plain": [
       "<xarray.DataArray 'MERRA2_CNN_Surface_PM25' (y: 350, x: 600)> Size: 840kB\n",
       "array([[2.80319929e+00, 2.91730952e+00, 2.85547781e+00, ...,\n",
       "        1.24593735e-05, 9.45536813e-05, 2.72322621e-04],\n",
       "       [2.87739038e+00, 2.98492169e+00, 2.88842416e+00, ...,\n",
       "        1.42758108e-05, 5.31091937e-05, 2.49106961e-04],\n",
       "       [2.96227264e+00, 3.01779151e+00, 2.92145991e+00, ...,\n",
       "        1.13591559e-05, 5.70225609e-07, 2.14771106e-04],\n",
       "       ...,\n",
       "       [8.20281133e-02, 1.00274779e-01, 1.19042166e-01, ...,\n",
       "        1.13938737e+00, 1.02916467e+00, 9.23335314e-01],\n",
       "       [1.06056236e-01, 1.23177528e-01, 1.40818924e-01, ...,\n",
       "        1.15250039e+00, 1.05170274e+00, 9.55293298e-01],\n",
       "       [1.29588157e-01, 1.45585299e-01, 1.62101895e-01, ...,\n",
       "        1.16146147e+00, 1.07007885e+00, 9.83079076e-01]], dtype=float32)\n",
       "Coordinates:\n",
       "  * x            (x) float64 5kB -1.497e+06 -1.492e+06 ... 1.493e+06 1.498e+06\n",
       "  * y            (y) float64 3kB 9.959e+05 9.909e+05 ... -7.441e+05 -7.491e+05\n",
       "    time         datetime64[ns] 8B 2022-05-22T12:30:00\n",
       "    spatial_ref  int64 8B 0\n",
       "Attributes:\n",
       "    units:      ug m-3\n",
       "    long_name:  Bias corrected surface total PM2.5 mass concentration"
      ],
      "text/html": [
       "<div><svg style=\"position: absolute; width: 0; height: 0; overflow: hidden\">\n",
       "<defs>\n",
       "<symbol id=\"icon-database\" viewBox=\"0 0 32 32\">\n",
       "<path d=\"M16 0c-8.837 0-16 2.239-16 5v4c0 2.761 7.163 5 16 5s16-2.239 16-5v-4c0-2.761-7.163-5-16-5z\"></path>\n",
       "<path d=\"M16 17c-8.837 0-16-2.239-16-5v6c0 2.761 7.163 5 16 5s16-2.239 16-5v-6c0 2.761-7.163 5-16 5z\"></path>\n",
       "<path d=\"M16 26c-8.837 0-16-2.239-16-5v6c0 2.761 7.163 5 16 5s16-2.239 16-5v-6c0 2.761-7.163 5-16 5z\"></path>\n",
       "</symbol>\n",
       "<symbol id=\"icon-file-text2\" viewBox=\"0 0 32 32\">\n",
       "<path d=\"M28.681 7.159c-0.694-0.947-1.662-2.053-2.724-3.116s-2.169-2.030-3.116-2.724c-1.612-1.182-2.393-1.319-2.841-1.319h-15.5c-1.378 0-2.5 1.121-2.5 2.5v27c0 1.378 1.122 2.5 2.5 2.5h23c1.378 0 2.5-1.122 2.5-2.5v-19.5c0-0.448-0.137-1.23-1.319-2.841zM24.543 5.457c0.959 0.959 1.712 1.825 2.268 2.543h-4.811v-4.811c0.718 0.556 1.584 1.309 2.543 2.268zM28 29.5c0 0.271-0.229 0.5-0.5 0.5h-23c-0.271 0-0.5-0.229-0.5-0.5v-27c0-0.271 0.229-0.5 0.5-0.5 0 0 15.499-0 15.5 0v7c0 0.552 0.448 1 1 1h7v19.5z\"></path>\n",
       "<path d=\"M23 26h-14c-0.552 0-1-0.448-1-1s0.448-1 1-1h14c0.552 0 1 0.448 1 1s-0.448 1-1 1z\"></path>\n",
       "<path d=\"M23 22h-14c-0.552 0-1-0.448-1-1s0.448-1 1-1h14c0.552 0 1 0.448 1 1s-0.448 1-1 1z\"></path>\n",
       "<path d=\"M23 18h-14c-0.552 0-1-0.448-1-1s0.448-1 1-1h14c0.552 0 1 0.448 1 1s-0.448 1-1 1z\"></path>\n",
       "</symbol>\n",
       "</defs>\n",
       "</svg>\n",
       "<style>/* CSS stylesheet for displaying xarray objects in jupyterlab.\n",
       " *\n",
       " */\n",
       "\n",
       ":root {\n",
       "  --xr-font-color0: var(--jp-content-font-color0, rgba(0, 0, 0, 1));\n",
       "  --xr-font-color2: var(--jp-content-font-color2, rgba(0, 0, 0, 0.54));\n",
       "  --xr-font-color3: var(--jp-content-font-color3, rgba(0, 0, 0, 0.38));\n",
       "  --xr-border-color: var(--jp-border-color2, #e0e0e0);\n",
       "  --xr-disabled-color: var(--jp-layout-color3, #bdbdbd);\n",
       "  --xr-background-color: var(--jp-layout-color0, white);\n",
       "  --xr-background-color-row-even: var(--jp-layout-color1, white);\n",
       "  --xr-background-color-row-odd: var(--jp-layout-color2, #eeeeee);\n",
       "}\n",
       "\n",
       "html[theme=dark],\n",
       "html[data-theme=dark],\n",
       "body[data-theme=dark],\n",
       "body.vscode-dark {\n",
       "  --xr-font-color0: rgba(255, 255, 255, 1);\n",
       "  --xr-font-color2: rgba(255, 255, 255, 0.54);\n",
       "  --xr-font-color3: rgba(255, 255, 255, 0.38);\n",
       "  --xr-border-color: #1F1F1F;\n",
       "  --xr-disabled-color: #515151;\n",
       "  --xr-background-color: #111111;\n",
       "  --xr-background-color-row-even: #111111;\n",
       "  --xr-background-color-row-odd: #313131;\n",
       "}\n",
       "\n",
       ".xr-wrap {\n",
       "  display: block !important;\n",
       "  min-width: 300px;\n",
       "  max-width: 700px;\n",
       "}\n",
       "\n",
       ".xr-text-repr-fallback {\n",
       "  /* fallback to plain text repr when CSS is not injected (untrusted notebook) */\n",
       "  display: none;\n",
       "}\n",
       "\n",
       ".xr-header {\n",
       "  padding-top: 6px;\n",
       "  padding-bottom: 6px;\n",
       "  margin-bottom: 4px;\n",
       "  border-bottom: solid 1px var(--xr-border-color);\n",
       "}\n",
       "\n",
       ".xr-header > div,\n",
       ".xr-header > ul {\n",
       "  display: inline;\n",
       "  margin-top: 0;\n",
       "  margin-bottom: 0;\n",
       "}\n",
       "\n",
       ".xr-obj-type,\n",
       ".xr-array-name {\n",
       "  margin-left: 2px;\n",
       "  margin-right: 10px;\n",
       "}\n",
       "\n",
       ".xr-obj-type {\n",
       "  color: var(--xr-font-color2);\n",
       "}\n",
       "\n",
       ".xr-sections {\n",
       "  padding-left: 0 !important;\n",
       "  display: grid;\n",
       "  grid-template-columns: 150px auto auto 1fr 0 20px 0 20px;\n",
       "}\n",
       "\n",
       ".xr-section-item {\n",
       "  display: contents;\n",
       "}\n",
       "\n",
       ".xr-section-item input {\n",
       "  display: inline-block;\n",
       "  opacity: 0;\n",
       "}\n",
       "\n",
       ".xr-section-item input + label {\n",
       "  color: var(--xr-disabled-color);\n",
       "}\n",
       "\n",
       ".xr-section-item input:enabled + label {\n",
       "  cursor: pointer;\n",
       "  color: var(--xr-font-color2);\n",
       "}\n",
       "\n",
       ".xr-section-item input:focus + label {\n",
       "  border: 2px solid var(--xr-font-color0);\n",
       "}\n",
       "\n",
       ".xr-section-item input:enabled + label:hover {\n",
       "  color: var(--xr-font-color0);\n",
       "}\n",
       "\n",
       ".xr-section-summary {\n",
       "  grid-column: 1;\n",
       "  color: var(--xr-font-color2);\n",
       "  font-weight: 500;\n",
       "}\n",
       "\n",
       ".xr-section-summary > span {\n",
       "  display: inline-block;\n",
       "  padding-left: 0.5em;\n",
       "}\n",
       "\n",
       ".xr-section-summary-in:disabled + label {\n",
       "  color: var(--xr-font-color2);\n",
       "}\n",
       "\n",
       ".xr-section-summary-in + label:before {\n",
       "  display: inline-block;\n",
       "  content: '►';\n",
       "  font-size: 11px;\n",
       "  width: 15px;\n",
       "  text-align: center;\n",
       "}\n",
       "\n",
       ".xr-section-summary-in:disabled + label:before {\n",
       "  color: var(--xr-disabled-color);\n",
       "}\n",
       "\n",
       ".xr-section-summary-in:checked + label:before {\n",
       "  content: '▼';\n",
       "}\n",
       "\n",
       ".xr-section-summary-in:checked + label > span {\n",
       "  display: none;\n",
       "}\n",
       "\n",
       ".xr-section-summary,\n",
       ".xr-section-inline-details {\n",
       "  padding-top: 4px;\n",
       "  padding-bottom: 4px;\n",
       "}\n",
       "\n",
       ".xr-section-inline-details {\n",
       "  grid-column: 2 / -1;\n",
       "}\n",
       "\n",
       ".xr-section-details {\n",
       "  display: none;\n",
       "  grid-column: 1 / -1;\n",
       "  margin-bottom: 5px;\n",
       "}\n",
       "\n",
       ".xr-section-summary-in:checked ~ .xr-section-details {\n",
       "  display: contents;\n",
       "}\n",
       "\n",
       ".xr-array-wrap {\n",
       "  grid-column: 1 / -1;\n",
       "  display: grid;\n",
       "  grid-template-columns: 20px auto;\n",
       "}\n",
       "\n",
       ".xr-array-wrap > label {\n",
       "  grid-column: 1;\n",
       "  vertical-align: top;\n",
       "}\n",
       "\n",
       ".xr-preview {\n",
       "  color: var(--xr-font-color3);\n",
       "}\n",
       "\n",
       ".xr-array-preview,\n",
       ".xr-array-data {\n",
       "  padding: 0 5px !important;\n",
       "  grid-column: 2;\n",
       "}\n",
       "\n",
       ".xr-array-data,\n",
       ".xr-array-in:checked ~ .xr-array-preview {\n",
       "  display: none;\n",
       "}\n",
       "\n",
       ".xr-array-in:checked ~ .xr-array-data,\n",
       ".xr-array-preview {\n",
       "  display: inline-block;\n",
       "}\n",
       "\n",
       ".xr-dim-list {\n",
       "  display: inline-block !important;\n",
       "  list-style: none;\n",
       "  padding: 0 !important;\n",
       "  margin: 0;\n",
       "}\n",
       "\n",
       ".xr-dim-list li {\n",
       "  display: inline-block;\n",
       "  padding: 0;\n",
       "  margin: 0;\n",
       "}\n",
       "\n",
       ".xr-dim-list:before {\n",
       "  content: '(';\n",
       "}\n",
       "\n",
       ".xr-dim-list:after {\n",
       "  content: ')';\n",
       "}\n",
       "\n",
       ".xr-dim-list li:not(:last-child):after {\n",
       "  content: ',';\n",
       "  padding-right: 5px;\n",
       "}\n",
       "\n",
       ".xr-has-index {\n",
       "  font-weight: bold;\n",
       "}\n",
       "\n",
       ".xr-var-list,\n",
       ".xr-var-item {\n",
       "  display: contents;\n",
       "}\n",
       "\n",
       ".xr-var-item > div,\n",
       ".xr-var-item label,\n",
       ".xr-var-item > .xr-var-name span {\n",
       "  background-color: var(--xr-background-color-row-even);\n",
       "  margin-bottom: 0;\n",
       "}\n",
       "\n",
       ".xr-var-item > .xr-var-name:hover span {\n",
       "  padding-right: 5px;\n",
       "}\n",
       "\n",
       ".xr-var-list > li:nth-child(odd) > div,\n",
       ".xr-var-list > li:nth-child(odd) > label,\n",
       ".xr-var-list > li:nth-child(odd) > .xr-var-name span {\n",
       "  background-color: var(--xr-background-color-row-odd);\n",
       "}\n",
       "\n",
       ".xr-var-name {\n",
       "  grid-column: 1;\n",
       "}\n",
       "\n",
       ".xr-var-dims {\n",
       "  grid-column: 2;\n",
       "}\n",
       "\n",
       ".xr-var-dtype {\n",
       "  grid-column: 3;\n",
       "  text-align: right;\n",
       "  color: var(--xr-font-color2);\n",
       "}\n",
       "\n",
       ".xr-var-preview {\n",
       "  grid-column: 4;\n",
       "}\n",
       "\n",
       ".xr-index-preview {\n",
       "  grid-column: 2 / 5;\n",
       "  color: var(--xr-font-color2);\n",
       "}\n",
       "\n",
       ".xr-var-name,\n",
       ".xr-var-dims,\n",
       ".xr-var-dtype,\n",
       ".xr-preview,\n",
       ".xr-attrs dt {\n",
       "  white-space: nowrap;\n",
       "  overflow: hidden;\n",
       "  text-overflow: ellipsis;\n",
       "  padding-right: 10px;\n",
       "}\n",
       "\n",
       ".xr-var-name:hover,\n",
       ".xr-var-dims:hover,\n",
       ".xr-var-dtype:hover,\n",
       ".xr-attrs dt:hover {\n",
       "  overflow: visible;\n",
       "  width: auto;\n",
       "  z-index: 1;\n",
       "}\n",
       "\n",
       ".xr-var-attrs,\n",
       ".xr-var-data,\n",
       ".xr-index-data {\n",
       "  display: none;\n",
       "  background-color: var(--xr-background-color) !important;\n",
       "  padding-bottom: 5px !important;\n",
       "}\n",
       "\n",
       ".xr-var-attrs-in:checked ~ .xr-var-attrs,\n",
       ".xr-var-data-in:checked ~ .xr-var-data,\n",
       ".xr-index-data-in:checked ~ .xr-index-data {\n",
       "  display: block;\n",
       "}\n",
       "\n",
       ".xr-var-data > table {\n",
       "  float: right;\n",
       "}\n",
       "\n",
       ".xr-var-name span,\n",
       ".xr-var-data,\n",
       ".xr-index-name div,\n",
       ".xr-index-data,\n",
       ".xr-attrs {\n",
       "  padding-left: 25px !important;\n",
       "}\n",
       "\n",
       ".xr-attrs,\n",
       ".xr-var-attrs,\n",
       ".xr-var-data,\n",
       ".xr-index-data {\n",
       "  grid-column: 1 / -1;\n",
       "}\n",
       "\n",
       "dl.xr-attrs {\n",
       "  padding: 0;\n",
       "  margin: 0;\n",
       "  display: grid;\n",
       "  grid-template-columns: 125px auto;\n",
       "}\n",
       "\n",
       ".xr-attrs dt,\n",
       ".xr-attrs dd {\n",
       "  padding: 0;\n",
       "  margin: 0;\n",
       "  float: left;\n",
       "  padding-right: 10px;\n",
       "  width: auto;\n",
       "}\n",
       "\n",
       ".xr-attrs dt {\n",
       "  font-weight: normal;\n",
       "  grid-column: 1;\n",
       "}\n",
       "\n",
       ".xr-attrs dt:hover span {\n",
       "  display: inline-block;\n",
       "  background: var(--xr-background-color);\n",
       "  padding-right: 10px;\n",
       "}\n",
       "\n",
       ".xr-attrs dd {\n",
       "  grid-column: 2;\n",
       "  white-space: pre-wrap;\n",
       "  word-break: break-all;\n",
       "}\n",
       "\n",
       ".xr-icon-database,\n",
       ".xr-icon-file-text2,\n",
       ".xr-no-icon {\n",
       "  display: inline-block;\n",
       "  vertical-align: middle;\n",
       "  width: 1em;\n",
       "  height: 1.5em !important;\n",
       "  stroke-width: 0;\n",
       "  stroke: currentColor;\n",
       "  fill: currentColor;\n",
       "}\n",
       "</style><pre class='xr-text-repr-fallback'>&lt;xarray.DataArray &#x27;MERRA2_CNN_Surface_PM25&#x27; (y: 350, x: 600)&gt; Size: 840kB\n",
       "array([[2.80319929e+00, 2.91730952e+00, 2.85547781e+00, ...,\n",
       "        1.24593735e-05, 9.45536813e-05, 2.72322621e-04],\n",
       "       [2.87739038e+00, 2.98492169e+00, 2.88842416e+00, ...,\n",
       "        1.42758108e-05, 5.31091937e-05, 2.49106961e-04],\n",
       "       [2.96227264e+00, 3.01779151e+00, 2.92145991e+00, ...,\n",
       "        1.13591559e-05, 5.70225609e-07, 2.14771106e-04],\n",
       "       ...,\n",
       "       [8.20281133e-02, 1.00274779e-01, 1.19042166e-01, ...,\n",
       "        1.13938737e+00, 1.02916467e+00, 9.23335314e-01],\n",
       "       [1.06056236e-01, 1.23177528e-01, 1.40818924e-01, ...,\n",
       "        1.15250039e+00, 1.05170274e+00, 9.55293298e-01],\n",
       "       [1.29588157e-01, 1.45585299e-01, 1.62101895e-01, ...,\n",
       "        1.16146147e+00, 1.07007885e+00, 9.83079076e-01]], dtype=float32)\n",
       "Coordinates:\n",
       "  * x            (x) float64 5kB -1.497e+06 -1.492e+06 ... 1.493e+06 1.498e+06\n",
       "  * y            (y) float64 3kB 9.959e+05 9.909e+05 ... -7.441e+05 -7.491e+05\n",
       "    time         datetime64[ns] 8B 2022-05-22T12:30:00\n",
       "    spatial_ref  int64 8B 0\n",
       "Attributes:\n",
       "    units:      ug m-3\n",
       "    long_name:  Bias corrected surface total PM2.5 mass concentration</pre><div class='xr-wrap' style='display:none'><div class='xr-header'><div class='xr-obj-type'>xarray.DataArray</div><div class='xr-array-name'>'MERRA2_CNN_Surface_PM25'</div><ul class='xr-dim-list'><li><span class='xr-has-index'>y</span>: 350</li><li><span class='xr-has-index'>x</span>: 600</li></ul></div><ul class='xr-sections'><li class='xr-section-item'><div class='xr-array-wrap'><input id='section-268dbbb7-79d1-4cae-9f71-227031dad855' class='xr-array-in' type='checkbox' checked><label for='section-268dbbb7-79d1-4cae-9f71-227031dad855' title='Show/hide data repr'><svg class='icon xr-icon-database'><use xlink:href='#icon-database'></use></svg></label><div class='xr-array-preview xr-preview'><span>2.803 2.917 2.855 2.759 2.662 2.565 ... 1.357 1.257 1.161 1.07 0.9831</span></div><div class='xr-array-data'><pre>array([[2.80319929e+00, 2.91730952e+00, 2.85547781e+00, ...,\n",
       "        1.24593735e-05, 9.45536813e-05, 2.72322621e-04],\n",
       "       [2.87739038e+00, 2.98492169e+00, 2.88842416e+00, ...,\n",
       "        1.42758108e-05, 5.31091937e-05, 2.49106961e-04],\n",
       "       [2.96227264e+00, 3.01779151e+00, 2.92145991e+00, ...,\n",
       "        1.13591559e-05, 5.70225609e-07, 2.14771106e-04],\n",
       "       ...,\n",
       "       [8.20281133e-02, 1.00274779e-01, 1.19042166e-01, ...,\n",
       "        1.13938737e+00, 1.02916467e+00, 9.23335314e-01],\n",
       "       [1.06056236e-01, 1.23177528e-01, 1.40818924e-01, ...,\n",
       "        1.15250039e+00, 1.05170274e+00, 9.55293298e-01],\n",
       "       [1.29588157e-01, 1.45585299e-01, 1.62101895e-01, ...,\n",
       "        1.16146147e+00, 1.07007885e+00, 9.83079076e-01]], dtype=float32)</pre></div></div></li><li class='xr-section-item'><input id='section-642aca66-fe02-4a0e-be3e-b55b696cd36f' class='xr-section-summary-in' type='checkbox'  checked><label for='section-642aca66-fe02-4a0e-be3e-b55b696cd36f' class='xr-section-summary' >Coordinates: <span>(4)</span></label><div class='xr-section-inline-details'></div><div class='xr-section-details'><ul class='xr-var-list'><li class='xr-var-item'><div class='xr-var-name'><span class='xr-has-index'>x</span></div><div class='xr-var-dims'>(x)</div><div class='xr-var-dtype'>float64</div><div class='xr-var-preview xr-preview'>-1.497e+06 -1.492e+06 ... 1.498e+06</div><input id='attrs-00867fac-04c8-4840-8b68-22de5b1cb022' class='xr-var-attrs-in' type='checkbox' ><label for='attrs-00867fac-04c8-4840-8b68-22de5b1cb022' title='Show/Hide attributes'><svg class='icon xr-icon-file-text2'><use xlink:href='#icon-file-text2'></use></svg></label><input id='data-6511abbb-dfc8-4be0-9ea6-9debffae7064' class='xr-var-data-in' type='checkbox'><label for='data-6511abbb-dfc8-4be0-9ea6-9debffae7064' title='Show/Hide data repr'><svg class='icon xr-icon-database'><use xlink:href='#icon-database'></use></svg></label><div class='xr-var-attrs'><dl class='xr-attrs'><dt><span>axis :</span></dt><dd>X</dd><dt><span>long_name :</span></dt><dd>x coordinate of projection</dd><dt><span>standard_name :</span></dt><dd>projection_x_coordinate</dd><dt><span>units :</span></dt><dd>metre</dd></dl></div><div class='xr-var-data'><pre>array([-1496524.326433, -1491524.326433, -1486524.326433, ...,  1488475.673567,\n",
       "        1493475.673567,  1498475.673567])</pre></div></li><li class='xr-var-item'><div class='xr-var-name'><span class='xr-has-index'>y</span></div><div class='xr-var-dims'>(y)</div><div class='xr-var-dtype'>float64</div><div class='xr-var-preview xr-preview'>9.959e+05 9.909e+05 ... -7.491e+05</div><input id='attrs-f021db31-0d03-4864-8799-c600a6ff5870' class='xr-var-attrs-in' type='checkbox' ><label for='attrs-f021db31-0d03-4864-8799-c600a6ff5870' title='Show/Hide attributes'><svg class='icon xr-icon-file-text2'><use xlink:href='#icon-file-text2'></use></svg></label><input id='data-8ff47efb-6cb4-4c3f-ba26-ab13562c4f98' class='xr-var-data-in' type='checkbox'><label for='data-8ff47efb-6cb4-4c3f-ba26-ab13562c4f98' title='Show/Hide data repr'><svg class='icon xr-icon-database'><use xlink:href='#icon-database'></use></svg></label><div class='xr-var-attrs'><dl class='xr-attrs'><dt><span>axis :</span></dt><dd>Y</dd><dt><span>long_name :</span></dt><dd>y coordinate of projection</dd><dt><span>standard_name :</span></dt><dd>projection_y_coordinate</dd><dt><span>units :</span></dt><dd>metre</dd></dl></div><div class='xr-var-data'><pre>array([ 995893.546327,  990893.546327,  985893.546327, ..., -739106.453673,\n",
       "       -744106.453673, -749106.453673])</pre></div></li><li class='xr-var-item'><div class='xr-var-name'><span>time</span></div><div class='xr-var-dims'>()</div><div class='xr-var-dtype'>datetime64[ns]</div><div class='xr-var-preview xr-preview'>2022-05-22T12:30:00</div><input id='attrs-cb7bd2aa-dc43-4809-bc44-66caf6a987b5' class='xr-var-attrs-in' type='checkbox' ><label for='attrs-cb7bd2aa-dc43-4809-bc44-66caf6a987b5' title='Show/Hide attributes'><svg class='icon xr-icon-file-text2'><use xlink:href='#icon-file-text2'></use></svg></label><input id='data-c436e3cf-42db-4d8f-b596-4021beb80a74' class='xr-var-data-in' type='checkbox'><label for='data-c436e3cf-42db-4d8f-b596-4021beb80a74' title='Show/Hide data repr'><svg class='icon xr-icon-database'><use xlink:href='#icon-database'></use></svg></label><div class='xr-var-attrs'><dl class='xr-attrs'><dt><span>long_name :</span></dt><dd>time</dd></dl></div><div class='xr-var-data'><pre>array(&#x27;2022-05-22T12:30:00.000000000&#x27;, dtype=&#x27;datetime64[ns]&#x27;)</pre></div></li><li class='xr-var-item'><div class='xr-var-name'><span>spatial_ref</span></div><div class='xr-var-dims'>()</div><div class='xr-var-dtype'>int64</div><div class='xr-var-preview xr-preview'>0</div><input id='attrs-87de1ec8-df5a-4ede-801f-6f4b34cbeea7' class='xr-var-attrs-in' type='checkbox' ><label for='attrs-87de1ec8-df5a-4ede-801f-6f4b34cbeea7' title='Show/Hide attributes'><svg class='icon xr-icon-file-text2'><use xlink:href='#icon-file-text2'></use></svg></label><input id='data-749fbfce-df27-42f4-9886-4e695f2c7f8e' class='xr-var-data-in' type='checkbox'><label for='data-749fbfce-df27-42f4-9886-4e695f2c7f8e' title='Show/Hide data repr'><svg class='icon xr-icon-database'><use xlink:href='#icon-database'></use></svg></label><div class='xr-var-attrs'><dl class='xr-attrs'><dt><span>crs_wkt :</span></dt><dd>PROJCS[&quot;unknown&quot;,GEOGCS[&quot;unknown&quot;,DATUM[&quot;WGS_1984&quot;,SPHEROID[&quot;WGS 84&quot;,6378137,298.257223563,AUTHORITY[&quot;EPSG&quot;,&quot;7030&quot;]],AUTHORITY[&quot;EPSG&quot;,&quot;6326&quot;]],PRIMEM[&quot;Greenwich&quot;,0,AUTHORITY[&quot;EPSG&quot;,&quot;8901&quot;]],UNIT[&quot;degree&quot;,0.0174532925199433,AUTHORITY[&quot;EPSG&quot;,&quot;9122&quot;]]],PROJECTION[&quot;Albers_Conic_Equal_Area&quot;],PARAMETER[&quot;latitude_of_center&quot;,45],PARAMETER[&quot;longitude_of_center&quot;,-115],PARAMETER[&quot;standard_parallel_1&quot;,42],PARAMETER[&quot;standard_parallel_2&quot;,48],PARAMETER[&quot;false_easting&quot;,0],PARAMETER[&quot;false_northing&quot;,0],UNIT[&quot;metre&quot;,1,AUTHORITY[&quot;EPSG&quot;,&quot;9001&quot;]],AXIS[&quot;Easting&quot;,EAST],AXIS[&quot;Northing&quot;,NORTH]]</dd><dt><span>semi_major_axis :</span></dt><dd>6378137.0</dd><dt><span>semi_minor_axis :</span></dt><dd>6356752.314245179</dd><dt><span>inverse_flattening :</span></dt><dd>298.257223563</dd><dt><span>reference_ellipsoid_name :</span></dt><dd>WGS 84</dd><dt><span>longitude_of_prime_meridian :</span></dt><dd>0.0</dd><dt><span>prime_meridian_name :</span></dt><dd>Greenwich</dd><dt><span>geographic_crs_name :</span></dt><dd>unknown</dd><dt><span>horizontal_datum_name :</span></dt><dd>World Geodetic System 1984</dd><dt><span>projected_crs_name :</span></dt><dd>unknown</dd><dt><span>grid_mapping_name :</span></dt><dd>albers_conical_equal_area</dd><dt><span>standard_parallel :</span></dt><dd>(42.0, 48.0)</dd><dt><span>latitude_of_projection_origin :</span></dt><dd>45.0</dd><dt><span>longitude_of_central_meridian :</span></dt><dd>-115.0</dd><dt><span>false_easting :</span></dt><dd>0.0</dd><dt><span>false_northing :</span></dt><dd>0.0</dd><dt><span>spatial_ref :</span></dt><dd>PROJCS[&quot;unknown&quot;,GEOGCS[&quot;unknown&quot;,DATUM[&quot;WGS_1984&quot;,SPHEROID[&quot;WGS 84&quot;,6378137,298.257223563,AUTHORITY[&quot;EPSG&quot;,&quot;7030&quot;]],AUTHORITY[&quot;EPSG&quot;,&quot;6326&quot;]],PRIMEM[&quot;Greenwich&quot;,0,AUTHORITY[&quot;EPSG&quot;,&quot;8901&quot;]],UNIT[&quot;degree&quot;,0.0174532925199433,AUTHORITY[&quot;EPSG&quot;,&quot;9122&quot;]]],PROJECTION[&quot;Albers_Conic_Equal_Area&quot;],PARAMETER[&quot;latitude_of_center&quot;,45],PARAMETER[&quot;longitude_of_center&quot;,-115],PARAMETER[&quot;standard_parallel_1&quot;,42],PARAMETER[&quot;standard_parallel_2&quot;,48],PARAMETER[&quot;false_easting&quot;,0],PARAMETER[&quot;false_northing&quot;,0],UNIT[&quot;metre&quot;,1,AUTHORITY[&quot;EPSG&quot;,&quot;9001&quot;]],AXIS[&quot;Easting&quot;,EAST],AXIS[&quot;Northing&quot;,NORTH]]</dd><dt><span>GeoTransform :</span></dt><dd>-2309024.326432758 5000.0 0.0 1388393.546326695 0.0 -5000.0</dd></dl></div><div class='xr-var-data'><pre>array(0)</pre></div></li></ul></div></li><li class='xr-section-item'><input id='section-435db712-b1e9-43ff-b7b5-1e2a7a10bd50' class='xr-section-summary-in' type='checkbox'  ><label for='section-435db712-b1e9-43ff-b7b5-1e2a7a10bd50' class='xr-section-summary' >Indexes: <span>(2)</span></label><div class='xr-section-inline-details'></div><div class='xr-section-details'><ul class='xr-var-list'><li class='xr-var-item'><div class='xr-index-name'><div>x</div></div><div class='xr-index-preview'>PandasIndex</div><div></div><input id='index-abf4de34-464c-4199-bb21-f2ccf4693017' class='xr-index-data-in' type='checkbox'/><label for='index-abf4de34-464c-4199-bb21-f2ccf4693017' title='Show/Hide index repr'><svg class='icon xr-icon-database'><use xlink:href='#icon-database'></use></svg></label><div class='xr-index-data'><pre>PandasIndex(Index([-1496524.326432758, -1491524.326432758, -1486524.326432758,\n",
       "       -1481524.326432758, -1476524.326432758, -1471524.326432758,\n",
       "       -1466524.326432758, -1461524.326432758, -1456524.326432758,\n",
       "       -1451524.326432758,\n",
       "       ...\n",
       "        1453475.673567242,  1458475.673567242,  1463475.673567242,\n",
       "        1468475.673567242,  1473475.673567242,  1478475.673567242,\n",
       "        1483475.673567242,  1488475.673567242,  1493475.673567242,\n",
       "        1498475.673567242],\n",
       "      dtype=&#x27;float64&#x27;, name=&#x27;x&#x27;, length=600))</pre></div></li><li class='xr-var-item'><div class='xr-index-name'><div>y</div></div><div class='xr-index-preview'>PandasIndex</div><div></div><input id='index-a4c6df6c-ead8-4238-b3d4-0f7838c206db' class='xr-index-data-in' type='checkbox'/><label for='index-a4c6df6c-ead8-4238-b3d4-0f7838c206db' title='Show/Hide index repr'><svg class='icon xr-icon-database'><use xlink:href='#icon-database'></use></svg></label><div class='xr-index-data'><pre>PandasIndex(Index([ 995893.546326695,  990893.546326695,  985893.546326695,\n",
       "        980893.546326695,  975893.546326695,  970893.546326695,\n",
       "        965893.546326695,  960893.546326695,  955893.546326695,\n",
       "        950893.546326695,\n",
       "       ...\n",
       "       -704106.453673305, -709106.453673305, -714106.453673305,\n",
       "       -719106.453673305, -724106.453673305, -729106.453673305,\n",
       "       -734106.453673305, -739106.453673305, -744106.453673305,\n",
       "       -749106.453673305],\n",
       "      dtype=&#x27;float64&#x27;, name=&#x27;y&#x27;, length=350))</pre></div></li></ul></div></li><li class='xr-section-item'><input id='section-07e89d5a-38e6-40fd-8935-4c36c4f78065' class='xr-section-summary-in' type='checkbox'  checked><label for='section-07e89d5a-38e6-40fd-8935-4c36c4f78065' class='xr-section-summary' >Attributes: <span>(2)</span></label><div class='xr-section-inline-details'></div><div class='xr-section-details'><dl class='xr-attrs'><dt><span>units :</span></dt><dd>ug m-3</dd><dt><span>long_name :</span></dt><dd>Bias corrected surface total PM2.5 mass concentration</dd></dl></div></li></ul></div></div>"
      ]
     },
     "execution_count": 14,
     "metadata": {},
     "output_type": "execute_result"
    }
   ],
   "execution_count": 14
  },
  {
   "cell_type": "code",
   "metadata": {
    "ExecuteTime": {
     "end_time": "2024-12-02T17:31:59.996907Z",
     "start_time": "2024-12-02T17:31:59.995233Z"
    }
   },
   "source": [
    "# Fire vector data\n",
    "viirs = Path(\"viirs_data/DL_FIRE_J1V-C2_550835_040122_110122\")\n",
    "viirs.exists()"
   ],
   "outputs": [
    {
     "data": {
      "text/plain": [
       "True"
      ]
     },
     "execution_count": 15,
     "metadata": {},
     "output_type": "execute_result"
    }
   ],
   "execution_count": 15
  },
  {
   "cell_type": "code",
   "metadata": {
    "ExecuteTime": {
     "end_time": "2024-12-02T17:32:07.385031Z",
     "start_time": "2024-12-02T17:32:07.378126Z"
    }
   },
   "source": [
    "import geopandas as gpd"
   ],
   "outputs": [],
   "execution_count": 17
  },
  {
   "cell_type": "code",
   "metadata": {
    "ExecuteTime": {
     "end_time": "2024-12-02T17:32:09.040806Z",
     "start_time": "2024-12-02T17:32:07.803268Z"
    }
   },
   "source": [
    "viirs_data = gpd.read_file(viirs, bbox=(lon_min,lat_min,lon_max,lat_max))\n",
    "viirs_data = viirs_data.to_crs(crs_proj4)"
   ],
   "outputs": [],
   "execution_count": 18
  },
  {
   "cell_type": "code",
   "metadata": {
    "ExecuteTime": {
     "end_time": "2024-12-02T17:32:09.079059Z",
     "start_time": "2024-12-02T17:32:09.076735Z"
    }
   },
   "source": [
    "ends = [datetime.utcfromtimestamp(time.astype('O') / 1e9) for time in combined_ds.time.values]\n",
    "starts = [end - timedelta(weeks=2) for end in ends]\n",
    "periods = [f for f in zip(starts, ends)]\n",
    "print(periods)\n"
   ],
   "outputs": [
    {
     "name": "stdout",
     "output_type": "stream",
     "text": [
      "[(datetime.datetime(2022, 5, 8, 12, 30), datetime.datetime(2022, 5, 22, 12, 30)), (datetime.datetime(2022, 4, 24, 12, 30), datetime.datetime(2022, 5, 8, 12, 30)), (datetime.datetime(2022, 4, 17, 12, 30), datetime.datetime(2022, 5, 1, 12, 30)), (datetime.datetime(2022, 5, 1, 12, 30), datetime.datetime(2022, 5, 15, 12, 30)), (datetime.datetime(2022, 5, 15, 12, 30), datetime.datetime(2022, 5, 29, 12, 30)), (datetime.datetime(2022, 5, 22, 12, 30), datetime.datetime(2022, 6, 5, 12, 30)), (datetime.datetime(2022, 5, 29, 12, 30), datetime.datetime(2022, 6, 12, 12, 30)), (datetime.datetime(2022, 6, 5, 12, 30), datetime.datetime(2022, 6, 19, 12, 30)), (datetime.datetime(2022, 6, 12, 12, 30), datetime.datetime(2022, 6, 26, 12, 30)), (datetime.datetime(2022, 6, 19, 12, 30), datetime.datetime(2022, 7, 3, 12, 30)), (datetime.datetime(2022, 6, 26, 12, 30), datetime.datetime(2022, 7, 10, 12, 30)), (datetime.datetime(2022, 7, 3, 12, 30), datetime.datetime(2022, 7, 17, 12, 30)), (datetime.datetime(2022, 7, 10, 12, 30), datetime.datetime(2022, 7, 24, 12, 30)), (datetime.datetime(2022, 7, 17, 12, 30), datetime.datetime(2022, 7, 31, 12, 30)), (datetime.datetime(2022, 7, 24, 12, 30), datetime.datetime(2022, 8, 7, 12, 30)), (datetime.datetime(2022, 7, 31, 12, 30), datetime.datetime(2022, 8, 14, 12, 30)), (datetime.datetime(2022, 8, 7, 12, 30), datetime.datetime(2022, 8, 21, 12, 30)), (datetime.datetime(2022, 8, 14, 12, 30), datetime.datetime(2022, 8, 28, 12, 30)), (datetime.datetime(2022, 8, 21, 12, 30), datetime.datetime(2022, 9, 4, 12, 30)), (datetime.datetime(2022, 8, 28, 12, 30), datetime.datetime(2022, 9, 11, 12, 30)), (datetime.datetime(2022, 9, 4, 12, 30), datetime.datetime(2022, 9, 18, 12, 30)), (datetime.datetime(2022, 9, 11, 12, 30), datetime.datetime(2022, 9, 25, 12, 30)), (datetime.datetime(2022, 9, 18, 12, 30), datetime.datetime(2022, 10, 2, 12, 30)), (datetime.datetime(2022, 9, 25, 12, 30), datetime.datetime(2022, 10, 9, 12, 30)), (datetime.datetime(2022, 10, 2, 12, 30), datetime.datetime(2022, 10, 16, 12, 30)), (datetime.datetime(2022, 10, 9, 12, 30), datetime.datetime(2022, 10, 23, 12, 30)), (datetime.datetime(2022, 10, 16, 12, 30), datetime.datetime(2022, 10, 30, 12, 30))]\n"
     ]
    }
   ],
   "execution_count": 19
  },
  {
   "metadata": {
    "ExecuteTime": {
     "end_time": "2024-12-02T17:33:41.572729Z",
     "start_time": "2024-12-02T17:33:41.570800Z"
    }
   },
   "cell_type": "code",
   "source": "periods[0][0].strftime(\"%Y-%m-%d\")",
   "outputs": [
    {
     "data": {
      "text/plain": [
       "'2022-05-08'"
      ]
     },
     "execution_count": 23,
     "metadata": {},
     "output_type": "execute_result"
    }
   ],
   "execution_count": 23
  },
  {
   "cell_type": "code",
   "metadata": {
    "ExecuteTime": {
     "end_time": "2024-12-02T17:35:03.388509Z",
     "start_time": "2024-12-02T17:35:03.378771Z"
    }
   },
   "source": [
    "bandwidth = 50000 # meters\n",
    "\n",
    "# Compute the standard deviation in terms of grid cells\n",
    "sigma = bandwidth / resolution\n",
    "\n",
    "from scipy.signal import fftconvolve\n",
    "\n",
    "def gaussian_kernel(sigma):\n",
    "    \"\"\"Creates an anisotropic Gaussian kernel.\"\"\"\n",
    "    # Define kernel sizes\n",
    "    kernel_size = int(6 * sigma)\n",
    "    x = np.linspace(-kernel_size // 2, kernel_size // 2, kernel_size)\n",
    "    y = np.linspace(-kernel_size // 2, kernel_size // 2, kernel_size)\n",
    "    x, y = np.meshgrid(x, y)\n",
    "    kernel = np.exp(-(x**2 / (2 * sigma**2) + y**2 / (2 * sigma**2)))\n",
    "    return kernel\n",
    "\n",
    "# Create the kernel\n",
    "kernel = gaussian_kernel(sigma)\n",
    "\n",
    "def create_fire_signal(start, end):\n",
    "    filter = (viirs_data.ACQ_DATE >= start.strftime(\"%Y-%m-%d\")) & (viirs_data.ACQ_DATE < end.strftime(\"%Y-%m-%d\"))\n",
    "    filtered_viirs = viirs_data[filter]\n",
    "    weights = filtered_viirs['FRP'].values\n",
    "    x = filtered_viirs.geometry.x.values\n",
    "    y = filtered_viirs.geometry.y.values\n",
    "    \n",
    "    # First do the analysis without weighting by FRP, to verify the fire locations with the above plot\n",
    "    heatmap, xedges, yedges = np.histogram2d(y, x, bins=list(combined_ds.MERRA2_CNN_Surface_PM25.shape[1:3]), range=[[y_min, y_max], [x_min, x_max]], weights=weights)\n",
    "\n",
    "    # flip y axis to match the image (required debugging to see I needed to do this)\n",
    "    heatmap = np.flipud(heatmap)\n",
    "    \n",
    "    # Perform convolution\n",
    "    smoothed_heatmap = fftconvolve(heatmap, kernel, mode='same')\n",
    "    \n",
    "    # Set values lower than zero to zero\n",
    "    smoothed_heatmap[smoothed_heatmap < 0] = 0.0\n",
    "\n",
    "    return smoothed_heatmap\n",
    "    \n",
    "heatmap = create_fire_signal(periods[0][0], periods[0][1])"
   ],
   "outputs": [],
   "execution_count": 25
  },
  {
   "cell_type": "code",
   "metadata": {
    "ExecuteTime": {
     "end_time": "2024-12-02T17:35:21.924261Z",
     "start_time": "2024-12-02T17:35:21.922478Z"
    }
   },
   "source": [
    "# data structure for each of our our prediction pairs\n",
    "from collections import namedtuple\n",
    "\n",
    "Prediction = namedtuple(\"Prediction\", \"viirs merra2 date\")"
   ],
   "outputs": [],
   "execution_count": 26
  },
  {
   "metadata": {
    "ExecuteTime": {
     "end_time": "2024-12-02T18:50:23.433034Z",
     "start_time": "2024-12-02T18:50:23.252861Z"
    }
   },
   "cell_type": "code",
   "source": [
    "# Create empty variable the same size as the PM2.5 data so we can populate it\n",
    "combined_ds[\"fire_signal\"] = ((\"time\", \"y\", \"x\"), np.full(combined_ds[\"MERRA2_CNN_Surface_PM25\"].shape, np.nan))\n",
    "\n",
    "# Add metadata\n",
    "combined_ds[\"fire_signal\"].attrs = {\n",
    "    \"units\": \"Energy?\",\n",
    "    \"description\": \"Viirs fire observations in the previous 2 weeks, scaled by a Gaussian kernel of bandwidth {0} meters\".format(bandwidth),\n",
    "}\n",
    "\n",
    "# Note: we could work out the units more precisely, each viirs point is 375m * 375m, we have the units of the FRP, and we know the size of the grid we're binning to and the kernel we're using. It should end up being energy per raster cell, or equivalently energy density.\n",
    "\n",
    "# go through the time points, create the fire signal, and populate the binned_variable\n",
    "for start, end in periods:\n",
    "    date_str = datetime.strftime(end, \"%Y-%m-%d\")\n",
    "    viirs = create_fire_signal(start, end)\n",
    "    \n",
    "    if np.datetime64(end) not in combined_ds['time']:\n",
    "        raise ValueError(f\"Date {date_str} not found in MERRA-2 dataset\")\n",
    "    \n",
    "    combined_ds[\"fire_signal\"].loc[dict(time=np.datetime64(end))] = viirs\n",
    "    \n",
    "combined_ds"
   ],
   "outputs": [
    {
     "data": {
      "text/plain": [
       "<xarray.Dataset> Size: 113MB\n",
       "Dimensions:                  (time: 27, y: 350, x: 600)\n",
       "Coordinates:\n",
       "  * x                        (x) float64 5kB -1.497e+06 -1.492e+06 ... 1.498e+06\n",
       "  * y                        (y) float64 3kB 9.959e+05 9.909e+05 ... -7.491e+05\n",
       "  * time                     (time) datetime64[ns] 216B 2022-05-22T12:30:00 ....\n",
       "    spatial_ref              int64 8B 0\n",
       "Data variables:\n",
       "    MERRA2_CNN_Surface_PM25  (time, y, x) float32 23MB 2.803 2.917 ... 10.38\n",
       "    QFLAG                    (time, y, x) float64 45MB 2.0 2.0 2.0 ... 4.0 4.0\n",
       "    fire_signal              (time, y, x) float64 45MB 2.954e-14 ... 2.236\n",
       "Attributes: (12/33)\n",
       "    Comment:                           filename: MERRA2_HAQAST_CNN_L4_V1_2022...\n",
       "    Filename:                          MERRA2_HAQAST_CNN_L4_V1_20220522.nc4\n",
       "    Conventions:                       CF-1\n",
       "    Institution:                       NASA Goddard Space Flight Center\n",
       "    References:                        http://gmao.gsfc.nasa.gov ; https://do...\n",
       "    Format:                            NetCDF-4/HDF-5\n",
       "    ...                                ...\n",
       "    RangeEndingDate:                   2022-05-22\n",
       "    RangeEndingTime:                   23:59:59.000000\n",
       "    DODS_EXTRA.Unlimited_Dimension:    time\n",
       "    history:                           2023-04-21 04:24:38 GMT Hyrax-1.16.3 h...\n",
       "    ProcessingLevel:                   4\n",
       "    MapProjection:                     Geographic lat/lon. Datum: WGS-84"
      ],
      "text/html": [
       "<div><svg style=\"position: absolute; width: 0; height: 0; overflow: hidden\">\n",
       "<defs>\n",
       "<symbol id=\"icon-database\" viewBox=\"0 0 32 32\">\n",
       "<path d=\"M16 0c-8.837 0-16 2.239-16 5v4c0 2.761 7.163 5 16 5s16-2.239 16-5v-4c0-2.761-7.163-5-16-5z\"></path>\n",
       "<path d=\"M16 17c-8.837 0-16-2.239-16-5v6c0 2.761 7.163 5 16 5s16-2.239 16-5v-6c0 2.761-7.163 5-16 5z\"></path>\n",
       "<path d=\"M16 26c-8.837 0-16-2.239-16-5v6c0 2.761 7.163 5 16 5s16-2.239 16-5v-6c0 2.761-7.163 5-16 5z\"></path>\n",
       "</symbol>\n",
       "<symbol id=\"icon-file-text2\" viewBox=\"0 0 32 32\">\n",
       "<path d=\"M28.681 7.159c-0.694-0.947-1.662-2.053-2.724-3.116s-2.169-2.030-3.116-2.724c-1.612-1.182-2.393-1.319-2.841-1.319h-15.5c-1.378 0-2.5 1.121-2.5 2.5v27c0 1.378 1.122 2.5 2.5 2.5h23c1.378 0 2.5-1.122 2.5-2.5v-19.5c0-0.448-0.137-1.23-1.319-2.841zM24.543 5.457c0.959 0.959 1.712 1.825 2.268 2.543h-4.811v-4.811c0.718 0.556 1.584 1.309 2.543 2.268zM28 29.5c0 0.271-0.229 0.5-0.5 0.5h-23c-0.271 0-0.5-0.229-0.5-0.5v-27c0-0.271 0.229-0.5 0.5-0.5 0 0 15.499-0 15.5 0v7c0 0.552 0.448 1 1 1h7v19.5z\"></path>\n",
       "<path d=\"M23 26h-14c-0.552 0-1-0.448-1-1s0.448-1 1-1h14c0.552 0 1 0.448 1 1s-0.448 1-1 1z\"></path>\n",
       "<path d=\"M23 22h-14c-0.552 0-1-0.448-1-1s0.448-1 1-1h14c0.552 0 1 0.448 1 1s-0.448 1-1 1z\"></path>\n",
       "<path d=\"M23 18h-14c-0.552 0-1-0.448-1-1s0.448-1 1-1h14c0.552 0 1 0.448 1 1s-0.448 1-1 1z\"></path>\n",
       "</symbol>\n",
       "</defs>\n",
       "</svg>\n",
       "<style>/* CSS stylesheet for displaying xarray objects in jupyterlab.\n",
       " *\n",
       " */\n",
       "\n",
       ":root {\n",
       "  --xr-font-color0: var(--jp-content-font-color0, rgba(0, 0, 0, 1));\n",
       "  --xr-font-color2: var(--jp-content-font-color2, rgba(0, 0, 0, 0.54));\n",
       "  --xr-font-color3: var(--jp-content-font-color3, rgba(0, 0, 0, 0.38));\n",
       "  --xr-border-color: var(--jp-border-color2, #e0e0e0);\n",
       "  --xr-disabled-color: var(--jp-layout-color3, #bdbdbd);\n",
       "  --xr-background-color: var(--jp-layout-color0, white);\n",
       "  --xr-background-color-row-even: var(--jp-layout-color1, white);\n",
       "  --xr-background-color-row-odd: var(--jp-layout-color2, #eeeeee);\n",
       "}\n",
       "\n",
       "html[theme=dark],\n",
       "html[data-theme=dark],\n",
       "body[data-theme=dark],\n",
       "body.vscode-dark {\n",
       "  --xr-font-color0: rgba(255, 255, 255, 1);\n",
       "  --xr-font-color2: rgba(255, 255, 255, 0.54);\n",
       "  --xr-font-color3: rgba(255, 255, 255, 0.38);\n",
       "  --xr-border-color: #1F1F1F;\n",
       "  --xr-disabled-color: #515151;\n",
       "  --xr-background-color: #111111;\n",
       "  --xr-background-color-row-even: #111111;\n",
       "  --xr-background-color-row-odd: #313131;\n",
       "}\n",
       "\n",
       ".xr-wrap {\n",
       "  display: block !important;\n",
       "  min-width: 300px;\n",
       "  max-width: 700px;\n",
       "}\n",
       "\n",
       ".xr-text-repr-fallback {\n",
       "  /* fallback to plain text repr when CSS is not injected (untrusted notebook) */\n",
       "  display: none;\n",
       "}\n",
       "\n",
       ".xr-header {\n",
       "  padding-top: 6px;\n",
       "  padding-bottom: 6px;\n",
       "  margin-bottom: 4px;\n",
       "  border-bottom: solid 1px var(--xr-border-color);\n",
       "}\n",
       "\n",
       ".xr-header > div,\n",
       ".xr-header > ul {\n",
       "  display: inline;\n",
       "  margin-top: 0;\n",
       "  margin-bottom: 0;\n",
       "}\n",
       "\n",
       ".xr-obj-type,\n",
       ".xr-array-name {\n",
       "  margin-left: 2px;\n",
       "  margin-right: 10px;\n",
       "}\n",
       "\n",
       ".xr-obj-type {\n",
       "  color: var(--xr-font-color2);\n",
       "}\n",
       "\n",
       ".xr-sections {\n",
       "  padding-left: 0 !important;\n",
       "  display: grid;\n",
       "  grid-template-columns: 150px auto auto 1fr 0 20px 0 20px;\n",
       "}\n",
       "\n",
       ".xr-section-item {\n",
       "  display: contents;\n",
       "}\n",
       "\n",
       ".xr-section-item input {\n",
       "  display: inline-block;\n",
       "  opacity: 0;\n",
       "}\n",
       "\n",
       ".xr-section-item input + label {\n",
       "  color: var(--xr-disabled-color);\n",
       "}\n",
       "\n",
       ".xr-section-item input:enabled + label {\n",
       "  cursor: pointer;\n",
       "  color: var(--xr-font-color2);\n",
       "}\n",
       "\n",
       ".xr-section-item input:focus + label {\n",
       "  border: 2px solid var(--xr-font-color0);\n",
       "}\n",
       "\n",
       ".xr-section-item input:enabled + label:hover {\n",
       "  color: var(--xr-font-color0);\n",
       "}\n",
       "\n",
       ".xr-section-summary {\n",
       "  grid-column: 1;\n",
       "  color: var(--xr-font-color2);\n",
       "  font-weight: 500;\n",
       "}\n",
       "\n",
       ".xr-section-summary > span {\n",
       "  display: inline-block;\n",
       "  padding-left: 0.5em;\n",
       "}\n",
       "\n",
       ".xr-section-summary-in:disabled + label {\n",
       "  color: var(--xr-font-color2);\n",
       "}\n",
       "\n",
       ".xr-section-summary-in + label:before {\n",
       "  display: inline-block;\n",
       "  content: '►';\n",
       "  font-size: 11px;\n",
       "  width: 15px;\n",
       "  text-align: center;\n",
       "}\n",
       "\n",
       ".xr-section-summary-in:disabled + label:before {\n",
       "  color: var(--xr-disabled-color);\n",
       "}\n",
       "\n",
       ".xr-section-summary-in:checked + label:before {\n",
       "  content: '▼';\n",
       "}\n",
       "\n",
       ".xr-section-summary-in:checked + label > span {\n",
       "  display: none;\n",
       "}\n",
       "\n",
       ".xr-section-summary,\n",
       ".xr-section-inline-details {\n",
       "  padding-top: 4px;\n",
       "  padding-bottom: 4px;\n",
       "}\n",
       "\n",
       ".xr-section-inline-details {\n",
       "  grid-column: 2 / -1;\n",
       "}\n",
       "\n",
       ".xr-section-details {\n",
       "  display: none;\n",
       "  grid-column: 1 / -1;\n",
       "  margin-bottom: 5px;\n",
       "}\n",
       "\n",
       ".xr-section-summary-in:checked ~ .xr-section-details {\n",
       "  display: contents;\n",
       "}\n",
       "\n",
       ".xr-array-wrap {\n",
       "  grid-column: 1 / -1;\n",
       "  display: grid;\n",
       "  grid-template-columns: 20px auto;\n",
       "}\n",
       "\n",
       ".xr-array-wrap > label {\n",
       "  grid-column: 1;\n",
       "  vertical-align: top;\n",
       "}\n",
       "\n",
       ".xr-preview {\n",
       "  color: var(--xr-font-color3);\n",
       "}\n",
       "\n",
       ".xr-array-preview,\n",
       ".xr-array-data {\n",
       "  padding: 0 5px !important;\n",
       "  grid-column: 2;\n",
       "}\n",
       "\n",
       ".xr-array-data,\n",
       ".xr-array-in:checked ~ .xr-array-preview {\n",
       "  display: none;\n",
       "}\n",
       "\n",
       ".xr-array-in:checked ~ .xr-array-data,\n",
       ".xr-array-preview {\n",
       "  display: inline-block;\n",
       "}\n",
       "\n",
       ".xr-dim-list {\n",
       "  display: inline-block !important;\n",
       "  list-style: none;\n",
       "  padding: 0 !important;\n",
       "  margin: 0;\n",
       "}\n",
       "\n",
       ".xr-dim-list li {\n",
       "  display: inline-block;\n",
       "  padding: 0;\n",
       "  margin: 0;\n",
       "}\n",
       "\n",
       ".xr-dim-list:before {\n",
       "  content: '(';\n",
       "}\n",
       "\n",
       ".xr-dim-list:after {\n",
       "  content: ')';\n",
       "}\n",
       "\n",
       ".xr-dim-list li:not(:last-child):after {\n",
       "  content: ',';\n",
       "  padding-right: 5px;\n",
       "}\n",
       "\n",
       ".xr-has-index {\n",
       "  font-weight: bold;\n",
       "}\n",
       "\n",
       ".xr-var-list,\n",
       ".xr-var-item {\n",
       "  display: contents;\n",
       "}\n",
       "\n",
       ".xr-var-item > div,\n",
       ".xr-var-item label,\n",
       ".xr-var-item > .xr-var-name span {\n",
       "  background-color: var(--xr-background-color-row-even);\n",
       "  margin-bottom: 0;\n",
       "}\n",
       "\n",
       ".xr-var-item > .xr-var-name:hover span {\n",
       "  padding-right: 5px;\n",
       "}\n",
       "\n",
       ".xr-var-list > li:nth-child(odd) > div,\n",
       ".xr-var-list > li:nth-child(odd) > label,\n",
       ".xr-var-list > li:nth-child(odd) > .xr-var-name span {\n",
       "  background-color: var(--xr-background-color-row-odd);\n",
       "}\n",
       "\n",
       ".xr-var-name {\n",
       "  grid-column: 1;\n",
       "}\n",
       "\n",
       ".xr-var-dims {\n",
       "  grid-column: 2;\n",
       "}\n",
       "\n",
       ".xr-var-dtype {\n",
       "  grid-column: 3;\n",
       "  text-align: right;\n",
       "  color: var(--xr-font-color2);\n",
       "}\n",
       "\n",
       ".xr-var-preview {\n",
       "  grid-column: 4;\n",
       "}\n",
       "\n",
       ".xr-index-preview {\n",
       "  grid-column: 2 / 5;\n",
       "  color: var(--xr-font-color2);\n",
       "}\n",
       "\n",
       ".xr-var-name,\n",
       ".xr-var-dims,\n",
       ".xr-var-dtype,\n",
       ".xr-preview,\n",
       ".xr-attrs dt {\n",
       "  white-space: nowrap;\n",
       "  overflow: hidden;\n",
       "  text-overflow: ellipsis;\n",
       "  padding-right: 10px;\n",
       "}\n",
       "\n",
       ".xr-var-name:hover,\n",
       ".xr-var-dims:hover,\n",
       ".xr-var-dtype:hover,\n",
       ".xr-attrs dt:hover {\n",
       "  overflow: visible;\n",
       "  width: auto;\n",
       "  z-index: 1;\n",
       "}\n",
       "\n",
       ".xr-var-attrs,\n",
       ".xr-var-data,\n",
       ".xr-index-data {\n",
       "  display: none;\n",
       "  background-color: var(--xr-background-color) !important;\n",
       "  padding-bottom: 5px !important;\n",
       "}\n",
       "\n",
       ".xr-var-attrs-in:checked ~ .xr-var-attrs,\n",
       ".xr-var-data-in:checked ~ .xr-var-data,\n",
       ".xr-index-data-in:checked ~ .xr-index-data {\n",
       "  display: block;\n",
       "}\n",
       "\n",
       ".xr-var-data > table {\n",
       "  float: right;\n",
       "}\n",
       "\n",
       ".xr-var-name span,\n",
       ".xr-var-data,\n",
       ".xr-index-name div,\n",
       ".xr-index-data,\n",
       ".xr-attrs {\n",
       "  padding-left: 25px !important;\n",
       "}\n",
       "\n",
       ".xr-attrs,\n",
       ".xr-var-attrs,\n",
       ".xr-var-data,\n",
       ".xr-index-data {\n",
       "  grid-column: 1 / -1;\n",
       "}\n",
       "\n",
       "dl.xr-attrs {\n",
       "  padding: 0;\n",
       "  margin: 0;\n",
       "  display: grid;\n",
       "  grid-template-columns: 125px auto;\n",
       "}\n",
       "\n",
       ".xr-attrs dt,\n",
       ".xr-attrs dd {\n",
       "  padding: 0;\n",
       "  margin: 0;\n",
       "  float: left;\n",
       "  padding-right: 10px;\n",
       "  width: auto;\n",
       "}\n",
       "\n",
       ".xr-attrs dt {\n",
       "  font-weight: normal;\n",
       "  grid-column: 1;\n",
       "}\n",
       "\n",
       ".xr-attrs dt:hover span {\n",
       "  display: inline-block;\n",
       "  background: var(--xr-background-color);\n",
       "  padding-right: 10px;\n",
       "}\n",
       "\n",
       ".xr-attrs dd {\n",
       "  grid-column: 2;\n",
       "  white-space: pre-wrap;\n",
       "  word-break: break-all;\n",
       "}\n",
       "\n",
       ".xr-icon-database,\n",
       ".xr-icon-file-text2,\n",
       ".xr-no-icon {\n",
       "  display: inline-block;\n",
       "  vertical-align: middle;\n",
       "  width: 1em;\n",
       "  height: 1.5em !important;\n",
       "  stroke-width: 0;\n",
       "  stroke: currentColor;\n",
       "  fill: currentColor;\n",
       "}\n",
       "</style><pre class='xr-text-repr-fallback'>&lt;xarray.Dataset&gt; Size: 113MB\n",
       "Dimensions:                  (time: 27, y: 350, x: 600)\n",
       "Coordinates:\n",
       "  * x                        (x) float64 5kB -1.497e+06 -1.492e+06 ... 1.498e+06\n",
       "  * y                        (y) float64 3kB 9.959e+05 9.909e+05 ... -7.491e+05\n",
       "  * time                     (time) datetime64[ns] 216B 2022-05-22T12:30:00 ....\n",
       "    spatial_ref              int64 8B 0\n",
       "Data variables:\n",
       "    MERRA2_CNN_Surface_PM25  (time, y, x) float32 23MB 2.803 2.917 ... 10.38\n",
       "    QFLAG                    (time, y, x) float64 45MB 2.0 2.0 2.0 ... 4.0 4.0\n",
       "    fire_signal              (time, y, x) float64 45MB 2.954e-14 ... 2.236\n",
       "Attributes: (12/33)\n",
       "    Comment:                           filename: MERRA2_HAQAST_CNN_L4_V1_2022...\n",
       "    Filename:                          MERRA2_HAQAST_CNN_L4_V1_20220522.nc4\n",
       "    Conventions:                       CF-1\n",
       "    Institution:                       NASA Goddard Space Flight Center\n",
       "    References:                        http://gmao.gsfc.nasa.gov ; https://do...\n",
       "    Format:                            NetCDF-4/HDF-5\n",
       "    ...                                ...\n",
       "    RangeEndingDate:                   2022-05-22\n",
       "    RangeEndingTime:                   23:59:59.000000\n",
       "    DODS_EXTRA.Unlimited_Dimension:    time\n",
       "    history:                           2023-04-21 04:24:38 GMT Hyrax-1.16.3 h...\n",
       "    ProcessingLevel:                   4\n",
       "    MapProjection:                     Geographic lat/lon. Datum: WGS-84</pre><div class='xr-wrap' style='display:none'><div class='xr-header'><div class='xr-obj-type'>xarray.Dataset</div></div><ul class='xr-sections'><li class='xr-section-item'><input id='section-ccd6c46c-3004-4299-a1c3-2d3fd17e516f' class='xr-section-summary-in' type='checkbox' disabled ><label for='section-ccd6c46c-3004-4299-a1c3-2d3fd17e516f' class='xr-section-summary'  title='Expand/collapse section'>Dimensions:</label><div class='xr-section-inline-details'><ul class='xr-dim-list'><li><span class='xr-has-index'>time</span>: 27</li><li><span class='xr-has-index'>y</span>: 350</li><li><span class='xr-has-index'>x</span>: 600</li></ul></div><div class='xr-section-details'></div></li><li class='xr-section-item'><input id='section-4683cf78-7ab0-4a8b-bc53-ca1973ab7473' class='xr-section-summary-in' type='checkbox'  checked><label for='section-4683cf78-7ab0-4a8b-bc53-ca1973ab7473' class='xr-section-summary' >Coordinates: <span>(4)</span></label><div class='xr-section-inline-details'></div><div class='xr-section-details'><ul class='xr-var-list'><li class='xr-var-item'><div class='xr-var-name'><span class='xr-has-index'>x</span></div><div class='xr-var-dims'>(x)</div><div class='xr-var-dtype'>float64</div><div class='xr-var-preview xr-preview'>-1.497e+06 -1.492e+06 ... 1.498e+06</div><input id='attrs-6e69f322-050d-4086-aa26-1578eb5eba0f' class='xr-var-attrs-in' type='checkbox' ><label for='attrs-6e69f322-050d-4086-aa26-1578eb5eba0f' title='Show/Hide attributes'><svg class='icon xr-icon-file-text2'><use xlink:href='#icon-file-text2'></use></svg></label><input id='data-ec8f2237-f500-489f-9a2a-90d1afe96775' class='xr-var-data-in' type='checkbox'><label for='data-ec8f2237-f500-489f-9a2a-90d1afe96775' title='Show/Hide data repr'><svg class='icon xr-icon-database'><use xlink:href='#icon-database'></use></svg></label><div class='xr-var-attrs'><dl class='xr-attrs'><dt><span>axis :</span></dt><dd>X</dd><dt><span>long_name :</span></dt><dd>x coordinate of projection</dd><dt><span>standard_name :</span></dt><dd>projection_x_coordinate</dd><dt><span>units :</span></dt><dd>metre</dd></dl></div><div class='xr-var-data'><pre>array([-1496524.326433, -1491524.326433, -1486524.326433, ...,  1488475.673567,\n",
       "        1493475.673567,  1498475.673567])</pre></div></li><li class='xr-var-item'><div class='xr-var-name'><span class='xr-has-index'>y</span></div><div class='xr-var-dims'>(y)</div><div class='xr-var-dtype'>float64</div><div class='xr-var-preview xr-preview'>9.959e+05 9.909e+05 ... -7.491e+05</div><input id='attrs-a4a9a5a5-dbe0-4ea5-9645-2d83e3068881' class='xr-var-attrs-in' type='checkbox' ><label for='attrs-a4a9a5a5-dbe0-4ea5-9645-2d83e3068881' title='Show/Hide attributes'><svg class='icon xr-icon-file-text2'><use xlink:href='#icon-file-text2'></use></svg></label><input id='data-5d309d84-e718-4b32-b406-64bf8c64821d' class='xr-var-data-in' type='checkbox'><label for='data-5d309d84-e718-4b32-b406-64bf8c64821d' title='Show/Hide data repr'><svg class='icon xr-icon-database'><use xlink:href='#icon-database'></use></svg></label><div class='xr-var-attrs'><dl class='xr-attrs'><dt><span>axis :</span></dt><dd>Y</dd><dt><span>long_name :</span></dt><dd>y coordinate of projection</dd><dt><span>standard_name :</span></dt><dd>projection_y_coordinate</dd><dt><span>units :</span></dt><dd>metre</dd></dl></div><div class='xr-var-data'><pre>array([ 995893.546327,  990893.546327,  985893.546327, ..., -739106.453673,\n",
       "       -744106.453673, -749106.453673])</pre></div></li><li class='xr-var-item'><div class='xr-var-name'><span class='xr-has-index'>time</span></div><div class='xr-var-dims'>(time)</div><div class='xr-var-dtype'>datetime64[ns]</div><div class='xr-var-preview xr-preview'>2022-05-22T12:30:00 ... 2022-10-...</div><input id='attrs-03d49c58-94f7-4e64-b443-98f394cf7958' class='xr-var-attrs-in' type='checkbox' ><label for='attrs-03d49c58-94f7-4e64-b443-98f394cf7958' title='Show/Hide attributes'><svg class='icon xr-icon-file-text2'><use xlink:href='#icon-file-text2'></use></svg></label><input id='data-f68e63b2-41a7-4416-a83a-c2eda5f5f0ee' class='xr-var-data-in' type='checkbox'><label for='data-f68e63b2-41a7-4416-a83a-c2eda5f5f0ee' title='Show/Hide data repr'><svg class='icon xr-icon-database'><use xlink:href='#icon-database'></use></svg></label><div class='xr-var-attrs'><dl class='xr-attrs'><dt><span>long_name :</span></dt><dd>time</dd></dl></div><div class='xr-var-data'><pre>array([&#x27;2022-05-22T12:30:00.000000000&#x27;, &#x27;2022-05-08T12:30:00.000000000&#x27;,\n",
       "       &#x27;2022-05-01T12:30:00.000000000&#x27;, &#x27;2022-05-15T12:30:00.000000000&#x27;,\n",
       "       &#x27;2022-05-29T12:30:00.000000000&#x27;, &#x27;2022-06-05T12:30:00.000000000&#x27;,\n",
       "       &#x27;2022-06-12T12:30:00.000000000&#x27;, &#x27;2022-06-19T12:30:00.000000000&#x27;,\n",
       "       &#x27;2022-06-26T12:30:00.000000000&#x27;, &#x27;2022-07-03T12:30:00.000000000&#x27;,\n",
       "       &#x27;2022-07-10T12:30:00.000000000&#x27;, &#x27;2022-07-17T12:30:00.000000000&#x27;,\n",
       "       &#x27;2022-07-24T12:30:00.000000000&#x27;, &#x27;2022-07-31T12:30:00.000000000&#x27;,\n",
       "       &#x27;2022-08-07T12:30:00.000000000&#x27;, &#x27;2022-08-14T12:30:00.000000000&#x27;,\n",
       "       &#x27;2022-08-21T12:30:00.000000000&#x27;, &#x27;2022-08-28T12:30:00.000000000&#x27;,\n",
       "       &#x27;2022-09-04T12:30:00.000000000&#x27;, &#x27;2022-09-11T12:30:00.000000000&#x27;,\n",
       "       &#x27;2022-09-18T12:30:00.000000000&#x27;, &#x27;2022-09-25T12:30:00.000000000&#x27;,\n",
       "       &#x27;2022-10-02T12:30:00.000000000&#x27;, &#x27;2022-10-09T12:30:00.000000000&#x27;,\n",
       "       &#x27;2022-10-16T12:30:00.000000000&#x27;, &#x27;2022-10-23T12:30:00.000000000&#x27;,\n",
       "       &#x27;2022-10-30T12:30:00.000000000&#x27;], dtype=&#x27;datetime64[ns]&#x27;)</pre></div></li><li class='xr-var-item'><div class='xr-var-name'><span>spatial_ref</span></div><div class='xr-var-dims'>()</div><div class='xr-var-dtype'>int64</div><div class='xr-var-preview xr-preview'>0</div><input id='attrs-9794f963-c9ca-4a32-8c55-47e367bc22a4' class='xr-var-attrs-in' type='checkbox' ><label for='attrs-9794f963-c9ca-4a32-8c55-47e367bc22a4' title='Show/Hide attributes'><svg class='icon xr-icon-file-text2'><use xlink:href='#icon-file-text2'></use></svg></label><input id='data-288a0d89-4b8b-48fb-8f38-1ceb405eaa34' class='xr-var-data-in' type='checkbox'><label for='data-288a0d89-4b8b-48fb-8f38-1ceb405eaa34' title='Show/Hide data repr'><svg class='icon xr-icon-database'><use xlink:href='#icon-database'></use></svg></label><div class='xr-var-attrs'><dl class='xr-attrs'><dt><span>crs_wkt :</span></dt><dd>PROJCS[&quot;unknown&quot;,GEOGCS[&quot;unknown&quot;,DATUM[&quot;WGS_1984&quot;,SPHEROID[&quot;WGS 84&quot;,6378137,298.257223563,AUTHORITY[&quot;EPSG&quot;,&quot;7030&quot;]],AUTHORITY[&quot;EPSG&quot;,&quot;6326&quot;]],PRIMEM[&quot;Greenwich&quot;,0,AUTHORITY[&quot;EPSG&quot;,&quot;8901&quot;]],UNIT[&quot;degree&quot;,0.0174532925199433,AUTHORITY[&quot;EPSG&quot;,&quot;9122&quot;]]],PROJECTION[&quot;Albers_Conic_Equal_Area&quot;],PARAMETER[&quot;latitude_of_center&quot;,45],PARAMETER[&quot;longitude_of_center&quot;,-115],PARAMETER[&quot;standard_parallel_1&quot;,42],PARAMETER[&quot;standard_parallel_2&quot;,48],PARAMETER[&quot;false_easting&quot;,0],PARAMETER[&quot;false_northing&quot;,0],UNIT[&quot;metre&quot;,1,AUTHORITY[&quot;EPSG&quot;,&quot;9001&quot;]],AXIS[&quot;Easting&quot;,EAST],AXIS[&quot;Northing&quot;,NORTH]]</dd><dt><span>semi_major_axis :</span></dt><dd>6378137.0</dd><dt><span>semi_minor_axis :</span></dt><dd>6356752.314245179</dd><dt><span>inverse_flattening :</span></dt><dd>298.257223563</dd><dt><span>reference_ellipsoid_name :</span></dt><dd>WGS 84</dd><dt><span>longitude_of_prime_meridian :</span></dt><dd>0.0</dd><dt><span>prime_meridian_name :</span></dt><dd>Greenwich</dd><dt><span>geographic_crs_name :</span></dt><dd>unknown</dd><dt><span>horizontal_datum_name :</span></dt><dd>World Geodetic System 1984</dd><dt><span>projected_crs_name :</span></dt><dd>unknown</dd><dt><span>grid_mapping_name :</span></dt><dd>albers_conical_equal_area</dd><dt><span>standard_parallel :</span></dt><dd>(42.0, 48.0)</dd><dt><span>latitude_of_projection_origin :</span></dt><dd>45.0</dd><dt><span>longitude_of_central_meridian :</span></dt><dd>-115.0</dd><dt><span>false_easting :</span></dt><dd>0.0</dd><dt><span>false_northing :</span></dt><dd>0.0</dd><dt><span>spatial_ref :</span></dt><dd>PROJCS[&quot;unknown&quot;,GEOGCS[&quot;unknown&quot;,DATUM[&quot;WGS_1984&quot;,SPHEROID[&quot;WGS 84&quot;,6378137,298.257223563,AUTHORITY[&quot;EPSG&quot;,&quot;7030&quot;]],AUTHORITY[&quot;EPSG&quot;,&quot;6326&quot;]],PRIMEM[&quot;Greenwich&quot;,0,AUTHORITY[&quot;EPSG&quot;,&quot;8901&quot;]],UNIT[&quot;degree&quot;,0.0174532925199433,AUTHORITY[&quot;EPSG&quot;,&quot;9122&quot;]]],PROJECTION[&quot;Albers_Conic_Equal_Area&quot;],PARAMETER[&quot;latitude_of_center&quot;,45],PARAMETER[&quot;longitude_of_center&quot;,-115],PARAMETER[&quot;standard_parallel_1&quot;,42],PARAMETER[&quot;standard_parallel_2&quot;,48],PARAMETER[&quot;false_easting&quot;,0],PARAMETER[&quot;false_northing&quot;,0],UNIT[&quot;metre&quot;,1,AUTHORITY[&quot;EPSG&quot;,&quot;9001&quot;]],AXIS[&quot;Easting&quot;,EAST],AXIS[&quot;Northing&quot;,NORTH]]</dd><dt><span>GeoTransform :</span></dt><dd>-2309024.326432758 5000.0 0.0 1388393.546326695 0.0 -5000.0</dd></dl></div><div class='xr-var-data'><pre>array(0)</pre></div></li></ul></div></li><li class='xr-section-item'><input id='section-9b7c86ee-74c8-4e73-98df-40132b901c05' class='xr-section-summary-in' type='checkbox'  checked><label for='section-9b7c86ee-74c8-4e73-98df-40132b901c05' class='xr-section-summary' >Data variables: <span>(3)</span></label><div class='xr-section-inline-details'></div><div class='xr-section-details'><ul class='xr-var-list'><li class='xr-var-item'><div class='xr-var-name'><span>MERRA2_CNN_Surface_PM25</span></div><div class='xr-var-dims'>(time, y, x)</div><div class='xr-var-dtype'>float32</div><div class='xr-var-preview xr-preview'>2.803 2.917 2.855 ... 10.31 10.38</div><input id='attrs-7fa3eaf7-6479-43f7-bb40-7917088ffa31' class='xr-var-attrs-in' type='checkbox' ><label for='attrs-7fa3eaf7-6479-43f7-bb40-7917088ffa31' title='Show/Hide attributes'><svg class='icon xr-icon-file-text2'><use xlink:href='#icon-file-text2'></use></svg></label><input id='data-29451603-d796-4ef6-9fb8-1587cff11247' class='xr-var-data-in' type='checkbox'><label for='data-29451603-d796-4ef6-9fb8-1587cff11247' title='Show/Hide data repr'><svg class='icon xr-icon-database'><use xlink:href='#icon-database'></use></svg></label><div class='xr-var-attrs'><dl class='xr-attrs'><dt><span>units :</span></dt><dd>ug m-3</dd><dt><span>long_name :</span></dt><dd>Bias corrected surface total PM2.5 mass concentration</dd></dl></div><div class='xr-var-data'><pre>array([[[2.80319929e+00, 2.91730952e+00, 2.85547781e+00, ...,\n",
       "         1.24593735e-05, 9.45536813e-05, 2.72322621e-04],\n",
       "        [2.87739038e+00, 2.98492169e+00, 2.88842416e+00, ...,\n",
       "         1.42758108e-05, 5.31091937e-05, 2.49106961e-04],\n",
       "        [2.96227264e+00, 3.01779151e+00, 2.92145991e+00, ...,\n",
       "         1.13591559e-05, 5.70225609e-07, 2.14771106e-04],\n",
       "        ...,\n",
       "        [8.20281133e-02, 1.00274779e-01, 1.19042166e-01, ...,\n",
       "         1.13938737e+00, 1.02916467e+00, 9.23335314e-01],\n",
       "        [1.06056236e-01, 1.23177528e-01, 1.40818924e-01, ...,\n",
       "         1.15250039e+00, 1.05170274e+00, 9.55293298e-01],\n",
       "        [1.29588157e-01, 1.45585299e-01, 1.62101895e-01, ...,\n",
       "         1.16146147e+00, 1.07007885e+00, 9.83079076e-01]],\n",
       "\n",
       "       [[1.88523643e-02, 1.76367667e-02, 1.69822145e-02, ...,\n",
       "         1.05465078e+00, 1.03993058e+00, 1.06375015e+00],\n",
       "        [1.87412091e-02, 1.76020432e-02, 1.70893967e-02, ...,\n",
       "         1.07569540e+00, 1.03132951e+00, 1.05612016e+00],\n",
       "        [1.86296050e-02, 1.76992510e-02, 1.72118116e-02, ...,\n",
       "         1.10119867e+00, 1.02213800e+00, 1.04789841e+00],\n",
       "...\n",
       "        [3.79566103e-01, 3.65422308e-01, 3.50830168e-01, ...,\n",
       "         5.56936026e+00, 5.67352676e+00, 5.77631760e+00],\n",
       "        [3.71755898e-01, 3.58579844e-01, 3.44955981e-01, ...,\n",
       "         5.51105738e+00, 5.61222744e+00, 5.71202326e+00],\n",
       "        [3.64373237e-01, 3.52163911e-01, 3.39507282e-01, ...,\n",
       "         5.45407152e+00, 5.55224848e+00, 5.64905310e+00]],\n",
       "\n",
       "       [[7.90751982e+00, 7.91771650e+00, 7.92481327e+00, ...,\n",
       "         8.53381634e-01, 8.68257940e-01, 8.91305208e-01],\n",
       "        [7.87675524e+00, 7.88557339e+00, 7.89231062e+00, ...,\n",
       "         8.62468064e-01, 8.74697447e-01, 9.00063932e-01],\n",
       "        [7.84532595e+00, 7.85294247e+00, 7.86002302e+00, ...,\n",
       "         8.70708168e-01, 8.79723012e-01, 9.07405496e-01],\n",
       "        ...,\n",
       "        [3.86608690e-01, 3.52564454e-01, 3.20915490e-01, ...,\n",
       "         1.04376144e+01, 1.05251646e+01, 1.06089659e+01],\n",
       "        [4.20164615e-01, 3.81019294e-01, 3.44266385e-01, ...,\n",
       "         1.03375454e+01, 1.04170561e+01, 1.04928226e+01],\n",
       "        [4.51468110e-01, 4.07227188e-01, 3.65375817e-01, ...,\n",
       "         1.02410116e+01, 1.03124924e+01, 1.03802328e+01]]], dtype=float32)</pre></div></li><li class='xr-var-item'><div class='xr-var-name'><span>QFLAG</span></div><div class='xr-var-dims'>(time, y, x)</div><div class='xr-var-dtype'>float64</div><div class='xr-var-preview xr-preview'>2.0 2.0 2.0 2.0 ... 4.0 4.0 4.0 4.0</div><input id='attrs-845fa8a4-cb22-49ab-83da-2d81a5145f86' class='xr-var-attrs-in' type='checkbox' ><label for='attrs-845fa8a4-cb22-49ab-83da-2d81a5145f86' title='Show/Hide attributes'><svg class='icon xr-icon-file-text2'><use xlink:href='#icon-file-text2'></use></svg></label><input id='data-5d574869-19ad-49d8-b11e-d85c90b5ba9d' class='xr-var-data-in' type='checkbox'><label for='data-5d574869-19ad-49d8-b11e-d85c90b5ba9d' title='Show/Hide data repr'><svg class='icon xr-icon-database'><use xlink:href='#icon-database'></use></svg></label><div class='xr-var-attrs'><dl class='xr-attrs'><dt><span>FLAG 1 :</span></dt><dd>Low quality</dd><dt><span>FLAG 2 :</span></dt><dd>Medium quality over ocean</dd><dt><span>FLAG 3 :</span></dt><dd>High quality</dd><dt><span>FLAG 4 :</span></dt><dd>Highest quality</dd><dt><span>Recommendation :</span></dt><dd>qflag recommnendation -3 &amp; 4 for quantitative analysis</dd><dt><span>long_name :</span></dt><dd>Quality Flag for data quality at grid</dd><dt><span>units :</span></dt><dd>unitless</dd></dl></div><div class='xr-var-data'><pre>array([[[2., 2., 2., ..., 3., 3., 3.],\n",
       "        [2., 2., 2., ..., 3., 3., 3.],\n",
       "        [2., 2., 2., ..., 3., 3., 3.],\n",
       "        ...,\n",
       "        [2., 2., 2., ..., 4., 4., 4.],\n",
       "        [2., 2., 2., ..., 4., 4., 4.],\n",
       "        [2., 2., 2., ..., 4., 4., 4.]],\n",
       "\n",
       "       [[2., 2., 2., ..., 3., 3., 3.],\n",
       "        [2., 2., 2., ..., 3., 3., 3.],\n",
       "        [2., 2., 2., ..., 3., 3., 3.],\n",
       "        ...,\n",
       "        [2., 2., 2., ..., 4., 4., 4.],\n",
       "        [2., 2., 2., ..., 4., 4., 4.],\n",
       "        [2., 2., 2., ..., 4., 4., 4.]],\n",
       "\n",
       "       [[2., 2., 2., ..., 3., 3., 3.],\n",
       "        [2., 2., 2., ..., 3., 3., 3.],\n",
       "        [2., 2., 2., ..., 3., 3., 3.],\n",
       "        ...,\n",
       "...\n",
       "        ...,\n",
       "        [2., 2., 2., ..., 4., 4., 4.],\n",
       "        [2., 2., 2., ..., 4., 4., 4.],\n",
       "        [2., 2., 2., ..., 4., 4., 4.]],\n",
       "\n",
       "       [[2., 2., 2., ..., 3., 3., 3.],\n",
       "        [2., 2., 2., ..., 3., 3., 3.],\n",
       "        [2., 2., 2., ..., 3., 3., 3.],\n",
       "        ...,\n",
       "        [2., 2., 2., ..., 4., 4., 4.],\n",
       "        [2., 2., 2., ..., 4., 4., 4.],\n",
       "        [2., 2., 2., ..., 4., 4., 4.]],\n",
       "\n",
       "       [[2., 2., 2., ..., 3., 3., 3.],\n",
       "        [2., 2., 2., ..., 3., 3., 3.],\n",
       "        [2., 2., 2., ..., 3., 3., 3.],\n",
       "        ...,\n",
       "        [2., 2., 2., ..., 4., 4., 4.],\n",
       "        [2., 2., 2., ..., 4., 4., 4.],\n",
       "        [2., 2., 2., ..., 4., 4., 4.]]])</pre></div></li><li class='xr-var-item'><div class='xr-var-name'><span>fire_signal</span></div><div class='xr-var-dims'>(time, y, x)</div><div class='xr-var-dtype'>float64</div><div class='xr-var-preview xr-preview'>2.954e-14 2.276e-14 ... 2.826 2.236</div><input id='attrs-41aaf302-a171-45a6-8760-b5927c6fff6b' class='xr-var-attrs-in' type='checkbox' ><label for='attrs-41aaf302-a171-45a6-8760-b5927c6fff6b' title='Show/Hide attributes'><svg class='icon xr-icon-file-text2'><use xlink:href='#icon-file-text2'></use></svg></label><input id='data-84a32c3f-36d2-40c2-abd6-d7ac2e3d8e2c' class='xr-var-data-in' type='checkbox'><label for='data-84a32c3f-36d2-40c2-abd6-d7ac2e3d8e2c' title='Show/Hide data repr'><svg class='icon xr-icon-database'><use xlink:href='#icon-database'></use></svg></label><div class='xr-var-attrs'><dl class='xr-attrs'><dt><span>units :</span></dt><dd>Energy?</dd><dt><span>description :</span></dt><dd>Viirs fire observations in the previous 2 weeks, scaled by a Gaussian kernel of bandwidth 50000 meters</dd></dl></div><div class='xr-var-data'><pre>array([[[2.95429829e-14, 2.27560814e-14, 3.35352779e-14, ...,\n",
       "         3.67291139e-14, 4.15198679e-14, 4.95044578e-14],\n",
       "        [0.00000000e+00, 0.00000000e+00, 0.00000000e+00, ...,\n",
       "         0.00000000e+00, 0.00000000e+00, 0.00000000e+00],\n",
       "        [0.00000000e+00, 0.00000000e+00, 0.00000000e+00, ...,\n",
       "         3.03414419e-14, 3.19383599e-14, 2.87445239e-14],\n",
       "        ...,\n",
       "        [9.58150797e-15, 1.19768850e-14, 0.00000000e+00, ...,\n",
       "         2.79046415e+02, 2.37647088e+02, 2.00444895e+02],\n",
       "        [0.00000000e+00, 0.00000000e+00, 0.00000000e+00, ...,\n",
       "         2.56672005e+02, 2.18585843e+02, 1.84363262e+02],\n",
       "        [0.00000000e+00, 2.55506879e-14, 0.00000000e+00, ...,\n",
       "         2.33729748e+02, 1.99048780e+02, 1.67887324e+02]],\n",
       "\n",
       "       [[0.00000000e+00, 0.00000000e+00, 0.00000000e+00, ...,\n",
       "         3.81264171e-14, 3.75275729e-14, 3.71283434e-14],\n",
       "        [0.00000000e+00, 0.00000000e+00, 0.00000000e+00, ...,\n",
       "         2.71975096e-15, 0.00000000e+00, 0.00000000e+00],\n",
       "        [0.00000000e+00, 0.00000000e+00, 0.00000000e+00, ...,\n",
       "         6.15811502e-14, 5.26982938e-14, 4.43144744e-14],\n",
       "...\n",
       "        [2.04405503e-13, 0.00000000e+00, 0.00000000e+00, ...,\n",
       "         4.44902521e+00, 3.55724436e+00, 2.81502306e+00],\n",
       "        [3.59306549e-15, 1.27354210e-13, 1.21166153e-13, ...,\n",
       "         3.98583411e+00, 3.18697670e+00, 2.52207508e+00],\n",
       "        [0.00000000e+00, 0.00000000e+00, 3.03414419e-14, ...,\n",
       "         3.53421525e+00, 2.82594387e+00, 2.23642093e+00]],\n",
       "\n",
       "       [[0.00000000e+00, 0.00000000e+00, 0.00000000e+00, ...,\n",
       "         4.08811007e-13, 3.06608255e-13, 3.57709631e-13],\n",
       "        [5.42952118e-14, 7.66520638e-14, 6.38767198e-14, ...,\n",
       "         3.06608255e-13, 4.59912383e-13, 4.08811007e-13],\n",
       "        [0.00000000e+00, 0.00000000e+00, 0.00000000e+00, ...,\n",
       "         4.59912383e-13, 5.62115134e-13, 5.11013758e-13],\n",
       "        ...,\n",
       "        [1.75660979e-13, 0.00000000e+00, 1.66079471e-13, ...,\n",
       "         4.44902521e+00, 3.55724436e+00, 2.81502306e+00],\n",
       "        [3.99229499e-13, 0.00000000e+00, 0.00000000e+00, ...,\n",
       "         3.98583411e+00, 3.18697670e+00, 2.52207508e+00],\n",
       "        [0.00000000e+00, 0.00000000e+00, 0.00000000e+00, ...,\n",
       "         3.53421525e+00, 2.82594387e+00, 2.23642093e+00]]])</pre></div></li></ul></div></li><li class='xr-section-item'><input id='section-da6cc912-f176-4295-bafe-d66b364cb14c' class='xr-section-summary-in' type='checkbox'  ><label for='section-da6cc912-f176-4295-bafe-d66b364cb14c' class='xr-section-summary' >Indexes: <span>(3)</span></label><div class='xr-section-inline-details'></div><div class='xr-section-details'><ul class='xr-var-list'><li class='xr-var-item'><div class='xr-index-name'><div>x</div></div><div class='xr-index-preview'>PandasIndex</div><div></div><input id='index-608ee022-45c2-4d9d-b1c5-b261b7ab58ce' class='xr-index-data-in' type='checkbox'/><label for='index-608ee022-45c2-4d9d-b1c5-b261b7ab58ce' title='Show/Hide index repr'><svg class='icon xr-icon-database'><use xlink:href='#icon-database'></use></svg></label><div class='xr-index-data'><pre>PandasIndex(Index([-1496524.326432758, -1491524.326432758, -1486524.326432758,\n",
       "       -1481524.326432758, -1476524.326432758, -1471524.326432758,\n",
       "       -1466524.326432758, -1461524.326432758, -1456524.326432758,\n",
       "       -1451524.326432758,\n",
       "       ...\n",
       "        1453475.673567242,  1458475.673567242,  1463475.673567242,\n",
       "        1468475.673567242,  1473475.673567242,  1478475.673567242,\n",
       "        1483475.673567242,  1488475.673567242,  1493475.673567242,\n",
       "        1498475.673567242],\n",
       "      dtype=&#x27;float64&#x27;, name=&#x27;x&#x27;, length=600))</pre></div></li><li class='xr-var-item'><div class='xr-index-name'><div>y</div></div><div class='xr-index-preview'>PandasIndex</div><div></div><input id='index-4041b6bb-3ef0-4f43-b0ae-d863dae752aa' class='xr-index-data-in' type='checkbox'/><label for='index-4041b6bb-3ef0-4f43-b0ae-d863dae752aa' title='Show/Hide index repr'><svg class='icon xr-icon-database'><use xlink:href='#icon-database'></use></svg></label><div class='xr-index-data'><pre>PandasIndex(Index([ 995893.546326695,  990893.546326695,  985893.546326695,\n",
       "        980893.546326695,  975893.546326695,  970893.546326695,\n",
       "        965893.546326695,  960893.546326695,  955893.546326695,\n",
       "        950893.546326695,\n",
       "       ...\n",
       "       -704106.453673305, -709106.453673305, -714106.453673305,\n",
       "       -719106.453673305, -724106.453673305, -729106.453673305,\n",
       "       -734106.453673305, -739106.453673305, -744106.453673305,\n",
       "       -749106.453673305],\n",
       "      dtype=&#x27;float64&#x27;, name=&#x27;y&#x27;, length=350))</pre></div></li><li class='xr-var-item'><div class='xr-index-name'><div>time</div></div><div class='xr-index-preview'>PandasIndex</div><div></div><input id='index-52680bcd-141a-4cfe-bb15-4159ff220897' class='xr-index-data-in' type='checkbox'/><label for='index-52680bcd-141a-4cfe-bb15-4159ff220897' title='Show/Hide index repr'><svg class='icon xr-icon-database'><use xlink:href='#icon-database'></use></svg></label><div class='xr-index-data'><pre>PandasIndex(DatetimeIndex([&#x27;2022-05-22 12:30:00&#x27;, &#x27;2022-05-08 12:30:00&#x27;,\n",
       "               &#x27;2022-05-01 12:30:00&#x27;, &#x27;2022-05-15 12:30:00&#x27;,\n",
       "               &#x27;2022-05-29 12:30:00&#x27;, &#x27;2022-06-05 12:30:00&#x27;,\n",
       "               &#x27;2022-06-12 12:30:00&#x27;, &#x27;2022-06-19 12:30:00&#x27;,\n",
       "               &#x27;2022-06-26 12:30:00&#x27;, &#x27;2022-07-03 12:30:00&#x27;,\n",
       "               &#x27;2022-07-10 12:30:00&#x27;, &#x27;2022-07-17 12:30:00&#x27;,\n",
       "               &#x27;2022-07-24 12:30:00&#x27;, &#x27;2022-07-31 12:30:00&#x27;,\n",
       "               &#x27;2022-08-07 12:30:00&#x27;, &#x27;2022-08-14 12:30:00&#x27;,\n",
       "               &#x27;2022-08-21 12:30:00&#x27;, &#x27;2022-08-28 12:30:00&#x27;,\n",
       "               &#x27;2022-09-04 12:30:00&#x27;, &#x27;2022-09-11 12:30:00&#x27;,\n",
       "               &#x27;2022-09-18 12:30:00&#x27;, &#x27;2022-09-25 12:30:00&#x27;,\n",
       "               &#x27;2022-10-02 12:30:00&#x27;, &#x27;2022-10-09 12:30:00&#x27;,\n",
       "               &#x27;2022-10-16 12:30:00&#x27;, &#x27;2022-10-23 12:30:00&#x27;,\n",
       "               &#x27;2022-10-30 12:30:00&#x27;],\n",
       "              dtype=&#x27;datetime64[ns]&#x27;, name=&#x27;time&#x27;, freq=None))</pre></div></li></ul></div></li><li class='xr-section-item'><input id='section-9a002b54-011d-4225-ba5b-fd1185b2a570' class='xr-section-summary-in' type='checkbox'  ><label for='section-9a002b54-011d-4225-ba5b-fd1185b2a570' class='xr-section-summary' >Attributes: <span>(33)</span></label><div class='xr-section-inline-details'></div><div class='xr-section-details'><dl class='xr-attrs'><dt><span>Comment :</span></dt><dd>filename: MERRA2_HAQAST_CNN_L4_V1_20220522.nc4</dd><dt><span>Filename :</span></dt><dd>MERRA2_HAQAST_CNN_L4_V1_20220522.nc4</dd><dt><span>Conventions :</span></dt><dd>CF-1</dd><dt><span>Institution :</span></dt><dd>NASA Goddard Space Flight Center</dd><dt><span>References :</span></dt><dd>http://gmao.gsfc.nasa.gov ; https://doi.org/10.4209/aaqr.210105 ; https://doi.org/10.1029/2022EA002375</dd><dt><span>Format :</span></dt><dd>NetCDF-4/HDF-5</dd><dt><span>SpatialCoverage :</span></dt><dd>global</dd><dt><span>VersionID :</span></dt><dd>V1</dd><dt><span>TemporalRange :</span></dt><dd>2000-01-01 -&gt; 2024-12-31</dd><dt><span>identifier_product_doi_authority :</span></dt><dd>http://dx.doi.org/</dd><dt><span>ShortName :</span></dt><dd>MERRA2_CNN_HAQAST_PM25</dd><dt><span>GranuleID :</span></dt><dd>MERRA2_HAQAST_CNN_L4_V1_20220522.nc4</dd><dt><span>ProductionDateTime :</span></dt><dd>2024-06-18T06:44:33.646033Z</dd><dt><span>LongName :</span></dt><dd>MERRA2_CNN_HAQAST bias corrected global hourly surface total PM2.5 mass concentration V1.0</dd><dt><span>title :</span></dt><dd>MERRA2_CNN_HAQAST bias corrected global hourly surface total PM2.5 mass concentration V1.0</dd><dt><span>SouthernmostLatitude :</span></dt><dd>-90.0</dd><dt><span>NorthernmostLatitude :</span></dt><dd>90.0</dd><dt><span>WesternmostLongitude :</span></dt><dd>-180.0</dd><dt><span>EasternmostLongitude :</span></dt><dd>179.375</dd><dt><span>LatitudeResolution :</span></dt><dd>0.5</dd><dt><span>LongitudeResolution :</span></dt><dd>0.625</dd><dt><span>DataResolution :</span></dt><dd>0.5 x 0.625</dd><dt><span>Source :</span></dt><dd>M2T1NXAER_5.12.4: BCSMASS,DUSMASS25,OCSMASS,SO2SMASS,SO4SMASS,SSSMASS25,TOTEXTTAU</dd><dt><span>Contact :</span></dt><dd>Pawan Gupta (pawan.gupta@nasa.gov), and Alqamah Sayeed (alqamah.sayeed@nasa.gov)</dd><dt><span>identifier_product_doi :</span></dt><dd>10.5067/OCKK5HCFW5N3</dd><dt><span>RangeBeginningDate :</span></dt><dd>2022-05-22</dd><dt><span>RangeBeginningTime :</span></dt><dd>00:00:00.000000</dd><dt><span>RangeEndingDate :</span></dt><dd>2022-05-22</dd><dt><span>RangeEndingTime :</span></dt><dd>23:59:59.000000</dd><dt><span>DODS_EXTRA.Unlimited_Dimension :</span></dt><dd>time</dd><dt><span>history :</span></dt><dd>2023-04-21 04:24:38 GMT Hyrax-1.16.3 https://goldsmr4.gesdisc.eosdis.nasa.gov/opendap/MERRA2/M2T1NXAER.5.12.4/2022/12/MERRA2_400.tavg1_2d_aer_Nx.20221231.nc4.nc4?BCSMASS,DUSMASS25,OCSMASS,SO2SMASS,SO4SMASS,SSSMASS25,TOTEXTTAU</dd><dt><span>ProcessingLevel :</span></dt><dd>4</dd><dt><span>MapProjection :</span></dt><dd>Geographic lat/lon. Datum: WGS-84</dd></dl></div></li></ul></div></div>"
      ]
     },
     "execution_count": 85,
     "metadata": {},
     "output_type": "execute_result"
    }
   ],
   "execution_count": 85
  },
  {
   "metadata": {},
   "cell_type": "markdown",
   "source": ""
  },
  {
   "cell_type": "markdown",
   "metadata": {},
   "source": [
    "## Linear Regression"
   ]
  },
  {
   "cell_type": "code",
   "metadata": {
    "ExecuteTime": {
     "end_time": "2024-12-02T18:52:06.910975Z",
     "start_time": "2024-12-02T18:52:06.893017Z"
    }
   },
   "source": [
    "X = combined_ds[\"fire_signal\"].values.flatten()\n",
    "y = combined_ds[\"MERRA2_CNN_Surface_PM25\"].values.flatten()\n"
   ],
   "outputs": [],
   "execution_count": 91
  },
  {
   "cell_type": "code",
   "metadata": {
    "ExecuteTime": {
     "end_time": "2024-12-02T18:52:08.849723Z",
     "start_time": "2024-12-02T18:52:08.848046Z"
    }
   },
   "source": [
    "print(X.shape)\n",
    "print(y.shape)"
   ],
   "outputs": [
    {
     "name": "stdout",
     "output_type": "stream",
     "text": [
      "(5670000,)\n",
      "(5670000,)\n"
     ]
    }
   ],
   "execution_count": 92
  },
  {
   "cell_type": "code",
   "metadata": {
    "ExecuteTime": {
     "end_time": "2024-12-02T18:52:36.048814Z",
     "start_time": "2024-12-02T18:52:36.047097Z"
    }
   },
   "source": [
    "X = np.reshape(X, (len(X), 1))\n",
    "y = np.reshape(y, (len(y), 1))"
   ],
   "outputs": [],
   "execution_count": 96
  },
  {
   "cell_type": "code",
   "metadata": {
    "ExecuteTime": {
     "end_time": "2024-12-02T18:52:14.616515Z",
     "start_time": "2024-12-02T18:52:14.614818Z"
    }
   },
   "source": [
    "import numpy as np\n",
    "import matplotlib.pyplot as plt\n",
    "from sklearn.model_selection import train_test_split\n",
    "from sklearn.linear_model import LinearRegression\n",
    "from sklearn.metrics import mean_squared_error, r2_score"
   ],
   "outputs": [],
   "execution_count": 93
  },
  {
   "cell_type": "code",
   "metadata": {
    "ExecuteTime": {
     "end_time": "2024-12-02T18:52:39.284035Z",
     "start_time": "2024-12-02T18:52:39.132040Z"
    }
   },
   "source": "X_train, X_test, y_train, y_test = train_test_split(X, y, test_size=0.2, random_state=5)",
   "outputs": [],
   "execution_count": 97
  },
  {
   "cell_type": "code",
   "metadata": {
    "ExecuteTime": {
     "end_time": "2024-12-02T18:52:40.966872Z",
     "start_time": "2024-12-02T18:52:40.901304Z"
    }
   },
   "source": [
    "model = LinearRegression()\n",
    "model.fit(X_train, y_train)\n",
    "\n",
    "y_pred = model.predict(X_test)"
   ],
   "outputs": [],
   "execution_count": 98
  },
  {
   "metadata": {
    "ExecuteTime": {
     "end_time": "2024-12-02T18:52:43.751227Z",
     "start_time": "2024-12-02T18:52:43.749195Z"
    }
   },
   "cell_type": "code",
   "source": "model.coef_, model.intercept_",
   "outputs": [
    {
     "data": {
      "text/plain": [
       "(array([[0.0005665]]), array([3.08884452]))"
      ]
     },
     "execution_count": 99,
     "metadata": {},
     "output_type": "execute_result"
    }
   ],
   "execution_count": 99
  },
  {
   "cell_type": "code",
   "metadata": {
    "ExecuteTime": {
     "end_time": "2024-12-02T18:52:47.668434Z",
     "start_time": "2024-12-02T18:52:47.662723Z"
    }
   },
   "source": [
    "mse = mean_squared_error(y_test, y_pred)\n",
    "r2 = r2_score(y_test, y_pred)\n",
    "\n",
    "print(f\"Mean Squared Error: {mse}\")\n",
    "print(f\"R² Score: {r2}\")"
   ],
   "outputs": [
    {
     "name": "stdout",
     "output_type": "stream",
     "text": [
      "Mean Squared Error: 29.58771912002914\n",
      "R² Score: 0.07412841639237677\n"
     ]
    }
   ],
   "execution_count": 100
  },
  {
   "cell_type": "code",
   "metadata": {
    "ExecuteTime": {
     "end_time": "2024-12-02T18:52:50.660372Z",
     "start_time": "2024-12-02T18:52:50.267321Z"
    }
   },
   "source": [
    "fig, ax = plt.subplots(figsize=(8,6))\n",
    "\n",
    "ax.scatter(y_test, y_pred, color='blue', label='Predicted vs True', s=2)\n",
    "\n",
    "x_line = np.linspace(0,200000,100)\n",
    "y_line = x_line * model.coef_[0] + model.intercept_\n",
    "\n",
    "ax.plot(x_line, y_line, color=\"black\", linestyle=\"-\")\n",
    "\n",
    "ax.set_xlim(0, 200)\n",
    "ax.set_ylim(0, 100)"
   ],
   "outputs": [
    {
     "data": {
      "text/plain": [
       "(0.0, 100.0)"
      ]
     },
     "execution_count": 101,
     "metadata": {},
     "output_type": "execute_result"
    },
    {
     "data": {
      "text/plain": [
       "<Figure size 800x600 with 1 Axes>"
      ],
      "image/png": "[encoded data removed]"
     },
     "metadata": {},
     "output_type": "display_data"
    }
   ],
   "execution_count": 101
  },
  {
   "metadata": {
    "ExecuteTime": {
     "end_time": "2024-12-02T18:52:52.043132Z",
     "start_time": "2024-12-02T18:52:51.682584Z"
    }
   },
   "cell_type": "code",
   "source": [
    "# create a 2d hist plot with a log scale on the bins\n",
    "fig, ax = plt.subplots(figsize=(8,6))\n",
    "\n",
    "hb = ax.hexbin(X_test.flatten(), y_test.flatten(), gridsize=50, cmap='inferno', bins='log')\n",
    "\n",
    "ax.set_xlabel('VIIRS FRP')\n",
    "ax.set_ylabel('MERRA2 PM2.5')\n",
    "ax.set_title('VIIRS Fire data 2DHist')\n",
    "fig.colorbar(hb, ax=ax)\n",
    "\n",
    "ax.plot(x_line, y_line, color=\"blue\", linestyle=\"-\", linewidth=2)\n",
    "\n",
    "ax.set_xlim(0, 100000)\n",
    "ax.set_ylim(0, 100)\n",
    "plt.show()\n"
   ],
   "outputs": [
    {
     "data": {
      "text/plain": [
       "<Figure size 800x600 with 2 Axes>"
      ],
      "image/png": "[encoded data removed]"
     },
     "metadata": {},
     "output_type": "display_data"
    }
   ],
   "execution_count": 102
  },
  {
   "metadata": {
    "ExecuteTime": {
     "end_time": "2024-12-02T18:52:54.039796Z",
     "start_time": "2024-12-02T18:52:53.908718Z"
    }
   },
   "cell_type": "code",
   "source": [
    "# reproduce the same plot, throwing away points with less than 10 counts\n",
    "fig, ax = plt.subplots(figsize=(8,6))\n",
    "\n",
    "hb = ax.hexbin(X_test.flatten(), y_test.flatten(), gridsize=100, cmap='inferno', bins='log', mincnt=10)\n",
    "\n",
    "ax.set_xlabel('VIIRS FRP')\n",
    "ax.set_ylabel('MERRA2 PM2.5')\n",
    "ax.set_title('VIIRS Fire data 2DHist')\n",
    "fig.colorbar(hb, ax=ax)\n",
    "\n",
    "ax.plot(x_line, y_line, color=\"blue\", linestyle=\"-\", linewidth=2)\n",
    "\n",
    "ax.set_xlim(0, 50000)\n",
    "ax.set_ylim(0, 100)\n",
    "\n",
    "plt.show()\n",
    "\n"
   ],
   "outputs": [
    {
     "data": {
      "text/plain": [
       "<Figure size 800x600 with 2 Axes>"
      ],
      "image/png": "[encoded data removed]"
     },
     "metadata": {},
     "output_type": "display_data"
    }
   ],
   "execution_count": 103
  },
  {
   "metadata": {},
   "cell_type": "code",
   "outputs": [],
   "execution_count": null,
   "source": "\n"
  },
  {
   "cell_type": "markdown",
   "metadata": {},
   "source": [
    "### Can we improve results by averaging PM2.5 data over 24 hours? 1 week?\n",
    "- currently, we are using 2-weeks of VIIRS data to predict PM2.5 at a specific day and time (1230 PM)"
   ]
  },
  {
   "cell_type": "markdown",
   "metadata": {},
   "source": [
    "## Displaying the data"
   ]
  },
  {
   "cell_type": "code",
   "metadata": {
    "ExecuteTime": {
     "end_time": "2024-12-02T18:57:25.157099Z",
     "start_time": "2024-12-02T18:57:25.024530Z"
    }
   },
   "source": [
    "start = datetime.strftime(periods[0][0], \"%Y-%m-%d\")\n",
    "end = datetime.strftime(periods[0][1], \"%Y-%m-%d\")\n",
    "\n",
    "heatmap = combined_ds.sel(time=end).fire_signal.values.squeeze()\n",
    "\n",
    "crs_proj4 = ccrs.AlbersEqualArea(\n",
    "    central_longitude=-115,  # Central meridian\n",
    "    central_latitude=45,     # Latitude of origin\n",
    "    standard_parallels=(42, 48)  # Standard parallels\n",
    ")\n",
    "\n",
    "plt.rcParams['figure.figsize'] = 10,10\n",
    "\n",
    "# Set up figure\n",
    "fig = plt.figure()\n",
    "\n",
    "ax = fig.add_subplot(121, projection=crs_proj4)\n",
    "ax.set_extent([x_min, x_max, y_min, y_max], crs=crs_proj4) # CONUS extent\n",
    "ax.coastlines(resolution='50m')\n",
    "ax.add_feature(cfeature.BORDERS)\n",
    "ax.add_feature(cfeature.STATES)\n",
    "\n",
    "ax.set_title(f\"Cumulative Fire Radiative Power (VIIRS)\", fontsize=14, fontweight='bold', y=1.08)\n",
    "ax.text(x=0.5, y = 1.02, s = f\"{start} to {end}\", transform=ax.transAxes, \n",
    "          ha='center', va='bottom', fontsize=12)\n",
    "# Set up filled and line contours\n",
    "# 10 levels from 0 to max\n",
    "max_val = heatmap.max()\n",
    "levels = np.linspace(0, max_val, 10)\n",
    "\n",
    "filled_c1 = ax.contourf(combined_ds.x, combined_ds.y, heatmap, levels=np.linspace(0,10000,11), \n",
    "                       transform=crs_proj4)\n",
    "\n",
    "# plot the MERRA2 data\n",
    "\n",
    "heatmap_merra2 = combined_ds.sel(time=end).MERRA2_CNN_Surface_PM25.values.squeeze()\n",
    "\n",
    "# Lat/lon grid lines\n",
    "#ax.gridlines(draw_labels=False, dms=True, x_inline=False, y_inline=False)\n",
    "\n",
    "ax2 = fig.add_subplot(122, projection=crs_proj4)\n",
    "ax2.set_extent([x_min, x_max, y_min, y_max], crs=crs_proj4) # CONUS extent\n",
    "ax2.coastlines(resolution='50m')\n",
    "ax2.add_feature(cfeature.BORDERS)\n",
    "ax2.add_feature(cfeature.STATES)\n",
    "\n",
    "# Set up filled and line contours\n",
    "# 10 levels from 0 to max\n",
    "max_val = heatmap_merra2.max()\n",
    "levels = np.linspace(0, max_val, 11)\n",
    "\n",
    "filled_c2 = ax2.contourf(combined_ds.x, combined_ds.y, heatmap_merra2, levels=levels, \n",
    "                       transform=crs_proj4)\n",
    "\n",
    "# Lat/lon grid lines\n",
    "#ax2.gridlines(draw_labels=False, dms=True, x_inline=False, y_inline=False)\n",
    "ax2.text(x=0.5, y = 1.02, s = f\"{end}, 12:30 PM\", transform=ax2.transAxes, \n",
    "          ha='center', va='bottom', fontsize=12)\n",
    "ax2.set_title(f\"PM2.5 Levels (MERRA-2)\", fontsize=14, fontweight='bold', y=1.08)\n",
    "\n",
    "# Set up colorbar and figure title\n",
    "# Add individual colorbars beneath each subplot\n",
    "cbar_ax1 = fig.add_axes([0.07, .3, 0.35, 0.03])  # [left, bottom, width, height] for first colorbar\n",
    "cbar_ax2 = fig.add_axes([0.57, .3, 0.35, 0.03])  # [left, bottom, width, height] for second colorbar\n",
    "\n",
    "fig.colorbar(filled_c1, cax=cbar_ax1, orientation='horizontal')  # Colorbar for first plot\n",
    "fig.colorbar(filled_c2, cax=cbar_ax2, orientation='horizontal')  # Colorbar for second plot\n",
    "\n",
    "fig.text(x=.43, y = .31, s = f\"MW\",\n",
    "          fontsize=10, fontweight=\"bold\")\n",
    "\n",
    "#fig.suptitle('VIIRS Fire data 2DHist', fontsize=16, y = .67)\n",
    "\n",
    "plt.tight_layout()\n",
    "\n",
    "plt.show()"
   ],
   "outputs": [
    {
     "data": {
      "text/plain": [
       "<Figure size 1000x1000 with 4 Axes>"
      ],
      "image/png": "[encoded data removed]"
     },
     "metadata": {},
     "output_type": "display_data"
    }
   ],
   "execution_count": 108
  }
 ],
 "metadata": {
  "kernelspec": {
   "display_name": "545",
   "language": "python",
   "name": "python3"
  },
  "language_info": {
   "codemirror_mode": {
    "name": "ipython",
    "version": 3
   },
   "file_extension": ".py",
   "mimetype": "text/x-python",
   "name": "python",
   "nbconvert_exporter": "python",
   "pygments_lexer": "ipython3",
   "version": "3.10.13"
  }
 },
 "nbformat": 4,
 "nbformat_minor": 2
}
