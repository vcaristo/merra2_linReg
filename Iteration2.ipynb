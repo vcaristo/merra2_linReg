{
 "cells": [
  {
   "cell_type": "code",
   "execution_count": 1,
   "metadata": {
    "ExecuteTime": {
     "end_time": "2024-11-29T19:52:39.739944Z",
     "start_time": "2024-11-29T19:52:39.077232Z"
    }
   },
   "outputs": [
    {
     "name": "stderr",
     "output_type": "stream",
     "text": [
      "/home/vince/miniconda3/envs/545/lib/python3.10/site-packages/pandas/core/arrays/masked.py:60: UserWarning: Pandas requires version '1.3.6' or newer of 'bottleneck' (version '1.3.5' currently installed).\n",
      "  from pandas.core import (\n"
     ]
    }
   ],
   "source": [
    "import xarray as xr\n",
    "import rioxarray as xrio\n",
    "import earthaccess\n",
    "import boto3\n",
    "import cartopy.crs as ccrs\n",
    "import cartopy.feature as cfeature\n",
    "import matplotlib.pyplot as plt\n",
    "import warnings\n",
    "from IPython.display import display, Markdown\n",
    "import numpy as np\n",
    "from pathlib import Path\n",
    "Path.cwd()\n",
    "\n",
    "warnings.filterwarnings('ignore')\n",
    "%matplotlib inline"
   ]
  },
  {
   "cell_type": "code",
   "execution_count": 2,
   "metadata": {
    "ExecuteTime": {
     "end_time": "2024-11-29T20:01:41.721451Z",
     "start_time": "2024-11-29T20:01:41.716690Z"
    }
   },
   "outputs": [],
   "source": [
    "import netCDF4"
   ]
  },
  {
   "cell_type": "code",
   "execution_count": null,
   "metadata": {
    "ExecuteTime": {
     "end_time": "2024-11-29T20:01:42.563360Z",
     "start_time": "2024-11-29T20:01:42.297259Z"
    }
   },
   "outputs": [],
   "source": [
    "import boto3\n",
    "s3_client = boto3.client('s3')\n",
    "response = s3_client.list_buckets()\n",
    "for bucket in response['Buckets']:\n",
    "    print(bucket['Name'])"
   ]
  },
  {
   "cell_type": "code",
   "execution_count": 4,
   "metadata": {
    "ExecuteTime": {
     "end_time": "2024-11-29T20:01:44.009419Z",
     "start_time": "2024-11-29T20:01:44.004191Z"
    }
   },
   "outputs": [
    {
     "data": {
      "text/markdown": [
       "### us-west-2 Region Check: &#x2705;"
      ],
      "text/plain": [
       "<IPython.core.display.Markdown object>"
      ]
     },
     "metadata": {},
     "output_type": "display_data"
    }
   ],
   "source": [
    "if (boto3.client('s3').meta.region_name == 'us-west-2'):\n",
    "    display(Markdown('### us-west-2 Region Check: &#x2705;'))\n",
    "else:\n",
    "    display(Markdown('### us-west-2 Region Check: &#10060;'))\n",
    "    raise ValueError('Your notebook is not running inside the AWS us-west-2 region, and will not be able to directly access NASA Earthdata S')"
   ]
  },
  {
   "cell_type": "code",
   "execution_count": 5,
   "metadata": {
    "ExecuteTime": {
     "end_time": "2024-11-29T20:01:46.146533Z",
     "start_time": "2024-11-29T20:01:44.718470Z"
    }
   },
   "outputs": [],
   "source": [
    "# Authenticate using Earthdata Login prerequisite files\n",
    "auth = earthaccess.login()"
   ]
  },
  {
   "cell_type": "markdown",
   "metadata": {},
   "source": [
    "From GES-DISC web search (https://disc.gsfc.nasa.gov):\n",
    "\n",
    "All data available from 1980 to Present\n",
    "\n",
    "Need to Calculate PM2.5 from a formula\n",
    "\n",
    "PM2.5 Hourly: C1276812830-GES_DISC, s3://gesdisc-cumulus-prod-protected/MERRA2/M2T1NXAER.5.12.4/\n",
    "\n",
    "    - https://disc.gsfc.nasa.gov/datasets/M2T1NXAER_5.12.4/summary\n",
    "\n",
    "PM2.5 Monthly : C1276812866-GES_DISC, s3://gesdisc-cumulus-prod-protected/MERRA2_MONTHLY/M2TMNXAER.5.12.4/\n",
    "\n",
    "    - https://disc.gsfc.nasa.gov/datasets/M2TMNXAER_5.12.4/summary\n",
    "\n",
    "PM2.5 Monthly (Hourly Average): C1276812869-GES_DISC, s3://gesdisc-cumulus-prod-protected/MERRA2_DIURNAL/M2TUNXAER.5.12.4/\n",
    "\n",
    "    - https://disc.gsfc.nasa.gov/datasets/M2TUNXAER_5.12.4/summary\n",
    "\n",
    "MERRA2_CNN_HAQAST bias corrected global hourly surface total PM2.5 mass concentration, V1 (MERRA2_CNN_HAQAST_PM25): C3094710982-GES_DISC, s3://gesdisc-cumulus-prod-protected/HAQAST/MERRA2_CNN_HAQAST_PM25.1/\n",
    "\n",
    "    - https://disc.gsfc.nasa.gov/datasets/MERRA2_CNN_HAQAST_PM25_1/summary\n",
    "    - 2000-01-01 to  2024-06-01"
   ]
  },
  {
   "cell_type": "code",
   "execution_count": 6,
   "metadata": {
    "ExecuteTime": {
     "end_time": "2024-11-29T20:25:33.936591Z",
     "start_time": "2024-11-29T20:25:33.933985Z"
    }
   },
   "outputs": [
    {
     "name": "stdout",
     "output_type": "stream",
     "text": [
      "['2022-05-01', '2022-05-08', '2022-05-15', '2022-05-22', '2022-05-29', '2022-06-05', '2022-06-12', '2022-06-19', '2022-06-26', '2022-07-03', '2022-07-10', '2022-07-17', '2022-07-24', '2022-07-31', '2022-08-07', '2022-08-14', '2022-08-21', '2022-08-28', '2022-09-04', '2022-09-11', '2022-09-18', '2022-09-25', '2022-10-02', '2022-10-09', '2022-10-16', '2022-10-23', '2022-10-30']\n"
     ]
    }
   ],
   "source": [
    "from datetime import datetime, timedelta\n",
    "\n",
    "def get_sundays(start_date, end_date):\n",
    "    \"\"\"\n",
    "    Return a list of Sundays within the given date interval.\n",
    "    \n",
    "    Parameters:\n",
    "        start_date (str): The start date in \"YYYY-MM-DD\" format.\n",
    "        end_date (str): The end date in \"YYYY-MM-DD\" format.\n",
    "    \n",
    "    Returns:\n",
    "        list of str: List of Sundays in \"YYYY-MM-DD\" format.\n",
    "    \"\"\"\n",
    "    # Convert start and end dates to datetime objects\n",
    "    start = datetime.strptime(start_date, \"%Y-%m-%d\")\n",
    "    end = datetime.strptime(end_date, \"%Y-%m-%d\")\n",
    "    \n",
    "    # Find the first Sunday on or after the start date\n",
    "    current = start + timedelta(days=(6 - start.weekday()) % 7)\n",
    "    \n",
    "    # Generate all Sundays within the interval\n",
    "    sundays = []\n",
    "    while current <= end:\n",
    "        sundays.append(current.strftime(\"%Y-%m-%d\"))\n",
    "        current += timedelta(days=7)  # Move to the next Sunday\n",
    "    \n",
    "    return sundays\n",
    "\n",
    "# Example usage\n",
    "start_date = \"2022-05-01\"\n",
    "end_date = \"2022-10-30\"\n",
    "sundays = get_sundays(start_date, end_date)\n",
    "print(sundays)"
   ]
  },
  {
   "cell_type": "code",
   "execution_count": 7,
   "metadata": {
    "ExecuteTime": {
     "end_time": "2024-11-29T19:59:44.298586Z",
     "start_time": "2024-11-29T19:59:44.296587Z"
    }
   },
   "outputs": [
    {
     "data": {
      "text/plain": [
       "PosixPath('/home/vince/Documents/UM_591_Data/Project_4/merra_data')"
      ]
     },
     "execution_count": 7,
     "metadata": {},
     "output_type": "execute_result"
    }
   ],
   "source": [
    "Path.cwd() /'merra_data'"
   ]
  },
  {
   "cell_type": "code",
   "execution_count": 9,
   "metadata": {
    "ExecuteTime": {
     "end_time": "2024-11-29T20:27:04.979921Z",
     "start_time": "2024-11-29T20:25:40.599216Z"
    }
   },
   "outputs": [
    {
     "data": {
      "application/vnd.jupyter.widget-view+json": {
       "model_id": "0fb240871ddb474d9c916ffb0ff40bc7",
       "version_major": 2,
       "version_minor": 0
      },
      "text/plain": [
       "QUEUEING TASKS | :   0%|          | 0/1 [00:00<?, ?it/s]"
      ]
     },
     "metadata": {},
     "output_type": "display_data"
    },
    {
     "data": {
      "application/vnd.jupyter.widget-view+json": {
       "model_id": "b2a1a6df47b94e1b8abb24cd02d44dd4",
       "version_major": 2,
       "version_minor": 0
      },
      "text/plain": [
       "PROCESSING TASKS | :   0%|          | 0/1 [00:00<?, ?it/s]"
      ]
     },
     "metadata": {},
     "output_type": "display_data"
    },
    {
     "data": {
      "application/vnd.jupyter.widget-view+json": {
       "model_id": "5139cf7ead574c94b531c1c8ac3f5c06",
       "version_major": 2,
       "version_minor": 0
      },
      "text/plain": [
       "COLLECTING RESULTS | :   0%|          | 0/1 [00:00<?, ?it/s]"
      ]
     },
     "metadata": {},
     "output_type": "display_data"
    },
    {
     "data": {
      "application/vnd.jupyter.widget-view+json": {
       "model_id": "6af836f1b5684abea8098cbe20e02401",
       "version_major": 2,
       "version_minor": 0
      },
      "text/plain": [
       "QUEUEING TASKS | :   0%|          | 0/1 [00:00<?, ?it/s]"
      ]
     },
     "metadata": {},
     "output_type": "display_data"
    },
    {
     "data": {
      "application/vnd.jupyter.widget-view+json": {
       "model_id": "b291e06462ba4b01b2ceecc3e889c595",
       "version_major": 2,
       "version_minor": 0
      },
      "text/plain": [
       "PROCESSING TASKS | :   0%|          | 0/1 [00:00<?, ?it/s]"
      ]
     },
     "metadata": {},
     "output_type": "display_data"
    },
    {
     "data": {
      "application/vnd.jupyter.widget-view+json": {
       "model_id": "9fa0e003c4b24e7d8817a45b314efd01",
       "version_major": 2,
       "version_minor": 0
      },
      "text/plain": [
       "COLLECTING RESULTS | :   0%|          | 0/1 [00:00<?, ?it/s]"
      ]
     },
     "metadata": {},
     "output_type": "display_data"
    },
    {
     "data": {
      "application/vnd.jupyter.widget-view+json": {
       "model_id": "66d69f98aef240b99a008883a220a121",
       "version_major": 2,
       "version_minor": 0
      },
      "text/plain": [
       "QUEUEING TASKS | :   0%|          | 0/1 [00:00<?, ?it/s]"
      ]
     },
     "metadata": {},
     "output_type": "display_data"
    },
    {
     "data": {
      "application/vnd.jupyter.widget-view+json": {
       "model_id": "ab90f51536cf49d9a1a0bbd8fc3e5d70",
       "version_major": 2,
       "version_minor": 0
      },
      "text/plain": [
       "PROCESSING TASKS | :   0%|          | 0/1 [00:00<?, ?it/s]"
      ]
     },
     "metadata": {},
     "output_type": "display_data"
    },
    {
     "data": {
      "application/vnd.jupyter.widget-view+json": {
       "model_id": "e7edcdada1c445518eae1a8f1fdcf1df",
       "version_major": 2,
       "version_minor": 0
      },
      "text/plain": [
       "COLLECTING RESULTS | :   0%|          | 0/1 [00:00<?, ?it/s]"
      ]
     },
     "metadata": {},
     "output_type": "display_data"
    },
    {
     "data": {
      "application/vnd.jupyter.widget-view+json": {
       "model_id": "79e29436ac874c93bef4234197805364",
       "version_major": 2,
       "version_minor": 0
      },
      "text/plain": [
       "QUEUEING TASKS | :   0%|          | 0/1 [00:00<?, ?it/s]"
      ]
     },
     "metadata": {},
     "output_type": "display_data"
    },
    {
     "data": {
      "application/vnd.jupyter.widget-view+json": {
       "model_id": "e8713ff11fc8429098f7967834ae0f95",
       "version_major": 2,
       "version_minor": 0
      },
      "text/plain": [
       "PROCESSING TASKS | :   0%|          | 0/1 [00:00<?, ?it/s]"
      ]
     },
     "metadata": {},
     "output_type": "display_data"
    },
    {
     "data": {
      "application/vnd.jupyter.widget-view+json": {
       "model_id": "1b45aeda6f4d4a49a55aea7dcd6f8be7",
       "version_major": 2,
       "version_minor": 0
      },
      "text/plain": [
       "COLLECTING RESULTS | :   0%|          | 0/1 [00:00<?, ?it/s]"
      ]
     },
     "metadata": {},
     "output_type": "display_data"
    },
    {
     "data": {
      "application/vnd.jupyter.widget-view+json": {
       "model_id": "af516ae77e94449481dfea5ef3615313",
       "version_major": 2,
       "version_minor": 0
      },
      "text/plain": [
       "QUEUEING TASKS | :   0%|          | 0/1 [00:00<?, ?it/s]"
      ]
     },
     "metadata": {},
     "output_type": "display_data"
    },
    {
     "data": {
      "application/vnd.jupyter.widget-view+json": {
       "model_id": "d78171f39d1c4b2895924781e76e8632",
       "version_major": 2,
       "version_minor": 0
      },
      "text/plain": [
       "PROCESSING TASKS | :   0%|          | 0/1 [00:00<?, ?it/s]"
      ]
     },
     "metadata": {},
     "output_type": "display_data"
    },
    {
     "data": {
      "application/vnd.jupyter.widget-view+json": {
       "model_id": "4251d640cc25403aa4a87beb09227eb5",
       "version_major": 2,
       "version_minor": 0
      },
      "text/plain": [
       "COLLECTING RESULTS | :   0%|          | 0/1 [00:00<?, ?it/s]"
      ]
     },
     "metadata": {},
     "output_type": "display_data"
    },
    {
     "data": {
      "application/vnd.jupyter.widget-view+json": {
       "model_id": "3038f34d2b8541809177e07010371bc1",
       "version_major": 2,
       "version_minor": 0
      },
      "text/plain": [
       "QUEUEING TASKS | :   0%|          | 0/1 [00:00<?, ?it/s]"
      ]
     },
     "metadata": {},
     "output_type": "display_data"
    },
    {
     "data": {
      "application/vnd.jupyter.widget-view+json": {
       "model_id": "e3bd1c1355044bc881559db17f169428",
       "version_major": 2,
       "version_minor": 0
      },
      "text/plain": [
       "PROCESSING TASKS | :   0%|          | 0/1 [00:00<?, ?it/s]"
      ]
     },
     "metadata": {},
     "output_type": "display_data"
    },
    {
     "data": {
      "application/vnd.jupyter.widget-view+json": {
       "model_id": "97c3bef06d314598b75508c45ae7fe4d",
       "version_major": 2,
       "version_minor": 0
      },
      "text/plain": [
       "COLLECTING RESULTS | :   0%|          | 0/1 [00:00<?, ?it/s]"
      ]
     },
     "metadata": {},
     "output_type": "display_data"
    },
    {
     "data": {
      "application/vnd.jupyter.widget-view+json": {
       "model_id": "0410b6e37640415190e3e5d1e2792a24",
       "version_major": 2,
       "version_minor": 0
      },
      "text/plain": [
       "QUEUEING TASKS | :   0%|          | 0/1 [00:00<?, ?it/s]"
      ]
     },
     "metadata": {},
     "output_type": "display_data"
    },
    {
     "data": {
      "application/vnd.jupyter.widget-view+json": {
       "model_id": "4e28821d237e454cae7524ec848aa6d0",
       "version_major": 2,
       "version_minor": 0
      },
      "text/plain": [
       "PROCESSING TASKS | :   0%|          | 0/1 [00:00<?, ?it/s]"
      ]
     },
     "metadata": {},
     "output_type": "display_data"
    },
    {
     "data": {
      "application/vnd.jupyter.widget-view+json": {
       "model_id": "f96c742f886c44f3a59441bf236a9b9c",
       "version_major": 2,
       "version_minor": 0
      },
      "text/plain": [
       "COLLECTING RESULTS | :   0%|          | 0/1 [00:00<?, ?it/s]"
      ]
     },
     "metadata": {},
     "output_type": "display_data"
    },
    {
     "data": {
      "application/vnd.jupyter.widget-view+json": {
       "model_id": "1fb6bf1513f74008a979fed4a5ac02b4",
       "version_major": 2,
       "version_minor": 0
      },
      "text/plain": [
       "QUEUEING TASKS | :   0%|          | 0/1 [00:00<?, ?it/s]"
      ]
     },
     "metadata": {},
     "output_type": "display_data"
    },
    {
     "data": {
      "application/vnd.jupyter.widget-view+json": {
       "model_id": "59e1ad7cd93049368df5b7b38cc3f244",
       "version_major": 2,
       "version_minor": 0
      },
      "text/plain": [
       "PROCESSING TASKS | :   0%|          | 0/1 [00:00<?, ?it/s]"
      ]
     },
     "metadata": {},
     "output_type": "display_data"
    },
    {
     "data": {
      "application/vnd.jupyter.widget-view+json": {
       "model_id": "80aa859b9f874bb6806a38cf66e8264d",
       "version_major": 2,
       "version_minor": 0
      },
      "text/plain": [
       "COLLECTING RESULTS | :   0%|          | 0/1 [00:00<?, ?it/s]"
      ]
     },
     "metadata": {},
     "output_type": "display_data"
    },
    {
     "data": {
      "application/vnd.jupyter.widget-view+json": {
       "model_id": "421e0740c4e9447aa2b74c5f21ea7ecf",
       "version_major": 2,
       "version_minor": 0
      },
      "text/plain": [
       "QUEUEING TASKS | :   0%|          | 0/1 [00:00<?, ?it/s]"
      ]
     },
     "metadata": {},
     "output_type": "display_data"
    },
    {
     "data": {
      "application/vnd.jupyter.widget-view+json": {
       "model_id": "2297e30fc1604024ae8da0e735153fb6",
       "version_major": 2,
       "version_minor": 0
      },
      "text/plain": [
       "PROCESSING TASKS | :   0%|          | 0/1 [00:00<?, ?it/s]"
      ]
     },
     "metadata": {},
     "output_type": "display_data"
    },
    {
     "data": {
      "application/vnd.jupyter.widget-view+json": {
       "model_id": "6f5fbcd53b684fe0afbc9c931be827ba",
       "version_major": 2,
       "version_minor": 0
      },
      "text/plain": [
       "COLLECTING RESULTS | :   0%|          | 0/1 [00:00<?, ?it/s]"
      ]
     },
     "metadata": {},
     "output_type": "display_data"
    },
    {
     "data": {
      "application/vnd.jupyter.widget-view+json": {
       "model_id": "5dde7e6cb0294aa39a316c9cd16f79e5",
       "version_major": 2,
       "version_minor": 0
      },
      "text/plain": [
       "QUEUEING TASKS | :   0%|          | 0/1 [00:00<?, ?it/s]"
      ]
     },
     "metadata": {},
     "output_type": "display_data"
    },
    {
     "data": {
      "application/vnd.jupyter.widget-view+json": {
       "model_id": "8dec93ac4c954421b0b2151e2ba5ba48",
       "version_major": 2,
       "version_minor": 0
      },
      "text/plain": [
       "PROCESSING TASKS | :   0%|          | 0/1 [00:00<?, ?it/s]"
      ]
     },
     "metadata": {},
     "output_type": "display_data"
    },
    {
     "data": {
      "application/vnd.jupyter.widget-view+json": {
       "model_id": "e18b001dabe945f298eff398aa2ad238",
       "version_major": 2,
       "version_minor": 0
      },
      "text/plain": [
       "COLLECTING RESULTS | :   0%|          | 0/1 [00:00<?, ?it/s]"
      ]
     },
     "metadata": {},
     "output_type": "display_data"
    },
    {
     "data": {
      "application/vnd.jupyter.widget-view+json": {
       "model_id": "0b3e5c51eae143ff851e03e80b5a939b",
       "version_major": 2,
       "version_minor": 0
      },
      "text/plain": [
       "QUEUEING TASKS | :   0%|          | 0/1 [00:00<?, ?it/s]"
      ]
     },
     "metadata": {},
     "output_type": "display_data"
    },
    {
     "data": {
      "application/vnd.jupyter.widget-view+json": {
       "model_id": "51c2ad16618343fbb49c3d537958ec93",
       "version_major": 2,
       "version_minor": 0
      },
      "text/plain": [
       "PROCESSING TASKS | :   0%|          | 0/1 [00:00<?, ?it/s]"
      ]
     },
     "metadata": {},
     "output_type": "display_data"
    },
    {
     "data": {
      "application/vnd.jupyter.widget-view+json": {
       "model_id": "91918e2013db41398d455c6abae1f6b3",
       "version_major": 2,
       "version_minor": 0
      },
      "text/plain": [
       "COLLECTING RESULTS | :   0%|          | 0/1 [00:00<?, ?it/s]"
      ]
     },
     "metadata": {},
     "output_type": "display_data"
    },
    {
     "data": {
      "application/vnd.jupyter.widget-view+json": {
       "model_id": "c566f70f8ed34396898757f204c1d91f",
       "version_major": 2,
       "version_minor": 0
      },
      "text/plain": [
       "QUEUEING TASKS | :   0%|          | 0/1 [00:00<?, ?it/s]"
      ]
     },
     "metadata": {},
     "output_type": "display_data"
    },
    {
     "data": {
      "application/vnd.jupyter.widget-view+json": {
       "model_id": "41d1efb952664803ae9f19f5e569b9ff",
       "version_major": 2,
       "version_minor": 0
      },
      "text/plain": [
       "PROCESSING TASKS | :   0%|          | 0/1 [00:00<?, ?it/s]"
      ]
     },
     "metadata": {},
     "output_type": "display_data"
    },
    {
     "data": {
      "application/vnd.jupyter.widget-view+json": {
       "model_id": "dd352e57f8d742fc942e5f6b3f07b4f6",
       "version_major": 2,
       "version_minor": 0
      },
      "text/plain": [
       "COLLECTING RESULTS | :   0%|          | 0/1 [00:00<?, ?it/s]"
      ]
     },
     "metadata": {},
     "output_type": "display_data"
    },
    {
     "data": {
      "application/vnd.jupyter.widget-view+json": {
       "model_id": "1dd2859e2c5f4adfbc36590b40ad812b",
       "version_major": 2,
       "version_minor": 0
      },
      "text/plain": [
       "QUEUEING TASKS | :   0%|          | 0/1 [00:00<?, ?it/s]"
      ]
     },
     "metadata": {},
     "output_type": "display_data"
    },
    {
     "data": {
      "application/vnd.jupyter.widget-view+json": {
       "model_id": "9eafa37f41ad45db800f6c107da6b3c9",
       "version_major": 2,
       "version_minor": 0
      },
      "text/plain": [
       "PROCESSING TASKS | :   0%|          | 0/1 [00:00<?, ?it/s]"
      ]
     },
     "metadata": {},
     "output_type": "display_data"
    },
    {
     "data": {
      "application/vnd.jupyter.widget-view+json": {
       "model_id": "6d506cc9bf934414abcf47147600bc79",
       "version_major": 2,
       "version_minor": 0
      },
      "text/plain": [
       "COLLECTING RESULTS | :   0%|          | 0/1 [00:00<?, ?it/s]"
      ]
     },
     "metadata": {},
     "output_type": "display_data"
    },
    {
     "data": {
      "application/vnd.jupyter.widget-view+json": {
       "model_id": "f6457dba6bba4c1cbd0f080c4dc7009c",
       "version_major": 2,
       "version_minor": 0
      },
      "text/plain": [
       "QUEUEING TASKS | :   0%|          | 0/1 [00:00<?, ?it/s]"
      ]
     },
     "metadata": {},
     "output_type": "display_data"
    },
    {
     "data": {
      "application/vnd.jupyter.widget-view+json": {
       "model_id": "19e950eb925e48969b56b0aa15d653ce",
       "version_major": 2,
       "version_minor": 0
      },
      "text/plain": [
       "PROCESSING TASKS | :   0%|          | 0/1 [00:00<?, ?it/s]"
      ]
     },
     "metadata": {},
     "output_type": "display_data"
    },
    {
     "data": {
      "application/vnd.jupyter.widget-view+json": {
       "model_id": "4ad8df642e2242e1a6581f128e8109df",
       "version_major": 2,
       "version_minor": 0
      },
      "text/plain": [
       "COLLECTING RESULTS | :   0%|          | 0/1 [00:00<?, ?it/s]"
      ]
     },
     "metadata": {},
     "output_type": "display_data"
    },
    {
     "data": {
      "application/vnd.jupyter.widget-view+json": {
       "model_id": "e27cde84dbdd4a5eb8323d4894a77d30",
       "version_major": 2,
       "version_minor": 0
      },
      "text/plain": [
       "QUEUEING TASKS | :   0%|          | 0/1 [00:00<?, ?it/s]"
      ]
     },
     "metadata": {},
     "output_type": "display_data"
    },
    {
     "data": {
      "application/vnd.jupyter.widget-view+json": {
       "model_id": "6123ef16e79a4a829cab7b2948cc4d7c",
       "version_major": 2,
       "version_minor": 0
      },
      "text/plain": [
       "PROCESSING TASKS | :   0%|          | 0/1 [00:00<?, ?it/s]"
      ]
     },
     "metadata": {},
     "output_type": "display_data"
    },
    {
     "data": {
      "application/vnd.jupyter.widget-view+json": {
       "model_id": "8774029570a84466952356e2031a6f6c",
       "version_major": 2,
       "version_minor": 0
      },
      "text/plain": [
       "COLLECTING RESULTS | :   0%|          | 0/1 [00:00<?, ?it/s]"
      ]
     },
     "metadata": {},
     "output_type": "display_data"
    },
    {
     "data": {
      "application/vnd.jupyter.widget-view+json": {
       "model_id": "9018d0894e7a4ef2bb6c8055eb5597b8",
       "version_major": 2,
       "version_minor": 0
      },
      "text/plain": [
       "QUEUEING TASKS | :   0%|          | 0/1 [00:00<?, ?it/s]"
      ]
     },
     "metadata": {},
     "output_type": "display_data"
    },
    {
     "data": {
      "application/vnd.jupyter.widget-view+json": {
       "model_id": "442d10fd979e4f25bf6d9398fa2538c3",
       "version_major": 2,
       "version_minor": 0
      },
      "text/plain": [
       "PROCESSING TASKS | :   0%|          | 0/1 [00:00<?, ?it/s]"
      ]
     },
     "metadata": {},
     "output_type": "display_data"
    },
    {
     "data": {
      "application/vnd.jupyter.widget-view+json": {
       "model_id": "ddc4a5d32afd460ea366010e62262a91",
       "version_major": 2,
       "version_minor": 0
      },
      "text/plain": [
       "COLLECTING RESULTS | :   0%|          | 0/1 [00:00<?, ?it/s]"
      ]
     },
     "metadata": {},
     "output_type": "display_data"
    },
    {
     "data": {
      "application/vnd.jupyter.widget-view+json": {
       "model_id": "e08bdc2fc1b94d4fb46bd448aa28b4ba",
       "version_major": 2,
       "version_minor": 0
      },
      "text/plain": [
       "QUEUEING TASKS | :   0%|          | 0/1 [00:00<?, ?it/s]"
      ]
     },
     "metadata": {},
     "output_type": "display_data"
    },
    {
     "data": {
      "application/vnd.jupyter.widget-view+json": {
       "model_id": "306d2aff8f214ec2b6c55eaf20199c58",
       "version_major": 2,
       "version_minor": 0
      },
      "text/plain": [
       "PROCESSING TASKS | :   0%|          | 0/1 [00:00<?, ?it/s]"
      ]
     },
     "metadata": {},
     "output_type": "display_data"
    },
    {
     "data": {
      "application/vnd.jupyter.widget-view+json": {
       "model_id": "5f2b91cfa781459fa20213361928364d",
       "version_major": 2,
       "version_minor": 0
      },
      "text/plain": [
       "COLLECTING RESULTS | :   0%|          | 0/1 [00:00<?, ?it/s]"
      ]
     },
     "metadata": {},
     "output_type": "display_data"
    },
    {
     "data": {
      "application/vnd.jupyter.widget-view+json": {
       "model_id": "b4cc11f7231a4d5885878ac0b135ee5f",
       "version_major": 2,
       "version_minor": 0
      },
      "text/plain": [
       "QUEUEING TASKS | :   0%|          | 0/1 [00:00<?, ?it/s]"
      ]
     },
     "metadata": {},
     "output_type": "display_data"
    },
    {
     "data": {
      "application/vnd.jupyter.widget-view+json": {
       "model_id": "d9329cae6e4d4a30980add0a55edc9b0",
       "version_major": 2,
       "version_minor": 0
      },
      "text/plain": [
       "PROCESSING TASKS | :   0%|          | 0/1 [00:00<?, ?it/s]"
      ]
     },
     "metadata": {},
     "output_type": "display_data"
    },
    {
     "data": {
      "application/vnd.jupyter.widget-view+json": {
       "model_id": "ad631809c8494559911845644ef32556",
       "version_major": 2,
       "version_minor": 0
      },
      "text/plain": [
       "COLLECTING RESULTS | :   0%|          | 0/1 [00:00<?, ?it/s]"
      ]
     },
     "metadata": {},
     "output_type": "display_data"
    },
    {
     "data": {
      "application/vnd.jupyter.widget-view+json": {
       "model_id": "61bee14e285245ba9b1e03f6eacff803",
       "version_major": 2,
       "version_minor": 0
      },
      "text/plain": [
       "QUEUEING TASKS | :   0%|          | 0/1 [00:00<?, ?it/s]"
      ]
     },
     "metadata": {},
     "output_type": "display_data"
    },
    {
     "data": {
      "application/vnd.jupyter.widget-view+json": {
       "model_id": "47a88bc5cda04075befcf09e3a5e86d7",
       "version_major": 2,
       "version_minor": 0
      },
      "text/plain": [
       "PROCESSING TASKS | :   0%|          | 0/1 [00:00<?, ?it/s]"
      ]
     },
     "metadata": {},
     "output_type": "display_data"
    },
    {
     "data": {
      "application/vnd.jupyter.widget-view+json": {
       "model_id": "dac3ec34926b411183cd10acd8063e24",
       "version_major": 2,
       "version_minor": 0
      },
      "text/plain": [
       "COLLECTING RESULTS | :   0%|          | 0/1 [00:00<?, ?it/s]"
      ]
     },
     "metadata": {},
     "output_type": "display_data"
    },
    {
     "data": {
      "application/vnd.jupyter.widget-view+json": {
       "model_id": "4ee7216a08864f18b612b4bb2a5234e2",
       "version_major": 2,
       "version_minor": 0
      },
      "text/plain": [
       "QUEUEING TASKS | :   0%|          | 0/1 [00:00<?, ?it/s]"
      ]
     },
     "metadata": {},
     "output_type": "display_data"
    },
    {
     "data": {
      "application/vnd.jupyter.widget-view+json": {
       "model_id": "c82f64409a674147ad0b199d2f412533",
       "version_major": 2,
       "version_minor": 0
      },
      "text/plain": [
       "PROCESSING TASKS | :   0%|          | 0/1 [00:00<?, ?it/s]"
      ]
     },
     "metadata": {},
     "output_type": "display_data"
    },
    {
     "data": {
      "application/vnd.jupyter.widget-view+json": {
       "model_id": "d25240bcc1824921819574c646accb21",
       "version_major": 2,
       "version_minor": 0
      },
      "text/plain": [
       "COLLECTING RESULTS | :   0%|          | 0/1 [00:00<?, ?it/s]"
      ]
     },
     "metadata": {},
     "output_type": "display_data"
    },
    {
     "data": {
      "application/vnd.jupyter.widget-view+json": {
       "model_id": "875c09350a8f4f2db24aa563f8308faa",
       "version_major": 2,
       "version_minor": 0
      },
      "text/plain": [
       "QUEUEING TASKS | :   0%|          | 0/1 [00:00<?, ?it/s]"
      ]
     },
     "metadata": {},
     "output_type": "display_data"
    },
    {
     "data": {
      "application/vnd.jupyter.widget-view+json": {
       "model_id": "dba6d1afceb645199d0c12bcfe821d7c",
       "version_major": 2,
       "version_minor": 0
      },
      "text/plain": [
       "PROCESSING TASKS | :   0%|          | 0/1 [00:00<?, ?it/s]"
      ]
     },
     "metadata": {},
     "output_type": "display_data"
    },
    {
     "data": {
      "application/vnd.jupyter.widget-view+json": {
       "model_id": "3c6a9f71e4aa40a8bd436b26a8529c97",
       "version_major": 2,
       "version_minor": 0
      },
      "text/plain": [
       "COLLECTING RESULTS | :   0%|          | 0/1 [00:00<?, ?it/s]"
      ]
     },
     "metadata": {},
     "output_type": "display_data"
    },
    {
     "data": {
      "application/vnd.jupyter.widget-view+json": {
       "model_id": "8eaa1f0a780748d884297d6fbdcc5a7b",
       "version_major": 2,
       "version_minor": 0
      },
      "text/plain": [
       "QUEUEING TASKS | :   0%|          | 0/1 [00:00<?, ?it/s]"
      ]
     },
     "metadata": {},
     "output_type": "display_data"
    },
    {
     "data": {
      "application/vnd.jupyter.widget-view+json": {
       "model_id": "75e81e0062934cc6adadf3f93fd2e4a3",
       "version_major": 2,
       "version_minor": 0
      },
      "text/plain": [
       "PROCESSING TASKS | :   0%|          | 0/1 [00:00<?, ?it/s]"
      ]
     },
     "metadata": {},
     "output_type": "display_data"
    },
    {
     "data": {
      "application/vnd.jupyter.widget-view+json": {
       "model_id": "179ba19096514a09826b3ef991d88f51",
       "version_major": 2,
       "version_minor": 0
      },
      "text/plain": [
       "COLLECTING RESULTS | :   0%|          | 0/1 [00:00<?, ?it/s]"
      ]
     },
     "metadata": {},
     "output_type": "display_data"
    },
    {
     "data": {
      "application/vnd.jupyter.widget-view+json": {
       "model_id": "b86982200da740f3999e56545f49ee14",
       "version_major": 2,
       "version_minor": 0
      },
      "text/plain": [
       "QUEUEING TASKS | :   0%|          | 0/1 [00:00<?, ?it/s]"
      ]
     },
     "metadata": {},
     "output_type": "display_data"
    },
    {
     "data": {
      "application/vnd.jupyter.widget-view+json": {
       "model_id": "e63add44331047d8b6c3a02003317055",
       "version_major": 2,
       "version_minor": 0
      },
      "text/plain": [
       "PROCESSING TASKS | :   0%|          | 0/1 [00:00<?, ?it/s]"
      ]
     },
     "metadata": {},
     "output_type": "display_data"
    },
    {
     "data": {
      "application/vnd.jupyter.widget-view+json": {
       "model_id": "9ed877df29384291b571394f1d04ab38",
       "version_major": 2,
       "version_minor": 0
      },
      "text/plain": [
       "COLLECTING RESULTS | :   0%|          | 0/1 [00:00<?, ?it/s]"
      ]
     },
     "metadata": {},
     "output_type": "display_data"
    },
    {
     "data": {
      "application/vnd.jupyter.widget-view+json": {
       "model_id": "fb4dfe671e9e415ea53f48fc972c6bb2",
       "version_major": 2,
       "version_minor": 0
      },
      "text/plain": [
       "QUEUEING TASKS | :   0%|          | 0/1 [00:00<?, ?it/s]"
      ]
     },
     "metadata": {},
     "output_type": "display_data"
    },
    {
     "data": {
      "application/vnd.jupyter.widget-view+json": {
       "model_id": "41640e9d02da416199324976644a0196",
       "version_major": 2,
       "version_minor": 0
      },
      "text/plain": [
       "PROCESSING TASKS | :   0%|          | 0/1 [00:00<?, ?it/s]"
      ]
     },
     "metadata": {},
     "output_type": "display_data"
    },
    {
     "data": {
      "application/vnd.jupyter.widget-view+json": {
       "model_id": "7054b3e02c154ff1b53a496c6e062909",
       "version_major": 2,
       "version_minor": 0
      },
      "text/plain": [
       "COLLECTING RESULTS | :   0%|          | 0/1 [00:00<?, ?it/s]"
      ]
     },
     "metadata": {},
     "output_type": "display_data"
    },
    {
     "data": {
      "application/vnd.jupyter.widget-view+json": {
       "model_id": "f86d6e13750e4181abcc827d513a42d2",
       "version_major": 2,
       "version_minor": 0
      },
      "text/plain": [
       "QUEUEING TASKS | :   0%|          | 0/1 [00:00<?, ?it/s]"
      ]
     },
     "metadata": {},
     "output_type": "display_data"
    },
    {
     "data": {
      "application/vnd.jupyter.widget-view+json": {
       "model_id": "9f9c69db2ec842098e5d87f05d8103a7",
       "version_major": 2,
       "version_minor": 0
      },
      "text/plain": [
       "PROCESSING TASKS | :   0%|          | 0/1 [00:00<?, ?it/s]"
      ]
     },
     "metadata": {},
     "output_type": "display_data"
    },
    {
     "data": {
      "application/vnd.jupyter.widget-view+json": {
       "model_id": "1d47436332ac462984d35dc70dee420a",
       "version_major": 2,
       "version_minor": 0
      },
      "text/plain": [
       "COLLECTING RESULTS | :   0%|          | 0/1 [00:00<?, ?it/s]"
      ]
     },
     "metadata": {},
     "output_type": "display_data"
    },
    {
     "data": {
      "application/vnd.jupyter.widget-view+json": {
       "model_id": "3071d7cf7a6042d2b2aae375f87d9efa",
       "version_major": 2,
       "version_minor": 0
      },
      "text/plain": [
       "QUEUEING TASKS | :   0%|          | 0/1 [00:00<?, ?it/s]"
      ]
     },
     "metadata": {},
     "output_type": "display_data"
    },
    {
     "data": {
      "application/vnd.jupyter.widget-view+json": {
       "model_id": "40461e0cd73a410a8ee16dbaa91e63a0",
       "version_major": 2,
       "version_minor": 0
      },
      "text/plain": [
       "PROCESSING TASKS | :   0%|          | 0/1 [00:00<?, ?it/s]"
      ]
     },
     "metadata": {},
     "output_type": "display_data"
    },
    {
     "data": {
      "application/vnd.jupyter.widget-view+json": {
       "model_id": "33d748538f784c5eb84eafa7bc9f041b",
       "version_major": 2,
       "version_minor": 0
      },
      "text/plain": [
       "COLLECTING RESULTS | :   0%|          | 0/1 [00:00<?, ?it/s]"
      ]
     },
     "metadata": {},
     "output_type": "display_data"
    },
    {
     "data": {
      "application/vnd.jupyter.widget-view+json": {
       "model_id": "67191dd3c28148ba81825ce323048092",
       "version_major": 2,
       "version_minor": 0
      },
      "text/plain": [
       "QUEUEING TASKS | :   0%|          | 0/1 [00:00<?, ?it/s]"
      ]
     },
     "metadata": {},
     "output_type": "display_data"
    },
    {
     "data": {
      "application/vnd.jupyter.widget-view+json": {
       "model_id": "15180acd84fe4814909fc00415ed15f2",
       "version_major": 2,
       "version_minor": 0
      },
      "text/plain": [
       "PROCESSING TASKS | :   0%|          | 0/1 [00:00<?, ?it/s]"
      ]
     },
     "metadata": {},
     "output_type": "display_data"
    },
    {
     "data": {
      "application/vnd.jupyter.widget-view+json": {
       "model_id": "41272f443ace490c82f500da7ef5ce97",
       "version_major": 2,
       "version_minor": 0
      },
      "text/plain": [
       "COLLECTING RESULTS | :   0%|          | 0/1 [00:00<?, ?it/s]"
      ]
     },
     "metadata": {},
     "output_type": "display_data"
    }
   ],
   "source": [
    "# option 1: download files to disk\n",
    "for sunday in sundays:\n",
    "    # Search for the granule by DOI\n",
    "    results = earthaccess.search_data(\n",
    "    concept_id=\"C3094710982-GES_DISC\", temporal=(sunday,sunday))\n",
    "    files = earthaccess.download(results, Path.cwd() /'merra_data')"
   ]
  },
  {
   "cell_type": "code",
   "execution_count": 10,
   "metadata": {
    "ExecuteTime": {
     "end_time": "2024-11-29T20:27:09.696489Z",
     "start_time": "2024-11-29T20:27:09.694007Z"
    }
   },
   "outputs": [
    {
     "name": "stdout",
     "output_type": "stream",
     "text": [
      "['/home/vince/Documents/UM_591_Data/Project_4/merra_data/MERRA2_HAQAST_CNN_L4_V1.20221023.nc4', '/home/vince/Documents/UM_591_Data/Project_4/merra_data/MERRA2_HAQAST_CNN_L4_V1.20220605.nc4', '/home/vince/Documents/UM_591_Data/Project_4/merra_data/MERRA2_HAQAST_CNN_L4_V1.20220807.nc4', '/home/vince/Documents/UM_591_Data/Project_4/merra_data/MERRA2_HAQAST_CNN_L4_V1.20220911.nc4', '/home/vince/Documents/UM_591_Data/Project_4/merra_data/MERRA2_HAQAST_CNN_L4_V1.20221002.nc4', '/home/vince/Documents/UM_591_Data/Project_4/merra_data/MERRA2_HAQAST_CNN_L4_V1.20220522.nc4', '/home/vince/Documents/UM_591_Data/Project_4/merra_data/MERRA2_HAQAST_CNN_L4_V1.20220612.nc4', '/home/vince/Documents/UM_591_Data/Project_4/merra_data/MERRA2_HAQAST_CNN_L4_V1.20220821.nc4', '/home/vince/Documents/UM_591_Data/Project_4/merra_data/MERRA2_HAQAST_CNN_L4_V1.20220828.nc4', '/home/vince/Documents/UM_591_Data/Project_4/merra_data/MERRA2_HAQAST_CNN_L4_V1.20220724.nc4', '/home/vince/Documents/UM_591_Data/Project_4/merra_data/MERRA2_HAQAST_CNN_L4_V1.20220508.nc4', '/home/vince/Documents/UM_591_Data/Project_4/merra_data/MERRA2_HAQAST_CNN_L4_V1.20220515.nc4', '/home/vince/Documents/UM_591_Data/Project_4/merra_data/MERRA2_HAQAST_CNN_L4_V1.20220703.nc4', '/home/vince/Documents/UM_591_Data/Project_4/merra_data/MERRA2_HAQAST_CNN_L4_V1.20220710.nc4', '/home/vince/Documents/UM_591_Data/Project_4/merra_data/MERRA2_HAQAST_CNN_L4_V1.20220904.nc4', '/home/vince/Documents/UM_591_Data/Project_4/merra_data/MERRA2_HAQAST_CNN_L4_V1.20220619.nc4', '/home/vince/Documents/UM_591_Data/Project_4/merra_data/MERRA2_HAQAST_CNN_L4_V1.20221009.nc4', '/home/vince/Documents/UM_591_Data/Project_4/merra_data/MERRA2_HAQAST_CNN_L4_V1.20221016.nc4', '/home/vince/Documents/UM_591_Data/Project_4/merra_data/MERRA2_HAQAST_CNN_L4_V1.20220925.nc4', '/home/vince/Documents/UM_591_Data/Project_4/merra_data/MERRA2_HAQAST_CNN_L4_V1.20220501.nc4', '/home/vince/Documents/UM_591_Data/Project_4/merra_data/MERRA2_HAQAST_CNN_L4_V1.20220918.nc4', '/home/vince/Documents/UM_591_Data/Project_4/merra_data/MERRA2_HAQAST_CNN_L4_V1.20220717.nc4', '/home/vince/Documents/UM_591_Data/Project_4/merra_data/MERRA2_HAQAST_CNN_L4_V1.20220529.nc4', '/home/vince/Documents/UM_591_Data/Project_4/merra_data/MERRA2_HAQAST_CNN_L4_V1.20220626.nc4', '/home/vince/Documents/UM_591_Data/Project_4/merra_data/MERRA2_HAQAST_CNN_L4_V1.20220814.nc4', '/home/vince/Documents/UM_591_Data/Project_4/merra_data/MERRA2_HAQAST_CNN_L4_V1.20221030.nc4', '/home/vince/Documents/UM_591_Data/Project_4/merra_data/MERRA2_HAQAST_CNN_L4_V1.20220731.nc4']\n"
     ]
    }
   ],
   "source": [
    "import os\n",
    "\n",
    "# filter out unneeded files\n",
    "\n",
    "def get_matching_files(folder_path, sundays):\n",
    "    \"\"\"\n",
    "    Return a list of files in the folder that match the given list of Sunday dates.\n",
    "    \n",
    "    Parameters:\n",
    "        folder_path (str): Path to the folder containing the files.\n",
    "        sundays (list of str): List of Sundays in \"YYYYMMDD\" format to match.\n",
    "        \n",
    "    Returns:\n",
    "        list of str: List of file paths matching the dates.\n",
    "    \"\"\"\n",
    "    # Format Sundays in the \"YYYYMMDD\" format for matching\n",
    "    sunday_strings = [date.replace(\"-\", \"\") for date in sundays]\n",
    "    \n",
    "    # Get all files in the folder\n",
    "    files = os.listdir(folder_path)\n",
    "    \n",
    "    # Filter files that contain a matching date\n",
    "    matching_files = [\n",
    "        os.path.join(folder_path, f)\n",
    "        for f in files\n",
    "        if any(date in f for date in sunday_strings)\n",
    "    ]\n",
    "    \n",
    "    return matching_files\n",
    "\n",
    "files = get_matching_files(Path.cwd() /'merra_data', sundays)\n",
    "print(files)"
   ]
  },
  {
   "cell_type": "code",
   "execution_count": 13,
   "metadata": {
    "ExecuteTime": {
     "end_time": "2024-11-29T20:27:32.662565Z",
     "start_time": "2024-11-29T20:27:32.660448Z"
    }
   },
   "outputs": [],
   "source": [
    "lon_min, lon_max = -140, -90\n",
    "lat_min, lat_max = 35, 55\n",
    "\n",
    "# a simple Albers Equal Area projection \n",
    "crs_proj4 = \"+proj=aea +lat_1=42 +lat_2=48 +lat_0=45 +lon_0=-115 +datum=WGS84 +units=m +no_defs\"\n",
    "\n",
    "x_min, x_max = -1500000, 1500000\n",
    "y_min, y_max = -750000, 1000000\n",
    "resolution = 5000 # meters\n",
    "\n",
    "# Ensure bounds are divisible by the resolution\n",
    "x_range = x_max - x_min\n",
    "y_range = y_max - y_min\n",
    "\n",
    "x_steps = x_range // resolution\n",
    "y_steps = y_range // resolution\n",
    "\n",
    "# Corrected bounds\n",
    "x_max = x_min + (x_steps * resolution)\n",
    "y_max = y_min + (y_steps * resolution)\n",
    "\n",
    "dst_bounds = (x_min, x_max, y_min, y_max)"
   ]
  },
  {
   "cell_type": "code",
   "execution_count": 14,
   "metadata": {
    "ExecuteTime": {
     "end_time": "2024-11-29T20:27:39.751437Z",
     "start_time": "2024-11-29T20:27:39.748894Z"
    }
   },
   "outputs": [],
   "source": [
    "from rasterio.enums import Resampling\n",
    "\n",
    "def process_dataset(file):\n",
    "    ds = xr.open_mfdataset(file, combine='by_coords', engine='netcdf4', decode_coords='all')\n",
    "    ds = ds.rio.write_crs(\"EPSG:4326\", inplace=True)\n",
    "    \n",
    "    ds = ds.rio.set_spatial_dims(x_dim=\"lon\", y_dim=\"lat\", inplace=True)\n",
    "    ds_time_filtered = ds.sel(time=ds.time.dt.strftime('%H:%M:%S') == '12:30:00')\n",
    "\n",
    "    # Filter spatial bounds\n",
    "    ds_filtered = ds_time_filtered.sel(lon=slice(lon_min, lon_max), lat=slice(lat_min, lat_max))\n",
    "    ds_filtered = ds_filtered.rio.set_spatial_dims(x_dim=\"lon\", y_dim=\"lat\", inplace=True)\n",
    "    \n",
    "    ds_reprojected = ds_filtered.rio.reproject(\n",
    "        crs_proj4,\n",
    "        dst_bounds=dst_bounds,\n",
    "        resolution=(resolution, resolution),\n",
    "        resampling=Resampling.bilinear\n",
    "    )       \n",
    "    \n",
    "    ds_reprojected = ds_reprojected.sel(x=slice(x_min, x_max), y=slice(y_max, y_min))\n",
    "    ds_reprojected = ds_reprojected.rio.write_crs(crs_proj4, inplace=True)\n",
    "    \n",
    "    return ds_reprojected"
   ]
  },
  {
   "cell_type": "code",
   "execution_count": 15,
   "metadata": {
    "ExecuteTime": {
     "end_time": "2024-11-29T20:27:48.124967Z",
     "start_time": "2024-11-29T20:27:46.080754Z"
    }
   },
   "outputs": [],
   "source": [
    "datasets = [process_dataset(file) for file in files]\n",
    "\n",
    "combined_ds = xr.concat(datasets, dim='time')"
   ]
  },
  {
   "cell_type": "code",
   "execution_count": 16,
   "metadata": {
    "ExecuteTime": {
     "end_time": "2024-11-29T20:27:50.809126Z",
     "start_time": "2024-11-29T20:27:50.802054Z"
    }
   },
   "outputs": [
    {
     "data": {
      "text/html": [
       "<div><svg style=\"position: absolute; width: 0; height: 0; overflow: hidden\">\n",
       "<defs>\n",
       "<symbol id=\"icon-database\" viewBox=\"0 0 32 32\">\n",
       "<path d=\"M16 0c-8.837 0-16 2.239-16 5v4c0 2.761 7.163 5 16 5s16-2.239 16-5v-4c0-2.761-7.163-5-16-5z\"></path>\n",
       "<path d=\"M16 17c-8.837 0-16-2.239-16-5v6c0 2.761 7.163 5 16 5s16-2.239 16-5v-6c0 2.761-7.163 5-16 5z\"></path>\n",
       "<path d=\"M16 26c-8.837 0-16-2.239-16-5v6c0 2.761 7.163 5 16 5s16-2.239 16-5v-6c0 2.761-7.163 5-16 5z\"></path>\n",
       "</symbol>\n",
       "<symbol id=\"icon-file-text2\" viewBox=\"0 0 32 32\">\n",
       "<path d=\"M28.681 7.159c-0.694-0.947-1.662-2.053-2.724-3.116s-2.169-2.030-3.116-2.724c-1.612-1.182-2.393-1.319-2.841-1.319h-15.5c-1.378 0-2.5 1.121-2.5 2.5v27c0 1.378 1.122 2.5 2.5 2.5h23c1.378 0 2.5-1.122 2.5-2.5v-19.5c0-0.448-0.137-1.23-1.319-2.841zM24.543 5.457c0.959 0.959 1.712 1.825 2.268 2.543h-4.811v-4.811c0.718 0.556 1.584 1.309 2.543 2.268zM28 29.5c0 0.271-0.229 0.5-0.5 0.5h-23c-0.271 0-0.5-0.229-0.5-0.5v-27c0-0.271 0.229-0.5 0.5-0.5 0 0 15.499-0 15.5 0v7c0 0.552 0.448 1 1 1h7v19.5z\"></path>\n",
       "<path d=\"M23 26h-14c-0.552 0-1-0.448-1-1s0.448-1 1-1h14c0.552 0 1 0.448 1 1s-0.448 1-1 1z\"></path>\n",
       "<path d=\"M23 22h-14c-0.552 0-1-0.448-1-1s0.448-1 1-1h14c0.552 0 1 0.448 1 1s-0.448 1-1 1z\"></path>\n",
       "<path d=\"M23 18h-14c-0.552 0-1-0.448-1-1s0.448-1 1-1h14c0.552 0 1 0.448 1 1s-0.448 1-1 1z\"></path>\n",
       "</symbol>\n",
       "</defs>\n",
       "</svg>\n",
       "<style>/* CSS stylesheet for displaying xarray objects in jupyterlab.\n",
       " *\n",
       " */\n",
       "\n",
       ":root {\n",
       "  --xr-font-color0: var(--jp-content-font-color0, rgba(0, 0, 0, 1));\n",
       "  --xr-font-color2: var(--jp-content-font-color2, rgba(0, 0, 0, 0.54));\n",
       "  --xr-font-color3: var(--jp-content-font-color3, rgba(0, 0, 0, 0.38));\n",
       "  --xr-border-color: var(--jp-border-color2, #e0e0e0);\n",
       "  --xr-disabled-color: var(--jp-layout-color3, #bdbdbd);\n",
       "  --xr-background-color: var(--jp-layout-color0, white);\n",
       "  --xr-background-color-row-even: var(--jp-layout-color1, white);\n",
       "  --xr-background-color-row-odd: var(--jp-layout-color2, #eeeeee);\n",
       "}\n",
       "\n",
       "html[theme=dark],\n",
       "html[data-theme=dark],\n",
       "body[data-theme=dark],\n",
       "body.vscode-dark {\n",
       "  --xr-font-color0: rgba(255, 255, 255, 1);\n",
       "  --xr-font-color2: rgba(255, 255, 255, 0.54);\n",
       "  --xr-font-color3: rgba(255, 255, 255, 0.38);\n",
       "  --xr-border-color: #1F1F1F;\n",
       "  --xr-disabled-color: #515151;\n",
       "  --xr-background-color: #111111;\n",
       "  --xr-background-color-row-even: #111111;\n",
       "  --xr-background-color-row-odd: #313131;\n",
       "}\n",
       "\n",
       ".xr-wrap {\n",
       "  display: block !important;\n",
       "  min-width: 300px;\n",
       "  max-width: 700px;\n",
       "}\n",
       "\n",
       ".xr-text-repr-fallback {\n",
       "  /* fallback to plain text repr when CSS is not injected (untrusted notebook) */\n",
       "  display: none;\n",
       "}\n",
       "\n",
       ".xr-header {\n",
       "  padding-top: 6px;\n",
       "  padding-bottom: 6px;\n",
       "  margin-bottom: 4px;\n",
       "  border-bottom: solid 1px var(--xr-border-color);\n",
       "}\n",
       "\n",
       ".xr-header > div,\n",
       ".xr-header > ul {\n",
       "  display: inline;\n",
       "  margin-top: 0;\n",
       "  margin-bottom: 0;\n",
       "}\n",
       "\n",
       ".xr-obj-type,\n",
       ".xr-array-name {\n",
       "  margin-left: 2px;\n",
       "  margin-right: 10px;\n",
       "}\n",
       "\n",
       ".xr-obj-type {\n",
       "  color: var(--xr-font-color2);\n",
       "}\n",
       "\n",
       ".xr-sections {\n",
       "  padding-left: 0 !important;\n",
       "  display: grid;\n",
       "  grid-template-columns: 150px auto auto 1fr 0 20px 0 20px;\n",
       "}\n",
       "\n",
       ".xr-section-item {\n",
       "  display: contents;\n",
       "}\n",
       "\n",
       ".xr-section-item input {\n",
       "  display: inline-block;\n",
       "  opacity: 0;\n",
       "}\n",
       "\n",
       ".xr-section-item input + label {\n",
       "  color: var(--xr-disabled-color);\n",
       "}\n",
       "\n",
       ".xr-section-item input:enabled + label {\n",
       "  cursor: pointer;\n",
       "  color: var(--xr-font-color2);\n",
       "}\n",
       "\n",
       ".xr-section-item input:focus + label {\n",
       "  border: 2px solid var(--xr-font-color0);\n",
       "}\n",
       "\n",
       ".xr-section-item input:enabled + label:hover {\n",
       "  color: var(--xr-font-color0);\n",
       "}\n",
       "\n",
       ".xr-section-summary {\n",
       "  grid-column: 1;\n",
       "  color: var(--xr-font-color2);\n",
       "  font-weight: 500;\n",
       "}\n",
       "\n",
       ".xr-section-summary > span {\n",
       "  display: inline-block;\n",
       "  padding-left: 0.5em;\n",
       "}\n",
       "\n",
       ".xr-section-summary-in:disabled + label {\n",
       "  color: var(--xr-font-color2);\n",
       "}\n",
       "\n",
       ".xr-section-summary-in + label:before {\n",
       "  display: inline-block;\n",
       "  content: '►';\n",
       "  font-size: 11px;\n",
       "  width: 15px;\n",
       "  text-align: center;\n",
       "}\n",
       "\n",
       ".xr-section-summary-in:disabled + label:before {\n",
       "  color: var(--xr-disabled-color);\n",
       "}\n",
       "\n",
       ".xr-section-summary-in:checked + label:before {\n",
       "  content: '▼';\n",
       "}\n",
       "\n",
       ".xr-section-summary-in:checked + label > span {\n",
       "  display: none;\n",
       "}\n",
       "\n",
       ".xr-section-summary,\n",
       ".xr-section-inline-details {\n",
       "  padding-top: 4px;\n",
       "  padding-bottom: 4px;\n",
       "}\n",
       "\n",
       ".xr-section-inline-details {\n",
       "  grid-column: 2 / -1;\n",
       "}\n",
       "\n",
       ".xr-section-details {\n",
       "  display: none;\n",
       "  grid-column: 1 / -1;\n",
       "  margin-bottom: 5px;\n",
       "}\n",
       "\n",
       ".xr-section-summary-in:checked ~ .xr-section-details {\n",
       "  display: contents;\n",
       "}\n",
       "\n",
       ".xr-array-wrap {\n",
       "  grid-column: 1 / -1;\n",
       "  display: grid;\n",
       "  grid-template-columns: 20px auto;\n",
       "}\n",
       "\n",
       ".xr-array-wrap > label {\n",
       "  grid-column: 1;\n",
       "  vertical-align: top;\n",
       "}\n",
       "\n",
       ".xr-preview {\n",
       "  color: var(--xr-font-color3);\n",
       "}\n",
       "\n",
       ".xr-array-preview,\n",
       ".xr-array-data {\n",
       "  padding: 0 5px !important;\n",
       "  grid-column: 2;\n",
       "}\n",
       "\n",
       ".xr-array-data,\n",
       ".xr-array-in:checked ~ .xr-array-preview {\n",
       "  display: none;\n",
       "}\n",
       "\n",
       ".xr-array-in:checked ~ .xr-array-data,\n",
       ".xr-array-preview {\n",
       "  display: inline-block;\n",
       "}\n",
       "\n",
       ".xr-dim-list {\n",
       "  display: inline-block !important;\n",
       "  list-style: none;\n",
       "  padding: 0 !important;\n",
       "  margin: 0;\n",
       "}\n",
       "\n",
       ".xr-dim-list li {\n",
       "  display: inline-block;\n",
       "  padding: 0;\n",
       "  margin: 0;\n",
       "}\n",
       "\n",
       ".xr-dim-list:before {\n",
       "  content: '(';\n",
       "}\n",
       "\n",
       ".xr-dim-list:after {\n",
       "  content: ')';\n",
       "}\n",
       "\n",
       ".xr-dim-list li:not(:last-child):after {\n",
       "  content: ',';\n",
       "  padding-right: 5px;\n",
       "}\n",
       "\n",
       ".xr-has-index {\n",
       "  font-weight: bold;\n",
       "}\n",
       "\n",
       ".xr-var-list,\n",
       ".xr-var-item {\n",
       "  display: contents;\n",
       "}\n",
       "\n",
       ".xr-var-item > div,\n",
       ".xr-var-item label,\n",
       ".xr-var-item > .xr-var-name span {\n",
       "  background-color: var(--xr-background-color-row-even);\n",
       "  margin-bottom: 0;\n",
       "}\n",
       "\n",
       ".xr-var-item > .xr-var-name:hover span {\n",
       "  padding-right: 5px;\n",
       "}\n",
       "\n",
       ".xr-var-list > li:nth-child(odd) > div,\n",
       ".xr-var-list > li:nth-child(odd) > label,\n",
       ".xr-var-list > li:nth-child(odd) > .xr-var-name span {\n",
       "  background-color: var(--xr-background-color-row-odd);\n",
       "}\n",
       "\n",
       ".xr-var-name {\n",
       "  grid-column: 1;\n",
       "}\n",
       "\n",
       ".xr-var-dims {\n",
       "  grid-column: 2;\n",
       "}\n",
       "\n",
       ".xr-var-dtype {\n",
       "  grid-column: 3;\n",
       "  text-align: right;\n",
       "  color: var(--xr-font-color2);\n",
       "}\n",
       "\n",
       ".xr-var-preview {\n",
       "  grid-column: 4;\n",
       "}\n",
       "\n",
       ".xr-index-preview {\n",
       "  grid-column: 2 / 5;\n",
       "  color: var(--xr-font-color2);\n",
       "}\n",
       "\n",
       ".xr-var-name,\n",
       ".xr-var-dims,\n",
       ".xr-var-dtype,\n",
       ".xr-preview,\n",
       ".xr-attrs dt {\n",
       "  white-space: nowrap;\n",
       "  overflow: hidden;\n",
       "  text-overflow: ellipsis;\n",
       "  padding-right: 10px;\n",
       "}\n",
       "\n",
       ".xr-var-name:hover,\n",
       ".xr-var-dims:hover,\n",
       ".xr-var-dtype:hover,\n",
       ".xr-attrs dt:hover {\n",
       "  overflow: visible;\n",
       "  width: auto;\n",
       "  z-index: 1;\n",
       "}\n",
       "\n",
       ".xr-var-attrs,\n",
       ".xr-var-data,\n",
       ".xr-index-data {\n",
       "  display: none;\n",
       "  background-color: var(--xr-background-color) !important;\n",
       "  padding-bottom: 5px !important;\n",
       "}\n",
       "\n",
       ".xr-var-attrs-in:checked ~ .xr-var-attrs,\n",
       ".xr-var-data-in:checked ~ .xr-var-data,\n",
       ".xr-index-data-in:checked ~ .xr-index-data {\n",
       "  display: block;\n",
       "}\n",
       "\n",
       ".xr-var-data > table {\n",
       "  float: right;\n",
       "}\n",
       "\n",
       ".xr-var-name span,\n",
       ".xr-var-data,\n",
       ".xr-index-name div,\n",
       ".xr-index-data,\n",
       ".xr-attrs {\n",
       "  padding-left: 25px !important;\n",
       "}\n",
       "\n",
       ".xr-attrs,\n",
       ".xr-var-attrs,\n",
       ".xr-var-data,\n",
       ".xr-index-data {\n",
       "  grid-column: 1 / -1;\n",
       "}\n",
       "\n",
       "dl.xr-attrs {\n",
       "  padding: 0;\n",
       "  margin: 0;\n",
       "  display: grid;\n",
       "  grid-template-columns: 125px auto;\n",
       "}\n",
       "\n",
       ".xr-attrs dt,\n",
       ".xr-attrs dd {\n",
       "  padding: 0;\n",
       "  margin: 0;\n",
       "  float: left;\n",
       "  padding-right: 10px;\n",
       "  width: auto;\n",
       "}\n",
       "\n",
       ".xr-attrs dt {\n",
       "  font-weight: normal;\n",
       "  grid-column: 1;\n",
       "}\n",
       "\n",
       ".xr-attrs dt:hover span {\n",
       "  display: inline-block;\n",
       "  background: var(--xr-background-color);\n",
       "  padding-right: 10px;\n",
       "}\n",
       "\n",
       ".xr-attrs dd {\n",
       "  grid-column: 2;\n",
       "  white-space: pre-wrap;\n",
       "  word-break: break-all;\n",
       "}\n",
       "\n",
       ".xr-icon-database,\n",
       ".xr-icon-file-text2,\n",
       ".xr-no-icon {\n",
       "  display: inline-block;\n",
       "  vertical-align: middle;\n",
       "  width: 1em;\n",
       "  height: 1.5em !important;\n",
       "  stroke-width: 0;\n",
       "  stroke: currentColor;\n",
       "  fill: currentColor;\n",
       "}\n",
       "</style><pre class='xr-text-repr-fallback'>&lt;xarray.Dataset&gt; Size: 68MB\n",
       "Dimensions:                  (time: 27, y: 350, x: 600)\n",
       "Coordinates:\n",
       "  * x                        (x) float64 5kB -1.497e+06 -1.492e+06 ... 1.498e+06\n",
       "  * y                        (y) float64 3kB 9.959e+05 9.909e+05 ... -7.491e+05\n",
       "  * time                     (time) datetime64[ns] 216B 2022-10-23T12:30:00 ....\n",
       "    spatial_ref              int64 8B 0\n",
       "Data variables:\n",
       "    MERRA2_CNN_Surface_PM25  (time, y, x) float32 23MB 2.473 2.384 ... 5.312\n",
       "    QFLAG                    (time, y, x) float64 45MB 2.0 2.0 2.0 ... 4.0 4.0\n",
       "Attributes: (12/33)\n",
       "    Comment:                           filename: MERRA2_HAQAST_CNN_L4_V1_2022...\n",
       "    Filename:                          MERRA2_HAQAST_CNN_L4_V1_20221023.nc4\n",
       "    Conventions:                       CF-1\n",
       "    Institution:                       NASA Goddard Space Flight Center\n",
       "    References:                        http://gmao.gsfc.nasa.gov ; https://do...\n",
       "    Format:                            NetCDF-4/HDF-5\n",
       "    ...                                ...\n",
       "    RangeEndingDate:                   2022-10-23\n",
       "    RangeEndingTime:                   23:59:59.000000\n",
       "    DODS_EXTRA.Unlimited_Dimension:    time\n",
       "    history:                           2023-04-21 04:24:38 GMT Hyrax-1.16.3 h...\n",
       "    ProcessingLevel:                   4\n",
       "    MapProjection:                     Geographic lat/lon. Datum: WGS-84</pre><div class='xr-wrap' style='display:none'><div class='xr-header'><div class='xr-obj-type'>xarray.Dataset</div></div><ul class='xr-sections'><li class='xr-section-item'><input id='section-ce7f5c0a-4af7-4e81-b57f-a19b43000659' class='xr-section-summary-in' type='checkbox' disabled ><label for='section-ce7f5c0a-4af7-4e81-b57f-a19b43000659' class='xr-section-summary'  title='Expand/collapse section'>Dimensions:</label><div class='xr-section-inline-details'><ul class='xr-dim-list'><li><span class='xr-has-index'>time</span>: 27</li><li><span class='xr-has-index'>y</span>: 350</li><li><span class='xr-has-index'>x</span>: 600</li></ul></div><div class='xr-section-details'></div></li><li class='xr-section-item'><input id='section-a6c086c5-7b0b-4714-8aee-d43ac88d62d0' class='xr-section-summary-in' type='checkbox'  checked><label for='section-a6c086c5-7b0b-4714-8aee-d43ac88d62d0' class='xr-section-summary' >Coordinates: <span>(4)</span></label><div class='xr-section-inline-details'></div><div class='xr-section-details'><ul class='xr-var-list'><li class='xr-var-item'><div class='xr-var-name'><span class='xr-has-index'>x</span></div><div class='xr-var-dims'>(x)</div><div class='xr-var-dtype'>float64</div><div class='xr-var-preview xr-preview'>-1.497e+06 -1.492e+06 ... 1.498e+06</div><input id='attrs-7a01af11-3329-40ac-976a-de54fc433ee1' class='xr-var-attrs-in' type='checkbox' ><label for='attrs-7a01af11-3329-40ac-976a-de54fc433ee1' title='Show/Hide attributes'><svg class='icon xr-icon-file-text2'><use xlink:href='#icon-file-text2'></use></svg></label><input id='data-85d1bccd-ab2f-4d3b-b6de-78b4450c6352' class='xr-var-data-in' type='checkbox'><label for='data-85d1bccd-ab2f-4d3b-b6de-78b4450c6352' title='Show/Hide data repr'><svg class='icon xr-icon-database'><use xlink:href='#icon-database'></use></svg></label><div class='xr-var-attrs'><dl class='xr-attrs'><dt><span>axis :</span></dt><dd>X</dd><dt><span>long_name :</span></dt><dd>x coordinate of projection</dd><dt><span>standard_name :</span></dt><dd>projection_x_coordinate</dd><dt><span>units :</span></dt><dd>metre</dd></dl></div><div class='xr-var-data'><pre>array([-1496524.326433, -1491524.326433, -1486524.326433, ...,  1488475.673567,\n",
       "        1493475.673567,  1498475.673567])</pre></div></li><li class='xr-var-item'><div class='xr-var-name'><span class='xr-has-index'>y</span></div><div class='xr-var-dims'>(y)</div><div class='xr-var-dtype'>float64</div><div class='xr-var-preview xr-preview'>9.959e+05 9.909e+05 ... -7.491e+05</div><input id='attrs-dcf094cb-0f57-4a32-946d-4a9ca4598de1' class='xr-var-attrs-in' type='checkbox' ><label for='attrs-dcf094cb-0f57-4a32-946d-4a9ca4598de1' title='Show/Hide attributes'><svg class='icon xr-icon-file-text2'><use xlink:href='#icon-file-text2'></use></svg></label><input id='data-dc41f798-3d3e-4ac6-8aa2-df50cb602eb0' class='xr-var-data-in' type='checkbox'><label for='data-dc41f798-3d3e-4ac6-8aa2-df50cb602eb0' title='Show/Hide data repr'><svg class='icon xr-icon-database'><use xlink:href='#icon-database'></use></svg></label><div class='xr-var-attrs'><dl class='xr-attrs'><dt><span>axis :</span></dt><dd>Y</dd><dt><span>long_name :</span></dt><dd>y coordinate of projection</dd><dt><span>standard_name :</span></dt><dd>projection_y_coordinate</dd><dt><span>units :</span></dt><dd>metre</dd></dl></div><div class='xr-var-data'><pre>array([ 995893.546327,  990893.546327,  985893.546327, ..., -739106.453673,\n",
       "       -744106.453673, -749106.453673])</pre></div></li><li class='xr-var-item'><div class='xr-var-name'><span class='xr-has-index'>time</span></div><div class='xr-var-dims'>(time)</div><div class='xr-var-dtype'>datetime64[ns]</div><div class='xr-var-preview xr-preview'>2022-10-23T12:30:00 ... 2022-07-...</div><input id='attrs-1e709d6e-05ae-4997-9ecc-b7b94b73faec' class='xr-var-attrs-in' type='checkbox' ><label for='attrs-1e709d6e-05ae-4997-9ecc-b7b94b73faec' title='Show/Hide attributes'><svg class='icon xr-icon-file-text2'><use xlink:href='#icon-file-text2'></use></svg></label><input id='data-ddc00c54-4dfa-4e25-b9fc-3a3653e49c0f' class='xr-var-data-in' type='checkbox'><label for='data-ddc00c54-4dfa-4e25-b9fc-3a3653e49c0f' title='Show/Hide data repr'><svg class='icon xr-icon-database'><use xlink:href='#icon-database'></use></svg></label><div class='xr-var-attrs'><dl class='xr-attrs'><dt><span>long_name :</span></dt><dd>time</dd></dl></div><div class='xr-var-data'><pre>array([&#x27;2022-10-23T12:30:00.000000000&#x27;, &#x27;2022-06-05T12:30:00.000000000&#x27;,\n",
       "       &#x27;2022-08-07T12:30:00.000000000&#x27;, &#x27;2022-09-11T12:30:00.000000000&#x27;,\n",
       "       &#x27;2022-10-02T12:30:00.000000000&#x27;, &#x27;2022-05-22T12:30:00.000000000&#x27;,\n",
       "       &#x27;2022-06-12T12:30:00.000000000&#x27;, &#x27;2022-08-21T12:30:00.000000000&#x27;,\n",
       "       &#x27;2022-08-28T12:30:00.000000000&#x27;, &#x27;2022-07-24T12:30:00.000000000&#x27;,\n",
       "       &#x27;2022-05-08T12:30:00.000000000&#x27;, &#x27;2022-05-15T12:30:00.000000000&#x27;,\n",
       "       &#x27;2022-07-03T12:30:00.000000000&#x27;, &#x27;2022-07-10T12:30:00.000000000&#x27;,\n",
       "       &#x27;2022-09-04T12:30:00.000000000&#x27;, &#x27;2022-06-19T12:30:00.000000000&#x27;,\n",
       "       &#x27;2022-10-09T12:30:00.000000000&#x27;, &#x27;2022-10-16T12:30:00.000000000&#x27;,\n",
       "       &#x27;2022-09-25T12:30:00.000000000&#x27;, &#x27;2022-05-01T12:30:00.000000000&#x27;,\n",
       "       &#x27;2022-09-18T12:30:00.000000000&#x27;, &#x27;2022-07-17T12:30:00.000000000&#x27;,\n",
       "       &#x27;2022-05-29T12:30:00.000000000&#x27;, &#x27;2022-06-26T12:30:00.000000000&#x27;,\n",
       "       &#x27;2022-08-14T12:30:00.000000000&#x27;, &#x27;2022-10-30T12:30:00.000000000&#x27;,\n",
       "       &#x27;2022-07-31T12:30:00.000000000&#x27;], dtype=&#x27;datetime64[ns]&#x27;)</pre></div></li><li class='xr-var-item'><div class='xr-var-name'><span>spatial_ref</span></div><div class='xr-var-dims'>()</div><div class='xr-var-dtype'>int64</div><div class='xr-var-preview xr-preview'>0</div><input id='attrs-141f1275-68c3-4a3e-9e3e-48fe9caf1e28' class='xr-var-attrs-in' type='checkbox' ><label for='attrs-141f1275-68c3-4a3e-9e3e-48fe9caf1e28' title='Show/Hide attributes'><svg class='icon xr-icon-file-text2'><use xlink:href='#icon-file-text2'></use></svg></label><input id='data-8d80babb-73cd-4b5a-bd63-e6037f27add9' class='xr-var-data-in' type='checkbox'><label for='data-8d80babb-73cd-4b5a-bd63-e6037f27add9' title='Show/Hide data repr'><svg class='icon xr-icon-database'><use xlink:href='#icon-database'></use></svg></label><div class='xr-var-attrs'><dl class='xr-attrs'><dt><span>crs_wkt :</span></dt><dd>PROJCS[&quot;unknown&quot;,GEOGCS[&quot;unknown&quot;,DATUM[&quot;WGS_1984&quot;,SPHEROID[&quot;WGS 84&quot;,6378137,298.257223563,AUTHORITY[&quot;EPSG&quot;,&quot;7030&quot;]],AUTHORITY[&quot;EPSG&quot;,&quot;6326&quot;]],PRIMEM[&quot;Greenwich&quot;,0,AUTHORITY[&quot;EPSG&quot;,&quot;8901&quot;]],UNIT[&quot;degree&quot;,0.0174532925199433,AUTHORITY[&quot;EPSG&quot;,&quot;9122&quot;]]],PROJECTION[&quot;Albers_Conic_Equal_Area&quot;],PARAMETER[&quot;latitude_of_center&quot;,45],PARAMETER[&quot;longitude_of_center&quot;,-115],PARAMETER[&quot;standard_parallel_1&quot;,42],PARAMETER[&quot;standard_parallel_2&quot;,48],PARAMETER[&quot;false_easting&quot;,0],PARAMETER[&quot;false_northing&quot;,0],UNIT[&quot;metre&quot;,1,AUTHORITY[&quot;EPSG&quot;,&quot;9001&quot;]],AXIS[&quot;Easting&quot;,EAST],AXIS[&quot;Northing&quot;,NORTH]]</dd><dt><span>semi_major_axis :</span></dt><dd>6378137.0</dd><dt><span>semi_minor_axis :</span></dt><dd>6356752.314245179</dd><dt><span>inverse_flattening :</span></dt><dd>298.257223563</dd><dt><span>reference_ellipsoid_name :</span></dt><dd>WGS 84</dd><dt><span>longitude_of_prime_meridian :</span></dt><dd>0.0</dd><dt><span>prime_meridian_name :</span></dt><dd>Greenwich</dd><dt><span>geographic_crs_name :</span></dt><dd>unknown</dd><dt><span>horizontal_datum_name :</span></dt><dd>World Geodetic System 1984</dd><dt><span>projected_crs_name :</span></dt><dd>unknown</dd><dt><span>grid_mapping_name :</span></dt><dd>albers_conical_equal_area</dd><dt><span>standard_parallel :</span></dt><dd>(42.0, 48.0)</dd><dt><span>latitude_of_projection_origin :</span></dt><dd>45.0</dd><dt><span>longitude_of_central_meridian :</span></dt><dd>-115.0</dd><dt><span>false_easting :</span></dt><dd>0.0</dd><dt><span>false_northing :</span></dt><dd>0.0</dd><dt><span>spatial_ref :</span></dt><dd>PROJCS[&quot;unknown&quot;,GEOGCS[&quot;unknown&quot;,DATUM[&quot;WGS_1984&quot;,SPHEROID[&quot;WGS 84&quot;,6378137,298.257223563,AUTHORITY[&quot;EPSG&quot;,&quot;7030&quot;]],AUTHORITY[&quot;EPSG&quot;,&quot;6326&quot;]],PRIMEM[&quot;Greenwich&quot;,0,AUTHORITY[&quot;EPSG&quot;,&quot;8901&quot;]],UNIT[&quot;degree&quot;,0.0174532925199433,AUTHORITY[&quot;EPSG&quot;,&quot;9122&quot;]]],PROJECTION[&quot;Albers_Conic_Equal_Area&quot;],PARAMETER[&quot;latitude_of_center&quot;,45],PARAMETER[&quot;longitude_of_center&quot;,-115],PARAMETER[&quot;standard_parallel_1&quot;,42],PARAMETER[&quot;standard_parallel_2&quot;,48],PARAMETER[&quot;false_easting&quot;,0],PARAMETER[&quot;false_northing&quot;,0],UNIT[&quot;metre&quot;,1,AUTHORITY[&quot;EPSG&quot;,&quot;9001&quot;]],AXIS[&quot;Easting&quot;,EAST],AXIS[&quot;Northing&quot;,NORTH]]</dd><dt><span>GeoTransform :</span></dt><dd>-2309024.326432758 5000.0 0.0 1388393.546326695 0.0 -5000.0</dd></dl></div><div class='xr-var-data'><pre>array(0)</pre></div></li></ul></div></li><li class='xr-section-item'><input id='section-f71a9516-839b-4d59-b366-3cbaa93579d6' class='xr-section-summary-in' type='checkbox'  checked><label for='section-f71a9516-839b-4d59-b366-3cbaa93579d6' class='xr-section-summary' >Data variables: <span>(2)</span></label><div class='xr-section-inline-details'></div><div class='xr-section-details'><ul class='xr-var-list'><li class='xr-var-item'><div class='xr-var-name'><span>MERRA2_CNN_Surface_PM25</span></div><div class='xr-var-dims'>(time, y, x)</div><div class='xr-var-dtype'>float32</div><div class='xr-var-preview xr-preview'>2.473 2.384 2.314 ... 5.432 5.312</div><input id='attrs-83372a6a-be7c-496b-a12c-cb662be27d2c' class='xr-var-attrs-in' type='checkbox' ><label for='attrs-83372a6a-be7c-496b-a12c-cb662be27d2c' title='Show/Hide attributes'><svg class='icon xr-icon-file-text2'><use xlink:href='#icon-file-text2'></use></svg></label><input id='data-d060a433-896c-4d14-b0c5-65ac32b94ff7' class='xr-var-data-in' type='checkbox'><label for='data-d060a433-896c-4d14-b0c5-65ac32b94ff7' title='Show/Hide data repr'><svg class='icon xr-icon-database'><use xlink:href='#icon-database'></use></svg></label><div class='xr-var-attrs'><dl class='xr-attrs'><dt><span>units :</span></dt><dd>ug m-3</dd><dt><span>long_name :</span></dt><dd>Bias corrected surface total PM2.5 mass concentration</dd></dl></div><div class='xr-var-data'><pre>array([[[ 2.473225  ,  2.3843722 ,  2.3144038 , ...,  0.        ,\n",
       "          0.        ,  0.        ],\n",
       "        [ 2.4323792 ,  2.3475983 ,  2.2772088 , ...,  0.        ,\n",
       "          0.        ,  0.        ],\n",
       "        [ 2.393014  ,  2.3120801 ,  2.2374437 , ...,  0.        ,\n",
       "          0.        ,  0.        ],\n",
       "        ...,\n",
       "        [ 0.3795661 ,  0.3654223 ,  0.35083017, ...,  5.5693603 ,\n",
       "          5.673527  ,  5.7763176 ],\n",
       "        [ 0.3717559 ,  0.35857984,  0.34495598, ...,  5.5110574 ,\n",
       "          5.6122274 ,  5.7120233 ],\n",
       "        [ 0.36437324,  0.3521639 ,  0.33950728, ...,  5.4540715 ,\n",
       "          5.5522485 ,  5.649053  ]],\n",
       "\n",
       "       [[ 0.3598322 ,  0.34746736,  0.33718553, ...,  0.        ,\n",
       "          0.        ,  0.        ],\n",
       "        [ 0.40050048,  0.38953468,  0.37988397, ...,  0.        ,\n",
       "          0.        ,  0.        ],\n",
       "        [ 0.44188675,  0.43218246,  0.4226378 , ...,  0.        ,\n",
       "          0.        ,  0.        ],\n",
       "...\n",
       "        [ 0.3866087 ,  0.35256445,  0.3209155 , ..., 10.437614  ,\n",
       "         10.525165  , 10.608966  ],\n",
       "        [ 0.42016461,  0.3810193 ,  0.34426638, ..., 10.337545  ,\n",
       "         10.417056  , 10.492823  ],\n",
       "        [ 0.4514681 ,  0.4072272 ,  0.36537582, ..., 10.241012  ,\n",
       "         10.312492  , 10.380233  ]],\n",
       "\n",
       "       [[ 2.2690868 ,  2.2571778 ,  2.2367148 , ...,  0.77743125,\n",
       "          0.76178557,  0.7587538 ],\n",
       "        [ 2.1914182 ,  2.1757648 ,  2.1549642 , ...,  0.75324446,\n",
       "          0.7278708 ,  0.7236343 ],\n",
       "        [ 2.1118908 ,  2.09341   ,  2.074182  , ...,  0.72980064,\n",
       "          0.69469625,  0.68925655],\n",
       "        ...,\n",
       "        [ 1.1643898 ,  1.1280893 ,  1.0898826 , ...,  5.68384   ,\n",
       "          5.542191  ,  5.404718  ],\n",
       "        [ 1.1359757 ,  1.1037744 ,  1.0696692 , ...,  5.621505  ,\n",
       "          5.488836  ,  5.3603373 ],\n",
       "        [ 1.1093726 ,  1.0812662 ,  1.0512582 , ...,  5.555208  ,\n",
       "          5.431509  ,  5.3119755 ]]], dtype=float32)</pre></div></li><li class='xr-var-item'><div class='xr-var-name'><span>QFLAG</span></div><div class='xr-var-dims'>(time, y, x)</div><div class='xr-var-dtype'>float64</div><div class='xr-var-preview xr-preview'>2.0 2.0 2.0 2.0 ... 4.0 4.0 4.0 4.0</div><input id='attrs-bbffee3e-7b4e-4540-8c21-fcb6e4b2f552' class='xr-var-attrs-in' type='checkbox' ><label for='attrs-bbffee3e-7b4e-4540-8c21-fcb6e4b2f552' title='Show/Hide attributes'><svg class='icon xr-icon-file-text2'><use xlink:href='#icon-file-text2'></use></svg></label><input id='data-6a86781c-b623-4f3f-92d6-3b9b8bcaa6da' class='xr-var-data-in' type='checkbox'><label for='data-6a86781c-b623-4f3f-92d6-3b9b8bcaa6da' title='Show/Hide data repr'><svg class='icon xr-icon-database'><use xlink:href='#icon-database'></use></svg></label><div class='xr-var-attrs'><dl class='xr-attrs'><dt><span>FLAG 1 :</span></dt><dd>Low quality</dd><dt><span>FLAG 2 :</span></dt><dd>Medium quality over ocean</dd><dt><span>FLAG 3 :</span></dt><dd>High quality</dd><dt><span>FLAG 4 :</span></dt><dd>Highest quality</dd><dt><span>Recommendation :</span></dt><dd>qflag recommnendation -3 &amp; 4 for quantitative analysis</dd><dt><span>long_name :</span></dt><dd>Quality Flag for data quality at grid</dd><dt><span>units :</span></dt><dd>unitless</dd></dl></div><div class='xr-var-data'><pre>array([[[2., 2., 2., ..., 3., 3., 3.],\n",
       "        [2., 2., 2., ..., 3., 3., 3.],\n",
       "        [2., 2., 2., ..., 3., 3., 3.],\n",
       "        ...,\n",
       "        [2., 2., 2., ..., 4., 4., 4.],\n",
       "        [2., 2., 2., ..., 4., 4., 4.],\n",
       "        [2., 2., 2., ..., 4., 4., 4.]],\n",
       "\n",
       "       [[2., 2., 2., ..., 3., 3., 3.],\n",
       "        [2., 2., 2., ..., 3., 3., 3.],\n",
       "        [2., 2., 2., ..., 3., 3., 3.],\n",
       "        ...,\n",
       "        [2., 2., 2., ..., 4., 4., 4.],\n",
       "        [2., 2., 2., ..., 4., 4., 4.],\n",
       "        [2., 2., 2., ..., 4., 4., 4.]],\n",
       "\n",
       "       [[2., 2., 2., ..., 3., 3., 3.],\n",
       "        [2., 2., 2., ..., 3., 3., 3.],\n",
       "        [2., 2., 2., ..., 3., 3., 3.],\n",
       "        ...,\n",
       "...\n",
       "        ...,\n",
       "        [2., 2., 2., ..., 4., 4., 4.],\n",
       "        [2., 2., 2., ..., 4., 4., 4.],\n",
       "        [2., 2., 2., ..., 4., 4., 4.]],\n",
       "\n",
       "       [[2., 2., 2., ..., 3., 3., 3.],\n",
       "        [2., 2., 2., ..., 3., 3., 3.],\n",
       "        [2., 2., 2., ..., 3., 3., 3.],\n",
       "        ...,\n",
       "        [2., 2., 2., ..., 4., 4., 4.],\n",
       "        [2., 2., 2., ..., 4., 4., 4.],\n",
       "        [2., 2., 2., ..., 4., 4., 4.]],\n",
       "\n",
       "       [[2., 2., 2., ..., 3., 3., 3.],\n",
       "        [2., 2., 2., ..., 3., 3., 3.],\n",
       "        [2., 2., 2., ..., 3., 3., 3.],\n",
       "        ...,\n",
       "        [2., 2., 2., ..., 4., 4., 4.],\n",
       "        [2., 2., 2., ..., 4., 4., 4.],\n",
       "        [2., 2., 2., ..., 4., 4., 4.]]])</pre></div></li></ul></div></li><li class='xr-section-item'><input id='section-1d337797-9655-42b1-a6f6-32f714ec03a5' class='xr-section-summary-in' type='checkbox'  ><label for='section-1d337797-9655-42b1-a6f6-32f714ec03a5' class='xr-section-summary' >Indexes: <span>(3)</span></label><div class='xr-section-inline-details'></div><div class='xr-section-details'><ul class='xr-var-list'><li class='xr-var-item'><div class='xr-index-name'><div>x</div></div><div class='xr-index-preview'>PandasIndex</div><div></div><input id='index-65e5bbfd-21af-47bb-9618-eb976314b31c' class='xr-index-data-in' type='checkbox'/><label for='index-65e5bbfd-21af-47bb-9618-eb976314b31c' title='Show/Hide index repr'><svg class='icon xr-icon-database'><use xlink:href='#icon-database'></use></svg></label><div class='xr-index-data'><pre>PandasIndex(Index([-1496524.326432758, -1491524.326432758, -1486524.326432758,\n",
       "       -1481524.326432758, -1476524.326432758, -1471524.326432758,\n",
       "       -1466524.326432758, -1461524.326432758, -1456524.326432758,\n",
       "       -1451524.326432758,\n",
       "       ...\n",
       "        1453475.673567242,  1458475.673567242,  1463475.673567242,\n",
       "        1468475.673567242,  1473475.673567242,  1478475.673567242,\n",
       "        1483475.673567242,  1488475.673567242,  1493475.673567242,\n",
       "        1498475.673567242],\n",
       "      dtype=&#x27;float64&#x27;, name=&#x27;x&#x27;, length=600))</pre></div></li><li class='xr-var-item'><div class='xr-index-name'><div>y</div></div><div class='xr-index-preview'>PandasIndex</div><div></div><input id='index-e550c35d-a13b-44aa-a966-42b8923d9b18' class='xr-index-data-in' type='checkbox'/><label for='index-e550c35d-a13b-44aa-a966-42b8923d9b18' title='Show/Hide index repr'><svg class='icon xr-icon-database'><use xlink:href='#icon-database'></use></svg></label><div class='xr-index-data'><pre>PandasIndex(Index([ 995893.546326695,  990893.546326695,  985893.546326695,\n",
       "        980893.546326695,  975893.546326695,  970893.546326695,\n",
       "        965893.546326695,  960893.546326695,  955893.546326695,\n",
       "        950893.546326695,\n",
       "       ...\n",
       "       -704106.453673305, -709106.453673305, -714106.453673305,\n",
       "       -719106.453673305, -724106.453673305, -729106.453673305,\n",
       "       -734106.453673305, -739106.453673305, -744106.453673305,\n",
       "       -749106.453673305],\n",
       "      dtype=&#x27;float64&#x27;, name=&#x27;y&#x27;, length=350))</pre></div></li><li class='xr-var-item'><div class='xr-index-name'><div>time</div></div><div class='xr-index-preview'>PandasIndex</div><div></div><input id='index-9ffe49a2-a73a-423c-9ab4-2d46998cc5d9' class='xr-index-data-in' type='checkbox'/><label for='index-9ffe49a2-a73a-423c-9ab4-2d46998cc5d9' title='Show/Hide index repr'><svg class='icon xr-icon-database'><use xlink:href='#icon-database'></use></svg></label><div class='xr-index-data'><pre>PandasIndex(DatetimeIndex([&#x27;2022-10-23 12:30:00&#x27;, &#x27;2022-06-05 12:30:00&#x27;,\n",
       "               &#x27;2022-08-07 12:30:00&#x27;, &#x27;2022-09-11 12:30:00&#x27;,\n",
       "               &#x27;2022-10-02 12:30:00&#x27;, &#x27;2022-05-22 12:30:00&#x27;,\n",
       "               &#x27;2022-06-12 12:30:00&#x27;, &#x27;2022-08-21 12:30:00&#x27;,\n",
       "               &#x27;2022-08-28 12:30:00&#x27;, &#x27;2022-07-24 12:30:00&#x27;,\n",
       "               &#x27;2022-05-08 12:30:00&#x27;, &#x27;2022-05-15 12:30:00&#x27;,\n",
       "               &#x27;2022-07-03 12:30:00&#x27;, &#x27;2022-07-10 12:30:00&#x27;,\n",
       "               &#x27;2022-09-04 12:30:00&#x27;, &#x27;2022-06-19 12:30:00&#x27;,\n",
       "               &#x27;2022-10-09 12:30:00&#x27;, &#x27;2022-10-16 12:30:00&#x27;,\n",
       "               &#x27;2022-09-25 12:30:00&#x27;, &#x27;2022-05-01 12:30:00&#x27;,\n",
       "               &#x27;2022-09-18 12:30:00&#x27;, &#x27;2022-07-17 12:30:00&#x27;,\n",
       "               &#x27;2022-05-29 12:30:00&#x27;, &#x27;2022-06-26 12:30:00&#x27;,\n",
       "               &#x27;2022-08-14 12:30:00&#x27;, &#x27;2022-10-30 12:30:00&#x27;,\n",
       "               &#x27;2022-07-31 12:30:00&#x27;],\n",
       "              dtype=&#x27;datetime64[ns]&#x27;, name=&#x27;time&#x27;, freq=None))</pre></div></li></ul></div></li><li class='xr-section-item'><input id='section-8e592df5-b58d-42a5-87c6-cef9b9370ddb' class='xr-section-summary-in' type='checkbox'  ><label for='section-8e592df5-b58d-42a5-87c6-cef9b9370ddb' class='xr-section-summary' >Attributes: <span>(33)</span></label><div class='xr-section-inline-details'></div><div class='xr-section-details'><dl class='xr-attrs'><dt><span>Comment :</span></dt><dd>filename: MERRA2_HAQAST_CNN_L4_V1_20221023.nc4</dd><dt><span>Filename :</span></dt><dd>MERRA2_HAQAST_CNN_L4_V1_20221023.nc4</dd><dt><span>Conventions :</span></dt><dd>CF-1</dd><dt><span>Institution :</span></dt><dd>NASA Goddard Space Flight Center</dd><dt><span>References :</span></dt><dd>http://gmao.gsfc.nasa.gov ; https://doi.org/10.4209/aaqr.210105 ; https://doi.org/10.1029/2022EA002375</dd><dt><span>Format :</span></dt><dd>NetCDF-4/HDF-5</dd><dt><span>SpatialCoverage :</span></dt><dd>global</dd><dt><span>VersionID :</span></dt><dd>V1</dd><dt><span>TemporalRange :</span></dt><dd>2000-01-01 -&gt; 2024-12-31</dd><dt><span>identifier_product_doi_authority :</span></dt><dd>http://dx.doi.org/</dd><dt><span>ShortName :</span></dt><dd>MERRA2_CNN_HAQAST_PM25</dd><dt><span>GranuleID :</span></dt><dd>MERRA2_HAQAST_CNN_L4_V1_20221023.nc4</dd><dt><span>ProductionDateTime :</span></dt><dd>2024-06-18T17:57:14.712239Z</dd><dt><span>LongName :</span></dt><dd>MERRA2_CNN_HAQAST bias corrected global hourly surface total PM2.5 mass concentration V1.0</dd><dt><span>title :</span></dt><dd>MERRA2_CNN_HAQAST bias corrected global hourly surface total PM2.5 mass concentration V1.0</dd><dt><span>SouthernmostLatitude :</span></dt><dd>-90.0</dd><dt><span>NorthernmostLatitude :</span></dt><dd>90.0</dd><dt><span>WesternmostLongitude :</span></dt><dd>-180.0</dd><dt><span>EasternmostLongitude :</span></dt><dd>179.375</dd><dt><span>LatitudeResolution :</span></dt><dd>0.5</dd><dt><span>LongitudeResolution :</span></dt><dd>0.625</dd><dt><span>DataResolution :</span></dt><dd>0.5 x 0.625</dd><dt><span>Source :</span></dt><dd>M2T1NXAER_5.12.4: BCSMASS,DUSMASS25,OCSMASS,SO2SMASS,SO4SMASS,SSSMASS25,TOTEXTTAU</dd><dt><span>Contact :</span></dt><dd>Pawan Gupta (pawan.gupta@nasa.gov), and Alqamah Sayeed (alqamah.sayeed@nasa.gov)</dd><dt><span>identifier_product_doi :</span></dt><dd>10.5067/OCKK5HCFW5N3</dd><dt><span>RangeBeginningDate :</span></dt><dd>2022-10-23</dd><dt><span>RangeBeginningTime :</span></dt><dd>00:00:00.000000</dd><dt><span>RangeEndingDate :</span></dt><dd>2022-10-23</dd><dt><span>RangeEndingTime :</span></dt><dd>23:59:59.000000</dd><dt><span>DODS_EXTRA.Unlimited_Dimension :</span></dt><dd>time</dd><dt><span>history :</span></dt><dd>2023-04-21 04:24:38 GMT Hyrax-1.16.3 https://goldsmr4.gesdisc.eosdis.nasa.gov/opendap/MERRA2/M2T1NXAER.5.12.4/2022/12/MERRA2_400.tavg1_2d_aer_Nx.20221231.nc4.nc4?BCSMASS,DUSMASS25,OCSMASS,SO2SMASS,SO4SMASS,SSSMASS25,TOTEXTTAU</dd><dt><span>ProcessingLevel :</span></dt><dd>4</dd><dt><span>MapProjection :</span></dt><dd>Geographic lat/lon. Datum: WGS-84</dd></dl></div></li></ul></div></div>"
      ],
      "text/plain": [
       "<xarray.Dataset> Size: 68MB\n",
       "Dimensions:                  (time: 27, y: 350, x: 600)\n",
       "Coordinates:\n",
       "  * x                        (x) float64 5kB -1.497e+06 -1.492e+06 ... 1.498e+06\n",
       "  * y                        (y) float64 3kB 9.959e+05 9.909e+05 ... -7.491e+05\n",
       "  * time                     (time) datetime64[ns] 216B 2022-10-23T12:30:00 ....\n",
       "    spatial_ref              int64 8B 0\n",
       "Data variables:\n",
       "    MERRA2_CNN_Surface_PM25  (time, y, x) float32 23MB 2.473 2.384 ... 5.312\n",
       "    QFLAG                    (time, y, x) float64 45MB 2.0 2.0 2.0 ... 4.0 4.0\n",
       "Attributes: (12/33)\n",
       "    Comment:                           filename: MERRA2_HAQAST_CNN_L4_V1_2022...\n",
       "    Filename:                          MERRA2_HAQAST_CNN_L4_V1_20221023.nc4\n",
       "    Conventions:                       CF-1\n",
       "    Institution:                       NASA Goddard Space Flight Center\n",
       "    References:                        http://gmao.gsfc.nasa.gov ; https://do...\n",
       "    Format:                            NetCDF-4/HDF-5\n",
       "    ...                                ...\n",
       "    RangeEndingDate:                   2022-10-23\n",
       "    RangeEndingTime:                   23:59:59.000000\n",
       "    DODS_EXTRA.Unlimited_Dimension:    time\n",
       "    history:                           2023-04-21 04:24:38 GMT Hyrax-1.16.3 h...\n",
       "    ProcessingLevel:                   4\n",
       "    MapProjection:                     Geographic lat/lon. Datum: WGS-84"
      ]
     },
     "execution_count": 16,
     "metadata": {},
     "output_type": "execute_result"
    }
   ],
   "source": [
    "combined_ds\n"
   ]
  },
  {
   "cell_type": "code",
   "execution_count": 55,
   "metadata": {},
   "outputs": [
    {
     "data": {
      "text/html": [
       "<div><svg style=\"position: absolute; width: 0; height: 0; overflow: hidden\">\n",
       "<defs>\n",
       "<symbol id=\"icon-database\" viewBox=\"0 0 32 32\">\n",
       "<path d=\"M16 0c-8.837 0-16 2.239-16 5v4c0 2.761 7.163 5 16 5s16-2.239 16-5v-4c0-2.761-7.163-5-16-5z\"></path>\n",
       "<path d=\"M16 17c-8.837 0-16-2.239-16-5v6c0 2.761 7.163 5 16 5s16-2.239 16-5v-6c0 2.761-7.163 5-16 5z\"></path>\n",
       "<path d=\"M16 26c-8.837 0-16-2.239-16-5v6c0 2.761 7.163 5 16 5s16-2.239 16-5v-6c0 2.761-7.163 5-16 5z\"></path>\n",
       "</symbol>\n",
       "<symbol id=\"icon-file-text2\" viewBox=\"0 0 32 32\">\n",
       "<path d=\"M28.681 7.159c-0.694-0.947-1.662-2.053-2.724-3.116s-2.169-2.030-3.116-2.724c-1.612-1.182-2.393-1.319-2.841-1.319h-15.5c-1.378 0-2.5 1.121-2.5 2.5v27c0 1.378 1.122 2.5 2.5 2.5h23c1.378 0 2.5-1.122 2.5-2.5v-19.5c0-0.448-0.137-1.23-1.319-2.841zM24.543 5.457c0.959 0.959 1.712 1.825 2.268 2.543h-4.811v-4.811c0.718 0.556 1.584 1.309 2.543 2.268zM28 29.5c0 0.271-0.229 0.5-0.5 0.5h-23c-0.271 0-0.5-0.229-0.5-0.5v-27c0-0.271 0.229-0.5 0.5-0.5 0 0 15.499-0 15.5 0v7c0 0.552 0.448 1 1 1h7v19.5z\"></path>\n",
       "<path d=\"M23 26h-14c-0.552 0-1-0.448-1-1s0.448-1 1-1h14c0.552 0 1 0.448 1 1s-0.448 1-1 1z\"></path>\n",
       "<path d=\"M23 22h-14c-0.552 0-1-0.448-1-1s0.448-1 1-1h14c0.552 0 1 0.448 1 1s-0.448 1-1 1z\"></path>\n",
       "<path d=\"M23 18h-14c-0.552 0-1-0.448-1-1s0.448-1 1-1h14c0.552 0 1 0.448 1 1s-0.448 1-1 1z\"></path>\n",
       "</symbol>\n",
       "</defs>\n",
       "</svg>\n",
       "<style>/* CSS stylesheet for displaying xarray objects in jupyterlab.\n",
       " *\n",
       " */\n",
       "\n",
       ":root {\n",
       "  --xr-font-color0: var(--jp-content-font-color0, rgba(0, 0, 0, 1));\n",
       "  --xr-font-color2: var(--jp-content-font-color2, rgba(0, 0, 0, 0.54));\n",
       "  --xr-font-color3: var(--jp-content-font-color3, rgba(0, 0, 0, 0.38));\n",
       "  --xr-border-color: var(--jp-border-color2, #e0e0e0);\n",
       "  --xr-disabled-color: var(--jp-layout-color3, #bdbdbd);\n",
       "  --xr-background-color: var(--jp-layout-color0, white);\n",
       "  --xr-background-color-row-even: var(--jp-layout-color1, white);\n",
       "  --xr-background-color-row-odd: var(--jp-layout-color2, #eeeeee);\n",
       "}\n",
       "\n",
       "html[theme=dark],\n",
       "html[data-theme=dark],\n",
       "body[data-theme=dark],\n",
       "body.vscode-dark {\n",
       "  --xr-font-color0: rgba(255, 255, 255, 1);\n",
       "  --xr-font-color2: rgba(255, 255, 255, 0.54);\n",
       "  --xr-font-color3: rgba(255, 255, 255, 0.38);\n",
       "  --xr-border-color: #1F1F1F;\n",
       "  --xr-disabled-color: #515151;\n",
       "  --xr-background-color: #111111;\n",
       "  --xr-background-color-row-even: #111111;\n",
       "  --xr-background-color-row-odd: #313131;\n",
       "}\n",
       "\n",
       ".xr-wrap {\n",
       "  display: block !important;\n",
       "  min-width: 300px;\n",
       "  max-width: 700px;\n",
       "}\n",
       "\n",
       ".xr-text-repr-fallback {\n",
       "  /* fallback to plain text repr when CSS is not injected (untrusted notebook) */\n",
       "  display: none;\n",
       "}\n",
       "\n",
       ".xr-header {\n",
       "  padding-top: 6px;\n",
       "  padding-bottom: 6px;\n",
       "  margin-bottom: 4px;\n",
       "  border-bottom: solid 1px var(--xr-border-color);\n",
       "}\n",
       "\n",
       ".xr-header > div,\n",
       ".xr-header > ul {\n",
       "  display: inline;\n",
       "  margin-top: 0;\n",
       "  margin-bottom: 0;\n",
       "}\n",
       "\n",
       ".xr-obj-type,\n",
       ".xr-array-name {\n",
       "  margin-left: 2px;\n",
       "  margin-right: 10px;\n",
       "}\n",
       "\n",
       ".xr-obj-type {\n",
       "  color: var(--xr-font-color2);\n",
       "}\n",
       "\n",
       ".xr-sections {\n",
       "  padding-left: 0 !important;\n",
       "  display: grid;\n",
       "  grid-template-columns: 150px auto auto 1fr 0 20px 0 20px;\n",
       "}\n",
       "\n",
       ".xr-section-item {\n",
       "  display: contents;\n",
       "}\n",
       "\n",
       ".xr-section-item input {\n",
       "  display: inline-block;\n",
       "  opacity: 0;\n",
       "}\n",
       "\n",
       ".xr-section-item input + label {\n",
       "  color: var(--xr-disabled-color);\n",
       "}\n",
       "\n",
       ".xr-section-item input:enabled + label {\n",
       "  cursor: pointer;\n",
       "  color: var(--xr-font-color2);\n",
       "}\n",
       "\n",
       ".xr-section-item input:focus + label {\n",
       "  border: 2px solid var(--xr-font-color0);\n",
       "}\n",
       "\n",
       ".xr-section-item input:enabled + label:hover {\n",
       "  color: var(--xr-font-color0);\n",
       "}\n",
       "\n",
       ".xr-section-summary {\n",
       "  grid-column: 1;\n",
       "  color: var(--xr-font-color2);\n",
       "  font-weight: 500;\n",
       "}\n",
       "\n",
       ".xr-section-summary > span {\n",
       "  display: inline-block;\n",
       "  padding-left: 0.5em;\n",
       "}\n",
       "\n",
       ".xr-section-summary-in:disabled + label {\n",
       "  color: var(--xr-font-color2);\n",
       "}\n",
       "\n",
       ".xr-section-summary-in + label:before {\n",
       "  display: inline-block;\n",
       "  content: '►';\n",
       "  font-size: 11px;\n",
       "  width: 15px;\n",
       "  text-align: center;\n",
       "}\n",
       "\n",
       ".xr-section-summary-in:disabled + label:before {\n",
       "  color: var(--xr-disabled-color);\n",
       "}\n",
       "\n",
       ".xr-section-summary-in:checked + label:before {\n",
       "  content: '▼';\n",
       "}\n",
       "\n",
       ".xr-section-summary-in:checked + label > span {\n",
       "  display: none;\n",
       "}\n",
       "\n",
       ".xr-section-summary,\n",
       ".xr-section-inline-details {\n",
       "  padding-top: 4px;\n",
       "  padding-bottom: 4px;\n",
       "}\n",
       "\n",
       ".xr-section-inline-details {\n",
       "  grid-column: 2 / -1;\n",
       "}\n",
       "\n",
       ".xr-section-details {\n",
       "  display: none;\n",
       "  grid-column: 1 / -1;\n",
       "  margin-bottom: 5px;\n",
       "}\n",
       "\n",
       ".xr-section-summary-in:checked ~ .xr-section-details {\n",
       "  display: contents;\n",
       "}\n",
       "\n",
       ".xr-array-wrap {\n",
       "  grid-column: 1 / -1;\n",
       "  display: grid;\n",
       "  grid-template-columns: 20px auto;\n",
       "}\n",
       "\n",
       ".xr-array-wrap > label {\n",
       "  grid-column: 1;\n",
       "  vertical-align: top;\n",
       "}\n",
       "\n",
       ".xr-preview {\n",
       "  color: var(--xr-font-color3);\n",
       "}\n",
       "\n",
       ".xr-array-preview,\n",
       ".xr-array-data {\n",
       "  padding: 0 5px !important;\n",
       "  grid-column: 2;\n",
       "}\n",
       "\n",
       ".xr-array-data,\n",
       ".xr-array-in:checked ~ .xr-array-preview {\n",
       "  display: none;\n",
       "}\n",
       "\n",
       ".xr-array-in:checked ~ .xr-array-data,\n",
       ".xr-array-preview {\n",
       "  display: inline-block;\n",
       "}\n",
       "\n",
       ".xr-dim-list {\n",
       "  display: inline-block !important;\n",
       "  list-style: none;\n",
       "  padding: 0 !important;\n",
       "  margin: 0;\n",
       "}\n",
       "\n",
       ".xr-dim-list li {\n",
       "  display: inline-block;\n",
       "  padding: 0;\n",
       "  margin: 0;\n",
       "}\n",
       "\n",
       ".xr-dim-list:before {\n",
       "  content: '(';\n",
       "}\n",
       "\n",
       ".xr-dim-list:after {\n",
       "  content: ')';\n",
       "}\n",
       "\n",
       ".xr-dim-list li:not(:last-child):after {\n",
       "  content: ',';\n",
       "  padding-right: 5px;\n",
       "}\n",
       "\n",
       ".xr-has-index {\n",
       "  font-weight: bold;\n",
       "}\n",
       "\n",
       ".xr-var-list,\n",
       ".xr-var-item {\n",
       "  display: contents;\n",
       "}\n",
       "\n",
       ".xr-var-item > div,\n",
       ".xr-var-item label,\n",
       ".xr-var-item > .xr-var-name span {\n",
       "  background-color: var(--xr-background-color-row-even);\n",
       "  margin-bottom: 0;\n",
       "}\n",
       "\n",
       ".xr-var-item > .xr-var-name:hover span {\n",
       "  padding-right: 5px;\n",
       "}\n",
       "\n",
       ".xr-var-list > li:nth-child(odd) > div,\n",
       ".xr-var-list > li:nth-child(odd) > label,\n",
       ".xr-var-list > li:nth-child(odd) > .xr-var-name span {\n",
       "  background-color: var(--xr-background-color-row-odd);\n",
       "}\n",
       "\n",
       ".xr-var-name {\n",
       "  grid-column: 1;\n",
       "}\n",
       "\n",
       ".xr-var-dims {\n",
       "  grid-column: 2;\n",
       "}\n",
       "\n",
       ".xr-var-dtype {\n",
       "  grid-column: 3;\n",
       "  text-align: right;\n",
       "  color: var(--xr-font-color2);\n",
       "}\n",
       "\n",
       ".xr-var-preview {\n",
       "  grid-column: 4;\n",
       "}\n",
       "\n",
       ".xr-index-preview {\n",
       "  grid-column: 2 / 5;\n",
       "  color: var(--xr-font-color2);\n",
       "}\n",
       "\n",
       ".xr-var-name,\n",
       ".xr-var-dims,\n",
       ".xr-var-dtype,\n",
       ".xr-preview,\n",
       ".xr-attrs dt {\n",
       "  white-space: nowrap;\n",
       "  overflow: hidden;\n",
       "  text-overflow: ellipsis;\n",
       "  padding-right: 10px;\n",
       "}\n",
       "\n",
       ".xr-var-name:hover,\n",
       ".xr-var-dims:hover,\n",
       ".xr-var-dtype:hover,\n",
       ".xr-attrs dt:hover {\n",
       "  overflow: visible;\n",
       "  width: auto;\n",
       "  z-index: 1;\n",
       "}\n",
       "\n",
       ".xr-var-attrs,\n",
       ".xr-var-data,\n",
       ".xr-index-data {\n",
       "  display: none;\n",
       "  background-color: var(--xr-background-color) !important;\n",
       "  padding-bottom: 5px !important;\n",
       "}\n",
       "\n",
       ".xr-var-attrs-in:checked ~ .xr-var-attrs,\n",
       ".xr-var-data-in:checked ~ .xr-var-data,\n",
       ".xr-index-data-in:checked ~ .xr-index-data {\n",
       "  display: block;\n",
       "}\n",
       "\n",
       ".xr-var-data > table {\n",
       "  float: right;\n",
       "}\n",
       "\n",
       ".xr-var-name span,\n",
       ".xr-var-data,\n",
       ".xr-index-name div,\n",
       ".xr-index-data,\n",
       ".xr-attrs {\n",
       "  padding-left: 25px !important;\n",
       "}\n",
       "\n",
       ".xr-attrs,\n",
       ".xr-var-attrs,\n",
       ".xr-var-data,\n",
       ".xr-index-data {\n",
       "  grid-column: 1 / -1;\n",
       "}\n",
       "\n",
       "dl.xr-attrs {\n",
       "  padding: 0;\n",
       "  margin: 0;\n",
       "  display: grid;\n",
       "  grid-template-columns: 125px auto;\n",
       "}\n",
       "\n",
       ".xr-attrs dt,\n",
       ".xr-attrs dd {\n",
       "  padding: 0;\n",
       "  margin: 0;\n",
       "  float: left;\n",
       "  padding-right: 10px;\n",
       "  width: auto;\n",
       "}\n",
       "\n",
       ".xr-attrs dt {\n",
       "  font-weight: normal;\n",
       "  grid-column: 1;\n",
       "}\n",
       "\n",
       ".xr-attrs dt:hover span {\n",
       "  display: inline-block;\n",
       "  background: var(--xr-background-color);\n",
       "  padding-right: 10px;\n",
       "}\n",
       "\n",
       ".xr-attrs dd {\n",
       "  grid-column: 2;\n",
       "  white-space: pre-wrap;\n",
       "  word-break: break-all;\n",
       "}\n",
       "\n",
       ".xr-icon-database,\n",
       ".xr-icon-file-text2,\n",
       ".xr-no-icon {\n",
       "  display: inline-block;\n",
       "  vertical-align: middle;\n",
       "  width: 1em;\n",
       "  height: 1.5em !important;\n",
       "  stroke-width: 0;\n",
       "  stroke: currentColor;\n",
       "  fill: currentColor;\n",
       "}\n",
       "</style><pre class='xr-text-repr-fallback'>&lt;xarray.DataArray &#x27;MERRA2_CNN_Surface_PM25&#x27; (y: 350, x: 600)&gt; Size: 840kB\n",
       "array([[2.473225  , 2.3843722 , 2.3144038 , ..., 0.        , 0.        ,\n",
       "        0.        ],\n",
       "       [2.4323792 , 2.3475983 , 2.2772088 , ..., 0.        , 0.        ,\n",
       "        0.        ],\n",
       "       [2.393014  , 2.3120801 , 2.2374437 , ..., 0.        , 0.        ,\n",
       "        0.        ],\n",
       "       ...,\n",
       "       [0.3795661 , 0.3654223 , 0.35083017, ..., 5.5693603 , 5.673527  ,\n",
       "        5.7763176 ],\n",
       "       [0.3717559 , 0.35857984, 0.34495598, ..., 5.5110574 , 5.6122274 ,\n",
       "        5.7120233 ],\n",
       "       [0.36437324, 0.3521639 , 0.33950728, ..., 5.4540715 , 5.5522485 ,\n",
       "        5.649053  ]], dtype=float32)\n",
       "Coordinates:\n",
       "  * x            (x) float64 5kB -1.497e+06 -1.492e+06 ... 1.493e+06 1.498e+06\n",
       "  * y            (y) float64 3kB 9.959e+05 9.909e+05 ... -7.441e+05 -7.491e+05\n",
       "    time         datetime64[ns] 8B 2022-10-23T12:30:00\n",
       "    spatial_ref  int64 8B 0\n",
       "Attributes:\n",
       "    units:      ug m-3\n",
       "    long_name:  Bias corrected surface total PM2.5 mass concentration</pre><div class='xr-wrap' style='display:none'><div class='xr-header'><div class='xr-obj-type'>xarray.DataArray</div><div class='xr-array-name'>'MERRA2_CNN_Surface_PM25'</div><ul class='xr-dim-list'><li><span class='xr-has-index'>y</span>: 350</li><li><span class='xr-has-index'>x</span>: 600</li></ul></div><ul class='xr-sections'><li class='xr-section-item'><div class='xr-array-wrap'><input id='section-cfe5e862-3575-4f18-aa5b-9b252b9695b7' class='xr-array-in' type='checkbox' checked><label for='section-cfe5e862-3575-4f18-aa5b-9b252b9695b7' title='Show/hide data repr'><svg class='icon xr-icon-database'><use xlink:href='#icon-database'></use></svg></label><div class='xr-array-preview xr-preview'><span>2.473 2.384 2.314 2.251 2.19 2.133 ... 5.254 5.355 5.454 5.552 5.649</span></div><div class='xr-array-data'><pre>array([[2.473225  , 2.3843722 , 2.3144038 , ..., 0.        , 0.        ,\n",
       "        0.        ],\n",
       "       [2.4323792 , 2.3475983 , 2.2772088 , ..., 0.        , 0.        ,\n",
       "        0.        ],\n",
       "       [2.393014  , 2.3120801 , 2.2374437 , ..., 0.        , 0.        ,\n",
       "        0.        ],\n",
       "       ...,\n",
       "       [0.3795661 , 0.3654223 , 0.35083017, ..., 5.5693603 , 5.673527  ,\n",
       "        5.7763176 ],\n",
       "       [0.3717559 , 0.35857984, 0.34495598, ..., 5.5110574 , 5.6122274 ,\n",
       "        5.7120233 ],\n",
       "       [0.36437324, 0.3521639 , 0.33950728, ..., 5.4540715 , 5.5522485 ,\n",
       "        5.649053  ]], dtype=float32)</pre></div></div></li><li class='xr-section-item'><input id='section-8b8f18d1-0aff-4a35-9976-a91c6e3cd96c' class='xr-section-summary-in' type='checkbox'  checked><label for='section-8b8f18d1-0aff-4a35-9976-a91c6e3cd96c' class='xr-section-summary' >Coordinates: <span>(4)</span></label><div class='xr-section-inline-details'></div><div class='xr-section-details'><ul class='xr-var-list'><li class='xr-var-item'><div class='xr-var-name'><span class='xr-has-index'>x</span></div><div class='xr-var-dims'>(x)</div><div class='xr-var-dtype'>float64</div><div class='xr-var-preview xr-preview'>-1.497e+06 -1.492e+06 ... 1.498e+06</div><input id='attrs-13b9707f-d50f-46f8-b84d-29df0c83d279' class='xr-var-attrs-in' type='checkbox' ><label for='attrs-13b9707f-d50f-46f8-b84d-29df0c83d279' title='Show/Hide attributes'><svg class='icon xr-icon-file-text2'><use xlink:href='#icon-file-text2'></use></svg></label><input id='data-031aeaf5-0868-4649-babf-f25fa3665019' class='xr-var-data-in' type='checkbox'><label for='data-031aeaf5-0868-4649-babf-f25fa3665019' title='Show/Hide data repr'><svg class='icon xr-icon-database'><use xlink:href='#icon-database'></use></svg></label><div class='xr-var-attrs'><dl class='xr-attrs'><dt><span>axis :</span></dt><dd>X</dd><dt><span>long_name :</span></dt><dd>x coordinate of projection</dd><dt><span>standard_name :</span></dt><dd>projection_x_coordinate</dd><dt><span>units :</span></dt><dd>metre</dd></dl></div><div class='xr-var-data'><pre>array([-1496524.326433, -1491524.326433, -1486524.326433, ...,  1488475.673567,\n",
       "        1493475.673567,  1498475.673567])</pre></div></li><li class='xr-var-item'><div class='xr-var-name'><span class='xr-has-index'>y</span></div><div class='xr-var-dims'>(y)</div><div class='xr-var-dtype'>float64</div><div class='xr-var-preview xr-preview'>9.959e+05 9.909e+05 ... -7.491e+05</div><input id='attrs-5ccc2537-c11b-485f-ac5a-b73ebcad523d' class='xr-var-attrs-in' type='checkbox' ><label for='attrs-5ccc2537-c11b-485f-ac5a-b73ebcad523d' title='Show/Hide attributes'><svg class='icon xr-icon-file-text2'><use xlink:href='#icon-file-text2'></use></svg></label><input id='data-6eb03b18-6929-41c8-af85-ef2d9b7666e5' class='xr-var-data-in' type='checkbox'><label for='data-6eb03b18-6929-41c8-af85-ef2d9b7666e5' title='Show/Hide data repr'><svg class='icon xr-icon-database'><use xlink:href='#icon-database'></use></svg></label><div class='xr-var-attrs'><dl class='xr-attrs'><dt><span>axis :</span></dt><dd>Y</dd><dt><span>long_name :</span></dt><dd>y coordinate of projection</dd><dt><span>standard_name :</span></dt><dd>projection_y_coordinate</dd><dt><span>units :</span></dt><dd>metre</dd></dl></div><div class='xr-var-data'><pre>array([ 995893.546327,  990893.546327,  985893.546327, ..., -739106.453673,\n",
       "       -744106.453673, -749106.453673])</pre></div></li><li class='xr-var-item'><div class='xr-var-name'><span>time</span></div><div class='xr-var-dims'>()</div><div class='xr-var-dtype'>datetime64[ns]</div><div class='xr-var-preview xr-preview'>2022-10-23T12:30:00</div><input id='attrs-7b78e80e-978c-4a24-865c-69020cf50174' class='xr-var-attrs-in' type='checkbox' ><label for='attrs-7b78e80e-978c-4a24-865c-69020cf50174' title='Show/Hide attributes'><svg class='icon xr-icon-file-text2'><use xlink:href='#icon-file-text2'></use></svg></label><input id='data-bf55d75f-69eb-4fd7-ad8c-52e54ffc48ff' class='xr-var-data-in' type='checkbox'><label for='data-bf55d75f-69eb-4fd7-ad8c-52e54ffc48ff' title='Show/Hide data repr'><svg class='icon xr-icon-database'><use xlink:href='#icon-database'></use></svg></label><div class='xr-var-attrs'><dl class='xr-attrs'><dt><span>long_name :</span></dt><dd>time</dd></dl></div><div class='xr-var-data'><pre>array(&#x27;2022-10-23T12:30:00.000000000&#x27;, dtype=&#x27;datetime64[ns]&#x27;)</pre></div></li><li class='xr-var-item'><div class='xr-var-name'><span>spatial_ref</span></div><div class='xr-var-dims'>()</div><div class='xr-var-dtype'>int64</div><div class='xr-var-preview xr-preview'>0</div><input id='attrs-65a41866-7221-4836-92c9-10aaa3c21867' class='xr-var-attrs-in' type='checkbox' ><label for='attrs-65a41866-7221-4836-92c9-10aaa3c21867' title='Show/Hide attributes'><svg class='icon xr-icon-file-text2'><use xlink:href='#icon-file-text2'></use></svg></label><input id='data-1b1ed50a-c6e8-43b3-b0c3-11f66a13c85d' class='xr-var-data-in' type='checkbox'><label for='data-1b1ed50a-c6e8-43b3-b0c3-11f66a13c85d' title='Show/Hide data repr'><svg class='icon xr-icon-database'><use xlink:href='#icon-database'></use></svg></label><div class='xr-var-attrs'><dl class='xr-attrs'><dt><span>crs_wkt :</span></dt><dd>PROJCS[&quot;unknown&quot;,GEOGCS[&quot;unknown&quot;,DATUM[&quot;WGS_1984&quot;,SPHEROID[&quot;WGS 84&quot;,6378137,298.257223563,AUTHORITY[&quot;EPSG&quot;,&quot;7030&quot;]],AUTHORITY[&quot;EPSG&quot;,&quot;6326&quot;]],PRIMEM[&quot;Greenwich&quot;,0,AUTHORITY[&quot;EPSG&quot;,&quot;8901&quot;]],UNIT[&quot;degree&quot;,0.0174532925199433,AUTHORITY[&quot;EPSG&quot;,&quot;9122&quot;]]],PROJECTION[&quot;Albers_Conic_Equal_Area&quot;],PARAMETER[&quot;latitude_of_center&quot;,45],PARAMETER[&quot;longitude_of_center&quot;,-115],PARAMETER[&quot;standard_parallel_1&quot;,42],PARAMETER[&quot;standard_parallel_2&quot;,48],PARAMETER[&quot;false_easting&quot;,0],PARAMETER[&quot;false_northing&quot;,0],UNIT[&quot;metre&quot;,1,AUTHORITY[&quot;EPSG&quot;,&quot;9001&quot;]],AXIS[&quot;Easting&quot;,EAST],AXIS[&quot;Northing&quot;,NORTH]]</dd><dt><span>semi_major_axis :</span></dt><dd>6378137.0</dd><dt><span>semi_minor_axis :</span></dt><dd>6356752.314245179</dd><dt><span>inverse_flattening :</span></dt><dd>298.257223563</dd><dt><span>reference_ellipsoid_name :</span></dt><dd>WGS 84</dd><dt><span>longitude_of_prime_meridian :</span></dt><dd>0.0</dd><dt><span>prime_meridian_name :</span></dt><dd>Greenwich</dd><dt><span>geographic_crs_name :</span></dt><dd>unknown</dd><dt><span>horizontal_datum_name :</span></dt><dd>World Geodetic System 1984</dd><dt><span>projected_crs_name :</span></dt><dd>unknown</dd><dt><span>grid_mapping_name :</span></dt><dd>albers_conical_equal_area</dd><dt><span>standard_parallel :</span></dt><dd>(42.0, 48.0)</dd><dt><span>latitude_of_projection_origin :</span></dt><dd>45.0</dd><dt><span>longitude_of_central_meridian :</span></dt><dd>-115.0</dd><dt><span>false_easting :</span></dt><dd>0.0</dd><dt><span>false_northing :</span></dt><dd>0.0</dd><dt><span>spatial_ref :</span></dt><dd>PROJCS[&quot;unknown&quot;,GEOGCS[&quot;unknown&quot;,DATUM[&quot;WGS_1984&quot;,SPHEROID[&quot;WGS 84&quot;,6378137,298.257223563,AUTHORITY[&quot;EPSG&quot;,&quot;7030&quot;]],AUTHORITY[&quot;EPSG&quot;,&quot;6326&quot;]],PRIMEM[&quot;Greenwich&quot;,0,AUTHORITY[&quot;EPSG&quot;,&quot;8901&quot;]],UNIT[&quot;degree&quot;,0.0174532925199433,AUTHORITY[&quot;EPSG&quot;,&quot;9122&quot;]]],PROJECTION[&quot;Albers_Conic_Equal_Area&quot;],PARAMETER[&quot;latitude_of_center&quot;,45],PARAMETER[&quot;longitude_of_center&quot;,-115],PARAMETER[&quot;standard_parallel_1&quot;,42],PARAMETER[&quot;standard_parallel_2&quot;,48],PARAMETER[&quot;false_easting&quot;,0],PARAMETER[&quot;false_northing&quot;,0],UNIT[&quot;metre&quot;,1,AUTHORITY[&quot;EPSG&quot;,&quot;9001&quot;]],AXIS[&quot;Easting&quot;,EAST],AXIS[&quot;Northing&quot;,NORTH]]</dd><dt><span>GeoTransform :</span></dt><dd>-2309024.326432758 5000.0 0.0 1388393.546326695 0.0 -5000.0</dd></dl></div><div class='xr-var-data'><pre>array(0)</pre></div></li></ul></div></li><li class='xr-section-item'><input id='section-cd82ce0d-7264-487a-948b-a990af68f370' class='xr-section-summary-in' type='checkbox'  ><label for='section-cd82ce0d-7264-487a-948b-a990af68f370' class='xr-section-summary' >Indexes: <span>(2)</span></label><div class='xr-section-inline-details'></div><div class='xr-section-details'><ul class='xr-var-list'><li class='xr-var-item'><div class='xr-index-name'><div>x</div></div><div class='xr-index-preview'>PandasIndex</div><div></div><input id='index-f1761056-8f6a-4a42-8b2a-a939fa8e18bf' class='xr-index-data-in' type='checkbox'/><label for='index-f1761056-8f6a-4a42-8b2a-a939fa8e18bf' title='Show/Hide index repr'><svg class='icon xr-icon-database'><use xlink:href='#icon-database'></use></svg></label><div class='xr-index-data'><pre>PandasIndex(Index([-1496524.326432758, -1491524.326432758, -1486524.326432758,\n",
       "       -1481524.326432758, -1476524.326432758, -1471524.326432758,\n",
       "       -1466524.326432758, -1461524.326432758, -1456524.326432758,\n",
       "       -1451524.326432758,\n",
       "       ...\n",
       "        1453475.673567242,  1458475.673567242,  1463475.673567242,\n",
       "        1468475.673567242,  1473475.673567242,  1478475.673567242,\n",
       "        1483475.673567242,  1488475.673567242,  1493475.673567242,\n",
       "        1498475.673567242],\n",
       "      dtype=&#x27;float64&#x27;, name=&#x27;x&#x27;, length=600))</pre></div></li><li class='xr-var-item'><div class='xr-index-name'><div>y</div></div><div class='xr-index-preview'>PandasIndex</div><div></div><input id='index-f2d30785-2c7f-43d2-a69a-160cb5f90905' class='xr-index-data-in' type='checkbox'/><label for='index-f2d30785-2c7f-43d2-a69a-160cb5f90905' title='Show/Hide index repr'><svg class='icon xr-icon-database'><use xlink:href='#icon-database'></use></svg></label><div class='xr-index-data'><pre>PandasIndex(Index([ 995893.546326695,  990893.546326695,  985893.546326695,\n",
       "        980893.546326695,  975893.546326695,  970893.546326695,\n",
       "        965893.546326695,  960893.546326695,  955893.546326695,\n",
       "        950893.546326695,\n",
       "       ...\n",
       "       -704106.453673305, -709106.453673305, -714106.453673305,\n",
       "       -719106.453673305, -724106.453673305, -729106.453673305,\n",
       "       -734106.453673305, -739106.453673305, -744106.453673305,\n",
       "       -749106.453673305],\n",
       "      dtype=&#x27;float64&#x27;, name=&#x27;y&#x27;, length=350))</pre></div></li></ul></div></li><li class='xr-section-item'><input id='section-7f3ffaea-d6fb-4e7d-b96d-750891327206' class='xr-section-summary-in' type='checkbox'  checked><label for='section-7f3ffaea-d6fb-4e7d-b96d-750891327206' class='xr-section-summary' >Attributes: <span>(2)</span></label><div class='xr-section-inline-details'></div><div class='xr-section-details'><dl class='xr-attrs'><dt><span>units :</span></dt><dd>ug m-3</dd><dt><span>long_name :</span></dt><dd>Bias corrected surface total PM2.5 mass concentration</dd></dl></div></li></ul></div></div>"
      ],
      "text/plain": [
       "<xarray.DataArray 'MERRA2_CNN_Surface_PM25' (y: 350, x: 600)> Size: 840kB\n",
       "array([[2.473225  , 2.3843722 , 2.3144038 , ..., 0.        , 0.        ,\n",
       "        0.        ],\n",
       "       [2.4323792 , 2.3475983 , 2.2772088 , ..., 0.        , 0.        ,\n",
       "        0.        ],\n",
       "       [2.393014  , 2.3120801 , 2.2374437 , ..., 0.        , 0.        ,\n",
       "        0.        ],\n",
       "       ...,\n",
       "       [0.3795661 , 0.3654223 , 0.35083017, ..., 5.5693603 , 5.673527  ,\n",
       "        5.7763176 ],\n",
       "       [0.3717559 , 0.35857984, 0.34495598, ..., 5.5110574 , 5.6122274 ,\n",
       "        5.7120233 ],\n",
       "       [0.36437324, 0.3521639 , 0.33950728, ..., 5.4540715 , 5.5522485 ,\n",
       "        5.649053  ]], dtype=float32)\n",
       "Coordinates:\n",
       "  * x            (x) float64 5kB -1.497e+06 -1.492e+06 ... 1.493e+06 1.498e+06\n",
       "  * y            (y) float64 3kB 9.959e+05 9.909e+05 ... -7.441e+05 -7.491e+05\n",
       "    time         datetime64[ns] 8B 2022-10-23T12:30:00\n",
       "    spatial_ref  int64 8B 0\n",
       "Attributes:\n",
       "    units:      ug m-3\n",
       "    long_name:  Bias corrected surface total PM2.5 mass concentration"
      ]
     },
     "execution_count": 55,
     "metadata": {},
     "output_type": "execute_result"
    }
   ],
   "source": [
    "combined_ds.MERRA2_CNN_Surface_PM25[0]"
   ]
  },
  {
   "cell_type": "code",
   "execution_count": 17,
   "metadata": {
    "ExecuteTime": {
     "end_time": "2024-11-29T20:13:25.017916Z",
     "start_time": "2024-11-29T20:13:25.015860Z"
    }
   },
   "outputs": [
    {
     "data": {
      "text/plain": [
       "True"
      ]
     },
     "execution_count": 17,
     "metadata": {},
     "output_type": "execute_result"
    }
   ],
   "source": [
    "# Fire vector data\n",
    "viirs = Path(\"viirs_data/DL_FIRE_J1V-C2_550835_040122_110122\")\n",
    "viirs.exists()"
   ]
  },
  {
   "cell_type": "code",
   "execution_count": 18,
   "metadata": {
    "ExecuteTime": {
     "end_time": "2024-11-29T20:13:31.582861Z",
     "start_time": "2024-11-29T20:13:31.576136Z"
    }
   },
   "outputs": [],
   "source": [
    "import geopandas as gpd"
   ]
  },
  {
   "cell_type": "code",
   "execution_count": 19,
   "metadata": {
    "ExecuteTime": {
     "end_time": "2024-11-29T20:28:57.380942Z",
     "start_time": "2024-11-29T20:28:52.800870Z"
    }
   },
   "outputs": [],
   "source": [
    "viirs_data = gpd.read_file(viirs, bbox=(lon_min,lat_min,lon_max,lat_max))\n",
    "viirs_data = viirs_data.to_crs(crs_proj4)"
   ]
  },
  {
   "cell_type": "code",
   "execution_count": 25,
   "metadata": {
    "ExecuteTime": {
     "end_time": "2024-11-29T20:37:58.571142Z",
     "start_time": "2024-11-29T20:37:58.569005Z"
    }
   },
   "outputs": [
    {
     "name": "stdout",
     "output_type": "stream",
     "text": [
      "[(datetime.datetime(2022, 10, 9, 12, 30), datetime.datetime(2022, 10, 23, 12, 30)), (datetime.datetime(2022, 5, 22, 12, 30), datetime.datetime(2022, 6, 5, 12, 30)), (datetime.datetime(2022, 7, 24, 12, 30), datetime.datetime(2022, 8, 7, 12, 30)), (datetime.datetime(2022, 8, 28, 12, 30), datetime.datetime(2022, 9, 11, 12, 30)), (datetime.datetime(2022, 9, 18, 12, 30), datetime.datetime(2022, 10, 2, 12, 30)), (datetime.datetime(2022, 5, 8, 12, 30), datetime.datetime(2022, 5, 22, 12, 30)), (datetime.datetime(2022, 5, 29, 12, 30), datetime.datetime(2022, 6, 12, 12, 30)), (datetime.datetime(2022, 8, 7, 12, 30), datetime.datetime(2022, 8, 21, 12, 30)), (datetime.datetime(2022, 8, 14, 12, 30), datetime.datetime(2022, 8, 28, 12, 30)), (datetime.datetime(2022, 7, 10, 12, 30), datetime.datetime(2022, 7, 24, 12, 30)), (datetime.datetime(2022, 4, 24, 12, 30), datetime.datetime(2022, 5, 8, 12, 30)), (datetime.datetime(2022, 5, 1, 12, 30), datetime.datetime(2022, 5, 15, 12, 30)), (datetime.datetime(2022, 6, 19, 12, 30), datetime.datetime(2022, 7, 3, 12, 30)), (datetime.datetime(2022, 6, 26, 12, 30), datetime.datetime(2022, 7, 10, 12, 30)), (datetime.datetime(2022, 8, 21, 12, 30), datetime.datetime(2022, 9, 4, 12, 30)), (datetime.datetime(2022, 6, 5, 12, 30), datetime.datetime(2022, 6, 19, 12, 30)), (datetime.datetime(2022, 9, 25, 12, 30), datetime.datetime(2022, 10, 9, 12, 30)), (datetime.datetime(2022, 10, 2, 12, 30), datetime.datetime(2022, 10, 16, 12, 30)), (datetime.datetime(2022, 9, 11, 12, 30), datetime.datetime(2022, 9, 25, 12, 30)), (datetime.datetime(2022, 4, 17, 12, 30), datetime.datetime(2022, 5, 1, 12, 30)), (datetime.datetime(2022, 9, 4, 12, 30), datetime.datetime(2022, 9, 18, 12, 30)), (datetime.datetime(2022, 7, 3, 12, 30), datetime.datetime(2022, 7, 17, 12, 30)), (datetime.datetime(2022, 5, 15, 12, 30), datetime.datetime(2022, 5, 29, 12, 30)), (datetime.datetime(2022, 6, 12, 12, 30), datetime.datetime(2022, 6, 26, 12, 30)), (datetime.datetime(2022, 7, 31, 12, 30), datetime.datetime(2022, 8, 14, 12, 30)), (datetime.datetime(2022, 10, 16, 12, 30), datetime.datetime(2022, 10, 30, 12, 30)), (datetime.datetime(2022, 7, 17, 12, 30), datetime.datetime(2022, 7, 31, 12, 30))]\n"
     ]
    }
   ],
   "source": [
    "ends = [datetime.utcfromtimestamp(time.astype('O') / 1e9) for time in combined_ds.time.values]\n",
    "starts = [end - timedelta(weeks=2) for end in ends]\n",
    "periods = [f for f in zip(starts, ends)]\n",
    "print(periods)\n"
   ]
  },
  {
   "cell_type": "code",
   "execution_count": 42,
   "metadata": {
    "ExecuteTime": {
     "end_time": "2024-11-29T19:36:49.898912Z",
     "start_time": "2024-11-29T19:36:49.891965Z"
    }
   },
   "outputs": [],
   "source": [
    "bandwidth = 50000 # meters\n",
    "\n",
    "# Compute the standard deviation in terms of grid cells\n",
    "sigma = bandwidth / resolution\n",
    "\n",
    "from scipy.signal import fftconvolve\n",
    "\n",
    "def gaussian_kernel(sigma):\n",
    "    \"\"\"Creates an anisotropic Gaussian kernel.\"\"\"\n",
    "    # Define kernel sizes\n",
    "    kernel_size = int(6 * sigma)\n",
    "    x = np.linspace(-kernel_size // 2, kernel_size // 2, kernel_size)\n",
    "    y = np.linspace(-kernel_size // 2, kernel_size // 2, kernel_size)\n",
    "    x, y = np.meshgrid(x, y)\n",
    "    kernel = np.exp(-(x**2 / (2 * sigma**2) + y**2 / (2 * sigma**2)))\n",
    "    return kernel\n",
    "\n",
    "# Create the kernel\n",
    "kernel = gaussian_kernel(sigma)\n",
    "\n",
    "def create_fire_signal(start, end):\n",
    "    filter = (viirs_data.ACQ_DATE.apply(lambda x: datetime.strptime(x, '%Y-%m-%d')) >= start) & (viirs_data.ACQ_DATE.apply(lambda x: datetime.strptime(x, '%Y-%m-%d')) < end)\n",
    "    filtered_viirs = viirs_data[filter]\n",
    "    weights = filtered_viirs['FRP'].values\n",
    "    x = filtered_viirs.geometry.x.values\n",
    "    y = filtered_viirs.geometry.y.values\n",
    "    \n",
    "    # First do the analysis without weighting by FRP, to verify the fire locations with the above plot\n",
    "    heatmap, xedges, yedges = np.histogram2d(y, x, bins=list(combined_ds.MERRA2_CNN_Surface_PM25.shape[1:3]), range=[[y_min, y_max], [x_min, x_max]], weights=weights)\n",
    "\n",
    "    # flip y axis to match the image (required debugging to see I needed to do this)\n",
    "    heatmap = np.flipud(heatmap)\n",
    "    \n",
    "    # Perform convolution\n",
    "    smoothed_heatmap = fftconvolve(heatmap, kernel, mode='same')\n",
    "    \n",
    "    # Set values lower than zero to zero\n",
    "    smoothed_heatmap[smoothed_heatmap < 0] = 0.0\n",
    "\n",
    "    return smoothed_heatmap\n",
    "    \n",
    "heatmap = create_fire_signal(periods[0][0], periods[0][1])"
   ]
  },
  {
   "cell_type": "code",
   "execution_count": 102,
   "metadata": {},
   "outputs": [],
   "source": [
    "# data structure for each of our our prediction pairs\n",
    "from collections import namedtuple\n",
    "\n",
    "Prediction = namedtuple(\"Prediction\", \"viirs merra2 date\")"
   ]
  },
  {
   "cell_type": "code",
   "execution_count": 117,
   "metadata": {},
   "outputs": [],
   "source": [
    "samples = {}\n",
    "\n",
    "for start, end in periods:\n",
    "    date_str = datetime.strftime(end, \"%Y-%m-%d\")\n",
    "    viirs = create_fire_signal(start, end)\n",
    "    merra2 = combined_ds.sel(time=end).MERRA2_CNN_Surface_PM25.values\n",
    "    samples[date_str] = Prediction(viirs=viirs, merra2=merra2, date=date_str)"
   ]
  },
  {
   "cell_type": "markdown",
   "metadata": {},
   "source": [
    "## Linear Regression"
   ]
  },
  {
   "cell_type": "code",
   "execution_count": 167,
   "metadata": {},
   "outputs": [],
   "source": [
    "X = np.concatenate([samples[sample].viirs.flatten() for sample in samples])\n",
    "y = np.concatenate([samples[sample].merra2.flatten() for sample in samples])"
   ]
  },
  {
   "cell_type": "code",
   "execution_count": 168,
   "metadata": {},
   "outputs": [
    {
     "name": "stdout",
     "output_type": "stream",
     "text": [
      "(5670000,)\n",
      "(5670000,)\n"
     ]
    }
   ],
   "source": [
    "print(X.shape)\n",
    "print(y.shape)"
   ]
  },
  {
   "cell_type": "code",
   "execution_count": 169,
   "metadata": {},
   "outputs": [],
   "source": [
    "X = np.reshape(X, (len(X), 1))\n",
    "y = np.reshape(y, (len(y), 1))"
   ]
  },
  {
   "cell_type": "code",
   "execution_count": 149,
   "metadata": {},
   "outputs": [],
   "source": [
    "import numpy as np\n",
    "import matplotlib.pyplot as plt\n",
    "from sklearn.model_selection import train_test_split\n",
    "from sklearn.linear_model import LinearRegression\n",
    "from sklearn.metrics import mean_squared_error, r2_score"
   ]
  },
  {
   "cell_type": "code",
   "execution_count": 170,
   "metadata": {},
   "outputs": [],
   "source": [
    "X_train, X_test, y_train, y_test = train_test_split(X, y, test_size=0.33, random_state=5)"
   ]
  },
  {
   "cell_type": "code",
   "execution_count": 171,
   "metadata": {},
   "outputs": [],
   "source": [
    "model = LinearRegression()\n",
    "model.fit(X_train, y_train)\n",
    "\n",
    "y_pred = model.predict(X_test)"
   ]
  },
  {
   "cell_type": "code",
   "execution_count": 172,
   "metadata": {},
   "outputs": [
    {
     "name": "stdout",
     "output_type": "stream",
     "text": [
      "Mean Squared Error: 28.948777105454212\n",
      "R² Score: 0.08695549361120858\n"
     ]
    }
   ],
   "source": [
    "mse = mean_squared_error(y_test, y_pred)\n",
    "r2 = r2_score(y_test, y_pred)\n",
    "\n",
    "print(f\"Mean Squared Error: {mse}\")\n",
    "print(f\"R² Score: {r2}\")"
   ]
  },
  {
   "cell_type": "code",
   "execution_count": 246,
   "metadata": {},
   "outputs": [
    {
     "data": {
      "text/plain": [
       "(0.0, 100.0)"
      ]
     },
     "execution_count": 246,
     "metadata": {},
     "output_type": "execute_result"
    },
    {
     "data": {
      "image/png": "[encoded data removed]",
      "text/plain": [
       "<Figure size 800x600 with 1 Axes>"
      ]
     },
     "metadata": {},
     "output_type": "display_data"
    }
   ],
   "source": [
    "fig, ax = plt.subplots(figsize=(8,6))\n",
    "\n",
    "ax.scatter(y_test, y_pred, color='blue', label='Predicted vs True', s=2)\n",
    "\n",
    "x_line = np.linspace(0,100,100)\n",
    "y_line = np.linspace(0,100,100)\n",
    "\n",
    "ax.plot(x_line, y_line, color=\"black\", linestyle=\"-\")\n",
    "\n",
    "ax.set_xlim(0, 200)\n",
    "ax.set_ylim(0, 100)"
   ]
  },
  {
   "cell_type": "markdown",
   "metadata": {},
   "source": [
    "### Can we improve results by averaging PM2.5 data over 24 hours? 1 week?\n",
    "- currently, we are using 2-weeks of VIIRS data to predict PM2.5 at a specific day and time (1230 PM)"
   ]
  },
  {
   "cell_type": "markdown",
   "metadata": {},
   "source": [
    "## Displaying the data"
   ]
  },
  {
   "cell_type": "code",
   "execution_count": 234,
   "metadata": {},
   "outputs": [
    {
     "data": {
      "image/png": "[encoded data removed]",
      "text/plain": [
       "<Figure size 1000x1000 with 4 Axes>"
      ]
     },
     "metadata": {},
     "output_type": "display_data"
    }
   ],
   "source": [
    "start = datetime.strftime(periods[0][0], \"%Y-%m-%d\")\n",
    "end = datetime.strftime(periods[0][1], \"%Y-%m-%d\")\n",
    "\n",
    "crs_proj4 = ccrs.AlbersEqualArea(\n",
    "    central_longitude=-115,  # Central meridian\n",
    "    central_latitude=45,     # Latitude of origin\n",
    "    standard_parallels=(42, 48)  # Standard parallels\n",
    ")\n",
    "\n",
    "plt.rcParams['figure.figsize'] = 10,10\n",
    "\n",
    "# Set up figure\n",
    "fig = plt.figure()\n",
    "\n",
    "ax = fig.add_subplot(121, projection=crs_proj4)\n",
    "ax.set_extent([x_min, x_max, y_min, y_max], crs=crs_proj4) # CONUS extent\n",
    "ax.coastlines(resolution='50m')\n",
    "ax.add_feature(cfeature.BORDERS)\n",
    "ax.add_feature(cfeature.STATES)\n",
    "\n",
    "ax.set_title(f\"Cumulative Fire Radiative Power (VIIRS)\", fontsize=14, fontweight='bold', y=1.08)\n",
    "ax.text(x=0.5, y = 1.02, s = f\"{start} to {end}\", transform=ax.transAxes, \n",
    "          ha='center', va='bottom', fontsize=12)\n",
    "# Set up filled and line contours\n",
    "# 10 levels from 0 to max\n",
    "max_val = heatmap.max()\n",
    "levels = np.linspace(0, max_val, 10)\n",
    "\n",
    "filled_c1 = ax.contourf(combined_ds.x, combined_ds.y, heatmap, levels=np.linspace(0,10000,11), \n",
    "                       transform=crs_proj4)\n",
    "\n",
    "# plot the MERRA2 data\n",
    "\n",
    "heatmap_merra2 = combined_ds.sel(time=periods[0][1]).MERRA2_CNN_Surface_PM25.values\n",
    "\n",
    "# Lat/lon grid lines\n",
    "#ax.gridlines(draw_labels=False, dms=True, x_inline=False, y_inline=False)\n",
    "\n",
    "ax2 = fig.add_subplot(122, projection=crs_proj4)\n",
    "ax2.set_extent([x_min, x_max, y_min, y_max], crs=crs_proj4) # CONUS extent\n",
    "ax2.coastlines(resolution='50m')\n",
    "ax2.add_feature(cfeature.BORDERS)\n",
    "ax2.add_feature(cfeature.STATES)\n",
    "\n",
    "# Set up filled and line contours\n",
    "# 10 levels from 0 to max\n",
    "max_val = heatmap_merra2.max()\n",
    "levels = np.linspace(0, max_val, 11)\n",
    "\n",
    "filled_c2 = ax2.contourf(combined_ds.x, combined_ds.y, heatmap_merra2, levels=levels, \n",
    "                       transform=crs_proj4)\n",
    "\n",
    "# Lat/lon grid lines\n",
    "#ax2.gridlines(draw_labels=False, dms=True, x_inline=False, y_inline=False)\n",
    "ax2.text(x=0.5, y = 1.02, s = f\"{end}, 12:30 PM\", transform=ax2.transAxes, \n",
    "          ha='center', va='bottom', fontsize=12)\n",
    "ax2.set_title(f\"PM2.5 Levels (MERRA-2)\", fontsize=14, fontweight='bold', y=1.08)\n",
    "\n",
    "# Set up colorbar and figure title\n",
    "# Add individual colorbars beneath each subplot\n",
    "cbar_ax1 = fig.add_axes([0.07, .3, 0.35, 0.03])  # [left, bottom, width, height] for first colorbar\n",
    "cbar_ax2 = fig.add_axes([0.57, .3, 0.35, 0.03])  # [left, bottom, width, height] for second colorbar\n",
    "\n",
    "fig.colorbar(filled_c1, cax=cbar_ax1, orientation='horizontal')  # Colorbar for first plot\n",
    "fig.colorbar(filled_c2, cax=cbar_ax2, orientation='horizontal')  # Colorbar for second plot\n",
    "\n",
    "fig.text(x=.43, y = .31, s = f\"MW\",\n",
    "          fontsize=10, fontweight=\"bold\")\n",
    "\n",
    "#fig.suptitle('VIIRS Fire data 2DHist', fontsize=16, y = .67)\n",
    "\n",
    "plt.tight_layout()\n",
    "\n",
    "plt.show()"
   ]
  },
  {
   "cell_type": "code",
   "execution_count": null,
   "metadata": {},
   "outputs": [],
   "source": []
  }
 ],
 "metadata": {
  "kernelspec": {
   "display_name": "545",
   "language": "python",
   "name": "python3"
  },
  "language_info": {
   "codemirror_mode": {
    "name": "ipython",
    "version": 3
   },
   "file_extension": ".py",
   "mimetype": "text/x-python",
   "name": "python",
   "nbconvert_exporter": "python",
   "pygments_lexer": "ipython3",
   "version": "3.10.13"
  }
 },
 "nbformat": 4,
 "nbformat_minor": 2
}
