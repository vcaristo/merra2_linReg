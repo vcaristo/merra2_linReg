{
 "cells": [
  {
   "cell_type": "code",
   "metadata": {
    "ExecuteTime": {
     "end_time": "2024-11-29T19:52:39.739944Z",
     "start_time": "2024-11-29T19:52:39.077232Z"
    }
   },
   "source": [
    "import xarray as xr\n",
    "import rioxarray as xrio\n",
    "import earthaccess\n",
    "import boto3\n",
    "import cartopy.crs as ccrs\n",
    "import cartopy.feature as cfeature\n",
    "import matplotlib.pyplot as plt\n",
    "import warnings\n",
    "from IPython.display import display, Markdown\n",
    "import numpy as np\n",
    "from pathlib import Path\n",
    "Path.cwd()\n",
    "\n",
    "warnings.filterwarnings('ignore')\n",
    "%matplotlib inline"
   ],
   "outputs": [],
   "execution_count": 5
  },
  {
   "metadata": {
    "ExecuteTime": {
     "end_time": "2024-11-29T20:01:41.721451Z",
     "start_time": "2024-11-29T20:01:41.716690Z"
    }
   },
   "cell_type": "code",
   "source": "import netCDF4",
   "outputs": [],
   "execution_count": 14
  },
  {
   "metadata": {
    "ExecuteTime": {
     "end_time": "2024-11-29T20:01:42.563360Z",
     "start_time": "2024-11-29T20:01:42.297259Z"
    }
   },
   "cell_type": "code",
   "source": [
    "import boto3\n",
    "s3_client = boto3.client('s3')\n",
    "response = s3_client.list_buckets()\n",
    "for bucket in response['Buckets']:\n",
    "    print(bucket['Name'])"
   ],
   "outputs": [],
   "execution_count": 15
  },
  {
   "metadata": {
    "ExecuteTime": {
     "end_time": "2024-11-29T20:01:43.418059Z",
     "start_time": "2024-11-29T20:01:43.416740Z"
    }
   },
   "cell_type": "code",
   "source": "",
   "outputs": [],
   "execution_count": null
  },
  {
   "cell_type": "code",
   "metadata": {
    "ExecuteTime": {
     "end_time": "2024-11-29T20:01:44.009419Z",
     "start_time": "2024-11-29T20:01:44.004191Z"
    }
   },
   "source": [
    "if (boto3.client('s3').meta.region_name == 'us-west-2'):\n",
    "    display(Markdown('### us-west-2 Region Check: &#x2705;'))\n",
    "else:\n",
    "    display(Markdown('### us-west-2 Region Check: &#10060;'))\n",
    "    raise ValueError('Your notebook is not running inside the AWS us-west-2 region, and will not be able to directly access NASA Earthdata S')"
   ],
   "outputs": [
    {
     "data": {
      "text/plain": [
       "<IPython.core.display.Markdown object>"
      ],
      "text/markdown": "### us-west-2 Region Check: &#x2705;"
     },
     "metadata": {},
     "output_type": "display_data"
    }
   ],
   "execution_count": 16
  },
  {
   "cell_type": "code",
   "metadata": {
    "ExecuteTime": {
     "end_time": "2024-11-29T20:01:46.146533Z",
     "start_time": "2024-11-29T20:01:44.718470Z"
    }
   },
   "source": [
    "# Authenticate using Earthdata Login prerequisite files\n",
    "auth = earthaccess.login()"
   ],
   "outputs": [],
   "execution_count": 17
  },
  {
   "cell_type": "markdown",
   "metadata": {},
   "source": [
    "From GES-DISC web search (https://disc.gsfc.nasa.gov):\n",
    "\n",
    "All data available from 1980 to Present\n",
    "\n",
    "Need to Calculate PM2.5 from a formula\n",
    "\n",
    "PM2.5 Hourly: C1276812830-GES_DISC, s3://gesdisc-cumulus-prod-protected/MERRA2/M2T1NXAER.5.12.4/\n",
    "\n",
    "    - https://disc.gsfc.nasa.gov/datasets/M2T1NXAER_5.12.4/summary\n",
    "\n",
    "PM2.5 Monthly : C1276812866-GES_DISC, s3://gesdisc-cumulus-prod-protected/MERRA2_MONTHLY/M2TMNXAER.5.12.4/\n",
    "\n",
    "    - https://disc.gsfc.nasa.gov/datasets/M2TMNXAER_5.12.4/summary\n",
    "\n",
    "PM2.5 Monthly (Hourly Average): C1276812869-GES_DISC, s3://gesdisc-cumulus-prod-protected/MERRA2_DIURNAL/M2TUNXAER.5.12.4/\n",
    "\n",
    "    - https://disc.gsfc.nasa.gov/datasets/M2TUNXAER_5.12.4/summary\n",
    "\n",
    "MERRA2_CNN_HAQAST bias corrected global hourly surface total PM2.5 mass concentration, V1 (MERRA2_CNN_HAQAST_PM25): C3094710982-GES_DISC, s3://gesdisc-cumulus-prod-protected/HAQAST/MERRA2_CNN_HAQAST_PM25.1/\n",
    "\n",
    "    - https://disc.gsfc.nasa.gov/datasets/MERRA2_CNN_HAQAST_PM25_1/summary\n",
    "    - 2000-01-01 to  2024-06-01"
   ]
  },
  {
   "metadata": {
    "ExecuteTime": {
     "end_time": "2024-11-29T20:25:33.936591Z",
     "start_time": "2024-11-29T20:25:33.933985Z"
    }
   },
   "cell_type": "code",
   "source": [
    "from datetime import datetime, timedelta\n",
    "\n",
    "def get_sundays(start_date, end_date):\n",
    "    \"\"\"\n",
    "    Return a list of Sundays within the given date interval.\n",
    "    \n",
    "    Parameters:\n",
    "        start_date (str): The start date in \"YYYY-MM-DD\" format.\n",
    "        end_date (str): The end date in \"YYYY-MM-DD\" format.\n",
    "    \n",
    "    Returns:\n",
    "        list of str: List of Sundays in \"YYYY-MM-DD\" format.\n",
    "    \"\"\"\n",
    "    # Convert start and end dates to datetime objects\n",
    "    start = datetime.strptime(start_date, \"%Y-%m-%d\")\n",
    "    end = datetime.strptime(end_date, \"%Y-%m-%d\")\n",
    "    \n",
    "    # Find the first Sunday on or after the start date\n",
    "    current = start + timedelta(days=(6 - start.weekday()) % 7)\n",
    "    \n",
    "    # Generate all Sundays within the interval\n",
    "    sundays = []\n",
    "    while current <= end:\n",
    "        sundays.append(current.strftime(\"%Y-%m-%d\"))\n",
    "        current += timedelta(days=7)  # Move to the next Sunday\n",
    "    \n",
    "    return sundays\n",
    "\n",
    "# Example usage\n",
    "start_date = \"2022-05-01\"\n",
    "end_date = \"2022-10-30\"\n",
    "sundays = get_sundays(start_date, end_date)\n",
    "print(sundays)"
   ],
   "outputs": [
    {
     "name": "stdout",
     "output_type": "stream",
     "text": [
      "['2022-05-01', '2022-05-08', '2022-05-15', '2022-05-22', '2022-05-29', '2022-06-05', '2022-06-12', '2022-06-19', '2022-06-26', '2022-07-03', '2022-07-10', '2022-07-17', '2022-07-24', '2022-07-31', '2022-08-07', '2022-08-14', '2022-08-21', '2022-08-28', '2022-09-04', '2022-09-11', '2022-09-18', '2022-09-25', '2022-10-02', '2022-10-09', '2022-10-16', '2022-10-23', '2022-10-30']\n"
     ]
    }
   ],
   "execution_count": 32
  },
  {
   "metadata": {
    "ExecuteTime": {
     "end_time": "2024-11-29T19:59:44.298586Z",
     "start_time": "2024-11-29T19:59:44.296587Z"
    }
   },
   "cell_type": "code",
   "source": "Path.cwd() /'merra_data'",
   "outputs": [
    {
     "data": {
      "text/plain": [
       "PosixPath('/var/home/rupertwilliams/Homes/gis/PyCharmProjects/GIS/Assignment 4/merra_data')"
      ]
     },
     "execution_count": 11,
     "metadata": {},
     "output_type": "execute_result"
    }
   ],
   "execution_count": 11
  },
  {
   "cell_type": "code",
   "metadata": {
    "ExecuteTime": {
     "end_time": "2024-11-29T20:27:04.979921Z",
     "start_time": "2024-11-29T20:25:40.599216Z"
    }
   },
   "source": [
    "for sunday in sundays:\n",
    "    # Search for the granule by DOI\n",
    "    results = earthaccess.search_data(\n",
    "    concept_id=\"C3094710982-GES_DISC\", temporal=(sunday,sunday))\n",
    "    files = earthaccess.download(results, Path.cwd() /'merra_data')"
   ],
   "outputs": [
    {
     "data": {
      "text/plain": [
       "QUEUEING TASKS | :   0%|          | 0/1 [00:00<?, ?it/s]"
      ],
      "application/vnd.jupyter.widget-view+json": {
       "version_major": 2,
       "version_minor": 0,
       "model_id": "5e628ec33d2e4af3af8b5e080646d40d"
      }
     },
     "metadata": {},
     "output_type": "display_data"
    },
    {
     "data": {
      "text/plain": [
       "PROCESSING TASKS | :   0%|          | 0/1 [00:00<?, ?it/s]"
      ],
      "application/vnd.jupyter.widget-view+json": {
       "version_major": 2,
       "version_minor": 0,
       "model_id": "b0845a976fa04cf0b6025356e9bff4da"
      }
     },
     "metadata": {},
     "output_type": "display_data"
    },
    {
     "data": {
      "text/plain": [
       "COLLECTING RESULTS | :   0%|          | 0/1 [00:00<?, ?it/s]"
      ],
      "application/vnd.jupyter.widget-view+json": {
       "version_major": 2,
       "version_minor": 0,
       "model_id": "4c89be52cabc4c11a9f51dcf871892b6"
      }
     },
     "metadata": {},
     "output_type": "display_data"
    },
    {
     "data": {
      "text/plain": [
       "QUEUEING TASKS | :   0%|          | 0/1 [00:00<?, ?it/s]"
      ],
      "application/vnd.jupyter.widget-view+json": {
       "version_major": 2,
       "version_minor": 0,
       "model_id": "5c942146294841ac8f09c9e0a2a2e167"
      }
     },
     "metadata": {},
     "output_type": "display_data"
    },
    {
     "data": {
      "text/plain": [
       "PROCESSING TASKS | :   0%|          | 0/1 [00:00<?, ?it/s]"
      ],
      "application/vnd.jupyter.widget-view+json": {
       "version_major": 2,
       "version_minor": 0,
       "model_id": "499935890ca1487eafae4cf95ff5c7d6"
      }
     },
     "metadata": {},
     "output_type": "display_data"
    },
    {
     "data": {
      "text/plain": [
       "COLLECTING RESULTS | :   0%|          | 0/1 [00:00<?, ?it/s]"
      ],
      "application/vnd.jupyter.widget-view+json": {
       "version_major": 2,
       "version_minor": 0,
       "model_id": "f53c5aa0da52466a8a383cf0e598107c"
      }
     },
     "metadata": {},
     "output_type": "display_data"
    },
    {
     "data": {
      "text/plain": [
       "QUEUEING TASKS | :   0%|          | 0/1 [00:00<?, ?it/s]"
      ],
      "application/vnd.jupyter.widget-view+json": {
       "version_major": 2,
       "version_minor": 0,
       "model_id": "e446e1547da849b181df780b7b788c3f"
      }
     },
     "metadata": {},
     "output_type": "display_data"
    },
    {
     "data": {
      "text/plain": [
       "PROCESSING TASKS | :   0%|          | 0/1 [00:00<?, ?it/s]"
      ],
      "application/vnd.jupyter.widget-view+json": {
       "version_major": 2,
       "version_minor": 0,
       "model_id": "592b73fa7f6846308e9f3443619da071"
      }
     },
     "metadata": {},
     "output_type": "display_data"
    },
    {
     "data": {
      "text/plain": [
       "COLLECTING RESULTS | :   0%|          | 0/1 [00:00<?, ?it/s]"
      ],
      "application/vnd.jupyter.widget-view+json": {
       "version_major": 2,
       "version_minor": 0,
       "model_id": "d3b4547618724ccfac7fbe6c26fd4387"
      }
     },
     "metadata": {},
     "output_type": "display_data"
    },
    {
     "data": {
      "text/plain": [
       "QUEUEING TASKS | :   0%|          | 0/1 [00:00<?, ?it/s]"
      ],
      "application/vnd.jupyter.widget-view+json": {
       "version_major": 2,
       "version_minor": 0,
       "model_id": "e2602d504ad04947a67a7e788b4f500f"
      }
     },
     "metadata": {},
     "output_type": "display_data"
    },
    {
     "data": {
      "text/plain": [
       "PROCESSING TASKS | :   0%|          | 0/1 [00:00<?, ?it/s]"
      ],
      "application/vnd.jupyter.widget-view+json": {
       "version_major": 2,
       "version_minor": 0,
       "model_id": "7f3ff918c7364fa1b04d23059794726f"
      }
     },
     "metadata": {},
     "output_type": "display_data"
    },
    {
     "data": {
      "text/plain": [
       "COLLECTING RESULTS | :   0%|          | 0/1 [00:00<?, ?it/s]"
      ],
      "application/vnd.jupyter.widget-view+json": {
       "version_major": 2,
       "version_minor": 0,
       "model_id": "e59806f3f8f34eb9818f867a87b722dd"
      }
     },
     "metadata": {},
     "output_type": "display_data"
    },
    {
     "data": {
      "text/plain": [
       "QUEUEING TASKS | :   0%|          | 0/1 [00:00<?, ?it/s]"
      ],
      "application/vnd.jupyter.widget-view+json": {
       "version_major": 2,
       "version_minor": 0,
       "model_id": "570960d4562843298e3308925ceb2e76"
      }
     },
     "metadata": {},
     "output_type": "display_data"
    },
    {
     "data": {
      "text/plain": [
       "PROCESSING TASKS | :   0%|          | 0/1 [00:00<?, ?it/s]"
      ],
      "application/vnd.jupyter.widget-view+json": {
       "version_major": 2,
       "version_minor": 0,
       "model_id": "a02bbe40ea064f9680cbd5249ddffa7f"
      }
     },
     "metadata": {},
     "output_type": "display_data"
    },
    {
     "data": {
      "text/plain": [
       "COLLECTING RESULTS | :   0%|          | 0/1 [00:00<?, ?it/s]"
      ],
      "application/vnd.jupyter.widget-view+json": {
       "version_major": 2,
       "version_minor": 0,
       "model_id": "4ade1892c3274309a0b231a5e135b3af"
      }
     },
     "metadata": {},
     "output_type": "display_data"
    },
    {
     "data": {
      "text/plain": [
       "QUEUEING TASKS | :   0%|          | 0/1 [00:00<?, ?it/s]"
      ],
      "application/vnd.jupyter.widget-view+json": {
       "version_major": 2,
       "version_minor": 0,
       "model_id": "0894e9704a374c12af6019c130ed30c0"
      }
     },
     "metadata": {},
     "output_type": "display_data"
    },
    {
     "data": {
      "text/plain": [
       "PROCESSING TASKS | :   0%|          | 0/1 [00:00<?, ?it/s]"
      ],
      "application/vnd.jupyter.widget-view+json": {
       "version_major": 2,
       "version_minor": 0,
       "model_id": "0b0acb00bdfa4c6bba232b2cffe801bd"
      }
     },
     "metadata": {},
     "output_type": "display_data"
    },
    {
     "data": {
      "text/plain": [
       "COLLECTING RESULTS | :   0%|          | 0/1 [00:00<?, ?it/s]"
      ],
      "application/vnd.jupyter.widget-view+json": {
       "version_major": 2,
       "version_minor": 0,
       "model_id": "efe05c326c7c4a82a0e90fbe213939aa"
      }
     },
     "metadata": {},
     "output_type": "display_data"
    },
    {
     "data": {
      "text/plain": [
       "QUEUEING TASKS | :   0%|          | 0/1 [00:00<?, ?it/s]"
      ],
      "application/vnd.jupyter.widget-view+json": {
       "version_major": 2,
       "version_minor": 0,
       "model_id": "20d3a9c273e04909b0428c73139d6983"
      }
     },
     "metadata": {},
     "output_type": "display_data"
    },
    {
     "data": {
      "text/plain": [
       "PROCESSING TASKS | :   0%|          | 0/1 [00:00<?, ?it/s]"
      ],
      "application/vnd.jupyter.widget-view+json": {
       "version_major": 2,
       "version_minor": 0,
       "model_id": "baf1da9a2be748c8bd6f16351d357873"
      }
     },
     "metadata": {},
     "output_type": "display_data"
    },
    {
     "data": {
      "text/plain": [
       "COLLECTING RESULTS | :   0%|          | 0/1 [00:00<?, ?it/s]"
      ],
      "application/vnd.jupyter.widget-view+json": {
       "version_major": 2,
       "version_minor": 0,
       "model_id": "dbe4e698d75c4152a3082569171db860"
      }
     },
     "metadata": {},
     "output_type": "display_data"
    },
    {
     "data": {
      "text/plain": [
       "QUEUEING TASKS | :   0%|          | 0/1 [00:00<?, ?it/s]"
      ],
      "application/vnd.jupyter.widget-view+json": {
       "version_major": 2,
       "version_minor": 0,
       "model_id": "f63ee1c6277347a9970f6ce4a89403fd"
      }
     },
     "metadata": {},
     "output_type": "display_data"
    },
    {
     "data": {
      "text/plain": [
       "PROCESSING TASKS | :   0%|          | 0/1 [00:00<?, ?it/s]"
      ],
      "application/vnd.jupyter.widget-view+json": {
       "version_major": 2,
       "version_minor": 0,
       "model_id": "8f6ee584bd9a4306b8df71c205570417"
      }
     },
     "metadata": {},
     "output_type": "display_data"
    },
    {
     "data": {
      "text/plain": [
       "COLLECTING RESULTS | :   0%|          | 0/1 [00:00<?, ?it/s]"
      ],
      "application/vnd.jupyter.widget-view+json": {
       "version_major": 2,
       "version_minor": 0,
       "model_id": "52045c134b9e4e58b1c8572c0b71f16a"
      }
     },
     "metadata": {},
     "output_type": "display_data"
    },
    {
     "data": {
      "text/plain": [
       "QUEUEING TASKS | :   0%|          | 0/1 [00:00<?, ?it/s]"
      ],
      "application/vnd.jupyter.widget-view+json": {
       "version_major": 2,
       "version_minor": 0,
       "model_id": "741cb51b54794caea2cbd78af6033936"
      }
     },
     "metadata": {},
     "output_type": "display_data"
    },
    {
     "data": {
      "text/plain": [
       "PROCESSING TASKS | :   0%|          | 0/1 [00:00<?, ?it/s]"
      ],
      "application/vnd.jupyter.widget-view+json": {
       "version_major": 2,
       "version_minor": 0,
       "model_id": "2882ca800644463caaa46745cd6d0057"
      }
     },
     "metadata": {},
     "output_type": "display_data"
    },
    {
     "data": {
      "text/plain": [
       "COLLECTING RESULTS | :   0%|          | 0/1 [00:00<?, ?it/s]"
      ],
      "application/vnd.jupyter.widget-view+json": {
       "version_major": 2,
       "version_minor": 0,
       "model_id": "1e87cfafa3c84a40a117bca11d076df3"
      }
     },
     "metadata": {},
     "output_type": "display_data"
    },
    {
     "data": {
      "text/plain": [
       "QUEUEING TASKS | :   0%|          | 0/1 [00:00<?, ?it/s]"
      ],
      "application/vnd.jupyter.widget-view+json": {
       "version_major": 2,
       "version_minor": 0,
       "model_id": "1c83e9fd9de94ce9978d3740c357740e"
      }
     },
     "metadata": {},
     "output_type": "display_data"
    },
    {
     "data": {
      "text/plain": [
       "PROCESSING TASKS | :   0%|          | 0/1 [00:00<?, ?it/s]"
      ],
      "application/vnd.jupyter.widget-view+json": {
       "version_major": 2,
       "version_minor": 0,
       "model_id": "3c46cbd9deb448afbfeec60461008ccf"
      }
     },
     "metadata": {},
     "output_type": "display_data"
    },
    {
     "data": {
      "text/plain": [
       "COLLECTING RESULTS | :   0%|          | 0/1 [00:00<?, ?it/s]"
      ],
      "application/vnd.jupyter.widget-view+json": {
       "version_major": 2,
       "version_minor": 0,
       "model_id": "5175f60b00704252ac6207b31a6d3524"
      }
     },
     "metadata": {},
     "output_type": "display_data"
    },
    {
     "data": {
      "text/plain": [
       "QUEUEING TASKS | :   0%|          | 0/1 [00:00<?, ?it/s]"
      ],
      "application/vnd.jupyter.widget-view+json": {
       "version_major": 2,
       "version_minor": 0,
       "model_id": "56436b8959e4459782a7ded8a689bff6"
      }
     },
     "metadata": {},
     "output_type": "display_data"
    },
    {
     "data": {
      "text/plain": [
       "PROCESSING TASKS | :   0%|          | 0/1 [00:00<?, ?it/s]"
      ],
      "application/vnd.jupyter.widget-view+json": {
       "version_major": 2,
       "version_minor": 0,
       "model_id": "d17a93da45fe47d69939e17f70b953d9"
      }
     },
     "metadata": {},
     "output_type": "display_data"
    },
    {
     "data": {
      "text/plain": [
       "COLLECTING RESULTS | :   0%|          | 0/1 [00:00<?, ?it/s]"
      ],
      "application/vnd.jupyter.widget-view+json": {
       "version_major": 2,
       "version_minor": 0,
       "model_id": "7f23c052dcdb453eb39a73d7160f4eed"
      }
     },
     "metadata": {},
     "output_type": "display_data"
    },
    {
     "data": {
      "text/plain": [
       "QUEUEING TASKS | :   0%|          | 0/1 [00:00<?, ?it/s]"
      ],
      "application/vnd.jupyter.widget-view+json": {
       "version_major": 2,
       "version_minor": 0,
       "model_id": "faa6b5ae4f7449438c7de837a2bbd668"
      }
     },
     "metadata": {},
     "output_type": "display_data"
    },
    {
     "data": {
      "text/plain": [
       "PROCESSING TASKS | :   0%|          | 0/1 [00:00<?, ?it/s]"
      ],
      "application/vnd.jupyter.widget-view+json": {
       "version_major": 2,
       "version_minor": 0,
       "model_id": "66550c32c27244c8bf6632506be44adc"
      }
     },
     "metadata": {},
     "output_type": "display_data"
    },
    {
     "data": {
      "text/plain": [
       "COLLECTING RESULTS | :   0%|          | 0/1 [00:00<?, ?it/s]"
      ],
      "application/vnd.jupyter.widget-view+json": {
       "version_major": 2,
       "version_minor": 0,
       "model_id": "5d9b521f36ec4a2491c7af6a9adbda19"
      }
     },
     "metadata": {},
     "output_type": "display_data"
    },
    {
     "data": {
      "text/plain": [
       "QUEUEING TASKS | :   0%|          | 0/1 [00:00<?, ?it/s]"
      ],
      "application/vnd.jupyter.widget-view+json": {
       "version_major": 2,
       "version_minor": 0,
       "model_id": "a8d20d346fd542da982d2fce857fc083"
      }
     },
     "metadata": {},
     "output_type": "display_data"
    },
    {
     "data": {
      "text/plain": [
       "PROCESSING TASKS | :   0%|          | 0/1 [00:00<?, ?it/s]"
      ],
      "application/vnd.jupyter.widget-view+json": {
       "version_major": 2,
       "version_minor": 0,
       "model_id": "73bf6155be1a4b32bbdd4d5ff7eca46e"
      }
     },
     "metadata": {},
     "output_type": "display_data"
    },
    {
     "data": {
      "text/plain": [
       "COLLECTING RESULTS | :   0%|          | 0/1 [00:00<?, ?it/s]"
      ],
      "application/vnd.jupyter.widget-view+json": {
       "version_major": 2,
       "version_minor": 0,
       "model_id": "a271615bba7c4abcb355a031972266a8"
      }
     },
     "metadata": {},
     "output_type": "display_data"
    },
    {
     "data": {
      "text/plain": [
       "QUEUEING TASKS | :   0%|          | 0/1 [00:00<?, ?it/s]"
      ],
      "application/vnd.jupyter.widget-view+json": {
       "version_major": 2,
       "version_minor": 0,
       "model_id": "49cd7ee9a0c74fb8addbeb348c157ee5"
      }
     },
     "metadata": {},
     "output_type": "display_data"
    },
    {
     "data": {
      "text/plain": [
       "PROCESSING TASKS | :   0%|          | 0/1 [00:00<?, ?it/s]"
      ],
      "application/vnd.jupyter.widget-view+json": {
       "version_major": 2,
       "version_minor": 0,
       "model_id": "a264897a672e4826a58597061ec94cca"
      }
     },
     "metadata": {},
     "output_type": "display_data"
    },
    {
     "data": {
      "text/plain": [
       "COLLECTING RESULTS | :   0%|          | 0/1 [00:00<?, ?it/s]"
      ],
      "application/vnd.jupyter.widget-view+json": {
       "version_major": 2,
       "version_minor": 0,
       "model_id": "f3203f86aa304f6fbea7283d4f530cc5"
      }
     },
     "metadata": {},
     "output_type": "display_data"
    },
    {
     "data": {
      "text/plain": [
       "QUEUEING TASKS | :   0%|          | 0/1 [00:00<?, ?it/s]"
      ],
      "application/vnd.jupyter.widget-view+json": {
       "version_major": 2,
       "version_minor": 0,
       "model_id": "6170373b2ec6447f8f6c9903cd72e1dd"
      }
     },
     "metadata": {},
     "output_type": "display_data"
    },
    {
     "data": {
      "text/plain": [
       "PROCESSING TASKS | :   0%|          | 0/1 [00:00<?, ?it/s]"
      ],
      "application/vnd.jupyter.widget-view+json": {
       "version_major": 2,
       "version_minor": 0,
       "model_id": "45cce829ea2747c5bbf74657c911e1fc"
      }
     },
     "metadata": {},
     "output_type": "display_data"
    },
    {
     "data": {
      "text/plain": [
       "COLLECTING RESULTS | :   0%|          | 0/1 [00:00<?, ?it/s]"
      ],
      "application/vnd.jupyter.widget-view+json": {
       "version_major": 2,
       "version_minor": 0,
       "model_id": "84abc95fb2aa43acbdb82685d8130e4d"
      }
     },
     "metadata": {},
     "output_type": "display_data"
    },
    {
     "data": {
      "text/plain": [
       "QUEUEING TASKS | :   0%|          | 0/1 [00:00<?, ?it/s]"
      ],
      "application/vnd.jupyter.widget-view+json": {
       "version_major": 2,
       "version_minor": 0,
       "model_id": "a52c161d94f64d59abfa3ce22d25c8cb"
      }
     },
     "metadata": {},
     "output_type": "display_data"
    },
    {
     "data": {
      "text/plain": [
       "PROCESSING TASKS | :   0%|          | 0/1 [00:00<?, ?it/s]"
      ],
      "application/vnd.jupyter.widget-view+json": {
       "version_major": 2,
       "version_minor": 0,
       "model_id": "3c0e4f514fdb4672b8cd899dea5b7608"
      }
     },
     "metadata": {},
     "output_type": "display_data"
    },
    {
     "data": {
      "text/plain": [
       "COLLECTING RESULTS | :   0%|          | 0/1 [00:00<?, ?it/s]"
      ],
      "application/vnd.jupyter.widget-view+json": {
       "version_major": 2,
       "version_minor": 0,
       "model_id": "27419827291343e78afa25e8691c0eea"
      }
     },
     "metadata": {},
     "output_type": "display_data"
    },
    {
     "data": {
      "text/plain": [
       "QUEUEING TASKS | :   0%|          | 0/1 [00:00<?, ?it/s]"
      ],
      "application/vnd.jupyter.widget-view+json": {
       "version_major": 2,
       "version_minor": 0,
       "model_id": "0eccce5d291145a2a6ad1da01a8a6b9b"
      }
     },
     "metadata": {},
     "output_type": "display_data"
    },
    {
     "data": {
      "text/plain": [
       "PROCESSING TASKS | :   0%|          | 0/1 [00:00<?, ?it/s]"
      ],
      "application/vnd.jupyter.widget-view+json": {
       "version_major": 2,
       "version_minor": 0,
       "model_id": "df83f2f5936d4688a7ad1402891df5e5"
      }
     },
     "metadata": {},
     "output_type": "display_data"
    },
    {
     "data": {
      "text/plain": [
       "COLLECTING RESULTS | :   0%|          | 0/1 [00:00<?, ?it/s]"
      ],
      "application/vnd.jupyter.widget-view+json": {
       "version_major": 2,
       "version_minor": 0,
       "model_id": "8806611c20124ef8bce26340e0b47dec"
      }
     },
     "metadata": {},
     "output_type": "display_data"
    },
    {
     "data": {
      "text/plain": [
       "QUEUEING TASKS | :   0%|          | 0/1 [00:00<?, ?it/s]"
      ],
      "application/vnd.jupyter.widget-view+json": {
       "version_major": 2,
       "version_minor": 0,
       "model_id": "34a5734d25844dcba6eade9fb06b65f6"
      }
     },
     "metadata": {},
     "output_type": "display_data"
    },
    {
     "data": {
      "text/plain": [
       "PROCESSING TASKS | :   0%|          | 0/1 [00:00<?, ?it/s]"
      ],
      "application/vnd.jupyter.widget-view+json": {
       "version_major": 2,
       "version_minor": 0,
       "model_id": "468a4489b815450a8313f76efa25b1b6"
      }
     },
     "metadata": {},
     "output_type": "display_data"
    },
    {
     "data": {
      "text/plain": [
       "COLLECTING RESULTS | :   0%|          | 0/1 [00:00<?, ?it/s]"
      ],
      "application/vnd.jupyter.widget-view+json": {
       "version_major": 2,
       "version_minor": 0,
       "model_id": "8afdae79b16b4b9cbb0080487653592d"
      }
     },
     "metadata": {},
     "output_type": "display_data"
    },
    {
     "data": {
      "text/plain": [
       "QUEUEING TASKS | :   0%|          | 0/1 [00:00<?, ?it/s]"
      ],
      "application/vnd.jupyter.widget-view+json": {
       "version_major": 2,
       "version_minor": 0,
       "model_id": "3ac9faa00e98493ab4abea27d03f9314"
      }
     },
     "metadata": {},
     "output_type": "display_data"
    },
    {
     "data": {
      "text/plain": [
       "PROCESSING TASKS | :   0%|          | 0/1 [00:00<?, ?it/s]"
      ],
      "application/vnd.jupyter.widget-view+json": {
       "version_major": 2,
       "version_minor": 0,
       "model_id": "80b8af03c12b4e00a12c385705c44769"
      }
     },
     "metadata": {},
     "output_type": "display_data"
    },
    {
     "data": {
      "text/plain": [
       "COLLECTING RESULTS | :   0%|          | 0/1 [00:00<?, ?it/s]"
      ],
      "application/vnd.jupyter.widget-view+json": {
       "version_major": 2,
       "version_minor": 0,
       "model_id": "f5a7be3ff5ab44fbaf8491da5afce97c"
      }
     },
     "metadata": {},
     "output_type": "display_data"
    },
    {
     "data": {
      "text/plain": [
       "QUEUEING TASKS | :   0%|          | 0/1 [00:00<?, ?it/s]"
      ],
      "application/vnd.jupyter.widget-view+json": {
       "version_major": 2,
       "version_minor": 0,
       "model_id": "0ba4fe67eb7f40199306bf3e01ca337f"
      }
     },
     "metadata": {},
     "output_type": "display_data"
    },
    {
     "data": {
      "text/plain": [
       "PROCESSING TASKS | :   0%|          | 0/1 [00:00<?, ?it/s]"
      ],
      "application/vnd.jupyter.widget-view+json": {
       "version_major": 2,
       "version_minor": 0,
       "model_id": "023885f8ac0f4344aafdf2511787d0ec"
      }
     },
     "metadata": {},
     "output_type": "display_data"
    },
    {
     "data": {
      "text/plain": [
       "COLLECTING RESULTS | :   0%|          | 0/1 [00:00<?, ?it/s]"
      ],
      "application/vnd.jupyter.widget-view+json": {
       "version_major": 2,
       "version_minor": 0,
       "model_id": "6657868a4eb0453ebb3b1cec51f1b968"
      }
     },
     "metadata": {},
     "output_type": "display_data"
    },
    {
     "data": {
      "text/plain": [
       "QUEUEING TASKS | :   0%|          | 0/1 [00:00<?, ?it/s]"
      ],
      "application/vnd.jupyter.widget-view+json": {
       "version_major": 2,
       "version_minor": 0,
       "model_id": "c75b5219c0bc4a4c8e9978548de98f29"
      }
     },
     "metadata": {},
     "output_type": "display_data"
    },
    {
     "data": {
      "text/plain": [
       "PROCESSING TASKS | :   0%|          | 0/1 [00:00<?, ?it/s]"
      ],
      "application/vnd.jupyter.widget-view+json": {
       "version_major": 2,
       "version_minor": 0,
       "model_id": "bacc363242674ca096558f691a6a219e"
      }
     },
     "metadata": {},
     "output_type": "display_data"
    },
    {
     "data": {
      "text/plain": [
       "COLLECTING RESULTS | :   0%|          | 0/1 [00:00<?, ?it/s]"
      ],
      "application/vnd.jupyter.widget-view+json": {
       "version_major": 2,
       "version_minor": 0,
       "model_id": "742fc5cf0d2845409d41cd2494010ca3"
      }
     },
     "metadata": {},
     "output_type": "display_data"
    },
    {
     "data": {
      "text/plain": [
       "QUEUEING TASKS | :   0%|          | 0/1 [00:00<?, ?it/s]"
      ],
      "application/vnd.jupyter.widget-view+json": {
       "version_major": 2,
       "version_minor": 0,
       "model_id": "a3559de1d2314ceeaec096d8fc74a030"
      }
     },
     "metadata": {},
     "output_type": "display_data"
    },
    {
     "data": {
      "text/plain": [
       "PROCESSING TASKS | :   0%|          | 0/1 [00:00<?, ?it/s]"
      ],
      "application/vnd.jupyter.widget-view+json": {
       "version_major": 2,
       "version_minor": 0,
       "model_id": "c3b99fcf37624be5b01341b55c2e6606"
      }
     },
     "metadata": {},
     "output_type": "display_data"
    },
    {
     "data": {
      "text/plain": [
       "COLLECTING RESULTS | :   0%|          | 0/1 [00:00<?, ?it/s]"
      ],
      "application/vnd.jupyter.widget-view+json": {
       "version_major": 2,
       "version_minor": 0,
       "model_id": "a4ff2978b74443a7ba72d57c0c3f11b5"
      }
     },
     "metadata": {},
     "output_type": "display_data"
    },
    {
     "data": {
      "text/plain": [
       "QUEUEING TASKS | :   0%|          | 0/1 [00:00<?, ?it/s]"
      ],
      "application/vnd.jupyter.widget-view+json": {
       "version_major": 2,
       "version_minor": 0,
       "model_id": "b34be4dc88834316a9282e31ac09a902"
      }
     },
     "metadata": {},
     "output_type": "display_data"
    },
    {
     "data": {
      "text/plain": [
       "PROCESSING TASKS | :   0%|          | 0/1 [00:00<?, ?it/s]"
      ],
      "application/vnd.jupyter.widget-view+json": {
       "version_major": 2,
       "version_minor": 0,
       "model_id": "530ec0bd011f4d6b9711886f22597ccd"
      }
     },
     "metadata": {},
     "output_type": "display_data"
    },
    {
     "data": {
      "text/plain": [
       "COLLECTING RESULTS | :   0%|          | 0/1 [00:00<?, ?it/s]"
      ],
      "application/vnd.jupyter.widget-view+json": {
       "version_major": 2,
       "version_minor": 0,
       "model_id": "75a2f73716194f6a901a06eb593ffd2c"
      }
     },
     "metadata": {},
     "output_type": "display_data"
    },
    {
     "data": {
      "text/plain": [
       "QUEUEING TASKS | :   0%|          | 0/1 [00:00<?, ?it/s]"
      ],
      "application/vnd.jupyter.widget-view+json": {
       "version_major": 2,
       "version_minor": 0,
       "model_id": "9f09b638fa384f83a439c8066cdac764"
      }
     },
     "metadata": {},
     "output_type": "display_data"
    },
    {
     "data": {
      "text/plain": [
       "PROCESSING TASKS | :   0%|          | 0/1 [00:00<?, ?it/s]"
      ],
      "application/vnd.jupyter.widget-view+json": {
       "version_major": 2,
       "version_minor": 0,
       "model_id": "dc154aad3c474fa597c07330d25fc9e8"
      }
     },
     "metadata": {},
     "output_type": "display_data"
    },
    {
     "data": {
      "text/plain": [
       "COLLECTING RESULTS | :   0%|          | 0/1 [00:00<?, ?it/s]"
      ],
      "application/vnd.jupyter.widget-view+json": {
       "version_major": 2,
       "version_minor": 0,
       "model_id": "09cf2445febe4c099906be0ed704ca85"
      }
     },
     "metadata": {},
     "output_type": "display_data"
    },
    {
     "data": {
      "text/plain": [
       "QUEUEING TASKS | :   0%|          | 0/1 [00:00<?, ?it/s]"
      ],
      "application/vnd.jupyter.widget-view+json": {
       "version_major": 2,
       "version_minor": 0,
       "model_id": "29de448198a347c598bf4e97f358f674"
      }
     },
     "metadata": {},
     "output_type": "display_data"
    },
    {
     "data": {
      "text/plain": [
       "PROCESSING TASKS | :   0%|          | 0/1 [00:00<?, ?it/s]"
      ],
      "application/vnd.jupyter.widget-view+json": {
       "version_major": 2,
       "version_minor": 0,
       "model_id": "33f9f9bdefa14d75bd3d537b54373694"
      }
     },
     "metadata": {},
     "output_type": "display_data"
    },
    {
     "data": {
      "text/plain": [
       "COLLECTING RESULTS | :   0%|          | 0/1 [00:00<?, ?it/s]"
      ],
      "application/vnd.jupyter.widget-view+json": {
       "version_major": 2,
       "version_minor": 0,
       "model_id": "e1a2a094e91244fbabe26057a003829b"
      }
     },
     "metadata": {},
     "output_type": "display_data"
    },
    {
     "data": {
      "text/plain": [
       "QUEUEING TASKS | :   0%|          | 0/1 [00:00<?, ?it/s]"
      ],
      "application/vnd.jupyter.widget-view+json": {
       "version_major": 2,
       "version_minor": 0,
       "model_id": "f12e8351f54c48d98ae89e9a10cb7f30"
      }
     },
     "metadata": {},
     "output_type": "display_data"
    },
    {
     "data": {
      "text/plain": [
       "PROCESSING TASKS | :   0%|          | 0/1 [00:00<?, ?it/s]"
      ],
      "application/vnd.jupyter.widget-view+json": {
       "version_major": 2,
       "version_minor": 0,
       "model_id": "68bcdc2dc9644b07a1c585007bd54b6a"
      }
     },
     "metadata": {},
     "output_type": "display_data"
    },
    {
     "data": {
      "text/plain": [
       "COLLECTING RESULTS | :   0%|          | 0/1 [00:00<?, ?it/s]"
      ],
      "application/vnd.jupyter.widget-view+json": {
       "version_major": 2,
       "version_minor": 0,
       "model_id": "08c4cf6941d04ea6b534ff4842d3bd5c"
      }
     },
     "metadata": {},
     "output_type": "display_data"
    },
    {
     "data": {
      "text/plain": [
       "QUEUEING TASKS | :   0%|          | 0/1 [00:00<?, ?it/s]"
      ],
      "application/vnd.jupyter.widget-view+json": {
       "version_major": 2,
       "version_minor": 0,
       "model_id": "0a3def899cec4ce0a37b473dc95ccdb6"
      }
     },
     "metadata": {},
     "output_type": "display_data"
    },
    {
     "data": {
      "text/plain": [
       "PROCESSING TASKS | :   0%|          | 0/1 [00:00<?, ?it/s]"
      ],
      "application/vnd.jupyter.widget-view+json": {
       "version_major": 2,
       "version_minor": 0,
       "model_id": "62a478758f42456b9565c50fd4eeed0c"
      }
     },
     "metadata": {},
     "output_type": "display_data"
    },
    {
     "data": {
      "text/plain": [
       "COLLECTING RESULTS | :   0%|          | 0/1 [00:00<?, ?it/s]"
      ],
      "application/vnd.jupyter.widget-view+json": {
       "version_major": 2,
       "version_minor": 0,
       "model_id": "77c26113caed4babb74cd78bfde56556"
      }
     },
     "metadata": {},
     "output_type": "display_data"
    }
   ],
   "execution_count": 33
  },
  {
   "metadata": {
    "ExecuteTime": {
     "end_time": "2024-11-29T20:27:09.696489Z",
     "start_time": "2024-11-29T20:27:09.694007Z"
    }
   },
   "cell_type": "code",
   "source": [
    "import os\n",
    "def get_matching_files(folder_path, sundays):\n",
    "    \"\"\"\n",
    "    Return a list of files in the folder that match the given list of Sunday dates.\n",
    "    \n",
    "    Parameters:\n",
    "        folder_path (str): Path to the folder containing the files.\n",
    "        sundays (list of str): List of Sundays in \"YYYYMMDD\" format to match.\n",
    "        \n",
    "    Returns:\n",
    "        list of str: List of file paths matching the dates.\n",
    "    \"\"\"\n",
    "    # Format Sundays in the \"YYYYMMDD\" format for matching\n",
    "    sunday_strings = [date.replace(\"-\", \"\") for date in sundays]\n",
    "    \n",
    "    # Get all files in the folder\n",
    "    files = os.listdir(folder_path)\n",
    "    \n",
    "    # Filter files that contain a matching date\n",
    "    matching_files = [\n",
    "        os.path.join(folder_path, f)\n",
    "        for f in files\n",
    "        if any(date in f for date in sunday_strings)\n",
    "    ]\n",
    "    \n",
    "    return matching_files\n",
    "\n",
    "files = get_matching_files(Path.cwd() /'merra_data', sundays)\n",
    "print(files)"
   ],
   "outputs": [
    {
     "name": "stdout",
     "output_type": "stream",
     "text": [
      "['/var/home/rupertwilliams/Homes/gis/PyCharmProjects/GIS/Assignment 4/merra_data/MERRA2_HAQAST_CNN_L4_V1.20220501.nc4', '/var/home/rupertwilliams/Homes/gis/PyCharmProjects/GIS/Assignment 4/merra_data/MERRA2_HAQAST_CNN_L4_V1.20220508.nc4', '/var/home/rupertwilliams/Homes/gis/PyCharmProjects/GIS/Assignment 4/merra_data/MERRA2_HAQAST_CNN_L4_V1.20220515.nc4', '/var/home/rupertwilliams/Homes/gis/PyCharmProjects/GIS/Assignment 4/merra_data/MERRA2_HAQAST_CNN_L4_V1.20220522.nc4', '/var/home/rupertwilliams/Homes/gis/PyCharmProjects/GIS/Assignment 4/merra_data/MERRA2_HAQAST_CNN_L4_V1.20220529.nc4', '/var/home/rupertwilliams/Homes/gis/PyCharmProjects/GIS/Assignment 4/merra_data/MERRA2_HAQAST_CNN_L4_V1.20220605.nc4', '/var/home/rupertwilliams/Homes/gis/PyCharmProjects/GIS/Assignment 4/merra_data/MERRA2_HAQAST_CNN_L4_V1.20220612.nc4', '/var/home/rupertwilliams/Homes/gis/PyCharmProjects/GIS/Assignment 4/merra_data/MERRA2_HAQAST_CNN_L4_V1.20220619.nc4', '/var/home/rupertwilliams/Homes/gis/PyCharmProjects/GIS/Assignment 4/merra_data/MERRA2_HAQAST_CNN_L4_V1.20220626.nc4', '/var/home/rupertwilliams/Homes/gis/PyCharmProjects/GIS/Assignment 4/merra_data/MERRA2_HAQAST_CNN_L4_V1.20220703.nc4', '/var/home/rupertwilliams/Homes/gis/PyCharmProjects/GIS/Assignment 4/merra_data/MERRA2_HAQAST_CNN_L4_V1.20220710.nc4', '/var/home/rupertwilliams/Homes/gis/PyCharmProjects/GIS/Assignment 4/merra_data/MERRA2_HAQAST_CNN_L4_V1.20220717.nc4', '/var/home/rupertwilliams/Homes/gis/PyCharmProjects/GIS/Assignment 4/merra_data/MERRA2_HAQAST_CNN_L4_V1.20220724.nc4', '/var/home/rupertwilliams/Homes/gis/PyCharmProjects/GIS/Assignment 4/merra_data/MERRA2_HAQAST_CNN_L4_V1.20220731.nc4', '/var/home/rupertwilliams/Homes/gis/PyCharmProjects/GIS/Assignment 4/merra_data/MERRA2_HAQAST_CNN_L4_V1.20220807.nc4', '/var/home/rupertwilliams/Homes/gis/PyCharmProjects/GIS/Assignment 4/merra_data/MERRA2_HAQAST_CNN_L4_V1.20220814.nc4', '/var/home/rupertwilliams/Homes/gis/PyCharmProjects/GIS/Assignment 4/merra_data/MERRA2_HAQAST_CNN_L4_V1.20220821.nc4', '/var/home/rupertwilliams/Homes/gis/PyCharmProjects/GIS/Assignment 4/merra_data/MERRA2_HAQAST_CNN_L4_V1.20220828.nc4', '/var/home/rupertwilliams/Homes/gis/PyCharmProjects/GIS/Assignment 4/merra_data/MERRA2_HAQAST_CNN_L4_V1.20220904.nc4', '/var/home/rupertwilliams/Homes/gis/PyCharmProjects/GIS/Assignment 4/merra_data/MERRA2_HAQAST_CNN_L4_V1.20220911.nc4', '/var/home/rupertwilliams/Homes/gis/PyCharmProjects/GIS/Assignment 4/merra_data/MERRA2_HAQAST_CNN_L4_V1.20220918.nc4', '/var/home/rupertwilliams/Homes/gis/PyCharmProjects/GIS/Assignment 4/merra_data/MERRA2_HAQAST_CNN_L4_V1.20220925.nc4', '/var/home/rupertwilliams/Homes/gis/PyCharmProjects/GIS/Assignment 4/merra_data/MERRA2_HAQAST_CNN_L4_V1.20221002.nc4', '/var/home/rupertwilliams/Homes/gis/PyCharmProjects/GIS/Assignment 4/merra_data/MERRA2_HAQAST_CNN_L4_V1.20221009.nc4', '/var/home/rupertwilliams/Homes/gis/PyCharmProjects/GIS/Assignment 4/merra_data/MERRA2_HAQAST_CNN_L4_V1.20221016.nc4', '/var/home/rupertwilliams/Homes/gis/PyCharmProjects/GIS/Assignment 4/merra_data/MERRA2_HAQAST_CNN_L4_V1.20221023.nc4', '/var/home/rupertwilliams/Homes/gis/PyCharmProjects/GIS/Assignment 4/merra_data/MERRA2_HAQAST_CNN_L4_V1.20221030.nc4']\n"
     ]
    }
   ],
   "execution_count": 34
  },
  {
   "metadata": {
    "ExecuteTime": {
     "end_time": "2024-11-29T20:27:32.662565Z",
     "start_time": "2024-11-29T20:27:32.660448Z"
    }
   },
   "cell_type": "code",
   "source": [
    "lon_min, lon_max = -140, -90\n",
    "lat_min, lat_max = 35, 55\n",
    "\n",
    "(-140,35),    (-140,55)   -90,55  -90, 35\n",
    "\n",
    "crs_proj4 = \"+proj=aea +lat_1=42 +lat_2=48 +lat_0=45 +lon_0=-115 +datum=WGS84 +units=m +no_defs\"\n",
    "\n",
    "x_min, x_max = -1500000, 1500000\n",
    "y_min, y_max = -750000, 1000000\n",
    "resolution = 5000 # meters\n",
    "\n",
    "# Ensure bounds are divisible by the resolution\n",
    "x_range = x_max - x_min\n",
    "y_range = y_max - y_min\n",
    "\n",
    "x_steps = x_range // resolution\n",
    "y_steps = y_range // resolution\n",
    "\n",
    "# Corrected bounds\n",
    "x_max = x_min + (x_steps * resolution)\n",
    "y_max = y_min + (y_steps * resolution)\n",
    "\n",
    "dst_bounds = (x_min, x_max, y_min, y_max)"
   ],
   "outputs": [],
   "execution_count": 35
  },
  {
   "metadata": {
    "ExecuteTime": {
     "end_time": "2024-11-29T20:27:39.751437Z",
     "start_time": "2024-11-29T20:27:39.748894Z"
    }
   },
   "cell_type": "code",
   "source": [
    "from rasterio.enums import Resampling\n",
    "\n",
    "def process_dataset(file):\n",
    "    ds = xr.open_mfdataset(file, combine= 'by_coords',engine='netcdf4', decode_coords='all')\n",
    "    ds = ds.rio.write_crs(\"EPSG:4326\", inplace=True)\n",
    "    \n",
    "    ds = ds.rio.set_spatial_dims(x_dim=\"lon\", y_dim=\"lat\", inplace=True)\n",
    "    ds_time_filtered = ds.sel(time=ds.time.dt.strftime('%H:%M:%S') == '12:30:00')\n",
    "    # Filter spatial bounds\n",
    "    ds_filtered = ds_time_filtered.sel(lon=slice(lon_min, lon_max), lat=slice(lat_min, lat_max))\n",
    "    ds_filtered = ds_filtered.rio.set_spatial_dims(x_dim=\"lon\", y_dim=\"lat\", inplace=True)\n",
    "    \n",
    "    ds_reprojected = ds_filtered.rio.reproject(\n",
    "        crs_proj4,\n",
    "        dst_bounds=dst_bounds,\n",
    "        resolution=(resolution, resolution),\n",
    "        resampling=Resampling.bilinear\n",
    "    )       \n",
    "    \n",
    "    ds_reprojected = ds_reprojected.sel(x=slice(x_min, x_max), y=slice(y_max, y_min))\n",
    "    ds_reprojected = ds_reprojected.rio.write_crs(crs_proj4, inplace=True)\n",
    "    \n",
    "    return ds_reprojected"
   ],
   "outputs": [],
   "execution_count": 36
  },
  {
   "metadata": {
    "ExecuteTime": {
     "end_time": "2024-11-29T20:27:48.124967Z",
     "start_time": "2024-11-29T20:27:46.080754Z"
    }
   },
   "cell_type": "code",
   "source": [
    "datasets = [process_dataset(file) for file in files]\n",
    "\n",
    "combined_ds = xr.concat(datasets, dim='time')"
   ],
   "outputs": [],
   "execution_count": 37
  },
  {
   "metadata": {
    "ExecuteTime": {
     "end_time": "2024-11-29T20:27:50.809126Z",
     "start_time": "2024-11-29T20:27:50.802054Z"
    }
   },
   "cell_type": "code",
   "source": "combined_ds\n",
   "outputs": [
    {
     "data": {
      "text/plain": [
       "<xarray.Dataset> Size: 68MB\n",
       "Dimensions:                  (time: 27, y: 350, x: 600)\n",
       "Coordinates:\n",
       "  * x                        (x) float64 5kB -1.497e+06 -1.492e+06 ... 1.498e+06\n",
       "  * y                        (y) float64 3kB 9.959e+05 9.909e+05 ... -7.491e+05\n",
       "  * time                     (time) datetime64[ns] 216B 2022-05-01T12:30:00 ....\n",
       "    spatial_ref              int64 8B 0\n",
       "Data variables:\n",
       "    MERRA2_CNN_Surface_PM25  (time, y, x) float32 23MB 8.36 7.981 ... 10.38\n",
       "    QFLAG                    (time, y, x) float64 45MB 2.0 2.0 2.0 ... 4.0 4.0\n",
       "Attributes: (12/33)\n",
       "    Comment:                           filename: MERRA2_HAQAST_CNN_L4_V1_2022...\n",
       "    Filename:                          MERRA2_HAQAST_CNN_L4_V1_20220501.nc4\n",
       "    Conventions:                       CF-1\n",
       "    Institution:                       NASA Goddard Space Flight Center\n",
       "    References:                        http://gmao.gsfc.nasa.gov ; https://do...\n",
       "    Format:                            NetCDF-4/HDF-5\n",
       "    ...                                ...\n",
       "    RangeEndingDate:                   2022-05-01\n",
       "    RangeEndingTime:                   23:59:59.000000\n",
       "    DODS_EXTRA.Unlimited_Dimension:    time\n",
       "    history:                           2023-04-21 04:24:38 GMT Hyrax-1.16.3 h...\n",
       "    ProcessingLevel:                   4\n",
       "    MapProjection:                     Geographic lat/lon. Datum: WGS-84"
      ],
      "text/html": [
       "<div><svg style=\"position: absolute; width: 0; height: 0; overflow: hidden\">\n",
       "<defs>\n",
       "<symbol id=\"icon-database\" viewBox=\"0 0 32 32\">\n",
       "<path d=\"M16 0c-8.837 0-16 2.239-16 5v4c0 2.761 7.163 5 16 5s16-2.239 16-5v-4c0-2.761-7.163-5-16-5z\"></path>\n",
       "<path d=\"M16 17c-8.837 0-16-2.239-16-5v6c0 2.761 7.163 5 16 5s16-2.239 16-5v-6c0 2.761-7.163 5-16 5z\"></path>\n",
       "<path d=\"M16 26c-8.837 0-16-2.239-16-5v6c0 2.761 7.163 5 16 5s16-2.239 16-5v-6c0 2.761-7.163 5-16 5z\"></path>\n",
       "</symbol>\n",
       "<symbol id=\"icon-file-text2\" viewBox=\"0 0 32 32\">\n",
       "<path d=\"M28.681 7.159c-0.694-0.947-1.662-2.053-2.724-3.116s-2.169-2.030-3.116-2.724c-1.612-1.182-2.393-1.319-2.841-1.319h-15.5c-1.378 0-2.5 1.121-2.5 2.5v27c0 1.378 1.122 2.5 2.5 2.5h23c1.378 0 2.5-1.122 2.5-2.5v-19.5c0-0.448-0.137-1.23-1.319-2.841zM24.543 5.457c0.959 0.959 1.712 1.825 2.268 2.543h-4.811v-4.811c0.718 0.556 1.584 1.309 2.543 2.268zM28 29.5c0 0.271-0.229 0.5-0.5 0.5h-23c-0.271 0-0.5-0.229-0.5-0.5v-27c0-0.271 0.229-0.5 0.5-0.5 0 0 15.499-0 15.5 0v7c0 0.552 0.448 1 1 1h7v19.5z\"></path>\n",
       "<path d=\"M23 26h-14c-0.552 0-1-0.448-1-1s0.448-1 1-1h14c0.552 0 1 0.448 1 1s-0.448 1-1 1z\"></path>\n",
       "<path d=\"M23 22h-14c-0.552 0-1-0.448-1-1s0.448-1 1-1h14c0.552 0 1 0.448 1 1s-0.448 1-1 1z\"></path>\n",
       "<path d=\"M23 18h-14c-0.552 0-1-0.448-1-1s0.448-1 1-1h14c0.552 0 1 0.448 1 1s-0.448 1-1 1z\"></path>\n",
       "</symbol>\n",
       "</defs>\n",
       "</svg>\n",
       "<style>/* CSS stylesheet for displaying xarray objects in jupyterlab.\n",
       " *\n",
       " */\n",
       "\n",
       ":root {\n",
       "  --xr-font-color0: var(--jp-content-font-color0, rgba(0, 0, 0, 1));\n",
       "  --xr-font-color2: var(--jp-content-font-color2, rgba(0, 0, 0, 0.54));\n",
       "  --xr-font-color3: var(--jp-content-font-color3, rgba(0, 0, 0, 0.38));\n",
       "  --xr-border-color: var(--jp-border-color2, #e0e0e0);\n",
       "  --xr-disabled-color: var(--jp-layout-color3, #bdbdbd);\n",
       "  --xr-background-color: var(--jp-layout-color0, white);\n",
       "  --xr-background-color-row-even: var(--jp-layout-color1, white);\n",
       "  --xr-background-color-row-odd: var(--jp-layout-color2, #eeeeee);\n",
       "}\n",
       "\n",
       "html[theme=dark],\n",
       "html[data-theme=dark],\n",
       "body[data-theme=dark],\n",
       "body.vscode-dark {\n",
       "  --xr-font-color0: rgba(255, 255, 255, 1);\n",
       "  --xr-font-color2: rgba(255, 255, 255, 0.54);\n",
       "  --xr-font-color3: rgba(255, 255, 255, 0.38);\n",
       "  --xr-border-color: #1F1F1F;\n",
       "  --xr-disabled-color: #515151;\n",
       "  --xr-background-color: #111111;\n",
       "  --xr-background-color-row-even: #111111;\n",
       "  --xr-background-color-row-odd: #313131;\n",
       "}\n",
       "\n",
       ".xr-wrap {\n",
       "  display: block !important;\n",
       "  min-width: 300px;\n",
       "  max-width: 700px;\n",
       "}\n",
       "\n",
       ".xr-text-repr-fallback {\n",
       "  /* fallback to plain text repr when CSS is not injected (untrusted notebook) */\n",
       "  display: none;\n",
       "}\n",
       "\n",
       ".xr-header {\n",
       "  padding-top: 6px;\n",
       "  padding-bottom: 6px;\n",
       "  margin-bottom: 4px;\n",
       "  border-bottom: solid 1px var(--xr-border-color);\n",
       "}\n",
       "\n",
       ".xr-header > div,\n",
       ".xr-header > ul {\n",
       "  display: inline;\n",
       "  margin-top: 0;\n",
       "  margin-bottom: 0;\n",
       "}\n",
       "\n",
       ".xr-obj-type,\n",
       ".xr-array-name {\n",
       "  margin-left: 2px;\n",
       "  margin-right: 10px;\n",
       "}\n",
       "\n",
       ".xr-obj-type {\n",
       "  color: var(--xr-font-color2);\n",
       "}\n",
       "\n",
       ".xr-sections {\n",
       "  padding-left: 0 !important;\n",
       "  display: grid;\n",
       "  grid-template-columns: 150px auto auto 1fr 0 20px 0 20px;\n",
       "}\n",
       "\n",
       ".xr-section-item {\n",
       "  display: contents;\n",
       "}\n",
       "\n",
       ".xr-section-item input {\n",
       "  display: inline-block;\n",
       "  opacity: 0;\n",
       "}\n",
       "\n",
       ".xr-section-item input + label {\n",
       "  color: var(--xr-disabled-color);\n",
       "}\n",
       "\n",
       ".xr-section-item input:enabled + label {\n",
       "  cursor: pointer;\n",
       "  color: var(--xr-font-color2);\n",
       "}\n",
       "\n",
       ".xr-section-item input:focus + label {\n",
       "  border: 2px solid var(--xr-font-color0);\n",
       "}\n",
       "\n",
       ".xr-section-item input:enabled + label:hover {\n",
       "  color: var(--xr-font-color0);\n",
       "}\n",
       "\n",
       ".xr-section-summary {\n",
       "  grid-column: 1;\n",
       "  color: var(--xr-font-color2);\n",
       "  font-weight: 500;\n",
       "}\n",
       "\n",
       ".xr-section-summary > span {\n",
       "  display: inline-block;\n",
       "  padding-left: 0.5em;\n",
       "}\n",
       "\n",
       ".xr-section-summary-in:disabled + label {\n",
       "  color: var(--xr-font-color2);\n",
       "}\n",
       "\n",
       ".xr-section-summary-in + label:before {\n",
       "  display: inline-block;\n",
       "  content: '►';\n",
       "  font-size: 11px;\n",
       "  width: 15px;\n",
       "  text-align: center;\n",
       "}\n",
       "\n",
       ".xr-section-summary-in:disabled + label:before {\n",
       "  color: var(--xr-disabled-color);\n",
       "}\n",
       "\n",
       ".xr-section-summary-in:checked + label:before {\n",
       "  content: '▼';\n",
       "}\n",
       "\n",
       ".xr-section-summary-in:checked + label > span {\n",
       "  display: none;\n",
       "}\n",
       "\n",
       ".xr-section-summary,\n",
       ".xr-section-inline-details {\n",
       "  padding-top: 4px;\n",
       "  padding-bottom: 4px;\n",
       "}\n",
       "\n",
       ".xr-section-inline-details {\n",
       "  grid-column: 2 / -1;\n",
       "}\n",
       "\n",
       ".xr-section-details {\n",
       "  display: none;\n",
       "  grid-column: 1 / -1;\n",
       "  margin-bottom: 5px;\n",
       "}\n",
       "\n",
       ".xr-section-summary-in:checked ~ .xr-section-details {\n",
       "  display: contents;\n",
       "}\n",
       "\n",
       ".xr-array-wrap {\n",
       "  grid-column: 1 / -1;\n",
       "  display: grid;\n",
       "  grid-template-columns: 20px auto;\n",
       "}\n",
       "\n",
       ".xr-array-wrap > label {\n",
       "  grid-column: 1;\n",
       "  vertical-align: top;\n",
       "}\n",
       "\n",
       ".xr-preview {\n",
       "  color: var(--xr-font-color3);\n",
       "}\n",
       "\n",
       ".xr-array-preview,\n",
       ".xr-array-data {\n",
       "  padding: 0 5px !important;\n",
       "  grid-column: 2;\n",
       "}\n",
       "\n",
       ".xr-array-data,\n",
       ".xr-array-in:checked ~ .xr-array-preview {\n",
       "  display: none;\n",
       "}\n",
       "\n",
       ".xr-array-in:checked ~ .xr-array-data,\n",
       ".xr-array-preview {\n",
       "  display: inline-block;\n",
       "}\n",
       "\n",
       ".xr-dim-list {\n",
       "  display: inline-block !important;\n",
       "  list-style: none;\n",
       "  padding: 0 !important;\n",
       "  margin: 0;\n",
       "}\n",
       "\n",
       ".xr-dim-list li {\n",
       "  display: inline-block;\n",
       "  padding: 0;\n",
       "  margin: 0;\n",
       "}\n",
       "\n",
       ".xr-dim-list:before {\n",
       "  content: '(';\n",
       "}\n",
       "\n",
       ".xr-dim-list:after {\n",
       "  content: ')';\n",
       "}\n",
       "\n",
       ".xr-dim-list li:not(:last-child):after {\n",
       "  content: ',';\n",
       "  padding-right: 5px;\n",
       "}\n",
       "\n",
       ".xr-has-index {\n",
       "  font-weight: bold;\n",
       "}\n",
       "\n",
       ".xr-var-list,\n",
       ".xr-var-item {\n",
       "  display: contents;\n",
       "}\n",
       "\n",
       ".xr-var-item > div,\n",
       ".xr-var-item label,\n",
       ".xr-var-item > .xr-var-name span {\n",
       "  background-color: var(--xr-background-color-row-even);\n",
       "  margin-bottom: 0;\n",
       "}\n",
       "\n",
       ".xr-var-item > .xr-var-name:hover span {\n",
       "  padding-right: 5px;\n",
       "}\n",
       "\n",
       ".xr-var-list > li:nth-child(odd) > div,\n",
       ".xr-var-list > li:nth-child(odd) > label,\n",
       ".xr-var-list > li:nth-child(odd) > .xr-var-name span {\n",
       "  background-color: var(--xr-background-color-row-odd);\n",
       "}\n",
       "\n",
       ".xr-var-name {\n",
       "  grid-column: 1;\n",
       "}\n",
       "\n",
       ".xr-var-dims {\n",
       "  grid-column: 2;\n",
       "}\n",
       "\n",
       ".xr-var-dtype {\n",
       "  grid-column: 3;\n",
       "  text-align: right;\n",
       "  color: var(--xr-font-color2);\n",
       "}\n",
       "\n",
       ".xr-var-preview {\n",
       "  grid-column: 4;\n",
       "}\n",
       "\n",
       ".xr-index-preview {\n",
       "  grid-column: 2 / 5;\n",
       "  color: var(--xr-font-color2);\n",
       "}\n",
       "\n",
       ".xr-var-name,\n",
       ".xr-var-dims,\n",
       ".xr-var-dtype,\n",
       ".xr-preview,\n",
       ".xr-attrs dt {\n",
       "  white-space: nowrap;\n",
       "  overflow: hidden;\n",
       "  text-overflow: ellipsis;\n",
       "  padding-right: 10px;\n",
       "}\n",
       "\n",
       ".xr-var-name:hover,\n",
       ".xr-var-dims:hover,\n",
       ".xr-var-dtype:hover,\n",
       ".xr-attrs dt:hover {\n",
       "  overflow: visible;\n",
       "  width: auto;\n",
       "  z-index: 1;\n",
       "}\n",
       "\n",
       ".xr-var-attrs,\n",
       ".xr-var-data,\n",
       ".xr-index-data {\n",
       "  display: none;\n",
       "  background-color: var(--xr-background-color) !important;\n",
       "  padding-bottom: 5px !important;\n",
       "}\n",
       "\n",
       ".xr-var-attrs-in:checked ~ .xr-var-attrs,\n",
       ".xr-var-data-in:checked ~ .xr-var-data,\n",
       ".xr-index-data-in:checked ~ .xr-index-data {\n",
       "  display: block;\n",
       "}\n",
       "\n",
       ".xr-var-data > table {\n",
       "  float: right;\n",
       "}\n",
       "\n",
       ".xr-var-name span,\n",
       ".xr-var-data,\n",
       ".xr-index-name div,\n",
       ".xr-index-data,\n",
       ".xr-attrs {\n",
       "  padding-left: 25px !important;\n",
       "}\n",
       "\n",
       ".xr-attrs,\n",
       ".xr-var-attrs,\n",
       ".xr-var-data,\n",
       ".xr-index-data {\n",
       "  grid-column: 1 / -1;\n",
       "}\n",
       "\n",
       "dl.xr-attrs {\n",
       "  padding: 0;\n",
       "  margin: 0;\n",
       "  display: grid;\n",
       "  grid-template-columns: 125px auto;\n",
       "}\n",
       "\n",
       ".xr-attrs dt,\n",
       ".xr-attrs dd {\n",
       "  padding: 0;\n",
       "  margin: 0;\n",
       "  float: left;\n",
       "  padding-right: 10px;\n",
       "  width: auto;\n",
       "}\n",
       "\n",
       ".xr-attrs dt {\n",
       "  font-weight: normal;\n",
       "  grid-column: 1;\n",
       "}\n",
       "\n",
       ".xr-attrs dt:hover span {\n",
       "  display: inline-block;\n",
       "  background: var(--xr-background-color);\n",
       "  padding-right: 10px;\n",
       "}\n",
       "\n",
       ".xr-attrs dd {\n",
       "  grid-column: 2;\n",
       "  white-space: pre-wrap;\n",
       "  word-break: break-all;\n",
       "}\n",
       "\n",
       ".xr-icon-database,\n",
       ".xr-icon-file-text2,\n",
       ".xr-no-icon {\n",
       "  display: inline-block;\n",
       "  vertical-align: middle;\n",
       "  width: 1em;\n",
       "  height: 1.5em !important;\n",
       "  stroke-width: 0;\n",
       "  stroke: currentColor;\n",
       "  fill: currentColor;\n",
       "}\n",
       "</style><pre class='xr-text-repr-fallback'>&lt;xarray.Dataset&gt; Size: 68MB\n",
       "Dimensions:                  (time: 27, y: 350, x: 600)\n",
       "Coordinates:\n",
       "  * x                        (x) float64 5kB -1.497e+06 -1.492e+06 ... 1.498e+06\n",
       "  * y                        (y) float64 3kB 9.959e+05 9.909e+05 ... -7.491e+05\n",
       "  * time                     (time) datetime64[ns] 216B 2022-05-01T12:30:00 ....\n",
       "    spatial_ref              int64 8B 0\n",
       "Data variables:\n",
       "    MERRA2_CNN_Surface_PM25  (time, y, x) float32 23MB 8.36 7.981 ... 10.38\n",
       "    QFLAG                    (time, y, x) float64 45MB 2.0 2.0 2.0 ... 4.0 4.0\n",
       "Attributes: (12/33)\n",
       "    Comment:                           filename: MERRA2_HAQAST_CNN_L4_V1_2022...\n",
       "    Filename:                          MERRA2_HAQAST_CNN_L4_V1_20220501.nc4\n",
       "    Conventions:                       CF-1\n",
       "    Institution:                       NASA Goddard Space Flight Center\n",
       "    References:                        http://gmao.gsfc.nasa.gov ; https://do...\n",
       "    Format:                            NetCDF-4/HDF-5\n",
       "    ...                                ...\n",
       "    RangeEndingDate:                   2022-05-01\n",
       "    RangeEndingTime:                   23:59:59.000000\n",
       "    DODS_EXTRA.Unlimited_Dimension:    time\n",
       "    history:                           2023-04-21 04:24:38 GMT Hyrax-1.16.3 h...\n",
       "    ProcessingLevel:                   4\n",
       "    MapProjection:                     Geographic lat/lon. Datum: WGS-84</pre><div class='xr-wrap' style='display:none'><div class='xr-header'><div class='xr-obj-type'>xarray.Dataset</div></div><ul class='xr-sections'><li class='xr-section-item'><input id='section-564a01f5-7514-4d9e-8dde-38c789449ae7' class='xr-section-summary-in' type='checkbox' disabled ><label for='section-564a01f5-7514-4d9e-8dde-38c789449ae7' class='xr-section-summary'  title='Expand/collapse section'>Dimensions:</label><div class='xr-section-inline-details'><ul class='xr-dim-list'><li><span class='xr-has-index'>time</span>: 27</li><li><span class='xr-has-index'>y</span>: 350</li><li><span class='xr-has-index'>x</span>: 600</li></ul></div><div class='xr-section-details'></div></li><li class='xr-section-item'><input id='section-18e18b51-81a5-4210-a43c-8cc6e523e561' class='xr-section-summary-in' type='checkbox'  checked><label for='section-18e18b51-81a5-4210-a43c-8cc6e523e561' class='xr-section-summary' >Coordinates: <span>(4)</span></label><div class='xr-section-inline-details'></div><div class='xr-section-details'><ul class='xr-var-list'><li class='xr-var-item'><div class='xr-var-name'><span class='xr-has-index'>x</span></div><div class='xr-var-dims'>(x)</div><div class='xr-var-dtype'>float64</div><div class='xr-var-preview xr-preview'>-1.497e+06 -1.492e+06 ... 1.498e+06</div><input id='attrs-adaedee9-b8bf-4242-89b6-f94fc33e16e3' class='xr-var-attrs-in' type='checkbox' ><label for='attrs-adaedee9-b8bf-4242-89b6-f94fc33e16e3' title='Show/Hide attributes'><svg class='icon xr-icon-file-text2'><use xlink:href='#icon-file-text2'></use></svg></label><input id='data-245a3cf8-d869-4bf0-a522-fc649d91e7c6' class='xr-var-data-in' type='checkbox'><label for='data-245a3cf8-d869-4bf0-a522-fc649d91e7c6' title='Show/Hide data repr'><svg class='icon xr-icon-database'><use xlink:href='#icon-database'></use></svg></label><div class='xr-var-attrs'><dl class='xr-attrs'><dt><span>axis :</span></dt><dd>X</dd><dt><span>long_name :</span></dt><dd>x coordinate of projection</dd><dt><span>standard_name :</span></dt><dd>projection_x_coordinate</dd><dt><span>units :</span></dt><dd>metre</dd></dl></div><div class='xr-var-data'><pre>array([-1496524.326433, -1491524.326433, -1486524.326433, ...,  1488475.673567,\n",
       "        1493475.673567,  1498475.673567])</pre></div></li><li class='xr-var-item'><div class='xr-var-name'><span class='xr-has-index'>y</span></div><div class='xr-var-dims'>(y)</div><div class='xr-var-dtype'>float64</div><div class='xr-var-preview xr-preview'>9.959e+05 9.909e+05 ... -7.491e+05</div><input id='attrs-b66b66b0-dbab-402e-8c27-53ed3f164389' class='xr-var-attrs-in' type='checkbox' ><label for='attrs-b66b66b0-dbab-402e-8c27-53ed3f164389' title='Show/Hide attributes'><svg class='icon xr-icon-file-text2'><use xlink:href='#icon-file-text2'></use></svg></label><input id='data-dda52b28-60ed-481b-bc9c-6d709e2860be' class='xr-var-data-in' type='checkbox'><label for='data-dda52b28-60ed-481b-bc9c-6d709e2860be' title='Show/Hide data repr'><svg class='icon xr-icon-database'><use xlink:href='#icon-database'></use></svg></label><div class='xr-var-attrs'><dl class='xr-attrs'><dt><span>axis :</span></dt><dd>Y</dd><dt><span>long_name :</span></dt><dd>y coordinate of projection</dd><dt><span>standard_name :</span></dt><dd>projection_y_coordinate</dd><dt><span>units :</span></dt><dd>metre</dd></dl></div><div class='xr-var-data'><pre>array([ 995893.546327,  990893.546327,  985893.546327, ..., -739106.453673,\n",
       "       -744106.453673, -749106.453673])</pre></div></li><li class='xr-var-item'><div class='xr-var-name'><span class='xr-has-index'>time</span></div><div class='xr-var-dims'>(time)</div><div class='xr-var-dtype'>datetime64[ns]</div><div class='xr-var-preview xr-preview'>2022-05-01T12:30:00 ... 2022-10-...</div><input id='attrs-c168fe1b-a637-42e4-9185-c61aea0b310a' class='xr-var-attrs-in' type='checkbox' ><label for='attrs-c168fe1b-a637-42e4-9185-c61aea0b310a' title='Show/Hide attributes'><svg class='icon xr-icon-file-text2'><use xlink:href='#icon-file-text2'></use></svg></label><input id='data-caaeaa3d-7e02-4f2d-b794-9cb8ffe9e449' class='xr-var-data-in' type='checkbox'><label for='data-caaeaa3d-7e02-4f2d-b794-9cb8ffe9e449' title='Show/Hide data repr'><svg class='icon xr-icon-database'><use xlink:href='#icon-database'></use></svg></label><div class='xr-var-attrs'><dl class='xr-attrs'><dt><span>long_name :</span></dt><dd>time</dd></dl></div><div class='xr-var-data'><pre>array([&#x27;2022-05-01T12:30:00.000000000&#x27;, &#x27;2022-05-08T12:30:00.000000000&#x27;,\n",
       "       &#x27;2022-05-15T12:30:00.000000000&#x27;, &#x27;2022-05-22T12:30:00.000000000&#x27;,\n",
       "       &#x27;2022-05-29T12:30:00.000000000&#x27;, &#x27;2022-06-05T12:30:00.000000000&#x27;,\n",
       "       &#x27;2022-06-12T12:30:00.000000000&#x27;, &#x27;2022-06-19T12:30:00.000000000&#x27;,\n",
       "       &#x27;2022-06-26T12:30:00.000000000&#x27;, &#x27;2022-07-03T12:30:00.000000000&#x27;,\n",
       "       &#x27;2022-07-10T12:30:00.000000000&#x27;, &#x27;2022-07-17T12:30:00.000000000&#x27;,\n",
       "       &#x27;2022-07-24T12:30:00.000000000&#x27;, &#x27;2022-07-31T12:30:00.000000000&#x27;,\n",
       "       &#x27;2022-08-07T12:30:00.000000000&#x27;, &#x27;2022-08-14T12:30:00.000000000&#x27;,\n",
       "       &#x27;2022-08-21T12:30:00.000000000&#x27;, &#x27;2022-08-28T12:30:00.000000000&#x27;,\n",
       "       &#x27;2022-09-04T12:30:00.000000000&#x27;, &#x27;2022-09-11T12:30:00.000000000&#x27;,\n",
       "       &#x27;2022-09-18T12:30:00.000000000&#x27;, &#x27;2022-09-25T12:30:00.000000000&#x27;,\n",
       "       &#x27;2022-10-02T12:30:00.000000000&#x27;, &#x27;2022-10-09T12:30:00.000000000&#x27;,\n",
       "       &#x27;2022-10-16T12:30:00.000000000&#x27;, &#x27;2022-10-23T12:30:00.000000000&#x27;,\n",
       "       &#x27;2022-10-30T12:30:00.000000000&#x27;], dtype=&#x27;datetime64[ns]&#x27;)</pre></div></li><li class='xr-var-item'><div class='xr-var-name'><span>spatial_ref</span></div><div class='xr-var-dims'>()</div><div class='xr-var-dtype'>int64</div><div class='xr-var-preview xr-preview'>0</div><input id='attrs-01b666cd-732b-4fea-964a-ab10c4a4b3d9' class='xr-var-attrs-in' type='checkbox' ><label for='attrs-01b666cd-732b-4fea-964a-ab10c4a4b3d9' title='Show/Hide attributes'><svg class='icon xr-icon-file-text2'><use xlink:href='#icon-file-text2'></use></svg></label><input id='data-2542e277-03ab-45ee-93e3-a1c4b55afd2e' class='xr-var-data-in' type='checkbox'><label for='data-2542e277-03ab-45ee-93e3-a1c4b55afd2e' title='Show/Hide data repr'><svg class='icon xr-icon-database'><use xlink:href='#icon-database'></use></svg></label><div class='xr-var-attrs'><dl class='xr-attrs'><dt><span>crs_wkt :</span></dt><dd>PROJCS[&quot;unknown&quot;,GEOGCS[&quot;unknown&quot;,DATUM[&quot;WGS_1984&quot;,SPHEROID[&quot;WGS 84&quot;,6378137,298.257223563,AUTHORITY[&quot;EPSG&quot;,&quot;7030&quot;]],AUTHORITY[&quot;EPSG&quot;,&quot;6326&quot;]],PRIMEM[&quot;Greenwich&quot;,0,AUTHORITY[&quot;EPSG&quot;,&quot;8901&quot;]],UNIT[&quot;degree&quot;,0.0174532925199433,AUTHORITY[&quot;EPSG&quot;,&quot;9122&quot;]]],PROJECTION[&quot;Albers_Conic_Equal_Area&quot;],PARAMETER[&quot;latitude_of_center&quot;,45],PARAMETER[&quot;longitude_of_center&quot;,-115],PARAMETER[&quot;standard_parallel_1&quot;,42],PARAMETER[&quot;standard_parallel_2&quot;,48],PARAMETER[&quot;false_easting&quot;,0],PARAMETER[&quot;false_northing&quot;,0],UNIT[&quot;metre&quot;,1,AUTHORITY[&quot;EPSG&quot;,&quot;9001&quot;]],AXIS[&quot;Easting&quot;,EAST],AXIS[&quot;Northing&quot;,NORTH]]</dd><dt><span>semi_major_axis :</span></dt><dd>6378137.0</dd><dt><span>semi_minor_axis :</span></dt><dd>6356752.314245179</dd><dt><span>inverse_flattening :</span></dt><dd>298.257223563</dd><dt><span>reference_ellipsoid_name :</span></dt><dd>WGS 84</dd><dt><span>longitude_of_prime_meridian :</span></dt><dd>0.0</dd><dt><span>prime_meridian_name :</span></dt><dd>Greenwich</dd><dt><span>geographic_crs_name :</span></dt><dd>unknown</dd><dt><span>horizontal_datum_name :</span></dt><dd>World Geodetic System 1984</dd><dt><span>projected_crs_name :</span></dt><dd>unknown</dd><dt><span>grid_mapping_name :</span></dt><dd>albers_conical_equal_area</dd><dt><span>standard_parallel :</span></dt><dd>(42.0, 48.0)</dd><dt><span>latitude_of_projection_origin :</span></dt><dd>45.0</dd><dt><span>longitude_of_central_meridian :</span></dt><dd>-115.0</dd><dt><span>false_easting :</span></dt><dd>0.0</dd><dt><span>false_northing :</span></dt><dd>0.0</dd><dt><span>spatial_ref :</span></dt><dd>PROJCS[&quot;unknown&quot;,GEOGCS[&quot;unknown&quot;,DATUM[&quot;WGS_1984&quot;,SPHEROID[&quot;WGS 84&quot;,6378137,298.257223563,AUTHORITY[&quot;EPSG&quot;,&quot;7030&quot;]],AUTHORITY[&quot;EPSG&quot;,&quot;6326&quot;]],PRIMEM[&quot;Greenwich&quot;,0,AUTHORITY[&quot;EPSG&quot;,&quot;8901&quot;]],UNIT[&quot;degree&quot;,0.0174532925199433,AUTHORITY[&quot;EPSG&quot;,&quot;9122&quot;]]],PROJECTION[&quot;Albers_Conic_Equal_Area&quot;],PARAMETER[&quot;latitude_of_center&quot;,45],PARAMETER[&quot;longitude_of_center&quot;,-115],PARAMETER[&quot;standard_parallel_1&quot;,42],PARAMETER[&quot;standard_parallel_2&quot;,48],PARAMETER[&quot;false_easting&quot;,0],PARAMETER[&quot;false_northing&quot;,0],UNIT[&quot;metre&quot;,1,AUTHORITY[&quot;EPSG&quot;,&quot;9001&quot;]],AXIS[&quot;Easting&quot;,EAST],AXIS[&quot;Northing&quot;,NORTH]]</dd><dt><span>GeoTransform :</span></dt><dd>-2309024.326432758 5000.0 0.0 1388393.546326695 0.0 -5000.0</dd></dl></div><div class='xr-var-data'><pre>array(0)</pre></div></li></ul></div></li><li class='xr-section-item'><input id='section-48138a61-51e1-4dba-a65d-80b62bcca2dc' class='xr-section-summary-in' type='checkbox'  checked><label for='section-48138a61-51e1-4dba-a65d-80b62bcca2dc' class='xr-section-summary' >Data variables: <span>(2)</span></label><div class='xr-section-inline-details'></div><div class='xr-section-details'><ul class='xr-var-list'><li class='xr-var-item'><div class='xr-var-name'><span>MERRA2_CNN_Surface_PM25</span></div><div class='xr-var-dims'>(time, y, x)</div><div class='xr-var-dtype'>float32</div><div class='xr-var-preview xr-preview'>8.36 7.981 7.251 ... 10.31 10.38</div><input id='attrs-bfec3827-c443-4d39-8610-c316083b4bbe' class='xr-var-attrs-in' type='checkbox' ><label for='attrs-bfec3827-c443-4d39-8610-c316083b4bbe' title='Show/Hide attributes'><svg class='icon xr-icon-file-text2'><use xlink:href='#icon-file-text2'></use></svg></label><input id='data-542d0f3a-1b57-43b7-9637-3f9f4bde3e66' class='xr-var-data-in' type='checkbox'><label for='data-542d0f3a-1b57-43b7-9637-3f9f4bde3e66' title='Show/Hide data repr'><svg class='icon xr-icon-database'><use xlink:href='#icon-database'></use></svg></label><div class='xr-var-attrs'><dl class='xr-attrs'><dt><span>units :</span></dt><dd>ug m-3</dd><dt><span>long_name :</span></dt><dd>Bias corrected surface total PM2.5 mass concentration</dd></dl></div><div class='xr-var-data'><pre>array([[[8.3597755e+00, 7.9810448e+00, 7.2511306e+00, ...,\n",
       "         0.0000000e+00, 2.4400780e-03, 7.0276312e-03],\n",
       "        [8.3950052e+00, 7.9874420e+00, 7.1724515e+00, ...,\n",
       "         0.0000000e+00, 1.3705501e-03, 6.4285216e-03],\n",
       "        [8.4427223e+00, 7.9140916e+00, 7.0855126e+00, ...,\n",
       "         0.0000000e+00, 1.4715395e-05, 5.5424413e-03],\n",
       "        ...,\n",
       "        [7.5668257e-01, 7.6507765e-01, 7.7342969e-01, ...,\n",
       "         9.8788109e+00, 1.0140460e+01, 1.0405088e+01],\n",
       "        [7.6748902e-01, 7.7597052e-01, 7.8440911e-01, ...,\n",
       "         9.6031027e+00, 9.8709259e+00, 1.0141725e+01],\n",
       "        [7.7833432e-01, 7.8690219e-01, 7.9542720e-01, ...,\n",
       "         9.3246603e+00, 9.5986509e+00, 9.8756132e+00]],\n",
       "\n",
       "       [[1.8852364e-02, 1.7636767e-02, 1.6982215e-02, ...,\n",
       "         1.0546508e+00, 1.0399306e+00, 1.0637501e+00],\n",
       "        [1.8741209e-02, 1.7602043e-02, 1.7089397e-02, ...,\n",
       "         1.0756954e+00, 1.0313295e+00, 1.0561202e+00],\n",
       "        [1.8629605e-02, 1.7699251e-02, 1.7211812e-02, ...,\n",
       "         1.1011987e+00, 1.0221380e+00, 1.0478984e+00],\n",
       "...\n",
       "        [3.7956610e-01, 3.6542231e-01, 3.5083017e-01, ...,\n",
       "         5.5693603e+00, 5.6735268e+00, 5.7763176e+00],\n",
       "        [3.7175590e-01, 3.5857984e-01, 3.4495598e-01, ...,\n",
       "         5.5110574e+00, 5.6122274e+00, 5.7120233e+00],\n",
       "        [3.6437324e-01, 3.5216391e-01, 3.3950728e-01, ...,\n",
       "         5.4540715e+00, 5.5522485e+00, 5.6490531e+00]],\n",
       "\n",
       "       [[7.9075198e+00, 7.9177165e+00, 7.9248133e+00, ...,\n",
       "         8.5338163e-01, 8.6825794e-01, 8.9130521e-01],\n",
       "        [7.8767552e+00, 7.8855734e+00, 7.8923106e+00, ...,\n",
       "         8.6246806e-01, 8.7469745e-01, 9.0006393e-01],\n",
       "        [7.8453259e+00, 7.8529425e+00, 7.8600230e+00, ...,\n",
       "         8.7070817e-01, 8.7972301e-01, 9.0740550e-01],\n",
       "        ...,\n",
       "        [3.8660869e-01, 3.5256445e-01, 3.2091549e-01, ...,\n",
       "         1.0437614e+01, 1.0525165e+01, 1.0608966e+01],\n",
       "        [4.2016461e-01, 3.8101929e-01, 3.4426638e-01, ...,\n",
       "         1.0337545e+01, 1.0417056e+01, 1.0492823e+01],\n",
       "        [4.5146811e-01, 4.0722719e-01, 3.6537582e-01, ...,\n",
       "         1.0241012e+01, 1.0312492e+01, 1.0380233e+01]]], dtype=float32)</pre></div></li><li class='xr-var-item'><div class='xr-var-name'><span>QFLAG</span></div><div class='xr-var-dims'>(time, y, x)</div><div class='xr-var-dtype'>float64</div><div class='xr-var-preview xr-preview'>2.0 2.0 2.0 2.0 ... 4.0 4.0 4.0 4.0</div><input id='attrs-7b4bcc51-f4a6-4a31-883d-ca46be16935b' class='xr-var-attrs-in' type='checkbox' ><label for='attrs-7b4bcc51-f4a6-4a31-883d-ca46be16935b' title='Show/Hide attributes'><svg class='icon xr-icon-file-text2'><use xlink:href='#icon-file-text2'></use></svg></label><input id='data-44b4bf9d-312e-42ce-9880-43a8356071cb' class='xr-var-data-in' type='checkbox'><label for='data-44b4bf9d-312e-42ce-9880-43a8356071cb' title='Show/Hide data repr'><svg class='icon xr-icon-database'><use xlink:href='#icon-database'></use></svg></label><div class='xr-var-attrs'><dl class='xr-attrs'><dt><span>FLAG 1 :</span></dt><dd>Low quality</dd><dt><span>FLAG 2 :</span></dt><dd>Medium quality over ocean</dd><dt><span>FLAG 3 :</span></dt><dd>High quality</dd><dt><span>FLAG 4 :</span></dt><dd>Highest quality</dd><dt><span>Recommendation :</span></dt><dd>qflag recommnendation -3 &amp; 4 for quantitative analysis</dd><dt><span>long_name :</span></dt><dd>Quality Flag for data quality at grid</dd><dt><span>units :</span></dt><dd>unitless</dd></dl></div><div class='xr-var-data'><pre>array([[[2., 2., 2., ..., 3., 3., 3.],\n",
       "        [2., 2., 2., ..., 3., 3., 3.],\n",
       "        [2., 2., 2., ..., 3., 3., 3.],\n",
       "        ...,\n",
       "        [2., 2., 2., ..., 4., 4., 4.],\n",
       "        [2., 2., 2., ..., 4., 4., 4.],\n",
       "        [2., 2., 2., ..., 4., 4., 4.]],\n",
       "\n",
       "       [[2., 2., 2., ..., 3., 3., 3.],\n",
       "        [2., 2., 2., ..., 3., 3., 3.],\n",
       "        [2., 2., 2., ..., 3., 3., 3.],\n",
       "        ...,\n",
       "        [2., 2., 2., ..., 4., 4., 4.],\n",
       "        [2., 2., 2., ..., 4., 4., 4.],\n",
       "        [2., 2., 2., ..., 4., 4., 4.]],\n",
       "\n",
       "       [[2., 2., 2., ..., 3., 3., 3.],\n",
       "        [2., 2., 2., ..., 3., 3., 3.],\n",
       "        [2., 2., 2., ..., 3., 3., 3.],\n",
       "        ...,\n",
       "...\n",
       "        ...,\n",
       "        [2., 2., 2., ..., 4., 4., 4.],\n",
       "        [2., 2., 2., ..., 4., 4., 4.],\n",
       "        [2., 2., 2., ..., 4., 4., 4.]],\n",
       "\n",
       "       [[2., 2., 2., ..., 3., 3., 3.],\n",
       "        [2., 2., 2., ..., 3., 3., 3.],\n",
       "        [2., 2., 2., ..., 3., 3., 3.],\n",
       "        ...,\n",
       "        [2., 2., 2., ..., 4., 4., 4.],\n",
       "        [2., 2., 2., ..., 4., 4., 4.],\n",
       "        [2., 2., 2., ..., 4., 4., 4.]],\n",
       "\n",
       "       [[2., 2., 2., ..., 3., 3., 3.],\n",
       "        [2., 2., 2., ..., 3., 3., 3.],\n",
       "        [2., 2., 2., ..., 3., 3., 3.],\n",
       "        ...,\n",
       "        [2., 2., 2., ..., 4., 4., 4.],\n",
       "        [2., 2., 2., ..., 4., 4., 4.],\n",
       "        [2., 2., 2., ..., 4., 4., 4.]]])</pre></div></li></ul></div></li><li class='xr-section-item'><input id='section-4c1e73ee-eb09-4472-9a85-e8242c704070' class='xr-section-summary-in' type='checkbox'  ><label for='section-4c1e73ee-eb09-4472-9a85-e8242c704070' class='xr-section-summary' >Indexes: <span>(3)</span></label><div class='xr-section-inline-details'></div><div class='xr-section-details'><ul class='xr-var-list'><li class='xr-var-item'><div class='xr-index-name'><div>x</div></div><div class='xr-index-preview'>PandasIndex</div><div></div><input id='index-0203f2c5-3761-49d7-8125-cd0eda49b775' class='xr-index-data-in' type='checkbox'/><label for='index-0203f2c5-3761-49d7-8125-cd0eda49b775' title='Show/Hide index repr'><svg class='icon xr-icon-database'><use xlink:href='#icon-database'></use></svg></label><div class='xr-index-data'><pre>PandasIndex(Index([-1496524.326432758, -1491524.326432758, -1486524.326432758,\n",
       "       -1481524.326432758, -1476524.326432758, -1471524.326432758,\n",
       "       -1466524.326432758, -1461524.326432758, -1456524.326432758,\n",
       "       -1451524.326432758,\n",
       "       ...\n",
       "        1453475.673567242,  1458475.673567242,  1463475.673567242,\n",
       "        1468475.673567242,  1473475.673567242,  1478475.673567242,\n",
       "        1483475.673567242,  1488475.673567242,  1493475.673567242,\n",
       "        1498475.673567242],\n",
       "      dtype=&#x27;float64&#x27;, name=&#x27;x&#x27;, length=600))</pre></div></li><li class='xr-var-item'><div class='xr-index-name'><div>y</div></div><div class='xr-index-preview'>PandasIndex</div><div></div><input id='index-54ed30c4-e05e-4112-978e-a6ee7e7034b0' class='xr-index-data-in' type='checkbox'/><label for='index-54ed30c4-e05e-4112-978e-a6ee7e7034b0' title='Show/Hide index repr'><svg class='icon xr-icon-database'><use xlink:href='#icon-database'></use></svg></label><div class='xr-index-data'><pre>PandasIndex(Index([ 995893.546326695,  990893.546326695,  985893.546326695,\n",
       "        980893.546326695,  975893.546326695,  970893.546326695,\n",
       "        965893.546326695,  960893.546326695,  955893.546326695,\n",
       "        950893.546326695,\n",
       "       ...\n",
       "       -704106.453673305, -709106.453673305, -714106.453673305,\n",
       "       -719106.453673305, -724106.453673305, -729106.453673305,\n",
       "       -734106.453673305, -739106.453673305, -744106.453673305,\n",
       "       -749106.453673305],\n",
       "      dtype=&#x27;float64&#x27;, name=&#x27;y&#x27;, length=350))</pre></div></li><li class='xr-var-item'><div class='xr-index-name'><div>time</div></div><div class='xr-index-preview'>PandasIndex</div><div></div><input id='index-dcdaf5d3-5637-4444-934d-3122a73d6892' class='xr-index-data-in' type='checkbox'/><label for='index-dcdaf5d3-5637-4444-934d-3122a73d6892' title='Show/Hide index repr'><svg class='icon xr-icon-database'><use xlink:href='#icon-database'></use></svg></label><div class='xr-index-data'><pre>PandasIndex(DatetimeIndex([&#x27;2022-05-01 12:30:00&#x27;, &#x27;2022-05-08 12:30:00&#x27;,\n",
       "               &#x27;2022-05-15 12:30:00&#x27;, &#x27;2022-05-22 12:30:00&#x27;,\n",
       "               &#x27;2022-05-29 12:30:00&#x27;, &#x27;2022-06-05 12:30:00&#x27;,\n",
       "               &#x27;2022-06-12 12:30:00&#x27;, &#x27;2022-06-19 12:30:00&#x27;,\n",
       "               &#x27;2022-06-26 12:30:00&#x27;, &#x27;2022-07-03 12:30:00&#x27;,\n",
       "               &#x27;2022-07-10 12:30:00&#x27;, &#x27;2022-07-17 12:30:00&#x27;,\n",
       "               &#x27;2022-07-24 12:30:00&#x27;, &#x27;2022-07-31 12:30:00&#x27;,\n",
       "               &#x27;2022-08-07 12:30:00&#x27;, &#x27;2022-08-14 12:30:00&#x27;,\n",
       "               &#x27;2022-08-21 12:30:00&#x27;, &#x27;2022-08-28 12:30:00&#x27;,\n",
       "               &#x27;2022-09-04 12:30:00&#x27;, &#x27;2022-09-11 12:30:00&#x27;,\n",
       "               &#x27;2022-09-18 12:30:00&#x27;, &#x27;2022-09-25 12:30:00&#x27;,\n",
       "               &#x27;2022-10-02 12:30:00&#x27;, &#x27;2022-10-09 12:30:00&#x27;,\n",
       "               &#x27;2022-10-16 12:30:00&#x27;, &#x27;2022-10-23 12:30:00&#x27;,\n",
       "               &#x27;2022-10-30 12:30:00&#x27;],\n",
       "              dtype=&#x27;datetime64[ns]&#x27;, name=&#x27;time&#x27;, freq=None))</pre></div></li></ul></div></li><li class='xr-section-item'><input id='section-ab8aabda-2643-4a86-9433-5a028b8b6ad6' class='xr-section-summary-in' type='checkbox'  ><label for='section-ab8aabda-2643-4a86-9433-5a028b8b6ad6' class='xr-section-summary' >Attributes: <span>(33)</span></label><div class='xr-section-inline-details'></div><div class='xr-section-details'><dl class='xr-attrs'><dt><span>Comment :</span></dt><dd>filename: MERRA2_HAQAST_CNN_L4_V1_20220501.nc4</dd><dt><span>Filename :</span></dt><dd>MERRA2_HAQAST_CNN_L4_V1_20220501.nc4</dd><dt><span>Conventions :</span></dt><dd>CF-1</dd><dt><span>Institution :</span></dt><dd>NASA Goddard Space Flight Center</dd><dt><span>References :</span></dt><dd>http://gmao.gsfc.nasa.gov ; https://doi.org/10.4209/aaqr.210105 ; https://doi.org/10.1029/2022EA002375</dd><dt><span>Format :</span></dt><dd>NetCDF-4/HDF-5</dd><dt><span>SpatialCoverage :</span></dt><dd>global</dd><dt><span>VersionID :</span></dt><dd>V1</dd><dt><span>TemporalRange :</span></dt><dd>2000-01-01 -&gt; 2024-12-31</dd><dt><span>identifier_product_doi_authority :</span></dt><dd>http://dx.doi.org/</dd><dt><span>ShortName :</span></dt><dd>MERRA2_CNN_HAQAST_PM25</dd><dt><span>GranuleID :</span></dt><dd>MERRA2_HAQAST_CNN_L4_V1_20220501.nc4</dd><dt><span>ProductionDateTime :</span></dt><dd>2024-06-18T05:10:52.971084Z</dd><dt><span>LongName :</span></dt><dd>MERRA2_CNN_HAQAST bias corrected global hourly surface total PM2.5 mass concentration V1.0</dd><dt><span>title :</span></dt><dd>MERRA2_CNN_HAQAST bias corrected global hourly surface total PM2.5 mass concentration V1.0</dd><dt><span>SouthernmostLatitude :</span></dt><dd>-90.0</dd><dt><span>NorthernmostLatitude :</span></dt><dd>90.0</dd><dt><span>WesternmostLongitude :</span></dt><dd>-180.0</dd><dt><span>EasternmostLongitude :</span></dt><dd>179.375</dd><dt><span>LatitudeResolution :</span></dt><dd>0.5</dd><dt><span>LongitudeResolution :</span></dt><dd>0.625</dd><dt><span>DataResolution :</span></dt><dd>0.5 x 0.625</dd><dt><span>Source :</span></dt><dd>M2T1NXAER_5.12.4: BCSMASS,DUSMASS25,OCSMASS,SO2SMASS,SO4SMASS,SSSMASS25,TOTEXTTAU</dd><dt><span>Contact :</span></dt><dd>Pawan Gupta (pawan.gupta@nasa.gov), and Alqamah Sayeed (alqamah.sayeed@nasa.gov)</dd><dt><span>identifier_product_doi :</span></dt><dd>10.5067/OCKK5HCFW5N3</dd><dt><span>RangeBeginningDate :</span></dt><dd>2022-05-01</dd><dt><span>RangeBeginningTime :</span></dt><dd>00:00:00.000000</dd><dt><span>RangeEndingDate :</span></dt><dd>2022-05-01</dd><dt><span>RangeEndingTime :</span></dt><dd>23:59:59.000000</dd><dt><span>DODS_EXTRA.Unlimited_Dimension :</span></dt><dd>time</dd><dt><span>history :</span></dt><dd>2023-04-21 04:24:38 GMT Hyrax-1.16.3 https://goldsmr4.gesdisc.eosdis.nasa.gov/opendap/MERRA2/M2T1NXAER.5.12.4/2022/12/MERRA2_400.tavg1_2d_aer_Nx.20221231.nc4.nc4?BCSMASS,DUSMASS25,OCSMASS,SO2SMASS,SO4SMASS,SSSMASS25,TOTEXTTAU</dd><dt><span>ProcessingLevel :</span></dt><dd>4</dd><dt><span>MapProjection :</span></dt><dd>Geographic lat/lon. Datum: WGS-84</dd></dl></div></li></ul></div></div>"
      ]
     },
     "execution_count": 38,
     "metadata": {},
     "output_type": "execute_result"
    }
   ],
   "execution_count": 38
  },
  {
   "metadata": {
    "ExecuteTime": {
     "end_time": "2024-11-29T20:13:25.017916Z",
     "start_time": "2024-11-29T20:13:25.015860Z"
    }
   },
   "cell_type": "code",
   "source": [
    "# Fire vector data\n",
    "viirs = Path(\"../Assignment 3/Data/DL_FIRE_J1V-C2_512898/fire_nrt_J1V-C2_512898.shp\")\n",
    "viirs.exists()"
   ],
   "outputs": [
    {
     "data": {
      "text/plain": [
       "True"
      ]
     },
     "execution_count": 28,
     "metadata": {},
     "output_type": "execute_result"
    }
   ],
   "execution_count": 28
  },
  {
   "metadata": {
    "ExecuteTime": {
     "end_time": "2024-11-29T20:13:31.582861Z",
     "start_time": "2024-11-29T20:13:31.576136Z"
    }
   },
   "cell_type": "code",
   "source": "import geopandas as gpd",
   "outputs": [],
   "execution_count": 29
  },
  {
   "metadata": {
    "ExecuteTime": {
     "end_time": "2024-11-29T20:28:57.380942Z",
     "start_time": "2024-11-29T20:28:52.800870Z"
    }
   },
   "cell_type": "code",
   "source": [
    "viirs_data = gpd.read_file(viirs, bbox=(lon_min,lat_min,lon_max,lat_max))\n",
    "viirs_data = viirs_data.to_crs(crs_proj4)"
   ],
   "outputs": [],
   "execution_count": 39
  },
  {
   "metadata": {
    "ExecuteTime": {
     "end_time": "2024-11-29T20:37:58.571142Z",
     "start_time": "2024-11-29T20:37:58.569005Z"
    }
   },
   "cell_type": "code",
   "source": [
    "ends = [datetime.utcfromtimestamp(time.astype('O') / 1e9) for time in combined_ds.time.values]\n",
    "starts = [end - timedelta(weeks=2) for end in ends]\n",
    "print(zip(starts, ends)\n"
   ],
   "outputs": [
    {
     "name": "stdout",
     "output_type": "stream",
     "text": [
      "<zip object at 0x7f3a2d01e300>\n"
     ]
    }
   ],
   "execution_count": 52
  },
  {
   "metadata": {
    "ExecuteTime": {
     "end_time": "2024-11-29T19:36:49.898912Z",
     "start_time": "2024-11-29T19:36:49.891965Z"
    }
   },
   "cell_type": "code",
   "source": [
    "bandwidth = 50_000 # meters\n",
    "\n",
    "# Compute the standard deviation in terms of grid cells\n",
    "sigma = bandwidth / resolution\n",
    "\n",
    "from scipy.signal import fftconvolve\n",
    "\n",
    "def gaussian_kernel(sigma):\n",
    "    \"\"\"Creates an anisotropic Gaussian kernel.\"\"\"\n",
    "    # Define kernel sizes\n",
    "    kernel_size = int(6 * sigma)\n",
    "    x = np.linspace(-kernel_size // 2, kernel_size // 2, kernel_size)\n",
    "    y = np.linspace(-kernel_size // 2, kernel_size // 2, kernel_size)\n",
    "    x, y = np.meshgrid(x, y)\n",
    "    kernel = np.exp(-(x**2 / (2 * sigma**2) + y**2 / (2 * sigma**2)))\n",
    "    return kernel\n",
    "\n",
    "# Create the kernel\n",
    "kernel = gaussian_kernel(sigma)\n",
    "\n",
    "\n",
    "\n",
    "def create_fire_signal(start, end):\n",
    "    filter = (viirs_data.ACQ_DATE >= start) & (viirs_data.ACQ_DATE < end)\n",
    "    filtered_viirs = viirs_data[filter]\n",
    "    weights = filtered_viirs['FRP'].values\n",
    "    x = filtered_viirs.geometry.x.values\n",
    "    y = filtered_viirs.geometry.y.values\n",
    "    \n",
    "    # First do the analysis without weighting by FRP, to verify the fire locations with the above plot\n",
    "    heatmap, xedges, yedges = np.histogram2d(y, x, bins=list(ds_reprojected.MERRA2_CNN_Surface_PM25.shape[1:3]), range=[[y_min, y_max], [x_min, x_max]], weights=weights)\n",
    "\n",
    "    # flip y axis to match the image (required debugging to see I needed to do this)\n",
    "    heatmap = np.flipud(heatmap)\n",
    "    \n",
    "    # Perform convolution\n",
    "    smoothed_heatmap = fftconvolve(heatmap, kernel, mode='same')\n",
    "    \n",
    "    # Set values lower than zero to zero\n",
    "    smoothed_heatmap[smoothed_heatmap < 0] = 0.0\n",
    "    \n"
   ],
   "outputs": [],
   "execution_count": 50
  },
  {
   "metadata": {
    "ExecuteTime": {
     "end_time": "2024-11-29T19:36:50.384198Z",
     "start_time": "2024-11-29T19:36:50.382167Z"
    }
   },
   "cell_type": "code",
   "source": [
    "for start, end in zip(starts, ends):\n",
    "    "
   ],
   "outputs": [
    {
     "data": {
      "text/plain": [
       "array([837335.42450997, 571422.49563849, 571351.5367045 , ...,\n",
       "       730362.7631988 , 730810.04878307, 730746.31839243])"
      ]
     },
     "execution_count": 51,
     "metadata": {},
     "output_type": "execute_result"
    }
   ],
   "execution_count": 51
  },
  {
   "metadata": {
    "ExecuteTime": {
     "end_time": "2024-11-29T19:37:30.612046Z",
     "start_time": "2024-11-29T19:37:30.610436Z"
    }
   },
   "cell_type": "code",
   "source": "",
   "outputs": [],
   "execution_count": 69
  },
  {
   "metadata": {},
   "cell_type": "code",
   "outputs": [],
   "execution_count": null,
   "source": ""
  }
 ],
 "metadata": {
  "kernelspec": {
   "display_name": "545",
   "language": "python",
   "name": "python3"
  },
  "language_info": {
   "codemirror_mode": {
    "name": "ipython",
    "version": 3
   },
   "file_extension": ".py",
   "mimetype": "text/x-python",
   "name": "python",
   "nbconvert_exporter": "python",
   "pygments_lexer": "ipython3",
   "version": "3.10.13"
  }
 },
 "nbformat": 4,
 "nbformat_minor": 2
}
